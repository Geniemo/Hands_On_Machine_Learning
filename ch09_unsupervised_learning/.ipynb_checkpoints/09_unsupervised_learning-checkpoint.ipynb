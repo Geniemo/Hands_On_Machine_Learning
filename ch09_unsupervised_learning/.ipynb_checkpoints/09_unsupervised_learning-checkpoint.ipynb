{
 "cells": [
  {
   "cell_type": "markdown",
   "metadata": {
    "id": "iBWR152fDRnt"
   },
   "source": [
    "**9장 – 비지도 학습**\n",
    "\n",
    "_이 노트북은 9장에 있는 모든 샘플 코드와 연습문제 해답을 가지고 있습니다._"
   ]
  },
  {
   "cell_type": "markdown",
   "metadata": {
    "id": "qtz_SmlnDRnv"
   },
   "source": [
    "<table align=\"left\">\n",
    "  <td>\n",
    "    <a target=\"_blank\" href=\"https://colab.research.google.com/github/rickiepark/handson-ml2/blob/master/09_unsupervised_learning.ipynb\"><img src=\"https://www.tensorflow.org/images/colab_logo_32px.png\" />구글 코랩에서 실행하기</a>\n",
    "  </td>\n",
    "</table>"
   ]
  },
  {
   "cell_type": "markdown",
   "metadata": {
    "id": "0jCCcpBgDRnw"
   },
   "source": [
    "# 설정"
   ]
  },
  {
   "cell_type": "markdown",
   "metadata": {
    "id": "R5WSjhOtDRnw"
   },
   "source": [
    "먼저 몇 개의 모듈을 임포트합니다. 맷플롯립 그래프를 인라인으로 출력하도록 만들고 그림을 저장하는 함수를 준비합니다. 또한 파이썬 버전이 3.5 이상인지 확인합니다(파이썬 2.x에서도 동작하지만 곧 지원이 중단되므로 파이썬 3을 사용하는 것이 좋습니다). 사이킷런 버전이 0.20 이상인지도 확인합니다."
   ]
  },
  {
   "cell_type": "code",
   "execution_count": 1,
   "metadata": {
    "execution": {
     "iopub.execute_input": "2021-10-24T05:02:44.053654Z",
     "iopub.status.busy": "2021-10-24T05:02:44.052886Z",
     "iopub.status.idle": "2021-10-24T05:02:44.742670Z",
     "shell.execute_reply": "2021-10-24T05:02:44.741905Z"
    },
    "id": "9yhTCQy4DRnw"
   },
   "outputs": [],
   "source": [
    "# 파이썬 ≥3.5 필수\n",
    "import sys\n",
    "assert sys.version_info >= (3, 5)\n",
    "\n",
    "# 사이킷런 ≥0.20 필수\n",
    "import sklearn\n",
    "assert sklearn.__version__ >= \"0.20\"\n",
    "\n",
    "# 공통 모듈 임포트\n",
    "import numpy as np\n",
    "import os\n",
    "\n",
    "# 노트북 실행 결과를 동일하게 유지하기 위해\n",
    "np.random.seed(42)\n",
    "\n",
    "# 깔끔한 그래프 출력을 위해\n",
    "%matplotlib inline\n",
    "import matplotlib as mpl\n",
    "import matplotlib.pyplot as plt\n",
    "mpl.rc('axes', labelsize=14)\n",
    "mpl.rc('xtick', labelsize=12)\n",
    "mpl.rc('ytick', labelsize=12)\n",
    "\n",
    "# 그림을 저장할 위치\n",
    "PROJECT_ROOT_DIR = \".\"\n",
    "CHAPTER_ID = \"unsupervised_learning\"\n",
    "IMAGES_PATH = os.path.join(PROJECT_ROOT_DIR, \"images\", CHAPTER_ID)\n",
    "os.makedirs(IMAGES_PATH, exist_ok=True)\n",
    "\n",
    "def save_fig(fig_id, tight_layout=True, fig_extension=\"png\", resolution=300):\n",
    "    path = os.path.join(IMAGES_PATH, fig_id + \".\" + fig_extension)\n",
    "    print(\"그림 저장:\", fig_id)\n",
    "    if tight_layout:\n",
    "        plt.tight_layout()\n",
    "    plt.savefig(path, format=fig_extension, dpi=resolution)"
   ]
  },
  {
   "cell_type": "markdown",
   "metadata": {
    "id": "ZjHtcWTGDRnx"
   },
   "source": [
    "# 군집"
   ]
  },
  {
   "cell_type": "markdown",
   "metadata": {
    "id": "A-t07gJNDRny"
   },
   "source": [
    "**소개 – 분류 _vs_ 군집**"
   ]
  },
  {
   "cell_type": "code",
   "execution_count": 2,
   "metadata": {
    "execution": {
     "iopub.execute_input": "2021-10-24T05:02:44.747602Z",
     "iopub.status.busy": "2021-10-24T05:02:44.746853Z",
     "iopub.status.idle": "2021-10-24T05:02:44.775388Z",
     "shell.execute_reply": "2021-10-24T05:02:44.774670Z"
    },
    "id": "NK0bWk9dDRny"
   },
   "outputs": [],
   "source": [
    "from sklearn.datasets import load_iris"
   ]
  },
  {
   "cell_type": "code",
   "execution_count": 3,
   "metadata": {
    "execution": {
     "iopub.execute_input": "2021-10-24T05:02:44.781107Z",
     "iopub.status.busy": "2021-10-24T05:02:44.780165Z",
     "iopub.status.idle": "2021-10-24T05:02:44.790457Z",
     "shell.execute_reply": "2021-10-24T05:02:44.790947Z"
    },
    "id": "je2OuMEnDRnz",
    "outputId": "64d21520-94e4-4139-8387-d44137986f91"
   },
   "outputs": [
    {
     "data": {
      "text/plain": [
       "array(['setosa', 'versicolor', 'virginica'], dtype='<U10')"
      ]
     },
     "execution_count": 3,
     "metadata": {},
     "output_type": "execute_result"
    }
   ],
   "source": [
    "data = load_iris()\n",
    "X = data.data\n",
    "y = data.target\n",
    "data.target_names"
   ]
  },
  {
   "cell_type": "code",
   "execution_count": 4,
   "metadata": {
    "execution": {
     "iopub.execute_input": "2021-10-24T05:02:44.855794Z",
     "iopub.status.busy": "2021-10-24T05:02:44.813877Z",
     "iopub.status.idle": "2021-10-24T05:02:45.384093Z",
     "shell.execute_reply": "2021-10-24T05:02:45.384551Z"
    },
    "id": "VfAP8hRoDRn0",
    "outputId": "9ddc78e0-82d5-4ba8-fd4b-77877b6c955e"
   },
   "outputs": [
    {
     "name": "stdout",
     "output_type": "stream",
     "text": [
      "그림 저장: classification_vs_clustering_plot\n"
     ]
    },
    {
     "data": {
      "image/png": "[encoded data removed]",
      "text/plain": [
       "<Figure size 648x252 with 2 Axes>"
      ]
     },
     "metadata": {
      "needs_background": "light"
     },
     "output_type": "display_data"
    }
   ],
   "source": [
    "plt.figure(figsize=(9, 3.5))\n",
    "\n",
    "plt.subplot(121)\n",
    "plt.plot(X[y==0, 2], X[y==0, 3], \"yo\", label=\"Iris setosa\")\n",
    "plt.plot(X[y==1, 2], X[y==1, 3], \"bs\", label=\"Iris versicolor\")\n",
    "plt.plot(X[y==2, 2], X[y==2, 3], \"g^\", label=\"Iris virginica\")\n",
    "plt.xlabel(\"Petal length\", fontsize=14)\n",
    "plt.ylabel(\"Petal width\", fontsize=14)\n",
    "plt.legend(fontsize=12)\n",
    "\n",
    "plt.subplot(122)\n",
    "plt.scatter(X[:, 2], X[:, 3], c=\"k\", marker=\".\")\n",
    "plt.xlabel(\"Petal length\", fontsize=14)\n",
    "plt.tick_params(labelleft=False)\n",
    "\n",
    "save_fig(\"classification_vs_clustering_plot\")\n",
    "plt.show()"
   ]
  },
  {
   "cell_type": "markdown",
   "metadata": {
    "id": "-ecTCluLDRn0"
   },
   "source": [
    "(아래에서 설명할) 가우시안 혼합 모델은 3개의 클러스터를 잘 나눌 수 있습니다(꽃잎 길이와 너비, 꽃받침 길이와 너비 4개의 특성을 모두 사용합니다)."
   ]
  },
  {
   "cell_type": "code",
   "execution_count": 5,
   "metadata": {
    "execution": {
     "iopub.execute_input": "2021-10-24T05:02:45.389145Z",
     "iopub.status.busy": "2021-10-24T05:02:45.388505Z",
     "iopub.status.idle": "2021-10-24T05:02:45.442726Z",
     "shell.execute_reply": "2021-10-24T05:02:45.441928Z"
    },
    "id": "c4Gx5CEiDRn1"
   },
   "outputs": [],
   "source": [
    "from sklearn.mixture import GaussianMixture"
   ]
  },
  {
   "cell_type": "code",
   "execution_count": 6,
   "metadata": {
    "execution": {
     "iopub.execute_input": "2021-10-24T05:02:45.448915Z",
     "iopub.status.busy": "2021-10-24T05:02:45.448191Z",
     "iopub.status.idle": "2021-10-24T05:02:45.464693Z",
     "shell.execute_reply": "2021-10-24T05:02:45.464069Z"
    },
    "id": "PNp2fNGCDRn1"
   },
   "outputs": [],
   "source": [
    "y_pred = GaussianMixture(n_components=3, random_state=42).fit(X).predict(X)"
   ]
  },
  {
   "cell_type": "markdown",
   "metadata": {
    "id": "4J_DxxOTDRn1"
   },
   "source": [
    "각 클러스터를 하나의 클래스에 매핑해보죠. 이 매핑을 (책에서처럼) 하드 코딩하는 대신 (`scipy.stats.mode()` 함수를 사용해) 각 클러스터에서 가장 많은 클래스를 선택합니다:"
   ]
  },
  {
   "cell_type": "code",
   "execution_count": 7,
   "metadata": {
    "execution": {
     "iopub.execute_input": "2021-10-24T05:02:45.471816Z",
     "iopub.status.busy": "2021-10-24T05:02:45.468397Z",
     "iopub.status.idle": "2021-10-24T05:02:45.479241Z",
     "shell.execute_reply": "2021-10-24T05:02:45.478564Z"
    },
    "id": "in6fvsHwDRn1",
    "outputId": "c445736b-fd31-4f93-d994-42713dd02950"
   },
   "outputs": [
    {
     "data": {
      "text/plain": [
       "{1: 0, 2: 1, 0: 2}"
      ]
     },
     "execution_count": 7,
     "metadata": {},
     "output_type": "execute_result"
    }
   ],
   "source": [
    "from scipy import stats\n",
    "\n",
    "mapping = {}\n",
    "for class_id in np.unique(y):\n",
    "    mode, _ = stats.mode(y_pred[y==class_id])\n",
    "    mapping[mode[0]] = class_id\n",
    "\n",
    "mapping"
   ]
  },
  {
   "cell_type": "code",
   "execution_count": 8,
   "metadata": {
    "execution": {
     "iopub.execute_input": "2021-10-24T05:02:45.486081Z",
     "iopub.status.busy": "2021-10-24T05:02:45.484951Z",
     "iopub.status.idle": "2021-10-24T05:02:45.488502Z",
     "shell.execute_reply": "2021-10-24T05:02:45.487584Z"
    },
    "id": "xPPdxkvtDRn2"
   },
   "outputs": [],
   "source": [
    "y_pred = np.array([mapping[cluster_id] for cluster_id in y_pred])"
   ]
  },
  {
   "cell_type": "code",
   "execution_count": 9,
   "metadata": {
    "execution": {
     "iopub.execute_input": "2021-10-24T05:02:45.547677Z",
     "iopub.status.busy": "2021-10-24T05:02:45.534298Z",
     "iopub.status.idle": "2021-10-24T05:02:45.643233Z",
     "shell.execute_reply": "2021-10-24T05:02:45.643729Z"
    },
    "id": "VO2iUrFHDRn2",
    "outputId": "2bfb0c08-3de2-4434-c5f7-43a87f54bafb"
   },
   "outputs": [
    {
     "data": {
      "image/png": "[encoded data removed]",
      "text/plain": [
       "<Figure size 432x288 with 1 Axes>"
      ]
     },
     "metadata": {
      "needs_background": "light"
     },
     "output_type": "display_data"
    }
   ],
   "source": [
    "plt.plot(X[y_pred==0, 2], X[y_pred==0, 3], \"yo\", label=\"Cluster 1\")\n",
    "plt.plot(X[y_pred==1, 2], X[y_pred==1, 3], \"bs\", label=\"Cluster 2\")\n",
    "plt.plot(X[y_pred==2, 2], X[y_pred==2, 3], \"g^\", label=\"Cluster 3\")\n",
    "plt.xlabel(\"Petal length\", fontsize=14)\n",
    "plt.ylabel(\"Petal width\", fontsize=14)\n",
    "plt.legend(loc=\"upper left\", fontsize=12)\n",
    "plt.show()"
   ]
  },
  {
   "cell_type": "code",
   "execution_count": 10,
   "metadata": {
    "execution": {
     "iopub.execute_input": "2021-10-24T05:02:45.649544Z",
     "iopub.status.busy": "2021-10-24T05:02:45.648642Z",
     "iopub.status.idle": "2021-10-24T05:02:45.652293Z",
     "shell.execute_reply": "2021-10-24T05:02:45.652732Z"
    },
    "id": "MAvROvrGDRn2",
    "outputId": "37242143-a543-4643-a273-8c72f57765ed"
   },
   "outputs": [
    {
     "data": {
      "text/plain": [
       "145"
      ]
     },
     "execution_count": 10,
     "metadata": {},
     "output_type": "execute_result"
    }
   ],
   "source": [
    "np.sum(y_pred==y)"
   ]
  },
  {
   "cell_type": "code",
   "execution_count": 11,
   "metadata": {
    "execution": {
     "iopub.execute_input": "2021-10-24T05:02:45.658417Z",
     "iopub.status.busy": "2021-10-24T05:02:45.657574Z",
     "iopub.status.idle": "2021-10-24T05:02:45.661191Z",
     "shell.execute_reply": "2021-10-24T05:02:45.661634Z"
    },
    "id": "GV_ZUa-QDRn3",
    "outputId": "20d2d9b6-11d4-4958-85d2-467cd05ef1c2"
   },
   "outputs": [
    {
     "data": {
      "text/plain": [
       "0.9666666666666667"
      ]
     },
     "execution_count": 11,
     "metadata": {},
     "output_type": "execute_result"
    }
   ],
   "source": [
    "np.sum(y_pred==y) / len(y_pred)"
   ]
  },
  {
   "cell_type": "markdown",
   "metadata": {
    "id": "jShtxQDsDRn3"
   },
   "source": [
    "**노트**: 사이킷런 알고리즘이 이따금 업데이트되기 때문에 이 노트북의 결과가 책과 조금 다를 수 있습니다."
   ]
  },
  {
   "cell_type": "markdown",
   "metadata": {
    "id": "xbi5pS5SDRn3"
   },
   "source": [
    "## K-평균"
   ]
  },
  {
   "cell_type": "markdown",
   "metadata": {
    "id": "Xe7OmDeZDRn3"
   },
   "source": [
    "먼저 예제 데이터를 생성해 보죠:"
   ]
  },
  {
   "cell_type": "code",
   "execution_count": 12,
   "metadata": {
    "execution": {
     "iopub.execute_input": "2021-10-24T05:02:45.666951Z",
     "iopub.status.busy": "2021-10-24T05:02:45.665881Z",
     "iopub.status.idle": "2021-10-24T05:02:45.668662Z",
     "shell.execute_reply": "2021-10-24T05:02:45.668022Z"
    },
    "id": "ix5g86PfDRn3"
   },
   "outputs": [],
   "source": [
    "from sklearn.datasets import make_blobs"
   ]
  },
  {
   "cell_type": "code",
   "execution_count": 13,
   "metadata": {
    "execution": {
     "iopub.execute_input": "2021-10-24T05:02:45.674064Z",
     "iopub.status.busy": "2021-10-24T05:02:45.673264Z",
     "iopub.status.idle": "2021-10-24T05:02:45.676239Z",
     "shell.execute_reply": "2021-10-24T05:02:45.675613Z"
    },
    "id": "I5NtJdKaDRn4"
   },
   "outputs": [],
   "source": [
    "blob_centers = np.array(\n",
    "    [[ 0.2,  2.3],\n",
    "     [-1.5 ,  2.3],\n",
    "     [-2.8,  1.8],\n",
    "     [-2.8,  2.8],\n",
    "     [-2.8,  1.3]])\n",
    "blob_std = np.array([0.4, 0.3, 0.1, 0.1, 0.1])"
   ]
  },
  {
   "cell_type": "code",
   "execution_count": 14,
   "metadata": {
    "execution": {
     "iopub.execute_input": "2021-10-24T05:02:45.681800Z",
     "iopub.status.busy": "2021-10-24T05:02:45.681002Z",
     "iopub.status.idle": "2021-10-24T05:02:45.683796Z",
     "shell.execute_reply": "2021-10-24T05:02:45.684295Z"
    },
    "id": "GgW2CeBCDRn4"
   },
   "outputs": [],
   "source": [
    "X, y = make_blobs(n_samples=2000, centers=blob_centers,\n",
    "                  cluster_std=blob_std, random_state=7)"
   ]
  },
  {
   "cell_type": "markdown",
   "metadata": {
    "id": "MqZ6R5yaDRn4"
   },
   "source": [
    "데이터를 그래프로 그립니다:"
   ]
  },
  {
   "cell_type": "code",
   "execution_count": 15,
   "metadata": {
    "execution": {
     "iopub.execute_input": "2021-10-24T05:02:45.689804Z",
     "iopub.status.busy": "2021-10-24T05:02:45.689085Z",
     "iopub.status.idle": "2021-10-24T05:02:45.692049Z",
     "shell.execute_reply": "2021-10-24T05:02:45.691365Z"
    },
    "id": "SoBIySCCDRn4"
   },
   "outputs": [],
   "source": [
    "def plot_clusters(X, y=None):\n",
    "    plt.scatter(X[:, 0], X[:, 1], c=y, s=1)\n",
    "    plt.xlabel(\"$x_1$\", fontsize=14)\n",
    "    plt.ylabel(\"$x_2$\", fontsize=14, rotation=0)"
   ]
  },
  {
   "cell_type": "code",
   "execution_count": 16,
   "metadata": {
    "execution": {
     "iopub.execute_input": "2021-10-24T05:02:45.715276Z",
     "iopub.status.busy": "2021-10-24T05:02:45.714450Z",
     "iopub.status.idle": "2021-10-24T05:02:46.258977Z",
     "shell.execute_reply": "2021-10-24T05:02:46.259835Z"
    },
    "id": "XPobAJYpDRn4",
    "outputId": "405d8227-613d-4b63-be37-7d0e5b0b71f2"
   },
   "outputs": [
    {
     "name": "stdout",
     "output_type": "stream",
     "text": [
      "그림 저장: blobs_plot\n"
     ]
    },
    {
     "data": {
      "image/png": "[encoded data removed]",
      "text/plain": [
       "<Figure size 576x288 with 1 Axes>"
      ]
     },
     "metadata": {
      "needs_background": "light"
     },
     "output_type": "display_data"
    }
   ],
   "source": [
    "plt.figure(figsize=(8, 4))\n",
    "plot_clusters(X)\n",
    "save_fig(\"blobs_plot\")\n",
    "plt.show()"
   ]
  },
  {
   "cell_type": "markdown",
   "metadata": {
    "id": "hI6mBvcEDRn5"
   },
   "source": [
    "**훈련과 예측**"
   ]
  },
  {
   "cell_type": "markdown",
   "metadata": {
    "id": "tW5mZU-0DRn5"
   },
   "source": [
    "이 데이터셋에 K-평균 군집 알고리즘을 훈련해 보겠습니다. 이 알고리즘은 클러스터 중심을 찾고 각 샘플을 가까운 클러스터에 할당합니다:"
   ]
  },
  {
   "cell_type": "code",
   "execution_count": 17,
   "metadata": {
    "execution": {
     "iopub.execute_input": "2021-10-24T05:02:46.265664Z",
     "iopub.status.busy": "2021-10-24T05:02:46.264463Z",
     "iopub.status.idle": "2021-10-24T05:02:46.268132Z",
     "shell.execute_reply": "2021-10-24T05:02:46.266998Z"
    },
    "id": "nrOyZDfHDRn5"
   },
   "outputs": [],
   "source": [
    "from sklearn.cluster import KMeans"
   ]
  },
  {
   "cell_type": "code",
   "execution_count": 18,
   "metadata": {
    "execution": {
     "iopub.execute_input": "2021-10-24T05:02:46.273370Z",
     "iopub.status.busy": "2021-10-24T05:02:46.272567Z",
     "iopub.status.idle": "2021-10-24T05:02:47.168605Z",
     "shell.execute_reply": "2021-10-24T05:02:47.169381Z"
    },
    "id": "9Q11f72sDRn5"
   },
   "outputs": [],
   "source": [
    "k = 5\n",
    "kmeans = KMeans(n_clusters=k, random_state=42)\n",
    "y_pred = kmeans.fit_predict(X)"
   ]
  },
  {
   "cell_type": "markdown",
   "metadata": {
    "id": "dRnO6cReDRn5"
   },
   "source": [
    "각 샘플은 5개의 클러스터 중 하나에 할당됩니다:"
   ]
  },
  {
   "cell_type": "code",
   "execution_count": 19,
   "metadata": {
    "execution": {
     "iopub.execute_input": "2021-10-24T05:02:47.176050Z",
     "iopub.status.busy": "2021-10-24T05:02:47.175166Z",
     "iopub.status.idle": "2021-10-24T05:02:47.179891Z",
     "shell.execute_reply": "2021-10-24T05:02:47.179128Z"
    },
    "id": "pRteTrQjDRn5",
    "outputId": "b6624063-992c-4354-8384-ee3cbce5584b"
   },
   "outputs": [
    {
     "data": {
      "text/plain": [
       "array([4, 0, 1, ..., 2, 1, 0])"
      ]
     },
     "execution_count": 19,
     "metadata": {},
     "output_type": "execute_result"
    }
   ],
   "source": [
    "y_pred"
   ]
  },
  {
   "cell_type": "code",
   "execution_count": 20,
   "metadata": {
    "execution": {
     "iopub.execute_input": "2021-10-24T05:02:47.185456Z",
     "iopub.status.busy": "2021-10-24T05:02:47.184682Z",
     "iopub.status.idle": "2021-10-24T05:02:47.187904Z",
     "shell.execute_reply": "2021-10-24T05:02:47.188359Z"
    },
    "id": "5o-bhV4HDRn5",
    "outputId": "38ff4ed1-aedd-4052-9a4d-de8a0ce58838"
   },
   "outputs": [
    {
     "data": {
      "text/plain": [
       "True"
      ]
     },
     "execution_count": 20,
     "metadata": {},
     "output_type": "execute_result"
    }
   ],
   "source": [
    "y_pred is kmeans.labels_"
   ]
  },
  {
   "cell_type": "markdown",
   "metadata": {
    "id": "mKSHX6zUDRn6"
   },
   "source": [
    "5개의 _센트로이드_ (즉 클러스터 중심)을 찾았습니다:"
   ]
  },
  {
   "cell_type": "code",
   "execution_count": 21,
   "metadata": {
    "execution": {
     "iopub.execute_input": "2021-10-24T05:02:47.194526Z",
     "iopub.status.busy": "2021-10-24T05:02:47.191552Z",
     "iopub.status.idle": "2021-10-24T05:02:47.196940Z",
     "shell.execute_reply": "2021-10-24T05:02:47.197364Z"
    },
    "id": "d3GRS2QwDRn6",
    "outputId": "90205ef6-83cf-4829-a610-49bb46fb9f01"
   },
   "outputs": [
    {
     "data": {
      "text/plain": [
       "array([[-2.80389616,  1.80117999],\n",
       "       [ 0.20876306,  2.25551336],\n",
       "       [-2.79290307,  2.79641063],\n",
       "       [-1.46679593,  2.28585348],\n",
       "       [-2.80037642,  1.30082566]])"
      ]
     },
     "execution_count": 21,
     "metadata": {},
     "output_type": "execute_result"
    }
   ],
   "source": [
    "kmeans.cluster_centers_"
   ]
  },
  {
   "cell_type": "markdown",
   "metadata": {
    "id": "gnIBkKeLDRn6"
   },
   "source": [
    "`KMeans` 객체는 훈련한 샘플의 레이블을 가지고 있습니다. 조금 혼동스럽지만 여기에서 샘플의 _레이블_ 은 샘플에 할당한 클러스터의 인덱스입니다:"
   ]
  },
  {
   "cell_type": "code",
   "execution_count": 22,
   "metadata": {
    "execution": {
     "iopub.execute_input": "2021-10-24T05:02:47.202194Z",
     "iopub.status.busy": "2021-10-24T05:02:47.201562Z",
     "iopub.status.idle": "2021-10-24T05:02:47.204402Z",
     "shell.execute_reply": "2021-10-24T05:02:47.204817Z"
    },
    "id": "k2v5up9QDRn6",
    "outputId": "000dc45d-e2e5-4e30-97da-f886cbc3c4a8"
   },
   "outputs": [
    {
     "data": {
      "text/plain": [
       "array([4, 0, 1, ..., 2, 1, 0])"
      ]
     },
     "execution_count": 22,
     "metadata": {},
     "output_type": "execute_result"
    }
   ],
   "source": [
    "kmeans.labels_"
   ]
  },
  {
   "cell_type": "markdown",
   "metadata": {
    "id": "_ZG8jqh-DRn6"
   },
   "source": [
    "물론 새로운 샘플의 레이블을 예측할 수 있습니다:"
   ]
  },
  {
   "cell_type": "code",
   "execution_count": 23,
   "metadata": {
    "execution": {
     "iopub.execute_input": "2021-10-24T05:02:47.214692Z",
     "iopub.status.busy": "2021-10-24T05:02:47.209479Z",
     "iopub.status.idle": "2021-10-24T05:02:47.270760Z",
     "shell.execute_reply": "2021-10-24T05:02:47.272169Z"
    },
    "id": "wmUKGmd6DRn6",
    "outputId": "023857d1-811c-477d-be8a-6782e550c62a"
   },
   "outputs": [
    {
     "data": {
      "text/plain": [
       "array([1, 1, 2, 2])"
      ]
     },
     "execution_count": 23,
     "metadata": {},
     "output_type": "execute_result"
    }
   ],
   "source": [
    "X_new = np.array([[0, 2], [3, 2], [-3, 3], [-3, 2.5]])\n",
    "kmeans.predict(X_new)"
   ]
  },
  {
   "cell_type": "markdown",
   "metadata": {
    "id": "0icguIZ_DRn6"
   },
   "source": [
    "**결정 경계**"
   ]
  },
  {
   "cell_type": "markdown",
   "metadata": {
    "id": "wvoMN8MeDRn7"
   },
   "source": [
    "이 모델의 결정 경계를 그려 보죠. 이 그림은 _보로노이 다이어그램_ 이 됩니다:"
   ]
  },
  {
   "cell_type": "code",
   "execution_count": 24,
   "metadata": {
    "execution": {
     "iopub.execute_input": "2021-10-24T05:02:47.279854Z",
     "iopub.status.busy": "2021-10-24T05:02:47.277693Z",
     "iopub.status.idle": "2021-10-24T05:02:47.309013Z",
     "shell.execute_reply": "2021-10-24T05:02:47.310718Z"
    },
    "id": "ReWwW7UmDRn7"
   },
   "outputs": [],
   "source": [
    "def plot_data(X):\n",
    "    plt.plot(X[:, 0], X[:, 1], 'k.', markersize=2)\n",
    "\n",
    "def plot_centroids(centroids, weights=None, circle_color='w', cross_color='k'):\n",
    "    if weights is not None:\n",
    "        centroids = centroids[weights > weights.max() / 10]\n",
    "    plt.scatter(centroids[:, 0], centroids[:, 1],\n",
    "                marker='o', s=35, linewidths=8,\n",
    "                color=circle_color, zorder=10, alpha=0.9)\n",
    "    plt.scatter(centroids[:, 0], centroids[:, 1],\n",
    "                marker='x', s=2, linewidths=12, \n",
    "                color=cross_color, zorder=11, alpha=1)\n",
    "\n",
    "def plot_decision_boundaries(clusterer, X, resolution=1000, show_centroids=True,\n",
    "                             show_xlabels=True, show_ylabels=True):\n",
    "    mins = X.min(axis=0) - 0.1\n",
    "    maxs = X.max(axis=0) + 0.1\n",
    "    xx, yy = np.meshgrid(np.linspace(mins[0], maxs[0], resolution),\n",
    "                         np.linspace(mins[1], maxs[1], resolution))\n",
    "    Z = clusterer.predict(np.c_[xx.ravel(), yy.ravel()])\n",
    "    Z = Z.reshape(xx.shape)\n",
    "\n",
    "    plt.contourf(Z, extent=(mins[0], maxs[0], mins[1], maxs[1]),\n",
    "                cmap=\"Pastel2\")\n",
    "    plt.contour(Z, extent=(mins[0], maxs[0], mins[1], maxs[1]),\n",
    "                linewidths=1, colors='k')\n",
    "    plot_data(X)\n",
    "    if show_centroids:\n",
    "        plot_centroids(clusterer.cluster_centers_)\n",
    "\n",
    "    if show_xlabels:\n",
    "        plt.xlabel(\"$x_1$\", fontsize=14)\n",
    "    else:\n",
    "        plt.tick_params(labelbottom=False)\n",
    "    if show_ylabels:\n",
    "        plt.ylabel(\"$x_2$\", fontsize=14, rotation=0)\n",
    "    else:\n",
    "        plt.tick_params(labelleft=False)"
   ]
  },
  {
   "cell_type": "code",
   "execution_count": 25,
   "metadata": {
    "execution": {
     "iopub.execute_input": "2021-10-24T05:02:47.319091Z",
     "iopub.status.busy": "2021-10-24T05:02:47.315881Z",
     "iopub.status.idle": "2021-10-24T05:02:48.219493Z",
     "shell.execute_reply": "2021-10-24T05:02:48.218730Z"
    },
    "id": "3ryAVBMUDRn7",
    "outputId": "056c30d3-e72f-4b42-eedc-b4f6c0b60ce1"
   },
   "outputs": [
    {
     "name": "stdout",
     "output_type": "stream",
     "text": [
      "그림 저장: voronoi_plot\n"
     ]
    },
    {
     "data": {
      "image/png": "[encoded data removed]",
      "text/plain": [
       "<Figure size 576x288 with 1 Axes>"
      ]
     },
     "metadata": {
      "needs_background": "light"
     },
     "output_type": "display_data"
    }
   ],
   "source": [
    "plt.figure(figsize=(8, 4))\n",
    "plot_decision_boundaries(kmeans, X)\n",
    "save_fig(\"voronoi_plot\")\n",
    "plt.show()"
   ]
  },
  {
   "cell_type": "markdown",
   "metadata": {
    "id": "BYgQ0bVMDRn7"
   },
   "source": [
    "나쁘지 않군요! 경계 근처에 있는 일부 샘플은 아마도 잘못 클러스터에 할당된 것 같습니다. 하지만 전반적으로 아주 좋은 것 같습니다."
   ]
  },
  {
   "cell_type": "markdown",
   "metadata": {
    "id": "5BpGmZYSDRn7"
   },
   "source": [
    "**하드 군집 _vs_ 소프트 군집**"
   ]
  },
  {
   "cell_type": "markdown",
   "metadata": {
    "id": "4hiS2mTKDRn8"
   },
   "source": [
    "_하드 군집_ 은 각 샘플에 대해 가장 가까운 클러스터를 선택합니다. 이 대신 샘플에서 5개의 센트로이드까지 거리를 측정하는 것이 나을 수 있습니다. `transform()` 메서드에서 이 거리를 계산합니다:"
   ]
  },
  {
   "cell_type": "code",
   "execution_count": 26,
   "metadata": {
    "execution": {
     "iopub.execute_input": "2021-10-24T05:02:48.226794Z",
     "iopub.status.busy": "2021-10-24T05:02:48.226004Z",
     "iopub.status.idle": "2021-10-24T05:02:48.230841Z",
     "shell.execute_reply": "2021-10-24T05:02:48.230234Z"
    },
    "id": "hOkmBNyCDRn8",
    "outputId": "ee0f8380-c9b9-444a-dc79-c3d0d8fc735a"
   },
   "outputs": [
    {
     "data": {
      "text/plain": [
       "array([[2.81093633, 0.32995317, 2.9042344 , 1.49439034, 2.88633901],\n",
       "       [5.80730058, 2.80290755, 5.84739223, 4.4759332 , 5.84236351],\n",
       "       [1.21475352, 3.29399768, 0.29040966, 1.69136631, 1.71086031],\n",
       "       [0.72581411, 3.21806371, 0.36159148, 1.54808703, 1.21567622]])"
      ]
     },
     "execution_count": 26,
     "metadata": {},
     "output_type": "execute_result"
    }
   ],
   "source": [
    "kmeans.transform(X_new)"
   ]
  },
  {
   "cell_type": "markdown",
   "metadata": {
    "id": "mm_xZcwGDRn8"
   },
   "source": [
    "이 거리가 샘플과 센트로이드 사이의 유클리드 거리인지 확인할 수 있습니다:"
   ]
  },
  {
   "cell_type": "code",
   "execution_count": 27,
   "metadata": {
    "execution": {
     "iopub.execute_input": "2021-10-24T05:02:48.237561Z",
     "iopub.status.busy": "2021-10-24T05:02:48.236890Z",
     "iopub.status.idle": "2021-10-24T05:02:48.239765Z",
     "shell.execute_reply": "2021-10-24T05:02:48.240311Z"
    },
    "id": "DDm5zKfHDRn8",
    "outputId": "3e78803f-b778-4d01-ced5-9253e9ad8993"
   },
   "outputs": [
    {
     "data": {
      "text/plain": [
       "array([[2.81093633, 0.32995317, 2.9042344 , 1.49439034, 2.88633901],\n",
       "       [5.80730058, 2.80290755, 5.84739223, 4.4759332 , 5.84236351],\n",
       "       [1.21475352, 3.29399768, 0.29040966, 1.69136631, 1.71086031],\n",
       "       [0.72581411, 3.21806371, 0.36159148, 1.54808703, 1.21567622]])"
      ]
     },
     "execution_count": 27,
     "metadata": {},
     "output_type": "execute_result"
    }
   ],
   "source": [
    "np.linalg.norm(np.tile(X_new, (1, k)).reshape(-1, k, 2) - kmeans.cluster_centers_, axis=2)"
   ]
  },
  {
   "cell_type": "markdown",
   "metadata": {
    "id": "uUg1eRjrDRn8"
   },
   "source": [
    "### K-평균 알고리즘"
   ]
  },
  {
   "cell_type": "markdown",
   "metadata": {
    "id": "6guLvX6gDRn8"
   },
   "source": [
    "K-평균 알고리즘은 가장 빠르고 가장 간단한 군집 알고리즘 중 하나입니다:\n",
    "* 먼저 $k$ 개의 센트로이드를 랜덤하게 초기화합니다: 데이터셋에서 $k$ 개의 샘플을 랜덤하게 선택하고 센트로이드를 그 위치에 놓습니다.\n",
    "* 수렴할 때까지 다음을 반복합니다(즉, 센트로이드가 더이상 이동하지 않을 때까지):\n",
    "    * 각 샘플을 가장 가까운 센트로이드에 할당합니다.\n",
    "    * 센트로이드에 할당된 샘플의 평균으로 센트로이드를 업데이트합니다."
   ]
  },
  {
   "cell_type": "markdown",
   "metadata": {
    "id": "-GgbWnnfDRn8"
   },
   "source": [
    "`KMeans` 클래스는 기본적으로 최적화된 알고리즘을 적용합니다. (교육적인 목적으로) 원래 K-평균 알고리즘을 사용하려면 `init=\"randome\"`, `n_init=1`, `algorithm=\"full\"`로 설정해야 합니다. 이 매개변수들은 아래에서 설명하겠습니다."
   ]
  },
  {
   "cell_type": "markdown",
   "metadata": {
    "id": "j7iiWdeADRn8"
   },
   "source": [
    "K-평균 알고리즘을 1, 2, 3회 반복하고 센트로이드가 어떻게 움직이는지 확인해 보겠습니다:"
   ]
  },
  {
   "cell_type": "code",
   "execution_count": 28,
   "metadata": {
    "execution": {
     "iopub.execute_input": "2021-10-24T05:02:48.243851Z",
     "iopub.status.busy": "2021-10-24T05:02:48.243188Z",
     "iopub.status.idle": "2021-10-24T05:02:48.358937Z",
     "shell.execute_reply": "2021-10-24T05:02:48.359406Z"
    },
    "id": "Qt9_WHYoDRn8",
    "outputId": "873b926f-b90c-4cb7-a68f-987a064e587f"
   },
   "outputs": [
    {
     "data": {
      "text/plain": [
       "KMeans(algorithm='full', init='random', max_iter=3, n_clusters=5, n_init=1,\n",
       "       random_state=0)"
      ]
     },
     "execution_count": 28,
     "metadata": {},
     "output_type": "execute_result"
    }
   ],
   "source": [
    "kmeans_iter1 = KMeans(n_clusters=5, init=\"random\", n_init=1,\n",
    "                      algorithm=\"full\", max_iter=1, random_state=0)\n",
    "kmeans_iter2 = KMeans(n_clusters=5, init=\"random\", n_init=1,\n",
    "                      algorithm=\"full\", max_iter=2, random_state=0)\n",
    "kmeans_iter3 = KMeans(n_clusters=5, init=\"random\", n_init=1,\n",
    "                      algorithm=\"full\", max_iter=3, random_state=0)\n",
    "kmeans_iter1.fit(X)\n",
    "kmeans_iter2.fit(X)\n",
    "kmeans_iter3.fit(X)"
   ]
  },
  {
   "cell_type": "markdown",
   "metadata": {
    "id": "Epxlp7oMDRn9"
   },
   "source": [
    "그래프를 그려 보죠:"
   ]
  },
  {
   "cell_type": "code",
   "execution_count": 29,
   "metadata": {
    "execution": {
     "iopub.execute_input": "2021-10-24T05:02:48.383817Z",
     "iopub.status.busy": "2021-10-24T05:02:48.362634Z",
     "iopub.status.idle": "2021-10-24T05:02:51.696264Z",
     "shell.execute_reply": "2021-10-24T05:02:51.696736Z"
    },
    "id": "bE10MraADRn9",
    "outputId": "d94e6dfa-c2c8-47ad-f49d-a3e704124606"
   },
   "outputs": [
    {
     "name": "stdout",
     "output_type": "stream",
     "text": [
      "그림 저장: kmeans_algorithm_plot\n"
     ]
    },
    {
     "data": {
      "image/png": "[encoded data removed]",
      "text/plain": [
       "<Figure size 720x576 with 6 Axes>"
      ]
     },
     "metadata": {
      "needs_background": "light"
     },
     "output_type": "display_data"
    }
   ],
   "source": [
    "plt.figure(figsize=(10, 8))\n",
    "\n",
    "plt.subplot(321)\n",
    "plot_data(X)\n",
    "plot_centroids(kmeans_iter1.cluster_centers_, circle_color='r', cross_color='w')\n",
    "plt.ylabel(\"$x_2$\", fontsize=14, rotation=0)\n",
    "plt.tick_params(labelbottom=False)\n",
    "plt.title(\"Update the centroids (initially randomly)\", fontsize=14)\n",
    "\n",
    "plt.subplot(322)\n",
    "plot_decision_boundaries(kmeans_iter1, X, show_xlabels=False, show_ylabels=False)\n",
    "plt.title(\"Label the instances\", fontsize=14)\n",
    "\n",
    "plt.subplot(323)\n",
    "plot_decision_boundaries(kmeans_iter1, X, show_centroids=False, show_xlabels=False)\n",
    "plot_centroids(kmeans_iter2.cluster_centers_)\n",
    "\n",
    "plt.subplot(324)\n",
    "plot_decision_boundaries(kmeans_iter2, X, show_xlabels=False, show_ylabels=False)\n",
    "\n",
    "plt.subplot(325)\n",
    "plot_decision_boundaries(kmeans_iter2, X, show_centroids=False)\n",
    "plot_centroids(kmeans_iter3.cluster_centers_)\n",
    "\n",
    "plt.subplot(326)\n",
    "plot_decision_boundaries(kmeans_iter3, X, show_ylabels=False)\n",
    "\n",
    "save_fig(\"kmeans_algorithm_plot\")\n",
    "plt.show()"
   ]
  },
  {
   "cell_type": "markdown",
   "metadata": {
    "id": "UlAficcvDRn9"
   },
   "source": [
    "**K-평균의 변동성**"
   ]
  },
  {
   "cell_type": "markdown",
   "metadata": {
    "id": "aLMO5it1DRn9"
   },
   "source": [
    "원래 K-평균 알고리즘에서는 센트로이가 그냥 랜덤하게 초기되고 알고리즘은 단순히 한번씩 반복하여 앞서 본 것처럼 점차 센트로이드를 개선시킵니다.\n",
    "\n",
    "하지만 이 방식의 문제점은 K-평균을 여러번 (또는 다른 랜덤 시드로) 실행하면 아래에서 보듯이 매우 다른 결과를 얻게됩니다:"
   ]
  },
  {
   "cell_type": "code",
   "execution_count": 30,
   "metadata": {
    "execution": {
     "iopub.execute_input": "2021-10-24T05:02:51.702797Z",
     "iopub.status.busy": "2021-10-24T05:02:51.700153Z",
     "iopub.status.idle": "2021-10-24T05:02:51.705649Z",
     "shell.execute_reply": "2021-10-24T05:02:51.704927Z"
    },
    "id": "I6mSUIGTDRn9"
   },
   "outputs": [],
   "source": [
    "def plot_clusterer_comparison(clusterer1, clusterer2, X, title1=None, title2=None):\n",
    "    clusterer1.fit(X)\n",
    "    clusterer2.fit(X)\n",
    "\n",
    "    plt.figure(figsize=(10, 3.2))\n",
    "\n",
    "    plt.subplot(121)\n",
    "    plot_decision_boundaries(clusterer1, X)\n",
    "    if title1:\n",
    "        plt.title(title1, fontsize=14)\n",
    "\n",
    "    plt.subplot(122)\n",
    "    plot_decision_boundaries(clusterer2, X, show_ylabels=False)\n",
    "    if title2:\n",
    "        plt.title(title2, fontsize=14)"
   ]
  },
  {
   "cell_type": "code",
   "execution_count": 31,
   "metadata": {
    "execution": {
     "iopub.execute_input": "2021-10-24T05:02:51.711735Z",
     "iopub.status.busy": "2021-10-24T05:02:51.710994Z",
     "iopub.status.idle": "2021-10-24T05:02:53.222715Z",
     "shell.execute_reply": "2021-10-24T05:02:53.223257Z"
    },
    "id": "TkX2ABn5DRn9",
    "outputId": "79ab1820-a892-45f3-f0ea-8093bd24c2b1"
   },
   "outputs": [
    {
     "name": "stdout",
     "output_type": "stream",
     "text": [
      "그림 저장: kmeans_variability_plot\n"
     ]
    },
    {
     "data": {
      "image/png": "[encoded data removed]",
      "text/plain": [
       "<Figure size 720x230.4 with 2 Axes>"
      ]
     },
     "metadata": {
      "needs_background": "light"
     },
     "output_type": "display_data"
    }
   ],
   "source": [
    "kmeans_rnd_init1 = KMeans(n_clusters=5, init=\"random\", n_init=1,\n",
    "                          algorithm=\"full\", random_state=2)\n",
    "kmeans_rnd_init2 = KMeans(n_clusters=5, init=\"random\", n_init=1,\n",
    "                          algorithm=\"full\", random_state=5)\n",
    "\n",
    "plot_clusterer_comparison(kmeans_rnd_init1, kmeans_rnd_init2, X,\n",
    "                          \"Solution 1\", \"Solution 2 (with a different random init)\")\n",
    "\n",
    "save_fig(\"kmeans_variability_plot\")\n",
    "plt.show()"
   ]
  },
  {
   "cell_type": "markdown",
   "metadata": {
    "id": "ClG6cQmTDRn9"
   },
   "source": [
    "### 이너셔"
   ]
  },
  {
   "cell_type": "markdown",
   "metadata": {
    "id": "aji12IHnDRn-"
   },
   "source": [
    "최선의 모델을 선택하려면 K-평균 모델의 성능을 평가할 방법이 있어야 합니다. 안타깝지만 군집은 비지도 학습이기 때문에 타깃이 없습니다. 하지만 적어도 각 샘플과 센트로이드 사이의 거리는 측정할 수 있습니다. 이것이 _이너셔_ 지표의 아이디어입니다:"
   ]
  },
  {
   "cell_type": "code",
   "execution_count": 32,
   "metadata": {
    "execution": {
     "iopub.execute_input": "2021-10-24T05:02:53.229541Z",
     "iopub.status.busy": "2021-10-24T05:02:53.228649Z",
     "iopub.status.idle": "2021-10-24T05:02:53.232001Z",
     "shell.execute_reply": "2021-10-24T05:02:53.232456Z"
    },
    "id": "gG4PPLJHDRn-",
    "outputId": "ed24921f-0af4-4278-82b1-871b00b03a5f"
   },
   "outputs": [
    {
     "data": {
      "text/plain": [
       "211.5985372581684"
      ]
     },
     "execution_count": 32,
     "metadata": {},
     "output_type": "execute_result"
    }
   ],
   "source": [
    "kmeans.inertia_"
   ]
  },
  {
   "cell_type": "markdown",
   "metadata": {
    "id": "vkPeB0yfDRn-"
   },
   "source": [
    "이너셔는 각 훈련 샘플과 가장 가까운 센트로이드 사이의 제곱 거리의 합으로 쉽게 검증할 수 있습니다:"
   ]
  },
  {
   "cell_type": "code",
   "execution_count": 33,
   "metadata": {
    "execution": {
     "iopub.execute_input": "2021-10-24T05:02:53.238452Z",
     "iopub.status.busy": "2021-10-24T05:02:53.237243Z",
     "iopub.status.idle": "2021-10-24T05:02:53.242235Z",
     "shell.execute_reply": "2021-10-24T05:02:53.241503Z"
    },
    "id": "80fkIcIJDRn-",
    "outputId": "1887dbb5-7464-4836-e339-acc6e74a314a"
   },
   "outputs": [
    {
     "data": {
      "text/plain": [
       "211.5985372581683"
      ]
     },
     "execution_count": 33,
     "metadata": {},
     "output_type": "execute_result"
    }
   ],
   "source": [
    "X_dist = kmeans.transform(X)\n",
    "np.sum(X_dist[np.arange(len(X_dist)), kmeans.labels_]**2)"
   ]
  },
  {
   "cell_type": "markdown",
   "metadata": {
    "id": "34pZnkDvDRn-"
   },
   "source": [
    "`score()` 메서드는 음의 이너셔를 반환합니다. 왜 음수일까요? 사이킷런의 `score()` 메서드는 항상 \" _큰 값이 좋은 것_ \" 규칙을 따라야 하기 때문입니다."
   ]
  },
  {
   "cell_type": "code",
   "execution_count": 34,
   "metadata": {
    "execution": {
     "iopub.execute_input": "2021-10-24T05:02:53.251490Z",
     "iopub.status.busy": "2021-10-24T05:02:53.247992Z",
     "iopub.status.idle": "2021-10-24T05:02:53.280448Z",
     "shell.execute_reply": "2021-10-24T05:02:53.281065Z"
    },
    "id": "e0w-gelaDRn-",
    "outputId": "2063e624-6ea9-4078-f0b5-c2a4a1d23d16"
   },
   "outputs": [
    {
     "data": {
      "text/plain": [
       "-211.5985372581684"
      ]
     },
     "execution_count": 34,
     "metadata": {},
     "output_type": "execute_result"
    }
   ],
   "source": [
    "kmeans.score(X)"
   ]
  },
  {
   "cell_type": "markdown",
   "metadata": {
    "id": "HxMSHTyQDRn-"
   },
   "source": [
    "### 다중 초기화"
   ]
  },
  {
   "cell_type": "markdown",
   "metadata": {
    "id": "Jc4rvV5cDRn-"
   },
   "source": [
    "변동성 이슈를 해결하는 한 방법은 단순히 K-평균 알고리즘을 랜덤 초기화를 다르게 하여 여러 번 실행하고 가장 작은 이너셔를 만드는 솔루션을 선택합니다. 예를 들어 앞선 그림에 있는 엉터리 모델 두 개의 이너셔는 다음과 같습니다."
   ]
  },
  {
   "cell_type": "code",
   "execution_count": 35,
   "metadata": {
    "execution": {
     "iopub.execute_input": "2021-10-24T05:02:53.286921Z",
     "iopub.status.busy": "2021-10-24T05:02:53.286180Z",
     "iopub.status.idle": "2021-10-24T05:02:53.289865Z",
     "shell.execute_reply": "2021-10-24T05:02:53.290327Z"
    },
    "id": "2JHWNvmvDRn-",
    "outputId": "7d78e812-2636-4ce4-e33e-9d5e319ea429"
   },
   "outputs": [
    {
     "data": {
      "text/plain": [
       "219.43539442771402"
      ]
     },
     "execution_count": 35,
     "metadata": {},
     "output_type": "execute_result"
    }
   ],
   "source": [
    "kmeans_rnd_init1.inertia_"
   ]
  },
  {
   "cell_type": "code",
   "execution_count": 36,
   "metadata": {
    "execution": {
     "iopub.execute_input": "2021-10-24T05:02:53.296661Z",
     "iopub.status.busy": "2021-10-24T05:02:53.295370Z",
     "iopub.status.idle": "2021-10-24T05:02:53.299202Z",
     "shell.execute_reply": "2021-10-24T05:02:53.298525Z"
    },
    "id": "T2nDkPSdDRn_",
    "outputId": "344bf750-ebe7-4ca7-a95b-da166dd293ee"
   },
   "outputs": [
    {
     "data": {
      "text/plain": [
       "211.5985372581684"
      ]
     },
     "execution_count": 36,
     "metadata": {},
     "output_type": "execute_result"
    }
   ],
   "source": [
    "kmeans_rnd_init2.inertia_"
   ]
  },
  {
   "cell_type": "markdown",
   "metadata": {
    "id": "vN7CEsLkDRn_"
   },
   "source": [
    "여기서 볼 수 있듯이 앞서 훈련한 \"좋은\" 모델보다 이너셔가 더 높습니다. 즉 더 나쁘다는 것을 의미합니다."
   ]
  },
  {
   "cell_type": "markdown",
   "metadata": {
    "id": "Ze6UsZizDRn_"
   },
   "source": [
    "`n_init` 매개변수를 지정하면 사이킷런은 원래 알고리즘을 `n_init` 번 실행하고 이너셔가 가장 작은 솔루션을 선택합니다. 이 매개변수의 기본값은 `n_init=10`입니다."
   ]
  },
  {
   "cell_type": "code",
   "execution_count": 37,
   "metadata": {
    "execution": {
     "iopub.execute_input": "2021-10-24T05:02:53.304881Z",
     "iopub.status.busy": "2021-10-24T05:02:53.304093Z",
     "iopub.status.idle": "2021-10-24T05:02:54.172711Z",
     "shell.execute_reply": "2021-10-24T05:02:54.173284Z"
    },
    "id": "q1DOKtbmDRn_",
    "outputId": "ab38b60e-860e-4698-b6fa-667275bed99f"
   },
   "outputs": [
    {
     "data": {
      "text/plain": [
       "KMeans(algorithm='full', init='random', n_clusters=5, random_state=2)"
      ]
     },
     "execution_count": 37,
     "metadata": {},
     "output_type": "execute_result"
    }
   ],
   "source": [
    "kmeans_rnd_10_inits = KMeans(n_clusters=5, init=\"random\", n_init=10,\n",
    "                             algorithm=\"full\", random_state=2)\n",
    "kmeans_rnd_10_inits.fit(X)"
   ]
  },
  {
   "cell_type": "markdown",
   "metadata": {
    "id": "sx2e02-DDRn_"
   },
   "source": [
    "여기에서 볼 수 있듯이 결국 처음 만들었던 모델을 얻었습니다. 이 모델이 최적의 K-평균 결과로 보입니다($k=5$라고 가정하고 이너셔를 기준으로 했을 때입니다)."
   ]
  },
  {
   "cell_type": "code",
   "execution_count": 38,
   "metadata": {
    "execution": {
     "iopub.execute_input": "2021-10-24T05:02:54.177071Z",
     "iopub.status.busy": "2021-10-24T05:02:54.176382Z",
     "iopub.status.idle": "2021-10-24T05:02:54.651175Z",
     "shell.execute_reply": "2021-10-24T05:02:54.651746Z"
    },
    "id": "J0RqlWHQDRn_",
    "outputId": "086cb82b-c484-4bc7-c8e9-dbfd8a29fc87"
   },
   "outputs": [
    {
     "data": {
      "image/png": "[encoded data removed]",
      "text/plain": [
       "<Figure size 576x288 with 1 Axes>"
      ]
     },
     "metadata": {
      "needs_background": "light"
     },
     "output_type": "display_data"
    }
   ],
   "source": [
    "plt.figure(figsize=(8, 4))\n",
    "plot_decision_boundaries(kmeans_rnd_10_inits, X)\n",
    "plt.show()"
   ]
  },
  {
   "cell_type": "markdown",
   "metadata": {
    "id": "gVAo_fPzDRn_"
   },
   "source": [
    "### 센트로이드 초기화 방법"
   ]
  },
  {
   "cell_type": "markdown",
   "metadata": {
    "id": "HAl26tjbDRn_"
   },
   "source": [
    "센트로이드를 완전히 랜덤하게 초기화하는 대신 David Arthur와 Sergei Vassilvitskii가 [2006년 논문](https://goo.gl/eNUPw6)에서 제안한 다음 알고리즘을 사용해 초기화하는 것이 더 좋습니다:\n",
    "* 데이터셋에서 무작위로 균등하게 하나의 센트로이드 $c_1$을 선택합니다.\n",
    "* $D(\\mathbf{x}_i)^2$ / $\\sum\\limits_{j=1}^{m}{D(\\mathbf{x}_j)}^2$의 확률로 샘플 $\\mathbf{x}_i$를 새로운 센트로이드 $c_i$로 선택합니다. 여기에서 $D(\\mathbf{x}_i)$는 샘플 $\\mathbf{x}_i$에서 이미 선택된 가장 가까운 센트로이드까지 거리입니다. 이 확률 분포는 이미 선택한 센트로이드에서 멀리 떨어진 샘플을 센트로이드로 선택할 가능성을 높입니다.\n",
    "* $k$ 개의 센트로이드를 선택할 때까지 이전 단계를 반복합니다."
   ]
  },
  {
   "cell_type": "markdown",
   "metadata": {
    "id": "N_ELopShDRn_"
   },
   "source": [
    "K-평균++ 알고리즘의 나머지는 일반 K-평균과 같습니다. 이 초기화 방식을 사용하면 K-평균 알고리즘이 최적의 솔루션에 수렴할 가능성이 훨씬 높아집니다. 따라서 `n_init` 값을 상당히 줄일 수 있습니다. 대부분의 경우 `n_init`를 줄이는 것이 초기화 과정에 추가된 복잡도를 보상합니다."
   ]
  },
  {
   "cell_type": "markdown",
   "metadata": {
    "id": "vjVEhQD7DRn_"
   },
   "source": [
    "K-평균++ 초기화를 사용하려면 간단하게 `init=\"k-means++\"`로 지정하면 됩니다(사실 이 값이 기본값입니다):"
   ]
  },
  {
   "cell_type": "code",
   "execution_count": 39,
   "metadata": {
    "execution": {
     "iopub.execute_input": "2021-10-24T05:02:54.657940Z",
     "iopub.status.busy": "2021-10-24T05:02:54.657174Z",
     "iopub.status.idle": "2021-10-24T05:02:54.660124Z",
     "shell.execute_reply": "2021-10-24T05:02:54.660585Z"
    },
    "id": "dtlHrvfoDRoA",
    "outputId": "419b494c-4318-4dbe-9580-271a3e7fa893"
   },
   "outputs": [
    {
     "data": {
      "text/plain": [
       "KMeans()"
      ]
     },
     "execution_count": 39,
     "metadata": {},
     "output_type": "execute_result"
    }
   ],
   "source": [
    "KMeans()"
   ]
  },
  {
   "cell_type": "code",
   "execution_count": 40,
   "metadata": {
    "execution": {
     "iopub.execute_input": "2021-10-24T05:02:54.675806Z",
     "iopub.status.busy": "2021-10-24T05:02:54.665889Z",
     "iopub.status.idle": "2021-10-24T05:02:54.709796Z",
     "shell.execute_reply": "2021-10-24T05:02:54.710329Z"
    },
    "id": "7CE_xYseDRoA",
    "outputId": "c81c40d3-7ad8-4b46-fe0e-5383b81b5579"
   },
   "outputs": [
    {
     "data": {
      "text/plain": [
       "211.5985372581684"
      ]
     },
     "execution_count": 40,
     "metadata": {},
     "output_type": "execute_result"
    }
   ],
   "source": [
    "good_init = np.array([[-3, 3], [-3, 2], [-3, 1], [-1, 2], [0, 2]])\n",
    "kmeans = KMeans(n_clusters=5, init=good_init, n_init=1, random_state=42)\n",
    "kmeans.fit(X)\n",
    "kmeans.inertia_"
   ]
  },
  {
   "cell_type": "markdown",
   "metadata": {
    "id": "bf-yt9YJDRoA"
   },
   "source": [
    "### K-평균 속도 개선"
   ]
  },
  {
   "cell_type": "markdown",
   "metadata": {
    "id": "RTANhQZtDRoA"
   },
   "source": [
    "K-평균 알고리즘은 불필요한 거리 계산을 많이 피하는 식으로 속도를 크게 높일 수 있습니다. 이를 위해 삼각 부등식을 사용합니다(3개의 포인트 A, B, C가 있을 때, 거리 AC는 항상 AC ≤ AB + BC를 만족합니다). 그리고 샘플과 센트로이드 사이 거리의 최솟값과 최댓값을 유지합니다(더 자세한 내용은 Charles Elkan의 [2003년 논문](https://www.aaai.org/Papers/ICML/2003/ICML03-022.pdf)을 참고하세요)."
   ]
  },
  {
   "cell_type": "markdown",
   "metadata": {
    "id": "Wej3luuADRoA"
   },
   "source": [
    "Elkan의 K-평균 방식을 사용하려면 `algorithm=\"elkan\"`으로 설정하세요. 이 방법은 희소 행렬을 지원하지 않습니다. 따라서 사이킷런은 밀집 배열에는 `\"elkan\"`을 사용하고 희소 행렬에는 (기본 K-평균 알고리즘인) `\"full`을 사용합니다."
   ]
  },
  {
   "cell_type": "code",
   "execution_count": 41,
   "metadata": {
    "execution": {
     "iopub.execute_input": "2021-10-24T05:02:54.717742Z",
     "iopub.status.busy": "2021-10-24T05:02:54.716868Z",
     "iopub.status.idle": "2021-10-24T05:11:08.563233Z",
     "shell.execute_reply": "2021-10-24T05:11:08.562683Z"
    },
    "id": "pIaJfcmfDRoA",
    "outputId": "9a246ec1-1fb9-4973-9bc7-3a6e728189bd"
   },
   "outputs": [
    {
     "name": "stdout",
     "output_type": "stream",
     "text": [
      "98.6 ms ± 3.37 ms per loop (mean ± std. dev. of 7 runs, 50 loops each)\n"
     ]
    }
   ],
   "source": [
    "%timeit -n 50 KMeans(algorithm=\"elkan\", random_state=42).fit(X)"
   ]
  },
  {
   "cell_type": "code",
   "execution_count": null,
   "metadata": {
    "execution": {
     "iopub.execute_input": "2021-10-24T05:11:08.569017Z",
     "iopub.status.busy": "2021-10-24T05:11:08.568412Z",
     "iopub.status.idle": "2021-10-24T05:19:38.513788Z",
     "shell.execute_reply": "2021-10-24T05:19:38.514267Z"
    },
    "id": "QuwU7JWUDRoA",
    "outputId": "85639ed3-590e-45d7-a0d6-c2d3d64ab8f3",
    "scrolled": true
   },
   "outputs": [],
   "source": [
    "%timeit -n 50 KMeans(algorithm=\"full\", random_state=42).fit(X)"
   ]
  },
  {
   "cell_type": "markdown",
   "metadata": {
    "id": "RhSuSgm2DRoA"
   },
   "source": [
    "데이터셋이 작기 때문에 여기에서는 큰 차이가 없습니다."
   ]
  },
  {
   "cell_type": "markdown",
   "metadata": {
    "id": "5k6KAvP1DRoA"
   },
   "source": [
    "### 미니배치 K-평균"
   ]
  },
  {
   "cell_type": "markdown",
   "metadata": {
    "id": "ZGWTsbcTDRoA"
   },
   "source": [
    "사이킷런은 미니배치를 지원하는 K-평균 방식도 제공합니다(이 [논문](http://www.eecs.tufts.edu/~dsculley/papers/fastkmeans.pdf) 참조):"
   ]
  },
  {
   "cell_type": "code",
   "execution_count": null,
   "metadata": {
    "execution": {
     "iopub.execute_input": "2021-10-24T05:19:38.518619Z",
     "iopub.status.busy": "2021-10-24T05:19:38.517594Z",
     "iopub.status.idle": "2021-10-24T05:19:38.521806Z",
     "shell.execute_reply": "2021-10-24T05:19:38.521293Z"
    },
    "id": "bKF_G0eyDRoB"
   },
   "outputs": [],
   "source": [
    "from sklearn.cluster import MiniBatchKMeans"
   ]
  },
  {
   "cell_type": "code",
   "execution_count": null,
   "metadata": {
    "execution": {
     "iopub.execute_input": "2021-10-24T05:19:38.526594Z",
     "iopub.status.busy": "2021-10-24T05:19:38.526007Z",
     "iopub.status.idle": "2021-10-24T05:19:38.612747Z",
     "shell.execute_reply": "2021-10-24T05:19:38.613269Z"
    },
    "id": "sl1hpxcsDRoB",
    "outputId": "053ab7ce-b993-4bd3-c1ee-a0f98b8d0124"
   },
   "outputs": [],
   "source": [
    "minibatch_kmeans = MiniBatchKMeans(n_clusters=5, random_state=42)\n",
    "minibatch_kmeans.fit(X)"
   ]
  },
  {
   "cell_type": "code",
   "execution_count": null,
   "metadata": {
    "execution": {
     "iopub.execute_input": "2021-10-24T05:19:38.617625Z",
     "iopub.status.busy": "2021-10-24T05:19:38.617018Z",
     "iopub.status.idle": "2021-10-24T05:19:38.619876Z",
     "shell.execute_reply": "2021-10-24T05:19:38.620263Z"
    },
    "id": "_jGJqdCSDRoB",
    "outputId": "5592c55b-9b3e-4e70-e49f-8621f2a4ee6b"
   },
   "outputs": [],
   "source": [
    "minibatch_kmeans.inertia_"
   ]
  },
  {
   "cell_type": "markdown",
   "metadata": {
    "id": "jTksbh4-DRoB"
   },
   "source": [
    "데이터셋이 메모리에 다 들어가지 못하면 가장 간단한 방법은 이전 장의 점진적 PCA에서 했던 것처럼 `memmap` 클래스를 사용하는 것입니다. 먼저 MNIST 데이터를 로드합니다:"
   ]
  },
  {
   "cell_type": "code",
   "execution_count": null,
   "metadata": {
    "execution": {
     "iopub.execute_input": "2021-10-24T05:19:38.625766Z",
     "iopub.status.busy": "2021-10-24T05:19:38.625076Z",
     "iopub.status.idle": "2021-10-24T05:20:17.503703Z",
     "shell.execute_reply": "2021-10-24T05:20:17.502814Z"
    },
    "id": "mcWbyh-PDRoB"
   },
   "outputs": [],
   "source": [
    "import urllib.request\n",
    "from sklearn.datasets import fetch_openml\n",
    "\n",
    "mnist = fetch_openml('mnist_784', version=1)\n",
    "mnist.target = mnist.target.astype(np.int64)"
   ]
  },
  {
   "cell_type": "code",
   "execution_count": null,
   "metadata": {
    "execution": {
     "iopub.execute_input": "2021-10-24T05:20:17.509883Z",
     "iopub.status.busy": "2021-10-24T05:20:17.508425Z",
     "iopub.status.idle": "2021-10-24T05:20:17.883943Z",
     "shell.execute_reply": "2021-10-24T05:20:17.884399Z"
    },
    "id": "C3wnrmzVDRoB"
   },
   "outputs": [],
   "source": [
    "from sklearn.model_selection import train_test_split\n",
    "\n",
    "X_train, X_test, y_train, y_test = train_test_split(\n",
    "    mnist[\"data\"], mnist[\"target\"], random_state=42)"
   ]
  },
  {
   "cell_type": "markdown",
   "metadata": {
    "id": "Cs4q4J8ZDRoB"
   },
   "source": [
    "`memmap`에 데이터를 기록합니다:"
   ]
  },
  {
   "cell_type": "code",
   "execution_count": null,
   "metadata": {
    "execution": {
     "iopub.execute_input": "2021-10-24T05:20:17.889278Z",
     "iopub.status.busy": "2021-10-24T05:20:17.888635Z",
     "iopub.status.idle": "2021-10-24T05:20:18.193738Z",
     "shell.execute_reply": "2021-10-24T05:20:18.194228Z"
    },
    "id": "HIh14ESsDRoB"
   },
   "outputs": [],
   "source": [
    "filename = \"my_mnist.data\"\n",
    "X_mm = np.memmap(filename, dtype='float32', mode='write', shape=X_train.shape)\n",
    "X_mm[:] = X_train"
   ]
  },
  {
   "cell_type": "code",
   "execution_count": null,
   "metadata": {
    "execution": {
     "iopub.execute_input": "2021-10-24T05:20:18.198796Z",
     "iopub.status.busy": "2021-10-24T05:20:18.198170Z",
     "iopub.status.idle": "2021-10-24T05:20:19.151813Z",
     "shell.execute_reply": "2021-10-24T05:20:19.151205Z"
    },
    "id": "oIMPXDkJDRoB",
    "outputId": "96e20418-8ffa-4770-e264-38728600d017",
    "scrolled": false
   },
   "outputs": [],
   "source": [
    "minibatch_kmeans = MiniBatchKMeans(n_clusters=10, batch_size=10, random_state=42)\n",
    "minibatch_kmeans.fit(X_mm)"
   ]
  },
  {
   "cell_type": "markdown",
   "metadata": {
    "id": "0SPpc5SgDRoB"
   },
   "source": [
    "데이터가 너무 커서 `memmap`을 사용할 수 없다면 문제는 더 복잡해집니다. 배치를 로드하는 함수를 먼저 만들어 보죠(실전에서는 디스크에서 데이터를 로드합니다):"
   ]
  },
  {
   "cell_type": "code",
   "execution_count": null,
   "metadata": {
    "execution": {
     "iopub.execute_input": "2021-10-24T05:20:19.157309Z",
     "iopub.status.busy": "2021-10-24T05:20:19.156653Z",
     "iopub.status.idle": "2021-10-24T05:20:19.159826Z",
     "shell.execute_reply": "2021-10-24T05:20:19.160224Z"
    },
    "id": "J44lkWPIDRoC"
   },
   "outputs": [],
   "source": [
    "def load_next_batch(batch_size):\n",
    "    return X[np.random.choice(len(X), batch_size, replace=False)]"
   ]
  },
  {
   "cell_type": "markdown",
   "metadata": {
    "id": "ZzNe3OjQDRoC"
   },
   "source": [
    "한 번에 하나의 배치를 모델에 주입하여 훈련할 수 있습니다. 또한 여러 번 초기화를 수행하고 이너셔가 가장 낮은 모델을 선택합니다:"
   ]
  },
  {
   "cell_type": "code",
   "execution_count": null,
   "metadata": {
    "execution": {
     "iopub.execute_input": "2021-10-24T05:20:19.163623Z",
     "iopub.status.busy": "2021-10-24T05:20:19.162936Z",
     "iopub.status.idle": "2021-10-24T05:20:19.165839Z",
     "shell.execute_reply": "2021-10-24T05:20:19.166263Z"
    },
    "id": "XyJEXMyWDRoC"
   },
   "outputs": [],
   "source": [
    "np.random.seed(42)"
   ]
  },
  {
   "cell_type": "code",
   "execution_count": null,
   "metadata": {
    "execution": {
     "iopub.execute_input": "2021-10-24T05:20:19.173481Z",
     "iopub.status.busy": "2021-10-24T05:20:19.172842Z",
     "iopub.status.idle": "2021-10-24T05:20:23.581741Z",
     "shell.execute_reply": "2021-10-24T05:20:23.582647Z"
    },
    "id": "L0hIyBrdDRoC"
   },
   "outputs": [],
   "source": [
    "k = 5\n",
    "n_init = 10\n",
    "n_iterations = 100\n",
    "batch_size = 100\n",
    "init_size = 500  # K-Means++ 초기화를 위해 충분한 데이터 전달\n",
    "evaluate_on_last_n_iters = 10\n",
    "\n",
    "best_kmeans = None\n",
    "\n",
    "for init in range(n_init):\n",
    "    minibatch_kmeans = MiniBatchKMeans(n_clusters=k, init_size=init_size)\n",
    "    X_init = load_next_batch(init_size)\n",
    "    minibatch_kmeans.partial_fit(X_init)\n",
    "\n",
    "    minibatch_kmeans.sum_inertia_ = 0\n",
    "    for iteration in range(n_iterations):\n",
    "        X_batch = load_next_batch(batch_size)\n",
    "        minibatch_kmeans.partial_fit(X_batch)\n",
    "        if iteration >= n_iterations - evaluate_on_last_n_iters:\n",
    "            minibatch_kmeans.sum_inertia_ += minibatch_kmeans.inertia_\n",
    "\n",
    "    if (best_kmeans is None or\n",
    "        minibatch_kmeans.sum_inertia_ < best_kmeans.sum_inertia_):\n",
    "        best_kmeans = minibatch_kmeans"
   ]
  },
  {
   "cell_type": "code",
   "execution_count": null,
   "metadata": {
    "execution": {
     "iopub.execute_input": "2021-10-24T05:20:23.587907Z",
     "iopub.status.busy": "2021-10-24T05:20:23.585595Z",
     "iopub.status.idle": "2021-10-24T05:20:23.608417Z",
     "shell.execute_reply": "2021-10-24T05:20:23.608928Z"
    },
    "id": "6lVimMfrDRoC",
    "outputId": "84fa6592-a52e-4985-b0ba-288c67ce1629"
   },
   "outputs": [],
   "source": [
    "best_kmeans.score(X)"
   ]
  },
  {
   "cell_type": "markdown",
   "metadata": {
    "id": "VBLoVGe5DRoC"
   },
   "source": [
    "미니배치 K-평균이 일반 K-평균보다 훨씬 빠릅니다:"
   ]
  },
  {
   "cell_type": "code",
   "execution_count": null,
   "metadata": {
    "execution": {
     "iopub.execute_input": "2021-10-24T05:20:23.615949Z",
     "iopub.status.busy": "2021-10-24T05:20:23.615212Z",
     "iopub.status.idle": "2021-10-24T05:20:30.661442Z",
     "shell.execute_reply": "2021-10-24T05:20:30.661893Z"
    },
    "id": "GE5lbyZ5DRoC",
    "outputId": "23107c54-7f79-4d6d-9965-87d9887d2cdc"
   },
   "outputs": [],
   "source": [
    "%timeit KMeans(n_clusters=5, random_state=42).fit(X)"
   ]
  },
  {
   "cell_type": "code",
   "execution_count": null,
   "metadata": {
    "execution": {
     "iopub.execute_input": "2021-10-24T05:20:30.668176Z",
     "iopub.status.busy": "2021-10-24T05:20:30.667568Z",
     "iopub.status.idle": "2021-10-24T05:20:34.995210Z",
     "shell.execute_reply": "2021-10-24T05:20:34.995722Z"
    },
    "id": "zP2-bSZRDRoC",
    "outputId": "a907d482-f113-4273-c001-5df1bd6d97a0"
   },
   "outputs": [],
   "source": [
    "%timeit MiniBatchKMeans(n_clusters=5, random_state=42).fit(X)"
   ]
  },
  {
   "cell_type": "markdown",
   "metadata": {
    "id": "bHM-N8JYDRoC"
   },
   "source": [
    "*훨씬* 빠르군요! 하지만 성능이 낮은 (즉 이너셔가 높은) 경우가 많습니다. _k_ 가 증가할수록 더 그렇습니다. 미니배치 K-평균과 일반 K-평균 사이에 이너셔와 훈련 시간을 그래프로 나타내 보겠습니다:"
   ]
  },
  {
   "cell_type": "code",
   "execution_count": null,
   "metadata": {
    "execution": {
     "iopub.execute_input": "2021-10-24T05:20:35.000800Z",
     "iopub.status.busy": "2021-10-24T05:20:35.000157Z",
     "iopub.status.idle": "2021-10-24T05:20:35.002832Z",
     "shell.execute_reply": "2021-10-24T05:20:35.002147Z"
    },
    "id": "wVz7R5QuDRoD"
   },
   "outputs": [],
   "source": [
    "from timeit import timeit"
   ]
  },
  {
   "cell_type": "code",
   "execution_count": null,
   "metadata": {
    "execution": {
     "iopub.execute_input": "2021-10-24T05:20:35.009886Z",
     "iopub.status.busy": "2021-10-24T05:20:35.009222Z",
     "iopub.status.idle": "2021-10-24T05:52:20.612688Z",
     "shell.execute_reply": "2021-10-24T05:52:20.613560Z"
    },
    "id": "qFzfesCzDRoD",
    "outputId": "e4542bfe-44b4-4e20-f31f-b7f2e879866e"
   },
   "outputs": [],
   "source": [
    "times = np.empty((100, 2))\n",
    "inertias = np.empty((100, 2))\n",
    "for k in range(1, 101):\n",
    "    kmeans_ = KMeans(n_clusters=k, random_state=42)\n",
    "    minibatch_kmeans = MiniBatchKMeans(n_clusters=k, random_state=42)\n",
    "    print(\"\\r{}/{}\".format(k, 100), end=\"\")\n",
    "    times[k-1, 0] = timeit(\"kmeans_.fit(X)\", number=10, globals=globals())\n",
    "    times[k-1, 1]  = timeit(\"minibatch_kmeans.fit(X)\", number=10, globals=globals())\n",
    "    inertias[k-1, 0] = kmeans_.inertia_\n",
    "    inertias[k-1, 1] = minibatch_kmeans.inertia_"
   ]
  },
  {
   "cell_type": "code",
   "execution_count": null,
   "metadata": {
    "execution": {
     "iopub.execute_input": "2021-10-24T05:52:20.617287Z",
     "iopub.status.busy": "2021-10-24T05:52:20.616481Z",
     "iopub.status.idle": "2021-10-24T05:52:21.186467Z",
     "shell.execute_reply": "2021-10-24T05:52:21.186912Z"
    },
    "id": "aI0_pg99DRoD",
    "outputId": "e29be046-6c67-45e3-c89c-fef5e2463fba"
   },
   "outputs": [],
   "source": [
    "plt.figure(figsize=(10,4))\n",
    "\n",
    "plt.subplot(121)\n",
    "plt.plot(range(1, 101), inertias[:, 0], \"r--\", label=\"K-Means\")\n",
    "plt.plot(range(1, 101), inertias[:, 1], \"b.-\", label=\"Mini-batch K-Means\")\n",
    "plt.xlabel(\"$k$\", fontsize=16)\n",
    "plt.title(\"Inertia\", fontsize=14)\n",
    "plt.legend(fontsize=14)\n",
    "plt.axis([1, 100, 0, 100])\n",
    "\n",
    "plt.subplot(122)\n",
    "plt.plot(range(1, 101), times[:, 0], \"r--\", label=\"K-Means\")\n",
    "plt.plot(range(1, 101), times[:, 1], \"b.-\", label=\"Mini-batch K-Means\")\n",
    "plt.xlabel(\"$k$\", fontsize=16)\n",
    "plt.title(\"Training time (seconds)\", fontsize=14)\n",
    "plt.axis([1, 100, 0, 6])\n",
    "\n",
    "save_fig(\"minibatch_kmeans_vs_kmeans\")\n",
    "plt.show()"
   ]
  },
  {
   "cell_type": "markdown",
   "metadata": {
    "id": "ptPO7e7_DRoD"
   },
   "source": [
    "### 최적의 클러스터 개수 찾기"
   ]
  },
  {
   "cell_type": "markdown",
   "metadata": {
    "id": "lmRYFRavDRoD"
   },
   "source": [
    "클러스터 개수가 5보다 작거나 크게 지정하면 어떨까요?"
   ]
  },
  {
   "cell_type": "code",
   "execution_count": null,
   "metadata": {
    "execution": {
     "iopub.execute_input": "2021-10-24T05:52:21.190350Z",
     "iopub.status.busy": "2021-10-24T05:52:21.189726Z",
     "iopub.status.idle": "2021-10-24T05:52:24.930179Z",
     "shell.execute_reply": "2021-10-24T05:52:24.930613Z"
    },
    "id": "-qZ-WA-mDRoD",
    "outputId": "5d86aaf7-1eb1-4c52-dfde-c68613f8526b"
   },
   "outputs": [],
   "source": [
    "kmeans_k3 = KMeans(n_clusters=3, random_state=42)\n",
    "kmeans_k8 = KMeans(n_clusters=8, random_state=42)\n",
    "\n",
    "plot_clusterer_comparison(kmeans_k3, kmeans_k8, X, \"$k=3$\", \"$k=8$\")\n",
    "save_fig(\"bad_n_clusters_plot\")\n",
    "plt.show()"
   ]
  },
  {
   "cell_type": "markdown",
   "metadata": {
    "id": "D8w5q1Z2DRoD"
   },
   "source": [
    "두 모델 모두 좋아 보이지 않는군요. 이너셔는 어떨까요?"
   ]
  },
  {
   "cell_type": "code",
   "execution_count": null,
   "metadata": {
    "execution": {
     "iopub.execute_input": "2021-10-24T05:52:24.935584Z",
     "iopub.status.busy": "2021-10-24T05:52:24.934884Z",
     "iopub.status.idle": "2021-10-24T05:52:24.937736Z",
     "shell.execute_reply": "2021-10-24T05:52:24.938175Z"
    },
    "id": "sudajQ7zDRoD",
    "outputId": "2f75359c-6b1b-46b0-cf39-f07dd7d2553d"
   },
   "outputs": [],
   "source": [
    "kmeans_k3.inertia_"
   ]
  },
  {
   "cell_type": "code",
   "execution_count": null,
   "metadata": {
    "execution": {
     "iopub.execute_input": "2021-10-24T05:52:24.942527Z",
     "iopub.status.busy": "2021-10-24T05:52:24.941881Z",
     "iopub.status.idle": "2021-10-24T05:52:24.945434Z",
     "shell.execute_reply": "2021-10-24T05:52:24.944781Z"
    },
    "id": "mDEs4_fqDRoE",
    "outputId": "9facf4ec-e30b-4e1e-ba73-7b455f3b4320"
   },
   "outputs": [],
   "source": [
    "kmeans_k8.inertia_"
   ]
  },
  {
   "cell_type": "markdown",
   "metadata": {
    "id": "gyyp7KwoDRoE"
   },
   "source": [
    "$k$가 증가할수록 이너셔가 줄어들기 때문에 단순히 이너셔가 작은 $k$를 선택할 수 없군요. 실제 클러스터가 많을수록 샘플은 인접한 센트로이드에 더 가깝습니다. 따라서 이너셔가 더 작습니다. 하지만 $k$에 대한 이너셔를 그래프로 그리고 결과 그래프를 조사해 볼 수 있습니다:"
   ]
  },
  {
   "cell_type": "code",
   "execution_count": null,
   "metadata": {
    "execution": {
     "iopub.execute_input": "2021-10-24T05:52:24.954028Z",
     "iopub.status.busy": "2021-10-24T05:52:24.950317Z",
     "iopub.status.idle": "2021-10-24T05:52:33.755517Z",
     "shell.execute_reply": "2021-10-24T05:52:33.756024Z"
    },
    "id": "8GSTJ3z4DRoE"
   },
   "outputs": [],
   "source": [
    "kmeans_per_k = [KMeans(n_clusters=k, random_state=42).fit(X)\n",
    "                for k in range(1, 10)]\n",
    "inertias = [model.inertia_ for model in kmeans_per_k]"
   ]
  },
  {
   "cell_type": "code",
   "execution_count": null,
   "metadata": {
    "execution": {
     "iopub.execute_input": "2021-10-24T05:52:33.793524Z",
     "iopub.status.busy": "2021-10-24T05:52:33.783131Z",
     "iopub.status.idle": "2021-10-24T05:52:34.172284Z",
     "shell.execute_reply": "2021-10-24T05:52:34.172719Z"
    },
    "id": "5x4jh4iMDRoE",
    "outputId": "690fa52d-752d-41b7-f4e6-bf932258996a"
   },
   "outputs": [],
   "source": [
    "plt.figure(figsize=(8, 3.5))\n",
    "plt.plot(range(1, 10), inertias, \"bo-\")\n",
    "plt.xlabel(\"$k$\", fontsize=14)\n",
    "plt.ylabel(\"Inertia\", fontsize=14)\n",
    "plt.annotate('Elbow',\n",
    "             xy=(4, inertias[3]),\n",
    "             xytext=(0.55, 0.55),\n",
    "             textcoords='figure fraction',\n",
    "             fontsize=16,\n",
    "             arrowprops=dict(facecolor='black', shrink=0.1)\n",
    "            )\n",
    "plt.axis([1, 8.5, 0, 1300])\n",
    "save_fig(\"inertia_vs_k_plot\")\n",
    "plt.show()"
   ]
  },
  {
   "cell_type": "markdown",
   "metadata": {
    "id": "1y6_U9dtDRoE"
   },
   "source": [
    "여기에서 볼 수 있듯이 $k=4$에서 엘보우가 있습니다. 이 값보다 클러스터가 작으면 나쁘다는 뜻입니다. 이보다 더 많으면 크게 도움이 되지 않고 배로 늘려도 그렇습니다. 따라서 $k=4$가 아주 좋은 선택입니다. 물론 이 예제에서는 이 값이 완벽하지 않습니다. 왼쪽 아래 두 클러스터가 하나의 클러스터로 간주되었지만 꽤 좋은 군집 결과입니다."
   ]
  },
  {
   "cell_type": "code",
   "execution_count": null,
   "metadata": {
    "execution": {
     "iopub.execute_input": "2021-10-24T05:52:34.178234Z",
     "iopub.status.busy": "2021-10-24T05:52:34.176884Z",
     "iopub.status.idle": "2021-10-24T05:52:34.638100Z",
     "shell.execute_reply": "2021-10-24T05:52:34.636969Z"
    },
    "id": "W1XUeRkyDRoE",
    "outputId": "2d40a129-36ae-4fe2-cb16-0d5faab1269e"
   },
   "outputs": [],
   "source": [
    "plot_decision_boundaries(kmeans_per_k[4-1], X)\n",
    "plt.show()"
   ]
  },
  {
   "cell_type": "markdown",
   "metadata": {
    "id": "YjmnRYTmDRoE"
   },
   "source": [
    "또 다른 방법은 모든 샘플에 대한 _실루엣 계수_ 의 평균인 _실루엣 점수_ 입니다. 한 샘플의 실루엣 계수는 $(b - a)/\\max(a, b)$입니다. 여기에서 $a$는 같은 클러스터에 있는 다른 샘플까지의 평균 거리입니다(이를 _클러스터 내부 평균 거리_ 라고 합니다). $b$는 가장 가까운 클러스터까지 평균 거리입니다. 즉 가장 가까운 클러스터(샘플 자신의 클러스터를 제외하고 $b$를 최소화하는 클러스터)의 샘플까지 평균 거리입니다. 실루엣 계수는 -1에서 +1 사이 값을 가집니다. +1에 가까우면 샘플이 다른 클러스터로부터 떨어져 자신의 클러스터 안에 잘 있다는 것을 의미합니다.0에 가까우면 클러스터 경계에 가깝다는 의미입니다. -1에 가까우면 샘플이 잘못된 클러스터에 할당되었을지 모릅니다."
   ]
  },
  {
   "cell_type": "markdown",
   "metadata": {
    "id": "Sqw36SNHDRoE"
   },
   "source": [
    "$k$에 대한 실루엣 점수를 그래프로 그려보죠:"
   ]
  },
  {
   "cell_type": "code",
   "execution_count": null,
   "metadata": {
    "execution": {
     "iopub.execute_input": "2021-10-24T05:52:34.642612Z",
     "iopub.status.busy": "2021-10-24T05:52:34.641905Z",
     "iopub.status.idle": "2021-10-24T05:52:34.644837Z",
     "shell.execute_reply": "2021-10-24T05:52:34.644281Z"
    },
    "id": "6-xpXM_oDRoE"
   },
   "outputs": [],
   "source": [
    "from sklearn.metrics import silhouette_score"
   ]
  },
  {
   "cell_type": "code",
   "execution_count": null,
   "metadata": {
    "execution": {
     "iopub.execute_input": "2021-10-24T05:52:34.649163Z",
     "iopub.status.busy": "2021-10-24T05:52:34.648578Z",
     "iopub.status.idle": "2021-10-24T05:52:34.777026Z",
     "shell.execute_reply": "2021-10-24T05:52:34.777842Z"
    },
    "id": "Nqa5YmXcDRoE",
    "outputId": "74a8929f-38f2-4e92-91d3-d54e4bb85ba3"
   },
   "outputs": [],
   "source": [
    "silhouette_score(X, kmeans.labels_)"
   ]
  },
  {
   "cell_type": "code",
   "execution_count": null,
   "metadata": {
    "execution": {
     "iopub.execute_input": "2021-10-24T05:52:34.786455Z",
     "iopub.status.busy": "2021-10-24T05:52:34.784554Z",
     "iopub.status.idle": "2021-10-24T05:52:35.532914Z",
     "shell.execute_reply": "2021-10-24T05:52:35.534260Z"
    },
    "id": "FTWjipcZDRoF"
   },
   "outputs": [],
   "source": [
    "silhouette_scores = [silhouette_score(X, model.labels_)\n",
    "                     for model in kmeans_per_k[1:]]"
   ]
  },
  {
   "cell_type": "code",
   "execution_count": null,
   "metadata": {
    "execution": {
     "iopub.execute_input": "2021-10-24T05:52:35.540593Z",
     "iopub.status.busy": "2021-10-24T05:52:35.538667Z",
     "iopub.status.idle": "2021-10-24T05:52:35.905164Z",
     "shell.execute_reply": "2021-10-24T05:52:35.904580Z"
    },
    "id": "FXFYmXUJDRoF",
    "outputId": "976c1066-1af3-4adf-84e8-2245f9e74403"
   },
   "outputs": [],
   "source": [
    "plt.figure(figsize=(8, 3))\n",
    "plt.plot(range(2, 10), silhouette_scores, \"bo-\")\n",
    "plt.xlabel(\"$k$\", fontsize=14)\n",
    "plt.ylabel(\"Silhouette score\", fontsize=14)\n",
    "plt.axis([1.8, 8.5, 0.55, 0.7])\n",
    "save_fig(\"silhouette_score_vs_k_plot\")\n",
    "plt.show()"
   ]
  },
  {
   "cell_type": "markdown",
   "metadata": {
    "id": "XUGKdG3ZDRoF"
   },
   "source": [
    "여기에서 볼 수 있듯이 이 그래프는 이전보다 정보가 더 풍부합니다. 특히 $k=4$가 매우 좋은 선택이지만 $k=5$도 꽤 괜찮은 선택이라는 것을 보여줍니다."
   ]
  },
  {
   "cell_type": "markdown",
   "metadata": {
    "id": "1ymawYL9DRoF"
   },
   "source": [
    "모든 샘플의 실루엣 계수를 할당된 클러스터와 실루엣 값으로 정렬하여 그리면 훨씬 많은 정보를 얻을 수 있습니다. 이를 _실루엣 다이어그램_ 이라고 합니다:"
   ]
  },
  {
   "cell_type": "code",
   "execution_count": null,
   "metadata": {
    "execution": {
     "iopub.execute_input": "2021-10-24T05:52:35.915461Z",
     "iopub.status.busy": "2021-10-24T05:52:35.914706Z",
     "iopub.status.idle": "2021-10-24T05:52:37.661480Z",
     "shell.execute_reply": "2021-10-24T05:52:37.661912Z"
    },
    "id": "NYzoLj6LDRoF",
    "outputId": "eebde800-3bdb-4e1e-9ec6-ffc44cc3dba8"
   },
   "outputs": [],
   "source": [
    "from sklearn.metrics import silhouette_samples\n",
    "from matplotlib.ticker import FixedLocator, FixedFormatter\n",
    "\n",
    "plt.figure(figsize=(11, 9))\n",
    "\n",
    "for k in (3, 4, 5, 6):\n",
    "    plt.subplot(2, 2, k - 2)\n",
    "    \n",
    "    y_pred = kmeans_per_k[k - 1].labels_\n",
    "    silhouette_coefficients = silhouette_samples(X, y_pred)\n",
    "\n",
    "    padding = len(X) // 30\n",
    "    pos = padding\n",
    "    ticks = []\n",
    "    for i in range(k):\n",
    "        coeffs = silhouette_coefficients[y_pred == i]\n",
    "        coeffs.sort()\n",
    "\n",
    "        color = mpl.cm.Spectral(i / k)\n",
    "        plt.fill_betweenx(np.arange(pos, pos + len(coeffs)), 0, coeffs,\n",
    "                          facecolor=color, edgecolor=color, alpha=0.7)\n",
    "        ticks.append(pos + len(coeffs) // 2)\n",
    "        pos += len(coeffs) + padding\n",
    "\n",
    "    plt.gca().yaxis.set_major_locator(FixedLocator(ticks))\n",
    "    plt.gca().yaxis.set_major_formatter(FixedFormatter(range(k)))\n",
    "    if k in (3, 5):\n",
    "        plt.ylabel(\"Cluster\")\n",
    "    \n",
    "    if k in (5, 6):\n",
    "        plt.gca().set_xticks([-0.1, 0, 0.2, 0.4, 0.6, 0.8, 1])\n",
    "        plt.xlabel(\"Silhouette Coefficient\")\n",
    "    else:\n",
    "        plt.tick_params(labelbottom=False)\n",
    "\n",
    "    plt.axvline(x=silhouette_scores[k - 2], color=\"red\", linestyle=\"--\")\n",
    "    plt.title(\"$k={}$\".format(k), fontsize=16)\n",
    "\n",
    "save_fig(\"silhouette_analysis_plot\")\n",
    "plt.show()"
   ]
  },
  {
   "cell_type": "markdown",
   "metadata": {
    "id": "-S34TEliDRoF"
   },
   "source": [
    "여기에서 볼 수 있듯이 $k=5$가 가장 좋은 선택입니다. 모든 클러스터의 크기가 거의 동일하고 평균 실루엣 점수를 나타내는 파선을 모두 넘었습니다."
   ]
  },
  {
   "cell_type": "markdown",
   "metadata": {
    "id": "dPNi68Z5DRoF"
   },
   "source": [
    "## K-평균의 한계"
   ]
  },
  {
   "cell_type": "code",
   "execution_count": null,
   "metadata": {
    "execution": {
     "iopub.execute_input": "2021-10-24T05:52:37.665440Z",
     "iopub.status.busy": "2021-10-24T05:52:37.664859Z",
     "iopub.status.idle": "2021-10-24T05:52:37.670282Z",
     "shell.execute_reply": "2021-10-24T05:52:37.670747Z"
    },
    "id": "aMgN6WCTDRoF"
   },
   "outputs": [],
   "source": [
    "X1, y1 = make_blobs(n_samples=1000, centers=((4, -4), (0, 0)), random_state=42)\n",
    "X1 = X1.dot(np.array([[0.374, 0.95], [0.732, 0.598]]))\n",
    "X2, y2 = make_blobs(n_samples=250, centers=1, random_state=42)\n",
    "X2 = X2 + [6, -8]\n",
    "X = np.r_[X1, X2]\n",
    "y = np.r_[y1, y2]"
   ]
  },
  {
   "cell_type": "code",
   "execution_count": null,
   "metadata": {
    "execution": {
     "iopub.execute_input": "2021-10-24T05:52:37.673845Z",
     "iopub.status.busy": "2021-10-24T05:52:37.673260Z",
     "iopub.status.idle": "2021-10-24T05:52:37.820257Z",
     "shell.execute_reply": "2021-10-24T05:52:37.819584Z"
    },
    "id": "gmW_YZwgDRoF",
    "outputId": "0c2e3cc2-d2d4-42b6-af17-3cf61fb6380d"
   },
   "outputs": [],
   "source": [
    "plot_clusters(X)"
   ]
  },
  {
   "cell_type": "code",
   "execution_count": null,
   "metadata": {
    "execution": {
     "iopub.execute_input": "2021-10-24T05:52:37.825562Z",
     "iopub.status.busy": "2021-10-24T05:52:37.824947Z",
     "iopub.status.idle": "2021-10-24T05:52:37.907598Z",
     "shell.execute_reply": "2021-10-24T05:52:37.908108Z"
    },
    "id": "7bomC4NpDRoF",
    "outputId": "3ada4c37-41ee-4544-b46b-5a2a591a4419"
   },
   "outputs": [],
   "source": [
    "kmeans_good = KMeans(n_clusters=3, init=np.array([[-1.5, 2.5], [0.5, 0], [4, 0]]), n_init=1, random_state=42)\n",
    "kmeans_bad = KMeans(n_clusters=3, random_state=42)\n",
    "kmeans_good.fit(X)\n",
    "kmeans_bad.fit(X)"
   ]
  },
  {
   "cell_type": "code",
   "execution_count": null,
   "metadata": {
    "execution": {
     "iopub.execute_input": "2021-10-24T05:52:37.927769Z",
     "iopub.status.busy": "2021-10-24T05:52:37.910574Z",
     "iopub.status.idle": "2021-10-24T05:52:39.095266Z",
     "shell.execute_reply": "2021-10-24T05:52:39.094705Z"
    },
    "id": "C20Eu9e2DRoG",
    "outputId": "e634571f-526f-42f5-ee78-6f49ddb06373",
    "scrolled": false
   },
   "outputs": [],
   "source": [
    "plt.figure(figsize=(10, 3.2))\n",
    "\n",
    "plt.subplot(121)\n",
    "plot_decision_boundaries(kmeans_good, X)\n",
    "plt.title(\"Inertia = {:.1f}\".format(kmeans_good.inertia_), fontsize=14)\n",
    "\n",
    "plt.subplot(122)\n",
    "plot_decision_boundaries(kmeans_bad, X, show_ylabels=False)\n",
    "plt.title(\"Inertia = {:.1f}\".format(kmeans_bad.inertia_), fontsize=14)\n",
    "\n",
    "save_fig(\"bad_kmeans_plot\")\n",
    "plt.show()"
   ]
  },
  {
   "cell_type": "markdown",
   "metadata": {
    "id": "OQ1d3ijdDRoG"
   },
   "source": [
    "## 군집을 사용한 이미지 분할"
   ]
  },
  {
   "cell_type": "code",
   "execution_count": null,
   "metadata": {
    "execution": {
     "iopub.execute_input": "2021-10-24T05:52:39.101695Z",
     "iopub.status.busy": "2021-10-24T05:52:39.101061Z",
     "iopub.status.idle": "2021-10-24T05:52:39.583560Z",
     "shell.execute_reply": "2021-10-24T05:52:39.583982Z"
    },
    "id": "841Y1rGpDRoG",
    "outputId": "0454b8dc-a64b-408e-c388-6eaa94c77b51"
   },
   "outputs": [],
   "source": [
    "# 무당벌레 이미지를 다운로드합니다\n",
    "images_path = os.path.join(PROJECT_ROOT_DIR, \"images\", \"unsupervised_learning\")\n",
    "os.makedirs(images_path, exist_ok=True)\n",
    "DOWNLOAD_ROOT = \"https://raw.githubusercontent.com/rickiepark/handson-ml2/master/\"\n",
    "filename = \"ladybug.png\"\n",
    "print(\"Downloading\", filename)\n",
    "url = DOWNLOAD_ROOT + \"images/unsupervised_learning/\" + filename\n",
    "urllib.request.urlretrieve(url, os.path.join(images_path, filename))"
   ]
  },
  {
   "cell_type": "code",
   "execution_count": null,
   "metadata": {
    "execution": {
     "iopub.execute_input": "2021-10-24T05:52:39.588739Z",
     "iopub.status.busy": "2021-10-24T05:52:39.587902Z",
     "iopub.status.idle": "2021-10-24T05:52:39.613852Z",
     "shell.execute_reply": "2021-10-24T05:52:39.614254Z"
    },
    "id": "hiD7xsPKDRoG",
    "outputId": "8ff739de-2712-4b54-b875-f9b676005ce8"
   },
   "outputs": [],
   "source": [
    "from matplotlib.image import imread\n",
    "image = imread(os.path.join(images_path, filename))\n",
    "image.shape"
   ]
  },
  {
   "cell_type": "code",
   "execution_count": null,
   "metadata": {
    "execution": {
     "iopub.execute_input": "2021-10-24T05:52:39.618827Z",
     "iopub.status.busy": "2021-10-24T05:52:39.618245Z",
     "iopub.status.idle": "2021-10-24T05:52:47.493973Z",
     "shell.execute_reply": "2021-10-24T05:52:47.493221Z"
    },
    "id": "AwMvu9icDRoG"
   },
   "outputs": [],
   "source": [
    "X = image.reshape(-1, 3)\n",
    "kmeans = KMeans(n_clusters=8, random_state=42).fit(X)\n",
    "segmented_img = kmeans.cluster_centers_[kmeans.labels_]\n",
    "segmented_img = segmented_img.reshape(image.shape)"
   ]
  },
  {
   "cell_type": "code",
   "execution_count": null,
   "metadata": {
    "execution": {
     "iopub.execute_input": "2021-10-24T05:52:47.498789Z",
     "iopub.status.busy": "2021-10-24T05:52:47.496707Z",
     "iopub.status.idle": "2021-10-24T05:53:16.732462Z",
     "shell.execute_reply": "2021-10-24T05:53:16.732925Z"
    },
    "id": "sfVGnoVKDRoG"
   },
   "outputs": [],
   "source": [
    "segmented_imgs = []\n",
    "n_colors = (10, 8, 6, 4, 2)\n",
    "for n_clusters in n_colors:\n",
    "    kmeans = KMeans(n_clusters=n_clusters, random_state=42).fit(X)\n",
    "    segmented_img = kmeans.cluster_centers_[kmeans.labels_]\n",
    "    segmented_imgs.append(segmented_img.reshape(image.shape))"
   ]
  },
  {
   "cell_type": "code",
   "execution_count": null,
   "metadata": {
    "execution": {
     "iopub.execute_input": "2021-10-24T05:53:16.756814Z",
     "iopub.status.busy": "2021-10-24T05:53:16.735658Z",
     "iopub.status.idle": "2021-10-24T05:53:18.574916Z",
     "shell.execute_reply": "2021-10-24T05:53:18.575408Z"
    },
    "id": "puGXvOZODRoG",
    "outputId": "522dc834-17bd-4b73-a603-613f96b983b8"
   },
   "outputs": [],
   "source": [
    "plt.figure(figsize=(10,5))\n",
    "plt.subplots_adjust(wspace=0.05, hspace=0.1)\n",
    "\n",
    "plt.subplot(231)\n",
    "plt.imshow(image)\n",
    "plt.title(\"Original image\")\n",
    "plt.axis('off')\n",
    "\n",
    "for idx, n_clusters in enumerate(n_colors):\n",
    "    plt.subplot(232 + idx)\n",
    "    plt.imshow(segmented_imgs[idx])\n",
    "    plt.title(\"{} colors\".format(n_clusters))\n",
    "    plt.axis('off')\n",
    "\n",
    "save_fig('image_segmentation_diagram', tight_layout=False)\n",
    "plt.show()"
   ]
  },
  {
   "cell_type": "markdown",
   "metadata": {
    "id": "cghm3ZFrDRoG"
   },
   "source": [
    "## 군집을 사용한 전처리"
   ]
  },
  {
   "cell_type": "markdown",
   "metadata": {
    "id": "OPDV0t67DRoH"
   },
   "source": [
    "MNIST와 유사하게 숫자 0에서 9까지 8x8 흑백 이미지 1,797개로 이루어진 _숫자 데이터셋_ 을 다루어 보겠습니다."
   ]
  },
  {
   "cell_type": "code",
   "execution_count": null,
   "metadata": {
    "execution": {
     "iopub.execute_input": "2021-10-24T05:53:18.579820Z",
     "iopub.status.busy": "2021-10-24T05:53:18.579198Z",
     "iopub.status.idle": "2021-10-24T05:53:18.580895Z",
     "shell.execute_reply": "2021-10-24T05:53:18.581295Z"
    },
    "id": "e8xEwx5TDRoH"
   },
   "outputs": [],
   "source": [
    "from sklearn.datasets import load_digits"
   ]
  },
  {
   "cell_type": "code",
   "execution_count": null,
   "metadata": {
    "execution": {
     "iopub.execute_input": "2021-10-24T05:53:18.585461Z",
     "iopub.status.busy": "2021-10-24T05:53:18.584881Z",
     "iopub.status.idle": "2021-10-24T05:53:18.651471Z",
     "shell.execute_reply": "2021-10-24T05:53:18.650864Z"
    },
    "id": "AfqcNFCoDRoH"
   },
   "outputs": [],
   "source": [
    "X_digits, y_digits = load_digits(return_X_y=True)"
   ]
  },
  {
   "cell_type": "markdown",
   "metadata": {
    "id": "osSGY8GIDRoH"
   },
   "source": [
    "훈련 세트와 테스트 세트로 나눕니다:"
   ]
  },
  {
   "cell_type": "code",
   "execution_count": null,
   "metadata": {
    "execution": {
     "iopub.execute_input": "2021-10-24T05:53:18.656230Z",
     "iopub.status.busy": "2021-10-24T05:53:18.655656Z",
     "iopub.status.idle": "2021-10-24T05:53:18.657944Z",
     "shell.execute_reply": "2021-10-24T05:53:18.657478Z"
    },
    "id": "99-CnolKDRoH"
   },
   "outputs": [],
   "source": [
    "from sklearn.model_selection import train_test_split"
   ]
  },
  {
   "cell_type": "code",
   "execution_count": null,
   "metadata": {
    "execution": {
     "iopub.execute_input": "2021-10-24T05:53:18.665082Z",
     "iopub.status.busy": "2021-10-24T05:53:18.664219Z",
     "iopub.status.idle": "2021-10-24T05:53:18.666774Z",
     "shell.execute_reply": "2021-10-24T05:53:18.666281Z"
    },
    "id": "2gtFlhdfDRoH"
   },
   "outputs": [],
   "source": [
    "X_train, X_test, y_train, y_test = train_test_split(X_digits, y_digits, random_state=42)"
   ]
  },
  {
   "cell_type": "markdown",
   "metadata": {
    "id": "SkjcRRBjDRoH"
   },
   "source": [
    "로지스틱 회귀 모델을 훈련하고 테스트 세트에서 평가합니다:"
   ]
  },
  {
   "cell_type": "code",
   "execution_count": null,
   "metadata": {
    "execution": {
     "iopub.execute_input": "2021-10-24T05:53:18.671343Z",
     "iopub.status.busy": "2021-10-24T05:53:18.670515Z",
     "iopub.status.idle": "2021-10-24T05:53:18.672732Z",
     "shell.execute_reply": "2021-10-24T05:53:18.673157Z"
    },
    "id": "UzbvgZj4DRoH"
   },
   "outputs": [],
   "source": [
    "from sklearn.linear_model import LogisticRegression"
   ]
  },
  {
   "cell_type": "code",
   "execution_count": null,
   "metadata": {
    "execution": {
     "iopub.execute_input": "2021-10-24T05:53:18.677459Z",
     "iopub.status.busy": "2021-10-24T05:53:18.675381Z",
     "iopub.status.idle": "2021-10-24T05:53:21.055190Z",
     "shell.execute_reply": "2021-10-24T05:53:21.056546Z"
    },
    "id": "xKw50hLwDRoH",
    "outputId": "58ff9b43-74fb-48f4-91f2-2853bad14176"
   },
   "outputs": [],
   "source": [
    "log_reg = LogisticRegression(multi_class=\"ovr\", solver=\"lbfgs\", max_iter=5000, random_state=42)\n",
    "log_reg.fit(X_train, y_train)"
   ]
  },
  {
   "cell_type": "code",
   "execution_count": null,
   "metadata": {
    "execution": {
     "iopub.execute_input": "2021-10-24T05:53:21.063279Z",
     "iopub.status.busy": "2021-10-24T05:53:21.061356Z",
     "iopub.status.idle": "2021-10-24T05:53:21.075198Z",
     "shell.execute_reply": "2021-10-24T05:53:21.076439Z"
    },
    "id": "b3cCO_xNDRoH",
    "outputId": "260de0ff-b2c4-4822-f8ad-d11f20588bcb"
   },
   "outputs": [],
   "source": [
    "log_reg_score = log_reg.score(X_test, y_test)\n",
    "log_reg_score"
   ]
  },
  {
   "cell_type": "markdown",
   "metadata": {
    "id": "Bg533_J-DRoI"
   },
   "source": [
    "좋습니다. 기본 모델의 정확도는 96.89%입니다. 이제 K-평균을 전처리 단계로 사용해 더 향상할 수 있는지 알아 보죠. 훈련 세트를 50개의 클러스터로 만들고 이미지를 이 클러스터까지 거리로 바꾼 다음 로지스틱 회귀 모델을 적용하는 파이프라인을 만듭니다:"
   ]
  },
  {
   "cell_type": "code",
   "execution_count": null,
   "metadata": {
    "execution": {
     "iopub.execute_input": "2021-10-24T05:53:21.082948Z",
     "iopub.status.busy": "2021-10-24T05:53:21.081104Z",
     "iopub.status.idle": "2021-10-24T05:53:21.090947Z",
     "shell.execute_reply": "2021-10-24T05:53:21.092448Z"
    },
    "id": "VqkJYSK5DRoI"
   },
   "outputs": [],
   "source": [
    "from sklearn.pipeline import Pipeline"
   ]
  },
  {
   "cell_type": "code",
   "execution_count": null,
   "metadata": {
    "execution": {
     "iopub.execute_input": "2021-10-24T05:53:21.099064Z",
     "iopub.status.busy": "2021-10-24T05:53:21.096885Z",
     "iopub.status.idle": "2021-10-24T05:53:32.478278Z",
     "shell.execute_reply": "2021-10-24T05:53:32.479548Z"
    },
    "id": "T8U0_5B2DRoI",
    "outputId": "e0398633-f4df-4a3e-d703-7508d18afb37"
   },
   "outputs": [],
   "source": [
    "pipeline = Pipeline([\n",
    "    (\"kmeans\", KMeans(n_clusters=50, random_state=42)),\n",
    "    (\"log_reg\", LogisticRegression(multi_class=\"ovr\", solver=\"lbfgs\", max_iter=5000, random_state=42)),\n",
    "])\n",
    "pipeline.fit(X_train, y_train)"
   ]
  },
  {
   "cell_type": "code",
   "execution_count": null,
   "metadata": {
    "execution": {
     "iopub.execute_input": "2021-10-24T05:53:32.485548Z",
     "iopub.status.busy": "2021-10-24T05:53:32.483749Z",
     "iopub.status.idle": "2021-10-24T05:53:32.497752Z",
     "shell.execute_reply": "2021-10-24T05:53:32.499107Z"
    },
    "id": "WF6wWEVLDRoI",
    "outputId": "d6f95346-9a51-4c53-a540-373c7021d9e8"
   },
   "outputs": [],
   "source": [
    "pipeline_score = pipeline.score(X_test, y_test)\n",
    "pipeline_score"
   ]
  },
  {
   "cell_type": "markdown",
   "metadata": {
    "id": "g8Qi0WKSDRoI"
   },
   "source": [
    "얼마나 오차가 감소했나요?"
   ]
  },
  {
   "cell_type": "code",
   "execution_count": null,
   "metadata": {
    "execution": {
     "iopub.execute_input": "2021-10-24T05:53:32.505207Z",
     "iopub.status.busy": "2021-10-24T05:53:32.503406Z",
     "iopub.status.idle": "2021-10-24T05:53:32.515188Z",
     "shell.execute_reply": "2021-10-24T05:53:32.516407Z"
    },
    "id": "n8DR_2GSDRoI",
    "outputId": "bd1ae2c2-b40c-4b2c-d23e-33505a469c7b",
    "scrolled": true
   },
   "outputs": [],
   "source": [
    "1 - (1 - pipeline_score) / (1 - log_reg_score)"
   ]
  },
  {
   "cell_type": "markdown",
   "metadata": {
    "id": "b_efAhZuDRoI"
   },
   "source": [
    "어떤가요? 오차율을 35%나 줄였습니다! 하지만 클러스터 개수 $k$를 임의로 결정했습니다. 이 보다 더 나은 방법이 있겠죠. K-평균을 분류 파이프라인에서 전처리 단계로 사용했기 때문에 좋은 $k$ 값을 찾는 것은 이전보다 더 쉽습니다. 실루엣 분석을 수행하거나 이너셔를 최소화할 필요가 없습니다. 가장 좋은 $k$ 값은 가장 좋은 분류 성능을 내는 것입니다."
   ]
  },
  {
   "cell_type": "code",
   "execution_count": null,
   "metadata": {
    "execution": {
     "iopub.execute_input": "2021-10-24T05:53:32.522423Z",
     "iopub.status.busy": "2021-10-24T05:53:32.520651Z",
     "iopub.status.idle": "2021-10-24T05:53:32.527277Z",
     "shell.execute_reply": "2021-10-24T05:53:32.528465Z"
    },
    "id": "yCb6cDKVDRoJ"
   },
   "outputs": [],
   "source": [
    "from sklearn.model_selection import GridSearchCV"
   ]
  },
  {
   "cell_type": "markdown",
   "metadata": {
    "id": "wXGc5VWVDRoJ"
   },
   "source": [
    "**경고**: 사용하는 하드웨어에 따라 다음 셀을 실행하는데 20분 또는 그 이상 걸릴 수 있습니다."
   ]
  },
  {
   "cell_type": "code",
   "execution_count": null,
   "metadata": {
    "execution": {
     "iopub.execute_input": "2021-10-24T05:53:32.534386Z",
     "iopub.status.busy": "2021-10-24T05:53:32.532610Z",
     "iopub.status.idle": "2021-10-24T06:26:00.585824Z",
     "shell.execute_reply": "2021-10-24T06:26:00.587480Z"
    },
    "id": "Mra8yx-7DRoJ",
    "outputId": "7357a07b-0262-4de3-bba5-d98fcec6c3a9"
   },
   "outputs": [],
   "source": [
    "param_grid = dict(kmeans__n_clusters=range(2, 100))\n",
    "grid_clf = GridSearchCV(pipeline, param_grid, cv=3, verbose=2)\n",
    "grid_clf.fit(X_train, y_train)"
   ]
  },
  {
   "cell_type": "markdown",
   "metadata": {
    "id": "SdUN_S5WDRoJ"
   },
   "source": [
    "최고의 클러스터 개수를 확인해 보죠:"
   ]
  },
  {
   "cell_type": "code",
   "execution_count": null,
   "metadata": {
    "execution": {
     "iopub.execute_input": "2021-10-24T06:26:00.595038Z",
     "iopub.status.busy": "2021-10-24T06:26:00.592957Z",
     "iopub.status.idle": "2021-10-24T06:26:00.606387Z",
     "shell.execute_reply": "2021-10-24T06:26:00.607801Z"
    },
    "id": "9UQHQ3ZODRoJ",
    "outputId": "9a57b751-c085-49b6-e76f-bfde2c527f91"
   },
   "outputs": [],
   "source": [
    "grid_clf.best_params_"
   ]
  },
  {
   "cell_type": "code",
   "execution_count": null,
   "metadata": {
    "execution": {
     "iopub.execute_input": "2021-10-24T06:26:00.614411Z",
     "iopub.status.busy": "2021-10-24T06:26:00.612429Z",
     "iopub.status.idle": "2021-10-24T06:26:00.628425Z",
     "shell.execute_reply": "2021-10-24T06:26:00.629669Z"
    },
    "id": "bitUjGYtDRoJ",
    "outputId": "596f6c09-c88c-44e4-fa28-3c2a952dd006",
    "scrolled": false
   },
   "outputs": [],
   "source": [
    "grid_clf.score(X_test, y_test)"
   ]
  },
  {
   "cell_type": "markdown",
   "metadata": {
    "id": "NvpjoZDXDRoJ"
   },
   "source": [
    "## 군집을 사용한 준지도 학습"
   ]
  },
  {
   "cell_type": "markdown",
   "metadata": {
    "id": "Q3lj6pOmDRoJ"
   },
   "source": [
    "군집의 또 다른 사용처는 레이블이 없는 샘플이 많고 레이블이 있는 샘플이 적을 때 사용하는 준지도 학습입니다."
   ]
  },
  {
   "cell_type": "markdown",
   "metadata": {
    "id": "73h2VNgkDRoJ"
   },
   "source": [
    "레이블을 가진 샘플이 50개만 있을 때 로지스틱 회귀 모델의 성능을 확인해 보죠:"
   ]
  },
  {
   "cell_type": "code",
   "execution_count": null,
   "metadata": {
    "execution": {
     "iopub.execute_input": "2021-10-24T06:26:00.636500Z",
     "iopub.status.busy": "2021-10-24T06:26:00.634639Z",
     "iopub.status.idle": "2021-10-24T06:26:00.641281Z",
     "shell.execute_reply": "2021-10-24T06:26:00.642472Z"
    },
    "id": "8auX2h11DRoK"
   },
   "outputs": [],
   "source": [
    "n_labeled = 50"
   ]
  },
  {
   "cell_type": "code",
   "execution_count": null,
   "metadata": {
    "execution": {
     "iopub.execute_input": "2021-10-24T06:26:00.649126Z",
     "iopub.status.busy": "2021-10-24T06:26:00.646669Z",
     "iopub.status.idle": "2021-10-24T06:26:00.821959Z",
     "shell.execute_reply": "2021-10-24T06:26:00.823345Z"
    },
    "id": "Qd8dBzexDRoK",
    "outputId": "37e972b8-0f22-4ad8-836c-62ad0dc3c6ef"
   },
   "outputs": [],
   "source": [
    "log_reg = LogisticRegression(multi_class=\"ovr\", solver=\"lbfgs\", random_state=42)\n",
    "log_reg.fit(X_train[:n_labeled], y_train[:n_labeled])\n",
    "log_reg.score(X_test, y_test)"
   ]
  },
  {
   "cell_type": "markdown",
   "metadata": {
    "id": "TdUCcWd7DRoK"
   },
   "source": [
    "당연히 이전보다 훨씬 낮네요. 어떻게 더 향상할 수 있는지 알아 보겠습니다. 먼저 훈련 세트를 클러스터 50개로 군집합니다. 그다음 각 클러스터에서 센트로이드에 가장 가까운 이미지를 찾습니다. 이 이미지를 대표 이미지라고 부르겠습니다:"
   ]
  },
  {
   "cell_type": "code",
   "execution_count": null,
   "metadata": {
    "execution": {
     "iopub.execute_input": "2021-10-24T06:26:00.829739Z",
     "iopub.status.busy": "2021-10-24T06:26:00.827920Z",
     "iopub.status.idle": "2021-10-24T06:26:00.834668Z",
     "shell.execute_reply": "2021-10-24T06:26:00.835869Z"
    },
    "id": "Ae_Mrc62DRoK"
   },
   "outputs": [],
   "source": [
    "k = 50"
   ]
  },
  {
   "cell_type": "code",
   "execution_count": null,
   "metadata": {
    "execution": {
     "iopub.execute_input": "2021-10-24T06:26:00.841737Z",
     "iopub.status.busy": "2021-10-24T06:26:00.839955Z",
     "iopub.status.idle": "2021-10-24T06:26:02.897474Z",
     "shell.execute_reply": "2021-10-24T06:26:02.897918Z"
    },
    "id": "UZkoHL_BDRoK"
   },
   "outputs": [],
   "source": [
    "kmeans = KMeans(n_clusters=k, random_state=42)\n",
    "X_digits_dist = kmeans.fit_transform(X_train)\n",
    "representative_digit_idx = np.argmin(X_digits_dist, axis=0)\n",
    "X_representative_digits = X_train[representative_digit_idx]"
   ]
  },
  {
   "cell_type": "markdown",
   "metadata": {
    "id": "1NokWddgDRoK"
   },
   "source": [
    "대표 이미지를 출력하고 수동으로 레이블을 매겨 보겠습니다:"
   ]
  },
  {
   "cell_type": "code",
   "execution_count": null,
   "metadata": {
    "execution": {
     "iopub.execute_input": "2021-10-24T06:26:02.913308Z",
     "iopub.status.busy": "2021-10-24T06:26:02.901583Z",
     "iopub.status.idle": "2021-10-24T06:26:04.838050Z",
     "shell.execute_reply": "2021-10-24T06:26:04.838450Z"
    },
    "id": "S72VQTXSDRoK",
    "outputId": "451fab90-5eea-4708-eb22-3de7772311d9"
   },
   "outputs": [],
   "source": [
    "plt.figure(figsize=(8, 2))\n",
    "for index, X_representative_digit in enumerate(X_representative_digits):\n",
    "    plt.subplot(k // 10, 10, index + 1)\n",
    "    plt.imshow(X_representative_digit.reshape(8, 8), cmap=\"binary\", interpolation=\"bilinear\")\n",
    "    plt.axis('off')\n",
    "\n",
    "save_fig(\"representative_images_diagram\", tight_layout=False)\n",
    "plt.show()"
   ]
  },
  {
   "cell_type": "code",
   "execution_count": null,
   "metadata": {
    "execution": {
     "iopub.execute_input": "2021-10-24T06:26:04.843544Z",
     "iopub.status.busy": "2021-10-24T06:26:04.842893Z",
     "iopub.status.idle": "2021-10-24T06:26:04.848633Z",
     "shell.execute_reply": "2021-10-24T06:26:04.848135Z"
    },
    "id": "rYuOS06ADRoK",
    "outputId": "9421600e-9943-48d5-ede6-59620f659368"
   },
   "outputs": [],
   "source": [
    "y_train[representative_digit_idx]"
   ]
  },
  {
   "cell_type": "code",
   "execution_count": null,
   "metadata": {
    "execution": {
     "iopub.execute_input": "2021-10-24T06:26:04.854306Z",
     "iopub.status.busy": "2021-10-24T06:26:04.853706Z",
     "iopub.status.idle": "2021-10-24T06:26:04.856114Z",
     "shell.execute_reply": "2021-10-24T06:26:04.856552Z"
    },
    "id": "-aRkRAZQDRoK"
   },
   "outputs": [],
   "source": [
    "y_representative_digits = np.array([\n",
    "    0, 1, 3, 2, 7, 6, 4, 6, 9, 5,\n",
    "    1, 2, 9, 5, 2, 7, 8, 1, 8, 6,\n",
    "    3, 1, 5, 4, 5, 4, 0, 3, 2, 6,\n",
    "    1, 7, 7, 9, 1, 8, 6, 5, 4, 8,\n",
    "    5, 3, 3, 6, 7, 9, 7, 8, 4, 9])"
   ]
  },
  {
   "cell_type": "markdown",
   "metadata": {
    "id": "mwljDbMdDRoK"
   },
   "source": [
    "이 데이터셋은 레이블이 있는 샘플이 50개뿐이지만 완전히 랜덤한 샘플이 아니라 각 샘플은 클러스터의 대표 이미지입니다. 성능이 더 나은지 확인해 보죠:"
   ]
  },
  {
   "cell_type": "code",
   "execution_count": null,
   "metadata": {
    "execution": {
     "iopub.execute_input": "2021-10-24T06:26:04.876177Z",
     "iopub.status.busy": "2021-10-24T06:26:04.873232Z",
     "iopub.status.idle": "2021-10-24T06:26:05.163901Z",
     "shell.execute_reply": "2021-10-24T06:26:05.164823Z"
    },
    "id": "2V8bC6dtDRoL",
    "outputId": "bedbe927-6830-471d-8a73-40a38f1ac24b"
   },
   "outputs": [],
   "source": [
    "log_reg = LogisticRegression(multi_class=\"ovr\", solver=\"lbfgs\", max_iter=5000, random_state=42)\n",
    "log_reg.fit(X_representative_digits, y_representative_digits)\n",
    "log_reg.score(X_test, y_test)"
   ]
  },
  {
   "cell_type": "markdown",
   "metadata": {
    "id": "_g9gbgERDRoL"
   },
   "source": [
    "와우! 83.3%에서 91.3%로 확 올랐네요. 여전히 50개의 샘플로만 모델을 훈련했습니다. 샘플에 레이블을 다는 것은 비용이 많이 들고 어려운 작업입니다. 특히 전문가가 수동으로 작업할 때 그렇습니다. 이 때 랜덤한 샘플보다는 대표 샘플에 레이블을 다는 것이 좋은 생각입니다."
   ]
  },
  {
   "cell_type": "markdown",
   "metadata": {
    "id": "n2XHVew_DRoL"
   },
   "source": [
    "하지만 더 향상시킬 수 있습니다. 이 레이블을 같은 클러스터에 있는 다른 모든 샘플에 전파하면 어떨까요?"
   ]
  },
  {
   "cell_type": "code",
   "execution_count": null,
   "metadata": {
    "execution": {
     "iopub.execute_input": "2021-10-24T06:26:05.173706Z",
     "iopub.status.busy": "2021-10-24T06:26:05.172640Z",
     "iopub.status.idle": "2021-10-24T06:26:05.177690Z",
     "shell.execute_reply": "2021-10-24T06:26:05.178410Z"
    },
    "id": "f3R5DARKDRoL"
   },
   "outputs": [],
   "source": [
    "y_train_propagated = np.empty(len(X_train), dtype=np.int32)\n",
    "for i in range(k):\n",
    "    y_train_propagated[kmeans.labels_==i] = y_representative_digits[i]"
   ]
  },
  {
   "cell_type": "code",
   "execution_count": null,
   "metadata": {
    "execution": {
     "iopub.execute_input": "2021-10-24T06:26:05.186150Z",
     "iopub.status.busy": "2021-10-24T06:26:05.185094Z",
     "iopub.status.idle": "2021-10-24T06:26:09.644495Z",
     "shell.execute_reply": "2021-10-24T06:26:09.645815Z"
    },
    "id": "CGrOu3ezDRoL",
    "outputId": "c4503470-0160-46db-e357-2f5c2d07faa9"
   },
   "outputs": [],
   "source": [
    "log_reg = LogisticRegression(multi_class=\"ovr\", solver=\"lbfgs\", max_iter=5000, random_state=42)\n",
    "log_reg.fit(X_train, y_train_propagated)"
   ]
  },
  {
   "cell_type": "code",
   "execution_count": null,
   "metadata": {
    "execution": {
     "iopub.execute_input": "2021-10-24T06:26:09.652071Z",
     "iopub.status.busy": "2021-10-24T06:26:09.650170Z",
     "iopub.status.idle": "2021-10-24T06:26:09.663583Z",
     "shell.execute_reply": "2021-10-24T06:26:09.664841Z"
    },
    "id": "aTyOap7ODRoL",
    "outputId": "d2dfcea7-db1e-46d9-b271-393f1e68e553"
   },
   "outputs": [],
   "source": [
    "log_reg.score(X_test, y_test)"
   ]
  },
  {
   "cell_type": "markdown",
   "metadata": {
    "id": "igwOkk_9DRoL"
   },
   "source": [
    "아주 조금 정확도를 높였습니다. 없는 것보다는 낫지만 센트로이드에 가까운 샘플에만 레이블을 전파하는 것이 나을지 모릅니다. 왜냐하면 전체 클러스터에 전파하면 일부 이상치를 포함하기 때문입니다. 레이블을 센트로이드에 가까운 75번째 백분위수까지만 전파해보죠:"
   ]
  },
  {
   "cell_type": "code",
   "execution_count": null,
   "metadata": {
    "execution": {
     "iopub.execute_input": "2021-10-24T06:26:09.671230Z",
     "iopub.status.busy": "2021-10-24T06:26:09.669351Z",
     "iopub.status.idle": "2021-10-24T06:26:09.689351Z",
     "shell.execute_reply": "2021-10-24T06:26:09.690685Z"
    },
    "id": "RQbmKjKRDRoL"
   },
   "outputs": [],
   "source": [
    "percentile_closest = 75\n",
    "\n",
    "X_cluster_dist = X_digits_dist[np.arange(len(X_train)), kmeans.labels_]\n",
    "for i in range(k):\n",
    "    in_cluster = (kmeans.labels_ == i)\n",
    "    cluster_dist = X_cluster_dist[in_cluster]\n",
    "    cutoff_distance = np.percentile(cluster_dist, percentile_closest)\n",
    "    above_cutoff = (X_cluster_dist > cutoff_distance)\n",
    "    X_cluster_dist[in_cluster & above_cutoff] = -1"
   ]
  },
  {
   "cell_type": "code",
   "execution_count": null,
   "metadata": {
    "execution": {
     "iopub.execute_input": "2021-10-24T06:26:09.697126Z",
     "iopub.status.busy": "2021-10-24T06:26:09.695202Z",
     "iopub.status.idle": "2021-10-24T06:26:09.703158Z",
     "shell.execute_reply": "2021-10-24T06:26:09.704401Z"
    },
    "id": "m5f5QHC8DRoL"
   },
   "outputs": [],
   "source": [
    "partially_propagated = (X_cluster_dist != -1)\n",
    "X_train_partially_propagated = X_train[partially_propagated]\n",
    "y_train_partially_propagated = y_train_propagated[partially_propagated]"
   ]
  },
  {
   "cell_type": "code",
   "execution_count": null,
   "metadata": {
    "execution": {
     "iopub.execute_input": "2021-10-24T06:26:09.710452Z",
     "iopub.status.busy": "2021-10-24T06:26:09.708615Z",
     "iopub.status.idle": "2021-10-24T06:26:13.561468Z",
     "shell.execute_reply": "2021-10-24T06:26:13.562763Z"
    },
    "id": "vTrW_uZpDRoM",
    "outputId": "571e9bad-a3bb-4a24-d6f4-1b42b0ff4a71"
   },
   "outputs": [],
   "source": [
    "log_reg = LogisticRegression(multi_class=\"ovr\", solver=\"lbfgs\", max_iter=5000, random_state=42)\n",
    "log_reg.fit(X_train_partially_propagated, y_train_partially_propagated)"
   ]
  },
  {
   "cell_type": "code",
   "execution_count": null,
   "metadata": {
    "execution": {
     "iopub.execute_input": "2021-10-24T06:26:13.569081Z",
     "iopub.status.busy": "2021-10-24T06:26:13.567184Z",
     "iopub.status.idle": "2021-10-24T06:26:13.580172Z",
     "shell.execute_reply": "2021-10-24T06:26:13.581384Z"
    },
    "id": "5kdGrnnODRoM",
    "outputId": "1973907e-3683-45c4-8dd9-21f01bc54676"
   },
   "outputs": [],
   "source": [
    "log_reg.score(X_test, y_test)"
   ]
  },
  {
   "cell_type": "markdown",
   "metadata": {
    "id": "W1Pc0p0lDRoM"
   },
   "source": [
    "조금 더 낫네요. 레이블된 샘플 50개(클래스당 평균 5개 샘플!)만 가지고 92.7% 성능을 달성했습니다. 레이블된 전체 숫자 데이터셋에서 훈련한 로지스틱 회귀의 성능(96.9%)과 매우 비슷합니다."
   ]
  },
  {
   "cell_type": "markdown",
   "metadata": {
    "id": "8equ0b6YDRoM"
   },
   "source": [
    "이는 전파된 레이블이 실제로 매우 좋기 때문입니다. 이 정확도는 96%에 가깝습니다:"
   ]
  },
  {
   "cell_type": "code",
   "execution_count": null,
   "metadata": {
    "execution": {
     "iopub.execute_input": "2021-10-24T06:26:13.587735Z",
     "iopub.status.busy": "2021-10-24T06:26:13.585887Z",
     "iopub.status.idle": "2021-10-24T06:26:13.597746Z",
     "shell.execute_reply": "2021-10-24T06:26:13.598945Z"
    },
    "id": "970Xsy47DRoM",
    "outputId": "fe25ae73-8847-48b9-bd71-ef813e162928"
   },
   "outputs": [],
   "source": [
    "np.mean(y_train_partially_propagated == y_train[partially_propagated])"
   ]
  },
  {
   "cell_type": "markdown",
   "metadata": {
    "id": "aOAeuL-nDRoM"
   },
   "source": [
    "*능동 학습*을 여러 번 반복할 수 있습니다:\n",
    "1. 분류기의 확신이 부족한 샘플에 수동으로 레이블을 부여합니다. 가능하면 다른 클러스터에서 샘플을 선택합니다.\n",
    "2. 추가된 레이블을 사용해 새로운 모델을 훈련합니다."
   ]
  },
  {
   "cell_type": "markdown",
   "metadata": {
    "id": "8aH83lIbDRoM"
   },
   "source": [
    "## DBSCAN"
   ]
  },
  {
   "cell_type": "code",
   "execution_count": null,
   "metadata": {
    "execution": {
     "iopub.execute_input": "2021-10-24T06:26:13.605381Z",
     "iopub.status.busy": "2021-10-24T06:26:13.603541Z",
     "iopub.status.idle": "2021-10-24T06:26:13.610435Z",
     "shell.execute_reply": "2021-10-24T06:26:13.611683Z"
    },
    "id": "0k6sAJXxDRoM"
   },
   "outputs": [],
   "source": [
    "from sklearn.datasets import make_moons"
   ]
  },
  {
   "cell_type": "code",
   "execution_count": null,
   "metadata": {
    "execution": {
     "iopub.execute_input": "2021-10-24T06:26:13.617857Z",
     "iopub.status.busy": "2021-10-24T06:26:13.616022Z",
     "iopub.status.idle": "2021-10-24T06:26:13.625174Z",
     "shell.execute_reply": "2021-10-24T06:26:13.626438Z"
    },
    "id": "SRht0NLLDRoN"
   },
   "outputs": [],
   "source": [
    "X, y = make_moons(n_samples=1000, noise=0.05, random_state=42)"
   ]
  },
  {
   "cell_type": "code",
   "execution_count": null,
   "metadata": {
    "execution": {
     "iopub.execute_input": "2021-10-24T06:26:13.632617Z",
     "iopub.status.busy": "2021-10-24T06:26:13.630751Z",
     "iopub.status.idle": "2021-10-24T06:26:13.637624Z",
     "shell.execute_reply": "2021-10-24T06:26:13.638837Z"
    },
    "id": "s4S955nPDRoN"
   },
   "outputs": [],
   "source": [
    "from sklearn.cluster import DBSCAN"
   ]
  },
  {
   "cell_type": "code",
   "execution_count": null,
   "metadata": {
    "execution": {
     "iopub.execute_input": "2021-10-24T06:26:13.644903Z",
     "iopub.status.busy": "2021-10-24T06:26:13.643022Z",
     "iopub.status.idle": "2021-10-24T06:26:13.667245Z",
     "shell.execute_reply": "2021-10-24T06:26:13.668594Z"
    },
    "id": "J6cJAhw1DRoN",
    "outputId": "6c7bf999-795c-4b1a-874f-61724bf05a0c"
   },
   "outputs": [],
   "source": [
    "dbscan = DBSCAN(eps=0.05, min_samples=5)\n",
    "dbscan.fit(X)"
   ]
  },
  {
   "cell_type": "code",
   "execution_count": null,
   "metadata": {
    "execution": {
     "iopub.execute_input": "2021-10-24T06:26:13.674763Z",
     "iopub.status.busy": "2021-10-24T06:26:13.672899Z",
     "iopub.status.idle": "2021-10-24T06:26:13.684659Z",
     "shell.execute_reply": "2021-10-24T06:26:13.685889Z"
    },
    "id": "3v717Tc7DRoN",
    "outputId": "381637ab-3a97-47bc-ccd5-1f3af6f2c9b1"
   },
   "outputs": [],
   "source": [
    "dbscan.labels_[:10]"
   ]
  },
  {
   "cell_type": "code",
   "execution_count": null,
   "metadata": {
    "execution": {
     "iopub.execute_input": "2021-10-24T06:26:13.691958Z",
     "iopub.status.busy": "2021-10-24T06:26:13.690118Z",
     "iopub.status.idle": "2021-10-24T06:26:13.698828Z",
     "shell.execute_reply": "2021-10-24T06:26:13.698300Z"
    },
    "id": "rhatMyCSDRoN",
    "outputId": "25750a8b-24db-41f8-9da5-2d3801dba519"
   },
   "outputs": [],
   "source": [
    "len(dbscan.core_sample_indices_)"
   ]
  },
  {
   "cell_type": "code",
   "execution_count": null,
   "metadata": {
    "execution": {
     "iopub.execute_input": "2021-10-24T06:26:13.704801Z",
     "iopub.status.busy": "2021-10-24T06:26:13.703758Z",
     "iopub.status.idle": "2021-10-24T06:26:13.707428Z",
     "shell.execute_reply": "2021-10-24T06:26:13.706902Z"
    },
    "id": "hXJ_wwHvDRoN",
    "outputId": "4861e9af-903e-4dc8-f024-1cd31fd50ced"
   },
   "outputs": [],
   "source": [
    "dbscan.core_sample_indices_[:10]"
   ]
  },
  {
   "cell_type": "code",
   "execution_count": null,
   "metadata": {
    "execution": {
     "iopub.execute_input": "2021-10-24T06:26:13.712801Z",
     "iopub.status.busy": "2021-10-24T06:26:13.712182Z",
     "iopub.status.idle": "2021-10-24T06:26:13.715233Z",
     "shell.execute_reply": "2021-10-24T06:26:13.715669Z"
    },
    "id": "D5cJGTCvDRoN",
    "outputId": "ffa1e275-be38-4584-8b07-cf1f98ad703a"
   },
   "outputs": [],
   "source": [
    "dbscan.components_[:3]"
   ]
  },
  {
   "cell_type": "code",
   "execution_count": null,
   "metadata": {
    "execution": {
     "iopub.execute_input": "2021-10-24T06:26:13.720089Z",
     "iopub.status.busy": "2021-10-24T06:26:13.719007Z",
     "iopub.status.idle": "2021-10-24T06:26:13.723314Z",
     "shell.execute_reply": "2021-10-24T06:26:13.722798Z"
    },
    "id": "TEq332hQDRoN",
    "outputId": "1270c951-cf3e-40e1-ef3f-5410a677ab5d"
   },
   "outputs": [],
   "source": [
    "np.unique(dbscan.labels_)"
   ]
  },
  {
   "cell_type": "code",
   "execution_count": null,
   "metadata": {
    "execution": {
     "iopub.execute_input": "2021-10-24T06:26:13.728187Z",
     "iopub.status.busy": "2021-10-24T06:26:13.727608Z",
     "iopub.status.idle": "2021-10-24T06:26:13.736848Z",
     "shell.execute_reply": "2021-10-24T06:26:13.737292Z"
    },
    "id": "kBVqOVYCDRoN",
    "outputId": "bc7d1bf4-0881-4f81-b267-1e7cbce52084"
   },
   "outputs": [],
   "source": [
    "dbscan2 = DBSCAN(eps=0.2)\n",
    "dbscan2.fit(X)"
   ]
  },
  {
   "cell_type": "code",
   "execution_count": null,
   "metadata": {
    "execution": {
     "iopub.execute_input": "2021-10-24T06:26:13.746857Z",
     "iopub.status.busy": "2021-10-24T06:26:13.745512Z",
     "iopub.status.idle": "2021-10-24T06:26:13.747560Z",
     "shell.execute_reply": "2021-10-24T06:26:13.747989Z"
    },
    "id": "RLOprVMpDRoO"
   },
   "outputs": [],
   "source": [
    "def plot_dbscan(dbscan, X, size, show_xlabels=True, show_ylabels=True):\n",
    "    core_mask = np.zeros_like(dbscan.labels_, dtype=bool)\n",
    "    core_mask[dbscan.core_sample_indices_] = True\n",
    "    anomalies_mask = dbscan.labels_ == -1\n",
    "    non_core_mask = ~(core_mask | anomalies_mask)\n",
    "\n",
    "    cores = dbscan.components_\n",
    "    anomalies = X[anomalies_mask]\n",
    "    non_cores = X[non_core_mask]\n",
    "    \n",
    "    plt.scatter(cores[:, 0], cores[:, 1],\n",
    "                c=dbscan.labels_[core_mask], marker='o', s=size, cmap=\"Paired\")\n",
    "    plt.scatter(cores[:, 0], cores[:, 1], marker='*', s=20, c=dbscan.labels_[core_mask])\n",
    "    plt.scatter(anomalies[:, 0], anomalies[:, 1],\n",
    "                c=\"r\", marker=\"x\", s=100)\n",
    "    plt.scatter(non_cores[:, 0], non_cores[:, 1], c=dbscan.labels_[non_core_mask], marker=\".\")\n",
    "    if show_xlabels:\n",
    "        plt.xlabel(\"$x_1$\", fontsize=14)\n",
    "    else:\n",
    "        plt.tick_params(labelbottom=False)\n",
    "    if show_ylabels:\n",
    "        plt.ylabel(\"$x_2$\", fontsize=14, rotation=0)\n",
    "    else:\n",
    "        plt.tick_params(labelleft=False)\n",
    "    plt.title(\"eps={:.2f}, min_samples={}\".format(dbscan.eps, dbscan.min_samples), fontsize=14)"
   ]
  },
  {
   "cell_type": "code",
   "execution_count": null,
   "metadata": {
    "execution": {
     "iopub.execute_input": "2021-10-24T06:26:13.770823Z",
     "iopub.status.busy": "2021-10-24T06:26:13.770161Z",
     "iopub.status.idle": "2021-10-24T06:26:14.589798Z",
     "shell.execute_reply": "2021-10-24T06:26:14.590226Z"
    },
    "id": "q3gV9aeLDRoO",
    "outputId": "7a045e7e-8421-47f7-84dd-f287ac98265f"
   },
   "outputs": [],
   "source": [
    "plt.figure(figsize=(9, 3.2))\n",
    "\n",
    "plt.subplot(121)\n",
    "plot_dbscan(dbscan, X, size=100)\n",
    "\n",
    "plt.subplot(122)\n",
    "plot_dbscan(dbscan2, X, size=600, show_ylabels=False)\n",
    "\n",
    "save_fig(\"dbscan_plot\")\n",
    "plt.show()\n"
   ]
  },
  {
   "cell_type": "code",
   "execution_count": null,
   "metadata": {
    "execution": {
     "iopub.execute_input": "2021-10-24T06:26:14.594281Z",
     "iopub.status.busy": "2021-10-24T06:26:14.593710Z",
     "iopub.status.idle": "2021-10-24T06:26:14.596898Z",
     "shell.execute_reply": "2021-10-24T06:26:14.597282Z"
    },
    "id": "4kLWvBiFDRoO"
   },
   "outputs": [],
   "source": [
    "dbscan = dbscan2"
   ]
  },
  {
   "cell_type": "code",
   "execution_count": null,
   "metadata": {
    "execution": {
     "iopub.execute_input": "2021-10-24T06:26:14.601312Z",
     "iopub.status.busy": "2021-10-24T06:26:14.600689Z",
     "iopub.status.idle": "2021-10-24T06:26:14.602696Z",
     "shell.execute_reply": "2021-10-24T06:26:14.603123Z"
    },
    "id": "Z3FLIQ32DRoO"
   },
   "outputs": [],
   "source": [
    "from sklearn.neighbors import KNeighborsClassifier"
   ]
  },
  {
   "cell_type": "code",
   "execution_count": null,
   "metadata": {
    "execution": {
     "iopub.execute_input": "2021-10-24T06:26:14.607557Z",
     "iopub.status.busy": "2021-10-24T06:26:14.606965Z",
     "iopub.status.idle": "2021-10-24T06:26:14.612095Z",
     "shell.execute_reply": "2021-10-24T06:26:14.611509Z"
    },
    "id": "S2rYq_U5DRoP",
    "outputId": "48766f09-fe8d-4cf8-ad06-72073d50a72d"
   },
   "outputs": [],
   "source": [
    "knn = KNeighborsClassifier(n_neighbors=50)\n",
    "knn.fit(dbscan.components_, dbscan.labels_[dbscan.core_sample_indices_])"
   ]
  },
  {
   "cell_type": "code",
   "execution_count": null,
   "metadata": {
    "execution": {
     "iopub.execute_input": "2021-10-24T06:26:14.614810Z",
     "iopub.status.busy": "2021-10-24T06:26:14.614260Z",
     "iopub.status.idle": "2021-10-24T06:26:14.620480Z",
     "shell.execute_reply": "2021-10-24T06:26:14.619975Z"
    },
    "id": "aMFOsu_HDRoP",
    "outputId": "4e5e34f0-f5b6-49ea-cd17-c50b541e5a4a"
   },
   "outputs": [],
   "source": [
    "X_new = np.array([[-0.5, 0], [0, 0.5], [1, -0.1], [2, 1]])\n",
    "knn.predict(X_new)"
   ]
  },
  {
   "cell_type": "code",
   "execution_count": null,
   "metadata": {
    "execution": {
     "iopub.execute_input": "2021-10-24T06:26:14.624828Z",
     "iopub.status.busy": "2021-10-24T06:26:14.624259Z",
     "iopub.status.idle": "2021-10-24T06:26:14.628514Z",
     "shell.execute_reply": "2021-10-24T06:26:14.628964Z"
    },
    "id": "DMQcUe6YDRoP",
    "outputId": "cec2036b-285a-4dfd-80e0-e1da13cfebf8"
   },
   "outputs": [],
   "source": [
    "knn.predict_proba(X_new)"
   ]
  },
  {
   "cell_type": "code",
   "execution_count": null,
   "metadata": {
    "execution": {
     "iopub.execute_input": "2021-10-24T06:26:14.634467Z",
     "iopub.status.busy": "2021-10-24T06:26:14.633871Z",
     "iopub.status.idle": "2021-10-24T06:26:46.304580Z",
     "shell.execute_reply": "2021-10-24T06:26:46.304042Z"
    },
    "id": "z1ar9sjdDRoP",
    "outputId": "acb21021-e4e3-4d68-aebc-ac0e35d4e283"
   },
   "outputs": [],
   "source": [
    "plt.figure(figsize=(6, 3))\n",
    "plot_decision_boundaries(knn, X, show_centroids=False)\n",
    "plt.scatter(X_new[:, 0], X_new[:, 1], c=\"b\", marker=\"+\", s=200, zorder=10)\n",
    "save_fig(\"cluster_classification_plot\")\n",
    "plt.show()"
   ]
  },
  {
   "cell_type": "code",
   "execution_count": null,
   "metadata": {
    "execution": {
     "iopub.execute_input": "2021-10-24T06:26:46.311280Z",
     "iopub.status.busy": "2021-10-24T06:26:46.307419Z",
     "iopub.status.idle": "2021-10-24T06:26:46.314777Z",
     "shell.execute_reply": "2021-10-24T06:26:46.315191Z"
    },
    "id": "__KNFR97DRoP",
    "outputId": "917ea6f9-7c89-416f-f84d-de6c818d7b61"
   },
   "outputs": [],
   "source": [
    "y_dist, y_pred_idx = knn.kneighbors(X_new, n_neighbors=1)\n",
    "y_pred = dbscan.labels_[dbscan.core_sample_indices_][y_pred_idx]\n",
    "y_pred[y_dist > 0.2] = -1\n",
    "y_pred.ravel()"
   ]
  },
  {
   "cell_type": "markdown",
   "metadata": {
    "id": "X1y-03BTDRoP"
   },
   "source": [
    "## 다른 군집 알고리즘"
   ]
  },
  {
   "cell_type": "markdown",
   "metadata": {
    "id": "Yy5utEyNDRoP"
   },
   "source": [
    "### 스펙트럼 군집"
   ]
  },
  {
   "cell_type": "code",
   "execution_count": null,
   "metadata": {
    "execution": {
     "iopub.execute_input": "2021-10-24T06:26:46.319650Z",
     "iopub.status.busy": "2021-10-24T06:26:46.318920Z",
     "iopub.status.idle": "2021-10-24T06:26:46.320918Z",
     "shell.execute_reply": "2021-10-24T06:26:46.321347Z"
    },
    "id": "Dy9pP8R0DRoP"
   },
   "outputs": [],
   "source": [
    "from sklearn.cluster import SpectralClustering"
   ]
  },
  {
   "cell_type": "code",
   "execution_count": null,
   "metadata": {
    "execution": {
     "iopub.execute_input": "2021-10-24T06:26:46.326594Z",
     "iopub.status.busy": "2021-10-24T06:26:46.325718Z",
     "iopub.status.idle": "2021-10-24T06:26:46.907547Z",
     "shell.execute_reply": "2021-10-24T06:26:46.906895Z"
    },
    "id": "Lj9WqI5BDRoR",
    "outputId": "e3a3a1ae-7be8-4c02-84b3-50f3bb5b1975",
    "scrolled": true
   },
   "outputs": [],
   "source": [
    "sc1 = SpectralClustering(n_clusters=2, gamma=100, random_state=42)\n",
    "sc1.fit(X)"
   ]
  },
  {
   "cell_type": "code",
   "execution_count": null,
   "metadata": {
    "execution": {
     "iopub.execute_input": "2021-10-24T06:26:46.912704Z",
     "iopub.status.busy": "2021-10-24T06:26:46.911808Z",
     "iopub.status.idle": "2021-10-24T06:26:47.244114Z",
     "shell.execute_reply": "2021-10-24T06:26:47.244627Z"
    },
    "id": "IK3Zv50BDRoS",
    "outputId": "5abf5d63-196c-4f15-ee93-101901b23869"
   },
   "outputs": [],
   "source": [
    "sc2 = SpectralClustering(n_clusters=2, gamma=1, random_state=42)\n",
    "sc2.fit(X)"
   ]
  },
  {
   "cell_type": "code",
   "execution_count": null,
   "metadata": {
    "execution": {
     "iopub.execute_input": "2021-10-24T06:26:47.247891Z",
     "iopub.status.busy": "2021-10-24T06:26:47.247225Z",
     "iopub.status.idle": "2021-10-24T06:26:47.265188Z",
     "shell.execute_reply": "2021-10-24T06:26:47.265614Z"
    },
    "id": "Q-NwNTIBDRoS",
    "outputId": "95872943-b630-41f7-b5e9-de84a2114e41"
   },
   "outputs": [],
   "source": [
    "np.percentile(sc1.affinity_matrix_, 95)"
   ]
  },
  {
   "cell_type": "code",
   "execution_count": null,
   "metadata": {
    "execution": {
     "iopub.execute_input": "2021-10-24T06:26:47.269128Z",
     "iopub.status.busy": "2021-10-24T06:26:47.268527Z",
     "iopub.status.idle": "2021-10-24T06:26:47.274044Z",
     "shell.execute_reply": "2021-10-24T06:26:47.274488Z"
    },
    "id": "c14vz-xADRoS"
   },
   "outputs": [],
   "source": [
    "def plot_spectral_clustering(sc, X, size, alpha, show_xlabels=True, show_ylabels=True):\n",
    "    plt.scatter(X[:, 0], X[:, 1], marker='o', s=size, c='gray', cmap=\"Paired\", alpha=alpha)\n",
    "    plt.scatter(X[:, 0], X[:, 1], marker='o', s=30, c='w')\n",
    "    plt.scatter(X[:, 0], X[:, 1], marker='.', s=10, c=sc.labels_, cmap=\"Paired\")\n",
    "    \n",
    "    if show_xlabels:\n",
    "        plt.xlabel(\"$x_1$\", fontsize=14)\n",
    "    else:\n",
    "        plt.tick_params(labelbottom=False)\n",
    "    if show_ylabels:\n",
    "        plt.ylabel(\"$x_2$\", fontsize=14, rotation=0)\n",
    "    else:\n",
    "        plt.tick_params(labelleft=False)\n",
    "    plt.title(\"RBF gamma={}\".format(sc.gamma), fontsize=14)"
   ]
  },
  {
   "cell_type": "code",
   "execution_count": null,
   "metadata": {
    "execution": {
     "iopub.execute_input": "2021-10-24T06:26:47.277428Z",
     "iopub.status.busy": "2021-10-24T06:26:47.276862Z",
     "iopub.status.idle": "2021-10-24T06:26:47.601235Z",
     "shell.execute_reply": "2021-10-24T06:26:47.601936Z"
    },
    "id": "0aIfIHa1DRoS",
    "outputId": "207c12dc-c1b0-425f-d157-3a14da21bc25"
   },
   "outputs": [],
   "source": [
    "plt.figure(figsize=(9, 3.2))\n",
    "\n",
    "plt.subplot(121)\n",
    "plot_spectral_clustering(sc1, X, size=500, alpha=0.1)\n",
    "\n",
    "plt.subplot(122)\n",
    "plot_spectral_clustering(sc2, X, size=4000, alpha=0.01, show_ylabels=False)\n",
    "\n",
    "plt.show()\n"
   ]
  },
  {
   "cell_type": "markdown",
   "metadata": {
    "id": "yAUMO1reDRoS"
   },
   "source": [
    "### 병합 군집"
   ]
  },
  {
   "cell_type": "code",
   "execution_count": null,
   "metadata": {
    "execution": {
     "iopub.execute_input": "2021-10-24T06:26:47.605298Z",
     "iopub.status.busy": "2021-10-24T06:26:47.604731Z",
     "iopub.status.idle": "2021-10-24T06:26:47.607716Z",
     "shell.execute_reply": "2021-10-24T06:26:47.608150Z"
    },
    "id": "y5WPpEUdDRoS"
   },
   "outputs": [],
   "source": [
    "from sklearn.cluster import AgglomerativeClustering"
   ]
  },
  {
   "cell_type": "code",
   "execution_count": null,
   "metadata": {
    "execution": {
     "iopub.execute_input": "2021-10-24T06:26:47.613174Z",
     "iopub.status.busy": "2021-10-24T06:26:47.612485Z",
     "iopub.status.idle": "2021-10-24T06:26:47.631876Z",
     "shell.execute_reply": "2021-10-24T06:26:47.630916Z"
    },
    "id": "koPgYqYyDRoS"
   },
   "outputs": [],
   "source": [
    "X = np.array([0, 2, 5, 8.5]).reshape(-1, 1)\n",
    "agg = AgglomerativeClustering(linkage=\"complete\").fit(X)"
   ]
  },
  {
   "cell_type": "code",
   "execution_count": null,
   "metadata": {
    "execution": {
     "iopub.execute_input": "2021-10-24T06:26:47.636721Z",
     "iopub.status.busy": "2021-10-24T06:26:47.636136Z",
     "iopub.status.idle": "2021-10-24T06:26:47.637637Z",
     "shell.execute_reply": "2021-10-24T06:26:47.638046Z"
    },
    "id": "8mOkyPSHDRoS"
   },
   "outputs": [],
   "source": [
    "def learned_parameters(estimator):\n",
    "    return [attrib for attrib in dir(estimator)\n",
    "            if attrib.endswith(\"_\") and not attrib.startswith(\"_\")]"
   ]
  },
  {
   "cell_type": "code",
   "execution_count": null,
   "metadata": {
    "execution": {
     "iopub.execute_input": "2021-10-24T06:26:47.642855Z",
     "iopub.status.busy": "2021-10-24T06:26:47.642281Z",
     "iopub.status.idle": "2021-10-24T06:26:47.645378Z",
     "shell.execute_reply": "2021-10-24T06:26:47.644896Z"
    },
    "id": "Y3aHxyh6DRoS",
    "outputId": "7171eeb6-b22c-48cd-b505-a21620e6604f"
   },
   "outputs": [],
   "source": [
    "learned_parameters(agg)"
   ]
  },
  {
   "cell_type": "code",
   "execution_count": null,
   "metadata": {
    "execution": {
     "iopub.execute_input": "2021-10-24T06:26:47.651355Z",
     "iopub.status.busy": "2021-10-24T06:26:47.650739Z",
     "iopub.status.idle": "2021-10-24T06:26:47.653330Z",
     "shell.execute_reply": "2021-10-24T06:26:47.653742Z"
    },
    "id": "4WTD27tfDRoS",
    "outputId": "2f005937-7fbd-4eca-86a4-6b9b095bafc0",
    "scrolled": true
   },
   "outputs": [],
   "source": [
    "agg.children_"
   ]
  },
  {
   "cell_type": "markdown",
   "metadata": {
    "id": "pfAhiUbzDRoT"
   },
   "source": [
    "# 가우시안 혼합"
   ]
  },
  {
   "cell_type": "code",
   "execution_count": null,
   "metadata": {
    "execution": {
     "iopub.execute_input": "2021-10-24T06:26:47.660053Z",
     "iopub.status.busy": "2021-10-24T06:26:47.659040Z",
     "iopub.status.idle": "2021-10-24T06:26:47.662831Z",
     "shell.execute_reply": "2021-10-24T06:26:47.663250Z"
    },
    "id": "HVPsfjmwDRoT"
   },
   "outputs": [],
   "source": [
    "X1, y1 = make_blobs(n_samples=1000, centers=((4, -4), (0, 0)), random_state=42)\n",
    "X1 = X1.dot(np.array([[0.374, 0.95], [0.732, 0.598]]))\n",
    "X2, y2 = make_blobs(n_samples=250, centers=1, random_state=42)\n",
    "X2 = X2 + [6, -8]\n",
    "X = np.r_[X1, X2]\n",
    "y = np.r_[y1, y2]"
   ]
  },
  {
   "cell_type": "markdown",
   "metadata": {
    "id": "5L4sexjiDRoT"
   },
   "source": [
    "이 데이터셋으로 가우시안 혼합 모델을 훈련해 보죠:"
   ]
  },
  {
   "cell_type": "code",
   "execution_count": null,
   "metadata": {
    "execution": {
     "iopub.execute_input": "2021-10-24T06:26:47.667594Z",
     "iopub.status.busy": "2021-10-24T06:26:47.666838Z",
     "iopub.status.idle": "2021-10-24T06:26:47.669149Z",
     "shell.execute_reply": "2021-10-24T06:26:47.669562Z"
    },
    "id": "RqbXr5tZDRoT"
   },
   "outputs": [],
   "source": [
    "from sklearn.mixture import GaussianMixture"
   ]
  },
  {
   "cell_type": "code",
   "execution_count": null,
   "metadata": {
    "execution": {
     "iopub.execute_input": "2021-10-24T06:26:47.679597Z",
     "iopub.status.busy": "2021-10-24T06:26:47.673545Z",
     "iopub.status.idle": "2021-10-24T06:26:48.305717Z",
     "shell.execute_reply": "2021-10-24T06:26:48.305128Z"
    },
    "id": "x5lTq2z-DRoT",
    "outputId": "5484f031-55a2-4077-c8db-d5be85da23d0"
   },
   "outputs": [],
   "source": [
    "gm = GaussianMixture(n_components=3, n_init=10, random_state=42)\n",
    "gm.fit(X)"
   ]
  },
  {
   "cell_type": "markdown",
   "metadata": {
    "id": "t_gkV3dpDRoT"
   },
   "source": [
    "EM 알고리즘이 추정한 파라미터를 확인해 보죠:"
   ]
  },
  {
   "cell_type": "code",
   "execution_count": null,
   "metadata": {
    "execution": {
     "iopub.execute_input": "2021-10-24T06:26:48.311259Z",
     "iopub.status.busy": "2021-10-24T06:26:48.310550Z",
     "iopub.status.idle": "2021-10-24T06:26:48.313763Z",
     "shell.execute_reply": "2021-10-24T06:26:48.314182Z"
    },
    "id": "jD0jMM1FDRoT",
    "outputId": "798acf7e-cddb-4bcc-e4a9-1801c017e22a"
   },
   "outputs": [],
   "source": [
    "gm.weights_"
   ]
  },
  {
   "cell_type": "code",
   "execution_count": null,
   "metadata": {
    "execution": {
     "iopub.execute_input": "2021-10-24T06:26:48.318876Z",
     "iopub.status.busy": "2021-10-24T06:26:48.318314Z",
     "iopub.status.idle": "2021-10-24T06:26:48.323712Z",
     "shell.execute_reply": "2021-10-24T06:26:48.323170Z"
    },
    "id": "McsdGifNDRoT",
    "outputId": "66070d50-759e-4c58-f411-7a4802d23e37"
   },
   "outputs": [],
   "source": [
    "gm.means_"
   ]
  },
  {
   "cell_type": "code",
   "execution_count": null,
   "metadata": {
    "execution": {
     "iopub.execute_input": "2021-10-24T06:26:48.326485Z",
     "iopub.status.busy": "2021-10-24T06:26:48.325906Z",
     "iopub.status.idle": "2021-10-24T06:26:48.330003Z",
     "shell.execute_reply": "2021-10-24T06:26:48.330431Z"
    },
    "id": "LosLKLY0DRoT",
    "outputId": "91afef04-5fea-4b62-a58c-546851214f95"
   },
   "outputs": [],
   "source": [
    "gm.covariances_"
   ]
  },
  {
   "cell_type": "markdown",
   "metadata": {
    "id": "BqlRCC4EDRoT"
   },
   "source": [
    "이 알고리즘이 실제로 수렴했나요?"
   ]
  },
  {
   "cell_type": "code",
   "execution_count": null,
   "metadata": {
    "execution": {
     "iopub.execute_input": "2021-10-24T06:26:48.333379Z",
     "iopub.status.busy": "2021-10-24T06:26:48.332740Z",
     "iopub.status.idle": "2021-10-24T06:26:48.337170Z",
     "shell.execute_reply": "2021-10-24T06:26:48.337584Z"
    },
    "id": "V0qseWjJDRoT",
    "outputId": "a808e18c-83b5-4440-a7ed-0ef446987053"
   },
   "outputs": [],
   "source": [
    "gm.converged_"
   ]
  },
  {
   "cell_type": "markdown",
   "metadata": {
    "id": "GoxhgkYSDRoU"
   },
   "source": [
    "네 좋습니다. 몇 번 반복했나요?"
   ]
  },
  {
   "cell_type": "code",
   "execution_count": null,
   "metadata": {
    "execution": {
     "iopub.execute_input": "2021-10-24T06:26:48.343249Z",
     "iopub.status.busy": "2021-10-24T06:26:48.342304Z",
     "iopub.status.idle": "2021-10-24T06:26:48.345743Z",
     "shell.execute_reply": "2021-10-24T06:26:48.345246Z"
    },
    "id": "iyxnU77JDRoU",
    "outputId": "a1ae9da9-6323-4b03-d79c-1991ad23d3ab"
   },
   "outputs": [],
   "source": [
    "gm.n_iter_"
   ]
  },
  {
   "cell_type": "markdown",
   "metadata": {
    "id": "oLYLjLsEDRoU"
   },
   "source": [
    "이제 이 모델을 사용해 각 샘플이 속한 클러스터(하드 군집)나 클러스터에 속할 확률을 예측할 수 있습니다. 이를 위해 `predict()` 메서드나 `predict_proba()` 메서드를 사용합니다:"
   ]
  },
  {
   "cell_type": "code",
   "execution_count": null,
   "metadata": {
    "execution": {
     "iopub.execute_input": "2021-10-24T06:26:48.350102Z",
     "iopub.status.busy": "2021-10-24T06:26:48.349151Z",
     "iopub.status.idle": "2021-10-24T06:26:48.353109Z",
     "shell.execute_reply": "2021-10-24T06:26:48.353532Z"
    },
    "id": "INdST7VVDRoU",
    "outputId": "5be93ae3-f184-4215-a643-864f73edb20f"
   },
   "outputs": [],
   "source": [
    "gm.predict(X)"
   ]
  },
  {
   "cell_type": "code",
   "execution_count": null,
   "metadata": {
    "execution": {
     "iopub.execute_input": "2021-10-24T06:26:48.357597Z",
     "iopub.status.busy": "2021-10-24T06:26:48.357014Z",
     "iopub.status.idle": "2021-10-24T06:26:48.361501Z",
     "shell.execute_reply": "2021-10-24T06:26:48.361923Z"
    },
    "id": "L9QoqVAYDRoU",
    "outputId": "77007fef-bd31-4ddf-c990-798734d93939"
   },
   "outputs": [],
   "source": [
    "gm.predict_proba(X)"
   ]
  },
  {
   "cell_type": "markdown",
   "metadata": {
    "id": "jwBazDtDDRoU"
   },
   "source": [
    "이 모델은 생성 모델입니다. 따라서 새로운 샘플(과 레이블)을 생성할 수 있습니다:"
   ]
  },
  {
   "cell_type": "code",
   "execution_count": null,
   "metadata": {
    "execution": {
     "iopub.execute_input": "2021-10-24T06:26:48.368849Z",
     "iopub.status.busy": "2021-10-24T06:26:48.367887Z",
     "iopub.status.idle": "2021-10-24T06:26:48.370903Z",
     "shell.execute_reply": "2021-10-24T06:26:48.371328Z"
    },
    "id": "KqD-ZkfuDRoU",
    "outputId": "4352f5fc-4103-44e0-c03e-3fd75a872f41"
   },
   "outputs": [],
   "source": [
    "X_new, y_new = gm.sample(6)\n",
    "X_new"
   ]
  },
  {
   "cell_type": "code",
   "execution_count": null,
   "metadata": {
    "execution": {
     "iopub.execute_input": "2021-10-24T06:26:48.375379Z",
     "iopub.status.busy": "2021-10-24T06:26:48.374671Z",
     "iopub.status.idle": "2021-10-24T06:26:48.377444Z",
     "shell.execute_reply": "2021-10-24T06:26:48.377859Z"
    },
    "id": "9Vg9rPX3DRoU",
    "outputId": "513631af-3ed7-4c5f-f815-b0ed9dc1234a"
   },
   "outputs": [],
   "source": [
    "y_new"
   ]
  },
  {
   "cell_type": "markdown",
   "metadata": {
    "id": "urh2f4GdDRoU"
   },
   "source": [
    "각 클러스터에서 순서대로 샘플링되었습니다."
   ]
  },
  {
   "cell_type": "markdown",
   "metadata": {
    "id": "08HwDknMDRoU"
   },
   "source": [
    "`score_samples()` 메서드를 사용해 로그 _확률 밀도 함수_ (PDF)를 추정할 수도 있습니다."
   ]
  },
  {
   "cell_type": "code",
   "execution_count": null,
   "metadata": {
    "execution": {
     "iopub.execute_input": "2021-10-24T06:26:48.382245Z",
     "iopub.status.busy": "2021-10-24T06:26:48.381674Z",
     "iopub.status.idle": "2021-10-24T06:26:48.385228Z",
     "shell.execute_reply": "2021-10-24T06:26:48.385739Z"
    },
    "id": "whWWZFWcDRoU",
    "outputId": "49e83951-c429-454d-ca75-c2d2c4beb417"
   },
   "outputs": [],
   "source": [
    "gm.score_samples(X)"
   ]
  },
  {
   "cell_type": "markdown",
   "metadata": {
    "id": "IHMTTMZfDRoV"
   },
   "source": [
    "전체 공간에 대해 이 PDF를 적분하면 1이 되는지 확인해 보죠. 클러스터 주위로 큰 사각형을 정하고 작은 사각형의 그리드로 자릅니다. 그다음 작은 사각형에서 샘플이 생성될 확률의 근삿값을 계산해 보죠(작은 사각형의 면적과 PDF를 곱하고 이 확률을 모두 더합니다). 결괏값은 1에 매우 가깝습니다:"
   ]
  },
  {
   "cell_type": "code",
   "execution_count": null,
   "metadata": {
    "execution": {
     "iopub.execute_input": "2021-10-24T06:26:48.388712Z",
     "iopub.status.busy": "2021-10-24T06:26:48.388138Z",
     "iopub.status.idle": "2021-10-24T06:26:49.792305Z",
     "shell.execute_reply": "2021-10-24T06:26:49.792735Z"
    },
    "id": "N8VnLq2jDRoV",
    "outputId": "71dcb63f-ed09-47fd-93ed-d8f551c175ac"
   },
   "outputs": [],
   "source": [
    "resolution = 100\n",
    "grid = np.arange(-10, 10, 1 / resolution)\n",
    "xx, yy = np.meshgrid(grid, grid)\n",
    "X_full = np.vstack([xx.ravel(), yy.ravel()]).T\n",
    "\n",
    "pdf = np.exp(gm.score_samples(X_full))\n",
    "pdf_probas = pdf * (1 / resolution) ** 2\n",
    "pdf_probas.sum()"
   ]
  },
  {
   "cell_type": "markdown",
   "metadata": {
    "id": "BMW50LSzDRoV"
   },
   "source": [
    "만들어진 결정 경계(파선)와 밀도 등고선을 그려보죠:"
   ]
  },
  {
   "cell_type": "code",
   "execution_count": null,
   "metadata": {
    "execution": {
     "iopub.execute_input": "2021-10-24T06:26:49.802869Z",
     "iopub.status.busy": "2021-10-24T06:26:49.802192Z",
     "iopub.status.idle": "2021-10-24T06:26:49.804335Z",
     "shell.execute_reply": "2021-10-24T06:26:49.804722Z"
    },
    "id": "GXZ7Tu4DDRoV"
   },
   "outputs": [],
   "source": [
    "from matplotlib.colors import LogNorm\n",
    "\n",
    "def plot_gaussian_mixture(clusterer, X, resolution=1000, show_ylabels=True):\n",
    "    mins = X.min(axis=0) - 0.1\n",
    "    maxs = X.max(axis=0) + 0.1\n",
    "    xx, yy = np.meshgrid(np.linspace(mins[0], maxs[0], resolution),\n",
    "                         np.linspace(mins[1], maxs[1], resolution))\n",
    "    Z = -clusterer.score_samples(np.c_[xx.ravel(), yy.ravel()])\n",
    "    Z = Z.reshape(xx.shape)\n",
    "\n",
    "    plt.contourf(xx, yy, Z,\n",
    "                 norm=LogNorm(vmin=1.0, vmax=30.0),\n",
    "                 levels=np.logspace(0, 2, 12))\n",
    "    plt.contour(xx, yy, Z,\n",
    "                norm=LogNorm(vmin=1.0, vmax=30.0),\n",
    "                levels=np.logspace(0, 2, 12),\n",
    "                linewidths=1, colors='k')\n",
    "\n",
    "    Z = clusterer.predict(np.c_[xx.ravel(), yy.ravel()])\n",
    "    Z = Z.reshape(xx.shape)\n",
    "    plt.contour(xx, yy, Z,\n",
    "                linewidths=2, colors='r', linestyles='dashed')\n",
    "    \n",
    "    plt.plot(X[:, 0], X[:, 1], 'k.', markersize=2)\n",
    "    plot_centroids(clusterer.means_, clusterer.weights_)\n",
    "\n",
    "    plt.xlabel(\"$x_1$\", fontsize=14)\n",
    "    if show_ylabels:\n",
    "        plt.ylabel(\"$x_2$\", fontsize=14, rotation=0)\n",
    "    else:\n",
    "        plt.tick_params(labelleft=False)"
   ]
  },
  {
   "cell_type": "code",
   "execution_count": null,
   "metadata": {
    "execution": {
     "iopub.execute_input": "2021-10-24T06:26:49.809832Z",
     "iopub.status.busy": "2021-10-24T06:26:49.809250Z",
     "iopub.status.idle": "2021-10-24T06:26:51.468156Z",
     "shell.execute_reply": "2021-10-24T06:26:51.468592Z"
    },
    "id": "Ud6jwnGYDRoV",
    "outputId": "a0aa75af-1a5c-4d6b-8952-a6562d734b0a"
   },
   "outputs": [],
   "source": [
    "plt.figure(figsize=(8, 4))\n",
    "\n",
    "plot_gaussian_mixture(gm, X)\n",
    "\n",
    "save_fig(\"gaussian_mixtures_plot\")\n",
    "plt.show()"
   ]
  },
  {
   "cell_type": "markdown",
   "metadata": {
    "id": "4NdiIM6eDRoV"
   },
   "source": [
    "`covariance_type` 매개변수를 사용해 이 알고리즘이 찾을 공분산 행렬을 제한할 수 있습니다.\n",
    "* `\"full\"`(기본값): 제약이 없습니다. 모든 클러스터가 어떤 크기의 타원도 될 수 있습니다.\n",
    "* `\"tied\"`: 모든 클러스터가 동일하지만 어떤 타원도 가능합니다(즉, 공분산 행렬을 공유합니다).\n",
    "* `\"spherical\"`: 모든 클러스터가 원형이지만 지름은 다를 수 있습니다(즉, 분산이 다릅니다).\n",
    "* `\"diag\"`: 클러스터는 어떤 크기의 타원도 될 수 있지만 타원은 축에 나란해야 합니다(즉, 공분산 행렬이 대각 행렬입니다)."
   ]
  },
  {
   "cell_type": "code",
   "execution_count": null,
   "metadata": {
    "execution": {
     "iopub.execute_input": "2021-10-24T06:26:51.471917Z",
     "iopub.status.busy": "2021-10-24T06:26:51.471265Z",
     "iopub.status.idle": "2021-10-24T06:26:53.155348Z",
     "shell.execute_reply": "2021-10-24T06:26:53.155803Z"
    },
    "id": "1gEfqJ5rDRoV",
    "outputId": "cf2ac91a-f773-4c16-a3a1-fed18ceb5697"
   },
   "outputs": [],
   "source": [
    "gm_full = GaussianMixture(n_components=3, n_init=10, covariance_type=\"full\", random_state=42)\n",
    "gm_tied = GaussianMixture(n_components=3, n_init=10, covariance_type=\"tied\", random_state=42)\n",
    "gm_spherical = GaussianMixture(n_components=3, n_init=10, covariance_type=\"spherical\", random_state=42)\n",
    "gm_diag = GaussianMixture(n_components=3, n_init=10, covariance_type=\"diag\", random_state=42)\n",
    "gm_full.fit(X)\n",
    "gm_tied.fit(X)\n",
    "gm_spherical.fit(X)\n",
    "gm_diag.fit(X)"
   ]
  },
  {
   "cell_type": "code",
   "execution_count": null,
   "metadata": {
    "execution": {
     "iopub.execute_input": "2021-10-24T06:26:53.161428Z",
     "iopub.status.busy": "2021-10-24T06:26:53.160765Z",
     "iopub.status.idle": "2021-10-24T06:26:53.163271Z",
     "shell.execute_reply": "2021-10-24T06:26:53.162750Z"
    },
    "id": "AODaiMcaDRoV"
   },
   "outputs": [],
   "source": [
    "def compare_gaussian_mixtures(gm1, gm2, X):\n",
    "    plt.figure(figsize=(9, 4))\n",
    "\n",
    "    plt.subplot(121)\n",
    "    plot_gaussian_mixture(gm1, X)\n",
    "    plt.title('covariance_type=\"{}\"'.format(gm1.covariance_type), fontsize=14)\n",
    "\n",
    "    plt.subplot(122)\n",
    "    plot_gaussian_mixture(gm2, X, show_ylabels=False)\n",
    "    plt.title('covariance_type=\"{}\"'.format(gm2.covariance_type), fontsize=14)\n"
   ]
  },
  {
   "cell_type": "code",
   "execution_count": null,
   "metadata": {
    "execution": {
     "iopub.execute_input": "2021-10-24T06:26:53.184040Z",
     "iopub.status.busy": "2021-10-24T06:26:53.183398Z",
     "iopub.status.idle": "2021-10-24T06:26:55.879465Z",
     "shell.execute_reply": "2021-10-24T06:26:55.879937Z"
    },
    "id": "0NPFzYI_DRoV",
    "outputId": "c17e2569-6bcc-47a1-93ce-6c310b7284bc"
   },
   "outputs": [],
   "source": [
    "compare_gaussian_mixtures(gm_tied, gm_spherical, X)\n",
    "\n",
    "save_fig(\"covariance_type_plot\")\n",
    "plt.show()"
   ]
  },
  {
   "cell_type": "code",
   "execution_count": null,
   "metadata": {
    "execution": {
     "iopub.execute_input": "2021-10-24T06:26:55.882875Z",
     "iopub.status.busy": "2021-10-24T06:26:55.882289Z",
     "iopub.status.idle": "2021-10-24T06:26:58.197304Z",
     "shell.execute_reply": "2021-10-24T06:26:58.197783Z"
    },
    "id": "WNRklMybDRoW",
    "outputId": "8a20e8e9-5220-4830-a565-07b54c759424",
    "scrolled": true
   },
   "outputs": [],
   "source": [
    "compare_gaussian_mixtures(gm_full, gm_diag, X)\n",
    "plt.tight_layout()\n",
    "plt.show()"
   ]
  },
  {
   "cell_type": "markdown",
   "metadata": {
    "id": "4F3f4AWFDRoW"
   },
   "source": [
    "사이킷런 예제:\n",
    "![scikit-learn-docs](https://scikit-learn.org/stable/_images/sphx_glr_plot_gmm_covariances_0011.png)"
   ]
  },
  {
   "cell_type": "markdown",
   "metadata": {
    "id": "Ftiu1WaWDRoW"
   },
   "source": [
    "## 가우시안 혼합을 사용한 이상치 탐지"
   ]
  },
  {
   "cell_type": "markdown",
   "metadata": {
    "id": "n5P-Rhi7DRoW"
   },
   "source": [
    "가우시안 혼합을 _이상치 탐지_ 에 사용할 수 있습니다: 밀도가 낮은 지역에 있는 샘플을 이상치로 생각할 수 있습니다. 사용할 밀도 임곗값을 결정해야 합니다. 예를 들어 한 제조 회사에서 결함 제품을 감지하려고 합니다. 결함 제품의 비율은 잘 알려져 있습니다. 이 비율이 4%라고 하면 밀도 임곗값을 이 값으로 지정하여 임계 밀도보다 낮은 지역에 있는 샘플을 얻을 수 있습니다:"
   ]
  },
  {
   "cell_type": "code",
   "execution_count": null,
   "metadata": {
    "execution": {
     "iopub.execute_input": "2021-10-24T06:26:58.201223Z",
     "iopub.status.busy": "2021-10-24T06:26:58.200583Z",
     "iopub.status.idle": "2021-10-24T06:26:58.205010Z",
     "shell.execute_reply": "2021-10-24T06:26:58.205451Z"
    },
    "id": "bFyyH9u0DRoW"
   },
   "outputs": [],
   "source": [
    "densities = gm.score_samples(X)\n",
    "density_threshold = np.percentile(densities, 4)\n",
    "anomalies = X[densities < density_threshold]"
   ]
  },
  {
   "cell_type": "code",
   "execution_count": null,
   "metadata": {
    "execution": {
     "iopub.execute_input": "2021-10-24T06:26:58.210603Z",
     "iopub.status.busy": "2021-10-24T06:26:58.207823Z",
     "iopub.status.idle": "2021-10-24T06:27:00.041482Z",
     "shell.execute_reply": "2021-10-24T06:27:00.041970Z"
    },
    "id": "cE_cttoRDRoW",
    "outputId": "2a61b60a-ccec-4ac7-c067-3c707d6388d3"
   },
   "outputs": [],
   "source": [
    "plt.figure(figsize=(8, 4))\n",
    "\n",
    "plot_gaussian_mixture(gm, X)\n",
    "plt.scatter(anomalies[:, 0], anomalies[:, 1], color='r', marker='*')\n",
    "plt.ylim(top=5.1)\n",
    "\n",
    "save_fig(\"mixture_anomaly_detection_plot\")\n",
    "plt.show()"
   ]
  },
  {
   "cell_type": "markdown",
   "metadata": {
    "id": "oTc4Ft-mDRoW"
   },
   "source": [
    "## 모델 선택"
   ]
  },
  {
   "cell_type": "markdown",
   "metadata": {
    "id": "nprykaPODRoX"
   },
   "source": [
    "이너셔나 실루엣 점수는 모두 원형 클러스터를 가정하기 때문에 가우시안 혼합 모델에 사용할 수 없습니다. 대신 BIC(Bayesian Information Criterion)나 AIC(Akaike Information Criterion) 같은 이론적 정보 기준을 최소화하는 모델을 찾을 수 있습니다:\n",
    "\n",
    "${BIC} = {\\log(m)p - 2\\log({\\hat L})}$\n",
    "\n",
    "${AIC} = 2p - 2\\log(\\hat L)$\n",
    "\n",
    "* $m$은 샘플의 개수입니다.\n",
    "* $p$는 모델이 학습할 파라미터 개수입니다.\n",
    "* $\\hat L$은 모델의 가능도 함수의 최댓값입니다. 이는 모델과 최적의 파라미터가 주어졌을 때 관측 데이터 $\\mathbf{X}$의 조건부 확률입니다.\n",
    "\n",
    "BIC와 AIC 모두 모델이 많은 파라미터(예를 들면 많은 클러스터)를 학습하지 못하도록 제한합니다. 그리고 데이터에 잘 맞는 모델(즉, 관측 데이터에 가능도가 높은 모델)에 보상을 줍니다."
   ]
  },
  {
   "cell_type": "code",
   "execution_count": null,
   "metadata": {
    "execution": {
     "iopub.execute_input": "2021-10-24T06:27:00.046791Z",
     "iopub.status.busy": "2021-10-24T06:27:00.046048Z",
     "iopub.status.idle": "2021-10-24T06:27:00.052852Z",
     "shell.execute_reply": "2021-10-24T06:27:00.052256Z"
    },
    "id": "sNe51FXTDRoX",
    "outputId": "b4aca6ae-5e06-4331-e77e-a39e5bb59676"
   },
   "outputs": [],
   "source": [
    "gm.bic(X)"
   ]
  },
  {
   "cell_type": "code",
   "execution_count": null,
   "metadata": {
    "execution": {
     "iopub.execute_input": "2021-10-24T06:27:00.057299Z",
     "iopub.status.busy": "2021-10-24T06:27:00.056685Z",
     "iopub.status.idle": "2021-10-24T06:27:00.061196Z",
     "shell.execute_reply": "2021-10-24T06:27:00.061603Z"
    },
    "id": "4SwtJJbUDRoX",
    "outputId": "657f0a6b-7f4b-4b20-d588-297bc5a82a8f"
   },
   "outputs": [],
   "source": [
    "gm.aic(X)"
   ]
  },
  {
   "cell_type": "markdown",
   "metadata": {
    "id": "H7fsoFT7DRoX"
   },
   "source": [
    "다음과 같이 BIC를 수동으로 계산할 수 있습니다:"
   ]
  },
  {
   "cell_type": "code",
   "execution_count": null,
   "metadata": {
    "execution": {
     "iopub.execute_input": "2021-10-24T06:27:00.067565Z",
     "iopub.status.busy": "2021-10-24T06:27:00.066702Z",
     "iopub.status.idle": "2021-10-24T06:27:00.070499Z",
     "shell.execute_reply": "2021-10-24T06:27:00.069896Z"
    },
    "id": "UcTkemHoDRoX"
   },
   "outputs": [],
   "source": [
    "n_clusters = 3\n",
    "n_dims = 2\n",
    "n_params_for_weights = n_clusters - 1\n",
    "n_params_for_means = n_clusters * n_dims\n",
    "n_params_for_covariance = n_clusters * n_dims * (n_dims + 1) // 2\n",
    "n_params = n_params_for_weights + n_params_for_means + n_params_for_covariance\n",
    "max_log_likelihood = gm.score(X) * len(X) # log(L^)\n",
    "bic = np.log(len(X)) * n_params - 2 * max_log_likelihood\n",
    "aic = 2 * n_params - 2 * max_log_likelihood"
   ]
  },
  {
   "cell_type": "code",
   "execution_count": null,
   "metadata": {
    "execution": {
     "iopub.execute_input": "2021-10-24T06:27:00.075258Z",
     "iopub.status.busy": "2021-10-24T06:27:00.074333Z",
     "iopub.status.idle": "2021-10-24T06:27:00.077662Z",
     "shell.execute_reply": "2021-10-24T06:27:00.078088Z"
    },
    "id": "bfxOKCuhDRoX",
    "outputId": "84bf4d75-b90c-4908-b465-80f3ff6a2ef3"
   },
   "outputs": [],
   "source": [
    "bic, aic"
   ]
  },
  {
   "cell_type": "code",
   "execution_count": null,
   "metadata": {
    "execution": {
     "iopub.execute_input": "2021-10-24T06:27:00.082469Z",
     "iopub.status.busy": "2021-10-24T06:27:00.081891Z",
     "iopub.status.idle": "2021-10-24T06:27:00.085333Z",
     "shell.execute_reply": "2021-10-24T06:27:00.084808Z"
    },
    "id": "vsuGJbevDRoX",
    "outputId": "f46161f5-b0d4-43bd-c440-d94f728bb850"
   },
   "outputs": [],
   "source": [
    "n_params"
   ]
  },
  {
   "cell_type": "markdown",
   "metadata": {
    "id": "WkDX9h-oDRoX"
   },
   "source": [
    "클러스터마다 하나의 가중치가 있지만 모두 더하면 1이 되어야 합니다. 따라서 자유도는 1이 줄어듭니다. 비슷하게 $n \\times n$ 공분산 행렬의 자유도는 $n^2$가 아니라 $1 + 2 + \\dots + n = \\dfrac{n (n+1)}{2}$입니다."
   ]
  },
  {
   "cell_type": "markdown",
   "metadata": {
    "id": "zoc7HWS9DRoX"
   },
   "source": [
    "여러 가지 $k$ 값에 대해 가우시안 혼합 모델을 훈련하고 BIC를 측정해 보죠:"
   ]
  },
  {
   "cell_type": "code",
   "execution_count": null,
   "metadata": {
    "execution": {
     "iopub.execute_input": "2021-10-24T06:27:00.090145Z",
     "iopub.status.busy": "2021-10-24T06:27:00.089552Z",
     "iopub.status.idle": "2021-10-24T06:27:07.208894Z",
     "shell.execute_reply": "2021-10-24T06:27:07.208099Z"
    },
    "id": "4Wh2qVf1DRoX"
   },
   "outputs": [],
   "source": [
    "gms_per_k = [GaussianMixture(n_components=k, n_init=10, random_state=42).fit(X)\n",
    "             for k in range(1, 11)]"
   ]
  },
  {
   "cell_type": "code",
   "execution_count": null,
   "metadata": {
    "execution": {
     "iopub.execute_input": "2021-10-24T06:27:07.213506Z",
     "iopub.status.busy": "2021-10-24T06:27:07.212909Z",
     "iopub.status.idle": "2021-10-24T06:27:07.231209Z",
     "shell.execute_reply": "2021-10-24T06:27:07.231721Z"
    },
    "id": "_WSnfIWCDRoY"
   },
   "outputs": [],
   "source": [
    "bics = [model.bic(X) for model in gms_per_k]\n",
    "aics = [model.aic(X) for model in gms_per_k]"
   ]
  },
  {
   "cell_type": "code",
   "execution_count": null,
   "metadata": {
    "execution": {
     "iopub.execute_input": "2021-10-24T06:27:07.272815Z",
     "iopub.status.busy": "2021-10-24T06:27:07.268189Z",
     "iopub.status.idle": "2021-10-24T06:27:07.654745Z",
     "shell.execute_reply": "2021-10-24T06:27:07.655261Z"
    },
    "id": "tQdJ_lcADRoY",
    "outputId": "c91c6d83-fd3b-4845-eb6e-439d7bab57ea"
   },
   "outputs": [],
   "source": [
    "plt.figure(figsize=(8, 3))\n",
    "plt.plot(range(1, 11), bics, \"bo-\", label=\"BIC\")\n",
    "plt.plot(range(1, 11), aics, \"go--\", label=\"AIC\")\n",
    "plt.xlabel(\"$k$\", fontsize=14)\n",
    "plt.ylabel(\"Information Criterion\", fontsize=14)\n",
    "plt.axis([1, 9.5, np.min(aics) - 50, np.max(aics) + 50])\n",
    "plt.annotate('Minimum',\n",
    "             xy=(3, bics[2]),\n",
    "             xytext=(0.35, 0.6),\n",
    "             textcoords='figure fraction',\n",
    "             fontsize=14,\n",
    "             arrowprops=dict(facecolor='black', shrink=0.1)\n",
    "            )\n",
    "plt.legend()\n",
    "save_fig(\"aic_bic_vs_k_plot\")\n",
    "plt.show()"
   ]
  },
  {
   "cell_type": "markdown",
   "metadata": {
    "id": "NhJ9-lxwDRoY"
   },
   "source": [
    "클러스터 개수와 `covariance_type` 하이퍼파라미터의 최적 조합을 찾아 보겠습니다:"
   ]
  },
  {
   "cell_type": "code",
   "execution_count": null,
   "metadata": {
    "execution": {
     "iopub.execute_input": "2021-10-24T06:27:07.661794Z",
     "iopub.status.busy": "2021-10-24T06:27:07.660883Z",
     "iopub.status.idle": "2021-10-24T06:27:26.940515Z",
     "shell.execute_reply": "2021-10-24T06:27:26.939852Z"
    },
    "id": "So5EDgaIDRoY"
   },
   "outputs": [],
   "source": [
    "min_bic = np.infty\n",
    "\n",
    "for k in range(1, 11):\n",
    "    for covariance_type in (\"full\", \"tied\", \"spherical\", \"diag\"):\n",
    "        bic = GaussianMixture(n_components=k, n_init=10,\n",
    "                              covariance_type=covariance_type,\n",
    "                              random_state=42).fit(X).bic(X)\n",
    "        if bic < min_bic:\n",
    "            min_bic = bic\n",
    "            best_k = k\n",
    "            best_covariance_type = covariance_type"
   ]
  },
  {
   "cell_type": "code",
   "execution_count": null,
   "metadata": {
    "execution": {
     "iopub.execute_input": "2021-10-24T06:27:26.944937Z",
     "iopub.status.busy": "2021-10-24T06:27:26.944353Z",
     "iopub.status.idle": "2021-10-24T06:27:26.949284Z",
     "shell.execute_reply": "2021-10-24T06:27:26.949671Z"
    },
    "id": "niKPRTqYDRoY",
    "outputId": "75937d83-5e9a-429a-b48e-57004ed3d4b4"
   },
   "outputs": [],
   "source": [
    "best_k"
   ]
  },
  {
   "cell_type": "code",
   "execution_count": null,
   "metadata": {
    "execution": {
     "iopub.execute_input": "2021-10-24T06:27:26.953775Z",
     "iopub.status.busy": "2021-10-24T06:27:26.953213Z",
     "iopub.status.idle": "2021-10-24T06:27:26.958258Z",
     "shell.execute_reply": "2021-10-24T06:27:26.957680Z"
    },
    "id": "X-Qw7xm5DRoY",
    "outputId": "3824cd45-c9cc-4706-878f-39b8edc4c203"
   },
   "outputs": [],
   "source": [
    "best_covariance_type"
   ]
  },
  {
   "cell_type": "markdown",
   "metadata": {
    "id": "PPkBme3ADRoY"
   },
   "source": [
    "## 베이즈 가우시안 혼합 모델"
   ]
  },
  {
   "cell_type": "markdown",
   "metadata": {
    "id": "wmHkCkijDRoY"
   },
   "source": [
    "최적의 클러스터 개수를 수동으로 찾는 대신 `BayesianGaussianMixture` 클래스를 사용해 불필요한 클러스터의 가중치를 0으로 (또는 0에 가깝게) 만들 수 있습니다. 최적의 클러스터 개수보다 큰 컴포넌트의 개수를 지정하면 됩니다. 이 알고리즘은 자동으로 불필요한 클러스터를 제거합니다:"
   ]
  },
  {
   "cell_type": "code",
   "execution_count": null,
   "metadata": {
    "execution": {
     "iopub.execute_input": "2021-10-24T06:27:26.963003Z",
     "iopub.status.busy": "2021-10-24T06:27:26.961855Z",
     "iopub.status.idle": "2021-10-24T06:27:26.963679Z",
     "shell.execute_reply": "2021-10-24T06:27:26.964098Z"
    },
    "id": "jGzspmUTDRoY"
   },
   "outputs": [],
   "source": [
    "from sklearn.mixture import BayesianGaussianMixture"
   ]
  },
  {
   "cell_type": "code",
   "execution_count": null,
   "metadata": {
    "execution": {
     "iopub.execute_input": "2021-10-24T06:27:26.968273Z",
     "iopub.status.busy": "2021-10-24T06:27:26.967696Z",
     "iopub.status.idle": "2021-10-24T06:27:30.003462Z",
     "shell.execute_reply": "2021-10-24T06:27:30.003955Z"
    },
    "id": "n8qrmkziDRoY",
    "outputId": "1077a2fb-8762-426d-d30d-00e034e7d534"
   },
   "outputs": [],
   "source": [
    "bgm = BayesianGaussianMixture(n_components=10, n_init=10, random_state=42)\n",
    "bgm.fit(X)"
   ]
  },
  {
   "cell_type": "markdown",
   "metadata": {
    "id": "zsanXevHDRoZ"
   },
   "source": [
    "알고리즘이 자동으로 3개의 컴포넌트가 필요하다는 것을 감지했습니다:"
   ]
  },
  {
   "cell_type": "code",
   "execution_count": null,
   "metadata": {
    "execution": {
     "iopub.execute_input": "2021-10-24T06:27:30.010039Z",
     "iopub.status.busy": "2021-10-24T06:27:30.009365Z",
     "iopub.status.idle": "2021-10-24T06:27:30.014948Z",
     "shell.execute_reply": "2021-10-24T06:27:30.014459Z"
    },
    "id": "nqAETp3dDRoZ",
    "outputId": "5ed7b733-9682-4d73-8dd7-9eb6806eb615"
   },
   "outputs": [],
   "source": [
    "np.round(bgm.weights_, 2)"
   ]
  },
  {
   "cell_type": "code",
   "execution_count": null,
   "metadata": {
    "execution": {
     "iopub.execute_input": "2021-10-24T06:27:30.020557Z",
     "iopub.status.busy": "2021-10-24T06:27:30.019976Z",
     "iopub.status.idle": "2021-10-24T06:27:32.714814Z",
     "shell.execute_reply": "2021-10-24T06:27:32.714233Z"
    },
    "id": "hHUizzBaDRoZ",
    "outputId": "7639219d-3105-4166-ea89-b99fbd869035"
   },
   "outputs": [],
   "source": [
    "plt.figure(figsize=(8, 5))\n",
    "plot_gaussian_mixture(bgm, X)\n",
    "plt.show()"
   ]
  },
  {
   "cell_type": "code",
   "execution_count": null,
   "metadata": {
    "execution": {
     "iopub.execute_input": "2021-10-24T06:27:32.720579Z",
     "iopub.status.busy": "2021-10-24T06:27:32.719958Z",
     "iopub.status.idle": "2021-10-24T06:27:32.876935Z",
     "shell.execute_reply": "2021-10-24T06:27:32.877365Z"
    },
    "id": "1NGfkTxzDRoZ",
    "outputId": "390c1be5-86f2-4cd9-ec6f-0cb60c7dc820"
   },
   "outputs": [],
   "source": [
    "bgm_low = BayesianGaussianMixture(n_components=10, max_iter=1000, n_init=1,\n",
    "                                  weight_concentration_prior=0.01, random_state=42)\n",
    "bgm_high = BayesianGaussianMixture(n_components=10, max_iter=1000, n_init=1,\n",
    "                                  weight_concentration_prior=10000, random_state=42)\n",
    "nn = 73\n",
    "bgm_low.fit(X[:nn])\n",
    "bgm_high.fit(X[:nn])"
   ]
  },
  {
   "cell_type": "code",
   "execution_count": null,
   "metadata": {
    "execution": {
     "iopub.execute_input": "2021-10-24T06:27:32.880338Z",
     "iopub.status.busy": "2021-10-24T06:27:32.879757Z",
     "iopub.status.idle": "2021-10-24T06:27:32.883812Z",
     "shell.execute_reply": "2021-10-24T06:27:32.884199Z"
    },
    "id": "P6Epp0-LDRoZ",
    "outputId": "bd81dc09-33cd-496a-ca32-5ba0c292c1ba"
   },
   "outputs": [],
   "source": [
    "np.round(bgm_low.weights_, 2)"
   ]
  },
  {
   "cell_type": "code",
   "execution_count": null,
   "metadata": {
    "execution": {
     "iopub.execute_input": "2021-10-24T06:27:32.888779Z",
     "iopub.status.busy": "2021-10-24T06:27:32.886667Z",
     "iopub.status.idle": "2021-10-24T06:27:32.891572Z",
     "shell.execute_reply": "2021-10-24T06:27:32.891994Z"
    },
    "id": "HPn654aXDRoZ",
    "outputId": "b87e4b8e-0219-4e91-9192-7655f0e49a8c"
   },
   "outputs": [],
   "source": [
    "np.round(bgm_high.weights_, 2)"
   ]
  },
  {
   "cell_type": "code",
   "execution_count": null,
   "metadata": {
    "execution": {
     "iopub.execute_input": "2021-10-24T06:27:32.897650Z",
     "iopub.status.busy": "2021-10-24T06:27:32.896442Z",
     "iopub.status.idle": "2021-10-24T06:27:38.610795Z",
     "shell.execute_reply": "2021-10-24T06:27:38.611239Z"
    },
    "id": "WIt9zFf_DRoZ",
    "outputId": "91cd0249-d29a-440a-b77e-98704e19b75c"
   },
   "outputs": [],
   "source": [
    "plt.figure(figsize=(9, 4))\n",
    "\n",
    "plt.subplot(121)\n",
    "plot_gaussian_mixture(bgm_low, X[:nn])\n",
    "plt.title(\"weight_concentration_prior = 0.01\", fontsize=14)\n",
    "\n",
    "plt.subplot(122)\n",
    "plot_gaussian_mixture(bgm_high, X[:nn], show_ylabels=False)\n",
    "plt.title(\"weight_concentration_prior = 10000\", fontsize=14)\n",
    "\n",
    "save_fig(\"mixture_concentration_prior_plot\")\n",
    "plt.show()"
   ]
  },
  {
   "cell_type": "code",
   "execution_count": null,
   "metadata": {
    "execution": {
     "iopub.execute_input": "2021-10-24T06:27:38.616787Z",
     "iopub.status.busy": "2021-10-24T06:27:38.616176Z",
     "iopub.status.idle": "2021-10-24T06:27:38.620793Z",
     "shell.execute_reply": "2021-10-24T06:27:38.620231Z"
    },
    "id": "RVCwOr5fDRoa"
   },
   "outputs": [],
   "source": [
    "X_moons, y_moons = make_moons(n_samples=1000, noise=0.05, random_state=42)"
   ]
  },
  {
   "cell_type": "code",
   "execution_count": null,
   "metadata": {
    "execution": {
     "iopub.execute_input": "2021-10-24T06:27:38.625495Z",
     "iopub.status.busy": "2021-10-24T06:27:38.624850Z",
     "iopub.status.idle": "2021-10-24T06:27:41.469427Z",
     "shell.execute_reply": "2021-10-24T06:27:41.468826Z"
    },
    "id": "OdezfDVjDRoa",
    "outputId": "253d80fe-e61c-42d9-994d-2a5733f5a80c",
    "scrolled": true
   },
   "outputs": [],
   "source": [
    "bgm = BayesianGaussianMixture(n_components=10, n_init=10, random_state=42)\n",
    "bgm.fit(X_moons)"
   ]
  },
  {
   "cell_type": "code",
   "execution_count": null,
   "metadata": {
    "execution": {
     "iopub.execute_input": "2021-10-24T06:27:41.493058Z",
     "iopub.status.busy": "2021-10-24T06:27:41.492371Z",
     "iopub.status.idle": "2021-10-24T06:27:44.691765Z",
     "shell.execute_reply": "2021-10-24T06:27:44.692201Z"
    },
    "id": "2oMhTT5RDRoa",
    "outputId": "d3d7c1c3-5589-497a-da36-42782b862f71"
   },
   "outputs": [],
   "source": [
    "plt.figure(figsize=(9, 3.2))\n",
    "\n",
    "plt.subplot(121)\n",
    "plot_data(X_moons)\n",
    "plt.xlabel(\"$x_1$\", fontsize=14)\n",
    "plt.ylabel(\"$x_2$\", fontsize=14, rotation=0)\n",
    "\n",
    "plt.subplot(122)\n",
    "plot_gaussian_mixture(bgm, X_moons, show_ylabels=False)\n",
    "\n",
    "save_fig(\"moons_vs_bgm_plot\")\n",
    "plt.show()"
   ]
  },
  {
   "cell_type": "markdown",
   "metadata": {
    "id": "YzWdpuvaDRoa"
   },
   "source": [
    "이런 좋지 않군요. 반달 모양 클러스터 2개를 감지하는 대신 이 알고리즘은 8개의 타원 클러스터를 감지했습니다. 하지만 밀도 그래프는 그렇게 나쁘지 않기 때문에 이상치 탐지에 사용할 수 있습니다."
   ]
  },
  {
   "cell_type": "markdown",
   "metadata": {
    "id": "fH1GWynkDRoa"
   },
   "source": [
    "**가능도 함수**"
   ]
  },
  {
   "cell_type": "code",
   "execution_count": null,
   "metadata": {
    "execution": {
     "iopub.execute_input": "2021-10-24T06:27:44.696425Z",
     "iopub.status.busy": "2021-10-24T06:27:44.694897Z",
     "iopub.status.idle": "2021-10-24T06:27:44.698934Z",
     "shell.execute_reply": "2021-10-24T06:27:44.698317Z"
    },
    "id": "qvtG1K6zDRoa"
   },
   "outputs": [],
   "source": [
    "from scipy.stats import norm"
   ]
  },
  {
   "cell_type": "code",
   "execution_count": null,
   "metadata": {
    "execution": {
     "iopub.execute_input": "2021-10-24T06:27:44.704283Z",
     "iopub.status.busy": "2021-10-24T06:27:44.703704Z",
     "iopub.status.idle": "2021-10-24T06:27:44.708111Z",
     "shell.execute_reply": "2021-10-24T06:27:44.707565Z"
    },
    "id": "KngXxSwlDRoa"
   },
   "outputs": [],
   "source": [
    "xx = np.linspace(-6, 4, 101)\n",
    "ss = np.linspace(1, 2, 101)\n",
    "XX, SS = np.meshgrid(xx, ss)\n",
    "ZZ = 2 * norm.pdf(XX - 1.0, 0, SS) + norm.pdf(XX + 4.0, 0, SS)\n",
    "ZZ = ZZ / ZZ.sum(axis=1)[:,np.newaxis] / (xx[1] - xx[0])"
   ]
  },
  {
   "cell_type": "code",
   "execution_count": null,
   "metadata": {
    "execution": {
     "iopub.execute_input": "2021-10-24T06:27:44.736390Z",
     "iopub.status.busy": "2021-10-24T06:27:44.734753Z",
     "iopub.status.idle": "2021-10-24T06:27:45.838605Z",
     "shell.execute_reply": "2021-10-24T06:27:45.838033Z"
    },
    "id": "jbX4SWlbDRoa",
    "outputId": "9fd330c8-fd04-4489-a9d4-a1e785ce1b0d"
   },
   "outputs": [],
   "source": [
    "from matplotlib.patches import Polygon\n",
    "\n",
    "plt.figure(figsize=(8, 4.5))\n",
    "\n",
    "x_idx = 85\n",
    "s_idx = 30\n",
    "\n",
    "plt.subplot(221)\n",
    "plt.contourf(XX, SS, ZZ, cmap=\"GnBu\")\n",
    "plt.plot([-6, 4], [ss[s_idx], ss[s_idx]], \"k-\", linewidth=2)\n",
    "plt.plot([xx[x_idx], xx[x_idx]], [1, 2], \"b-\", linewidth=2)\n",
    "plt.xlabel(r\"$x$\")\n",
    "plt.ylabel(r\"$\\theta$\", fontsize=14, rotation=0)\n",
    "plt.title(r\"Model $f(x; \\theta)$\", fontsize=14)\n",
    "\n",
    "plt.subplot(222)\n",
    "plt.plot(ss, ZZ[:, x_idx], \"b-\")\n",
    "max_idx = np.argmax(ZZ[:, x_idx])\n",
    "max_val = np.max(ZZ[:, x_idx])\n",
    "plt.plot(ss[max_idx], max_val, \"r.\")\n",
    "plt.plot([ss[max_idx], ss[max_idx]], [0, max_val], \"r:\")\n",
    "plt.plot([0, ss[max_idx]], [max_val, max_val], \"r:\")\n",
    "plt.text(1.01, max_val + 0.005, r\"$\\hat{L}$\", fontsize=14)\n",
    "plt.text(ss[max_idx]+ 0.01, 0.055, r\"$\\hat{\\theta}$\", fontsize=14)\n",
    "plt.text(ss[max_idx]+ 0.01, max_val - 0.012, r\"$Max$\", fontsize=12)\n",
    "plt.axis([1, 2, 0.05, 0.15])\n",
    "plt.xlabel(r\"$\\theta$\", fontsize=14)\n",
    "plt.grid(True)\n",
    "plt.text(1.99, 0.135, r\"$=f(x=2.5; \\theta)$\", fontsize=14, ha=\"right\")\n",
    "plt.title(r\"Likelihood function $\\mathcal{L}(\\theta|x=2.5)$\", fontsize=14)\n",
    "\n",
    "plt.subplot(223)\n",
    "plt.plot(xx, ZZ[s_idx], \"k-\")\n",
    "plt.axis([-6, 4, 0, 0.25])\n",
    "plt.xlabel(r\"$x$\", fontsize=14)\n",
    "plt.grid(True)\n",
    "plt.title(r\"PDF $f(x; \\theta=1.3)$\", fontsize=14)\n",
    "verts = [(xx[41], 0)] + list(zip(xx[41:81], ZZ[s_idx, 41:81])) + [(xx[80], 0)]\n",
    "poly = Polygon(verts, facecolor='0.9', edgecolor='0.5')\n",
    "plt.gca().add_patch(poly)\n",
    "\n",
    "plt.subplot(224)\n",
    "plt.plot(ss, np.log(ZZ[:, x_idx]), \"b-\")\n",
    "max_idx = np.argmax(np.log(ZZ[:, x_idx]))\n",
    "max_val = np.max(np.log(ZZ[:, x_idx]))\n",
    "plt.plot(ss[max_idx], max_val, \"r.\")\n",
    "plt.plot([ss[max_idx], ss[max_idx]], [-5, max_val], \"r:\")\n",
    "plt.plot([0, ss[max_idx]], [max_val, max_val], \"r:\")\n",
    "plt.axis([1, 2, -2.4, -2])\n",
    "plt.xlabel(r\"$\\theta$\", fontsize=14)\n",
    "plt.text(ss[max_idx]+ 0.01, max_val - 0.05, r\"$Max$\", fontsize=12)\n",
    "plt.text(ss[max_idx]+ 0.01, -2.39, r\"$\\hat{\\theta}$\", fontsize=14)\n",
    "plt.text(1.01, max_val + 0.02, r\"$\\log \\, \\hat{L}$\", fontsize=14)\n",
    "plt.grid(True)\n",
    "plt.title(r\"$\\log \\, \\mathcal{L}(\\theta|x=2.5)$\", fontsize=14)\n",
    "\n",
    "save_fig(\"likelihood_function_plot\")\n",
    "plt.show()"
   ]
  },
  {
   "cell_type": "markdown",
   "metadata": {
    "id": "6alksrcuDRob"
   },
   "source": [
    "# 연습문제 해답"
   ]
  },
  {
   "cell_type": "markdown",
   "metadata": {
    "id": "Nc4al8u5DRob"
   },
   "source": [
    "## 1. to 9."
   ]
  },
  {
   "cell_type": "markdown",
   "metadata": {
    "id": "HQhBj9qDDRob"
   },
   "source": [
    "부록 A 참조."
   ]
  },
  {
   "cell_type": "markdown",
   "metadata": {
    "id": "y_kYgPHtDRob"
   },
   "source": [
    "## 10. 올리베타 얼굴 데이터셋 군집하기"
   ]
  },
  {
   "cell_type": "markdown",
   "metadata": {
    "id": "etEFi3bNDRob"
   },
   "source": [
    "*문제: 전통적인 올리베티 얼굴 데이터셋은 64×64 픽셀 크기의 흑백 얼굴 이미지 400개를 담고 있습니다. 각 이미지는 4,096 크기의 1D 벡터로 펼쳐져 있습니다. 사람 40명의 사진을 10장씩 찍은 것입니다. 어떤 사람의 사진인지 예측하는 모델을 훈련하는 것이 일반적입니다. sklearn.datasets.fetch_olivetti_faces() 함수를 사용해 데이터셋을 불러오세요.*"
   ]
  },
  {
   "cell_type": "code",
   "execution_count": null,
   "metadata": {
    "execution": {
     "iopub.execute_input": "2021-10-24T06:27:45.843563Z",
     "iopub.status.busy": "2021-10-24T06:27:45.841577Z",
     "iopub.status.idle": "2021-10-24T06:27:57.242607Z",
     "shell.execute_reply": "2021-10-24T06:27:57.241923Z"
    },
    "id": "ppcrzVPtDRob"
   },
   "outputs": [],
   "source": [
    "from sklearn.datasets import fetch_olivetti_faces\n",
    "\n",
    "olivetti = fetch_olivetti_faces()"
   ]
  },
  {
   "cell_type": "code",
   "execution_count": null,
   "metadata": {
    "execution": {
     "iopub.execute_input": "2021-10-24T06:27:57.247421Z",
     "iopub.status.busy": "2021-10-24T06:27:57.246767Z",
     "iopub.status.idle": "2021-10-24T06:27:57.249152Z",
     "shell.execute_reply": "2021-10-24T06:27:57.249560Z"
    },
    "id": "QQg7UPHbDRob",
    "outputId": "865e64fc-b99d-40e4-86f9-75727c738622"
   },
   "outputs": [],
   "source": [
    "print(olivetti.DESCR)"
   ]
  },
  {
   "cell_type": "code",
   "execution_count": null,
   "metadata": {
    "execution": {
     "iopub.execute_input": "2021-10-24T06:27:57.254839Z",
     "iopub.status.busy": "2021-10-24T06:27:57.254268Z",
     "iopub.status.idle": "2021-10-24T06:27:57.258527Z",
     "shell.execute_reply": "2021-10-24T06:27:57.258958Z"
    },
    "id": "re8jDiztDRob",
    "outputId": "b54e4727-ee47-4d4e-818a-93fcd70cb04b"
   },
   "outputs": [],
   "source": [
    "olivetti.target"
   ]
  },
  {
   "cell_type": "markdown",
   "metadata": {
    "id": "qwHs8pINDRob"
   },
   "source": [
    "*문제: 데이터셋을 훈련 세트, 검증 세트, 테스트 세트로 나눕니다(이 데이터셋은 이미 0에서 1 사이로 스케일이 조정되어 있습니다). 이 데이터셋은 매우 작으니 계층적 샘플링을 사용해 각 세트에 동일한 사람의 얼굴이 고루 섞이도록 하는 것이 좋습니다.*"
   ]
  },
  {
   "cell_type": "code",
   "execution_count": null,
   "metadata": {
    "execution": {
     "iopub.execute_input": "2021-10-24T06:27:57.266072Z",
     "iopub.status.busy": "2021-10-24T06:27:57.264655Z",
     "iopub.status.idle": "2021-10-24T06:27:57.273887Z",
     "shell.execute_reply": "2021-10-24T06:27:57.273299Z"
    },
    "id": "nXwGS4KLDRob"
   },
   "outputs": [],
   "source": [
    "from sklearn.model_selection import StratifiedShuffleSplit\n",
    "\n",
    "strat_split = StratifiedShuffleSplit(n_splits=1, test_size=40, random_state=42)\n",
    "train_valid_idx, test_idx = next(strat_split.split(olivetti.data, olivetti.target))\n",
    "X_train_valid = olivetti.data[train_valid_idx]\n",
    "y_train_valid = olivetti.target[train_valid_idx]\n",
    "X_test = olivetti.data[test_idx]\n",
    "y_test = olivetti.target[test_idx]\n",
    "\n",
    "strat_split = StratifiedShuffleSplit(n_splits=1, test_size=80, random_state=43)\n",
    "train_idx, valid_idx = next(strat_split.split(X_train_valid, y_train_valid))\n",
    "X_train = X_train_valid[train_idx]\n",
    "y_train = y_train_valid[train_idx]\n",
    "X_valid = X_train_valid[valid_idx]\n",
    "y_valid = y_train_valid[valid_idx]"
   ]
  },
  {
   "cell_type": "code",
   "execution_count": null,
   "metadata": {
    "execution": {
     "iopub.execute_input": "2021-10-24T06:27:57.278299Z",
     "iopub.status.busy": "2021-10-24T06:27:57.276329Z",
     "iopub.status.idle": "2021-10-24T06:27:57.282564Z",
     "shell.execute_reply": "2021-10-24T06:27:57.281873Z"
    },
    "id": "xdVsZIMwDRob",
    "outputId": "56395bfc-b3e2-4bc1-ebe4-3c72eaf36de4"
   },
   "outputs": [],
   "source": [
    "print(X_train.shape, y_train.shape)\n",
    "print(X_valid.shape, y_valid.shape)\n",
    "print(X_test.shape, y_test.shape)"
   ]
  },
  {
   "cell_type": "markdown",
   "metadata": {
    "id": "61tzdOHPDRoc"
   },
   "source": [
    "속도를 높이기 위해 PCA로 데이터의 차원을 줄입니다:"
   ]
  },
  {
   "cell_type": "code",
   "execution_count": null,
   "metadata": {
    "execution": {
     "iopub.execute_input": "2021-10-24T06:27:57.288656Z",
     "iopub.status.busy": "2021-10-24T06:27:57.287255Z",
     "iopub.status.idle": "2021-10-24T06:27:57.506715Z",
     "shell.execute_reply": "2021-10-24T06:27:57.507580Z"
    },
    "id": "2t17kT3gDRoc",
    "outputId": "c3ba1418-56b2-4e68-bcdc-f0d91920334a"
   },
   "outputs": [],
   "source": [
    "from sklearn.decomposition import PCA\n",
    "\n",
    "pca = PCA(0.99)\n",
    "X_train_pca = pca.fit_transform(X_train)\n",
    "X_valid_pca = pca.transform(X_valid)\n",
    "X_test_pca = pca.transform(X_test)\n",
    "\n",
    "pca.n_components_"
   ]
  },
  {
   "cell_type": "markdown",
   "metadata": {
    "id": "p1i_dLopDRoc"
   },
   "source": [
    "*문제: 그다음 k-평균을 사용해 이미지를 군집해보세요. (이 장에서 소개한 기법 중 하나를 사용해) 적절한 클러스터 개수를 찾아보세요.*"
   ]
  },
  {
   "cell_type": "code",
   "execution_count": null,
   "metadata": {
    "execution": {
     "iopub.execute_input": "2021-10-24T06:27:57.511959Z",
     "iopub.status.busy": "2021-10-24T06:27:57.510987Z",
     "iopub.status.idle": "2021-10-24T06:28:44.464515Z",
     "shell.execute_reply": "2021-10-24T06:28:44.465795Z"
    },
    "id": "2u8ifzTmDRoc",
    "outputId": "50a00b18-17f0-4976-d288-ad55e9904c6f"
   },
   "outputs": [],
   "source": [
    "from sklearn.cluster import KMeans\n",
    "\n",
    "k_range = range(5, 150, 5)\n",
    "kmeans_per_k = []\n",
    "for k in k_range:\n",
    "    print(\"k={}\".format(k))\n",
    "    kmeans = KMeans(n_clusters=k, random_state=42).fit(X_train_pca)\n",
    "    kmeans_per_k.append(kmeans)"
   ]
  },
  {
   "cell_type": "code",
   "execution_count": null,
   "metadata": {
    "execution": {
     "iopub.execute_input": "2021-10-24T06:28:44.472224Z",
     "iopub.status.busy": "2021-10-24T06:28:44.470300Z",
     "iopub.status.idle": "2021-10-24T06:28:44.816943Z",
     "shell.execute_reply": "2021-10-24T06:28:44.816353Z"
    },
    "id": "kXb2hAZFDRoc",
    "outputId": "13800ecd-bf65-4973-c808-9dcbb9566e9c"
   },
   "outputs": [],
   "source": [
    "from sklearn.metrics import silhouette_score\n",
    "\n",
    "silhouette_scores = [silhouette_score(X_train_pca, model.labels_)\n",
    "                     for model in kmeans_per_k]\n",
    "best_index = np.argmax(silhouette_scores)\n",
    "best_k = k_range[best_index]\n",
    "best_score = silhouette_scores[best_index]\n",
    "\n",
    "plt.figure(figsize=(8, 3))\n",
    "plt.plot(k_range, silhouette_scores, \"bo-\")\n",
    "plt.xlabel(\"$k$\", fontsize=14)\n",
    "plt.ylabel(\"Silhouette score\", fontsize=14)\n",
    "plt.plot(best_k, best_score, \"rs\")\n",
    "plt.show()"
   ]
  },
  {
   "cell_type": "code",
   "execution_count": null,
   "metadata": {
    "execution": {
     "iopub.execute_input": "2021-10-24T06:28:44.821994Z",
     "iopub.status.busy": "2021-10-24T06:28:44.821385Z",
     "iopub.status.idle": "2021-10-24T06:28:44.826537Z",
     "shell.execute_reply": "2021-10-24T06:28:44.826017Z"
    },
    "id": "IXOX5gG7DRoc",
    "outputId": "c200ecea-4e2c-4f55-f9f0-bb9b037ae878"
   },
   "outputs": [],
   "source": [
    "best_k"
   ]
  },
  {
   "cell_type": "markdown",
   "metadata": {
    "id": "ICT6YDJHDRoc"
   },
   "source": [
    "최적의 클러스터 개수는 120개로 매우 큽니다. 사진 속의 인물이 40명이기 때문에 아마 40 정도로 예상했을 것입니다. 하지만 같은 사람이 사진마다 다르게 보일 수 있습니다(예를 들어, 안경 착용 유무나 서 있는 방향이 다를 수 있습니다)."
   ]
  },
  {
   "cell_type": "code",
   "execution_count": null,
   "metadata": {
    "execution": {
     "iopub.execute_input": "2021-10-24T06:28:44.862426Z",
     "iopub.status.busy": "2021-10-24T06:28:44.853505Z",
     "iopub.status.idle": "2021-10-24T06:28:44.958766Z",
     "shell.execute_reply": "2021-10-24T06:28:44.959200Z"
    },
    "id": "KEF-5XgMDRoc",
    "outputId": "68a78678-5803-4541-e3d8-3a2e5f1c8c7d"
   },
   "outputs": [],
   "source": [
    "inertias = [model.inertia_ for model in kmeans_per_k]\n",
    "best_inertia = inertias[best_index]\n",
    "\n",
    "plt.figure(figsize=(8, 3.5))\n",
    "plt.plot(k_range, inertias, \"bo-\")\n",
    "plt.xlabel(\"$k$\", fontsize=14)\n",
    "plt.ylabel(\"Inertia\", fontsize=14)\n",
    "plt.plot(best_k, best_inertia, \"rs\")\n",
    "plt.show()"
   ]
  },
  {
   "cell_type": "markdown",
   "metadata": {
    "id": "em78FKyPDRoc"
   },
   "source": [
    "이너셔 그래프에서는 엘보우 지점이 없기 때문에 최적의 클러스터 개수가 명확하지 않습니다. 그냥 $k=120$을 사용하겠습니다."
   ]
  },
  {
   "cell_type": "code",
   "execution_count": null,
   "metadata": {
    "execution": {
     "iopub.execute_input": "2021-10-24T06:28:44.964317Z",
     "iopub.status.busy": "2021-10-24T06:28:44.963709Z",
     "iopub.status.idle": "2021-10-24T06:28:44.966517Z",
     "shell.execute_reply": "2021-10-24T06:28:44.965729Z"
    },
    "id": "ysbfHV12DRod"
   },
   "outputs": [],
   "source": [
    "best_model = kmeans_per_k[best_index]"
   ]
  },
  {
   "cell_type": "markdown",
   "metadata": {
    "id": "K032vkFzDRod"
   },
   "source": [
    "*문제: 클러스터를 시각화해보세요. 각 클러스터에 비슷한 얼굴이 들어 있나요?*"
   ]
  },
  {
   "cell_type": "code",
   "execution_count": null,
   "metadata": {
    "execution": {
     "iopub.execute_input": "2021-10-24T06:28:44.987889Z",
     "iopub.status.busy": "2021-10-24T06:28:44.979521Z",
     "iopub.status.idle": "2021-10-24T06:28:55.654095Z",
     "shell.execute_reply": "2021-10-24T06:28:55.654664Z"
    },
    "id": "B9zXy2JUDRod",
    "outputId": "ec9b3c64-74b6-43cb-b84d-49906a85d0dc"
   },
   "outputs": [],
   "source": [
    "def plot_faces(faces, labels, n_cols=5):\n",
    "    faces = faces.reshape(-1, 64, 64)\n",
    "    n_rows = (len(faces) - 1) // n_cols + 1\n",
    "    plt.figure(figsize=(n_cols, n_rows * 1.1))\n",
    "    for index, (face, label) in enumerate(zip(faces, labels)):\n",
    "        plt.subplot(n_rows, n_cols, index + 1)\n",
    "        plt.imshow(face, cmap=\"gray\")\n",
    "        plt.axis(\"off\")\n",
    "        plt.title(label)\n",
    "    plt.show()\n",
    "\n",
    "for cluster_id in np.unique(best_model.labels_):\n",
    "    print(\"Cluster\", cluster_id)\n",
    "    in_cluster = best_model.labels_==cluster_id\n",
    "    faces = X_train[in_cluster]\n",
    "    labels = y_train[in_cluster]\n",
    "    plot_faces(faces, labels)"
   ]
  },
  {
   "cell_type": "markdown",
   "metadata": {
    "id": "fGmzm1zHDRod"
   },
   "source": [
    "약 2/3 정도가 쓸모있어 보입니다. 즉 적어도 2개의 사진을 가지고 있고 모두 동일한 사람입니다. 하지만 나머지 클러스터는 다른 사람 얼굴이 하나 이상 있거나 하나의 사진만 가지고 있습니다.\n",
    "\n",
    "이런 방식으로 군집된 이미지는 부정확해서 (아래에서 보겠지만) 모델을 훈련할 때 바로 사용하기 어렵습니다. 하지만 새로운 데이터셋에 이미지를 레이블링할 때는 매우 유용할 수 있습니다. 일반적으로 훨씬 빠르게 레이블을 부여할 수 있습니다."
   ]
  },
  {
   "cell_type": "markdown",
   "metadata": {
    "id": "u3afsk1JDRod"
   },
   "source": [
    "## 11. 분류를 위해 군집으로 전처리하기"
   ]
  },
  {
   "cell_type": "markdown",
   "metadata": {
    "id": "oDtX_TAmDRod"
   },
   "source": [
    "*문제: 올리베티 얼굴 데이터셋으로 계속해보겠습니다. 사진에 나타난 사람을 예측하는 분류기를 훈련하고 검증 세트에서 평가해보세요.*"
   ]
  },
  {
   "cell_type": "code",
   "execution_count": null,
   "metadata": {
    "execution": {
     "iopub.execute_input": "2021-10-24T06:28:55.660481Z",
     "iopub.status.busy": "2021-10-24T06:28:55.659053Z",
     "iopub.status.idle": "2021-10-24T06:28:56.440378Z",
     "shell.execute_reply": "2021-10-24T06:28:56.440990Z"
    },
    "id": "7FijK5FgDRod",
    "outputId": "5a84620a-4fb1-455a-b575-659207065fa9"
   },
   "outputs": [],
   "source": [
    "from sklearn.ensemble import RandomForestClassifier\n",
    "\n",
    "clf = RandomForestClassifier(n_estimators=150, random_state=42)\n",
    "clf.fit(X_train_pca, y_train)\n",
    "clf.score(X_valid_pca, y_valid)"
   ]
  },
  {
   "cell_type": "markdown",
   "metadata": {
    "id": "-xW4AGS5DRod"
   },
   "source": [
    "*문제: 그다음 k-평균을 차원 축소 도구로 사용하여 축소된 세트에서 분류기를 훈련해보세요.*"
   ]
  },
  {
   "cell_type": "code",
   "execution_count": null,
   "metadata": {
    "execution": {
     "iopub.execute_input": "2021-10-24T06:28:56.454863Z",
     "iopub.status.busy": "2021-10-24T06:28:56.453718Z",
     "iopub.status.idle": "2021-10-24T06:28:57.222534Z",
     "shell.execute_reply": "2021-10-24T06:28:57.221938Z"
    },
    "id": "US-2Y0IVDRod",
    "outputId": "863d6460-39c6-4cd2-8891-352075880fb6"
   },
   "outputs": [],
   "source": [
    "X_train_reduced = best_model.transform(X_train_pca)\n",
    "X_valid_reduced = best_model.transform(X_valid_pca)\n",
    "X_test_reduced = best_model.transform(X_test_pca)\n",
    "\n",
    "clf = RandomForestClassifier(n_estimators=150, random_state=42)\n",
    "clf.fit(X_train_reduced, y_train)\n",
    "    \n",
    "clf.score(X_valid_reduced, y_valid)"
   ]
  },
  {
   "cell_type": "markdown",
   "metadata": {
    "id": "IuZ6mOjGDRod"
   },
   "source": [
    "윽! 전혀 좋아지지 않았군요! 클러스터 개수를 튜닝하면 도움이 되는지 알아 보죠."
   ]
  },
  {
   "cell_type": "markdown",
   "metadata": {
    "id": "7ZR1CDrHDRoe"
   },
   "source": [
    "*문제: 분류기 성능을 최대로 만드는 클러스터 개수를 찾아보세요. 얼마나 성능이 나오나요?*"
   ]
  },
  {
   "cell_type": "markdown",
   "metadata": {
    "id": "_WSXt_HBDRoe"
   },
   "source": [
    "앞에서 처럼 `GridSearchCV`를 사용할 수 있습니다. 하지만 검증 세트가 이미 있기 때문에 K-폴드 교차 검증을 할 필요가 없고 하나의 하이퍼파라미터만 탐색하기 때문에 간단히 직접 반복문을 만들겠습니다:"
   ]
  },
  {
   "cell_type": "code",
   "execution_count": null,
   "metadata": {
    "execution": {
     "iopub.execute_input": "2021-10-24T06:28:57.228693Z",
     "iopub.status.busy": "2021-10-24T06:28:57.227723Z",
     "iopub.status.idle": "2021-10-24T06:30:03.337396Z",
     "shell.execute_reply": "2021-10-24T06:30:03.336850Z"
    },
    "id": "382Nn0LpDRoe",
    "outputId": "aa8e85d5-9e26-47b1-a349-c167e16387ef"
   },
   "outputs": [],
   "source": [
    "from sklearn.pipeline import Pipeline\n",
    "\n",
    "for n_clusters in k_range:\n",
    "    pipeline = Pipeline([\n",
    "        (\"kmeans\", KMeans(n_clusters=n_clusters, random_state=42)),\n",
    "        (\"forest_clf\", RandomForestClassifier(n_estimators=150, random_state=42))\n",
    "    ])\n",
    "    pipeline.fit(X_train_pca, y_train)\n",
    "    print(n_clusters, pipeline.score(X_valid_pca, y_valid))"
   ]
  },
  {
   "cell_type": "markdown",
   "metadata": {
    "id": "7ql62xwcDRoe"
   },
   "source": [
    "클러스터 개수를 튜닝해도 80% 정확도를 넘지 못하는군요. 클러스터 센트로이드까지 거리는 원본 이미지만큼 유용하지 않은 것 같습니다."
   ]
  },
  {
   "cell_type": "markdown",
   "metadata": {
    "id": "zS-9reNSDRoe"
   },
   "source": [
    "*문제: 축소된 세트에서 추출한 특성을 원본 특성에 추가하면 어떤가요? (여기에서도 최선의 클러스터 개수를 찾아보세요.)*"
   ]
  },
  {
   "cell_type": "code",
   "execution_count": null,
   "metadata": {
    "execution": {
     "iopub.execute_input": "2021-10-24T06:30:03.345353Z",
     "iopub.status.busy": "2021-10-24T06:30:03.343853Z",
     "iopub.status.idle": "2021-10-24T06:30:03.350093Z",
     "shell.execute_reply": "2021-10-24T06:30:03.348568Z"
    },
    "id": "lORga8U3DRoe"
   },
   "outputs": [],
   "source": [
    "X_train_extended = np.c_[X_train_pca, X_train_reduced]\n",
    "X_valid_extended = np.c_[X_valid_pca, X_valid_reduced]\n",
    "X_test_extended = np.c_[X_test_pca, X_test_reduced]"
   ]
  },
  {
   "cell_type": "code",
   "execution_count": null,
   "metadata": {
    "execution": {
     "iopub.execute_input": "2021-10-24T06:30:03.357995Z",
     "iopub.status.busy": "2021-10-24T06:30:03.356979Z",
     "iopub.status.idle": "2021-10-24T06:30:04.430721Z",
     "shell.execute_reply": "2021-10-24T06:30:04.430115Z"
    },
    "id": "zHFnDE4iDRoe",
    "outputId": "60d99ddf-48b1-42d2-8c9f-e68d91c98714"
   },
   "outputs": [],
   "source": [
    "clf = RandomForestClassifier(n_estimators=150, random_state=42)\n",
    "clf.fit(X_train_extended, y_train)\n",
    "clf.score(X_valid_extended, y_valid)"
   ]
  },
  {
   "cell_type": "markdown",
   "metadata": {
    "id": "8jEDqF1hDRoe"
   },
   "source": [
    "조금 나아졌네요. 하지만 클러스터 특성이 없는 것이 차라리 낫습니다. 이 경우 클러스터는 분류기를 직접 훈련하는데 도움이 되지 않습니다(하지만 새로운 훈련 샘플을 레이블링하는데는 여전히 도움이 될 수 있습니다)."
   ]
  },
  {
   "cell_type": "markdown",
   "metadata": {
    "id": "syckFiy-DRoe"
   },
   "source": [
    "## 12. 올리베티 얼굴 데이터셋을 위한 가우시안 혼합 모델"
   ]
  },
  {
   "cell_type": "markdown",
   "metadata": {
    "id": "f8oJXYriDRoe"
   },
   "source": [
    "*문제: 올리베티 얼굴 데이터셋에서 가우시안 혼합 모델을 훈련해보세요. 알고리즘의 속도를 높이기 위해 데이터셋의 차원을 감소시켜야 할 것입니다(예를 들면 분산의 99%를 유지하면서 PCA를 사용합니다).*"
   ]
  },
  {
   "cell_type": "code",
   "execution_count": null,
   "metadata": {
    "execution": {
     "iopub.execute_input": "2021-10-24T06:30:04.434933Z",
     "iopub.status.busy": "2021-10-24T06:30:04.433831Z",
     "iopub.status.idle": "2021-10-24T06:30:05.205579Z",
     "shell.execute_reply": "2021-10-24T06:30:05.206615Z"
    },
    "id": "CWFx_gwbDRoe"
   },
   "outputs": [],
   "source": [
    "from sklearn.mixture import GaussianMixture\n",
    "\n",
    "gm = GaussianMixture(n_components=40, random_state=42)\n",
    "y_pred = gm.fit_predict(X_train_pca)"
   ]
  },
  {
   "cell_type": "markdown",
   "metadata": {
    "id": "oQNW_sOmDRof"
   },
   "source": [
    "*문제: 이 모델을 사용해 (`sample()` 메서드로) 새로운 얼굴을 생성하고 시각화해보세요(PCA를 사용했다면 `inverse_transform()` 메서드를 사용해야 합니다).*"
   ]
  },
  {
   "cell_type": "code",
   "execution_count": null,
   "metadata": {
    "execution": {
     "iopub.execute_input": "2021-10-24T06:30:05.211988Z",
     "iopub.status.busy": "2021-10-24T06:30:05.210282Z",
     "iopub.status.idle": "2021-10-24T06:30:05.671833Z",
     "shell.execute_reply": "2021-10-24T06:30:05.673151Z"
    },
    "id": "nMPG5j_EDRof"
   },
   "outputs": [],
   "source": [
    "n_gen_faces = 20\n",
    "gen_faces_reduced, y_gen_faces = gm.sample(n_samples=n_gen_faces)\n",
    "gen_faces = pca.inverse_transform(gen_faces_reduced)"
   ]
  },
  {
   "cell_type": "code",
   "execution_count": null,
   "metadata": {
    "execution": {
     "iopub.execute_input": "2021-10-24T06:30:05.679206Z",
     "iopub.status.busy": "2021-10-24T06:30:05.677377Z",
     "iopub.status.idle": "2021-10-24T06:30:06.338050Z",
     "shell.execute_reply": "2021-10-24T06:30:06.338446Z"
    },
    "id": "elDGNRWiDRof",
    "outputId": "6f2f88fe-1ec5-446b-8552-95c0c39d1c99"
   },
   "outputs": [],
   "source": [
    "plot_faces(gen_faces, y_gen_faces)"
   ]
  },
  {
   "cell_type": "markdown",
   "metadata": {
    "id": "lmwNttHXDRof"
   },
   "source": [
    "*문제: 일부 이미지를 수정해보세요(예를 들면 회전, 뒤집기, 어둡게 하기). 모델이 이상치를 감지하는지 확인해보세요(즉 정상 샘플과 이상치에 대해 `score_samples()` 메서드 출력을 비교해보세요).*"
   ]
  },
  {
   "cell_type": "code",
   "execution_count": null,
   "metadata": {
    "execution": {
     "iopub.execute_input": "2021-10-24T06:30:06.361601Z",
     "iopub.status.busy": "2021-10-24T06:30:06.341032Z",
     "iopub.status.idle": "2021-10-24T06:30:06.739904Z",
     "shell.execute_reply": "2021-10-24T06:30:06.740337Z"
    },
    "id": "TcuM2sPeDRof",
    "outputId": "35e4a923-e42e-447b-adcb-a6e998223c3d"
   },
   "outputs": [],
   "source": [
    "n_rotated = 4\n",
    "rotated = np.transpose(X_train[:n_rotated].reshape(-1, 64, 64), axes=[0, 2, 1])\n",
    "rotated = rotated.reshape(-1, 64*64)\n",
    "y_rotated = y_train[:n_rotated]\n",
    "\n",
    "n_flipped = 3\n",
    "flipped = X_train[:n_flipped].reshape(-1, 64, 64)[:, ::-1]\n",
    "flipped = flipped.reshape(-1, 64*64)\n",
    "y_flipped = y_train[:n_flipped]\n",
    "\n",
    "n_darkened = 3\n",
    "darkened = X_train[:n_darkened].copy()\n",
    "darkened[:, 1:-1] *= 0.3\n",
    "y_darkened = y_train[:n_darkened]\n",
    "\n",
    "X_bad_faces = np.r_[rotated, flipped, darkened]\n",
    "y_bad = np.concatenate([y_rotated, y_flipped, y_darkened])\n",
    "\n",
    "plot_faces(X_bad_faces, y_bad)"
   ]
  },
  {
   "cell_type": "code",
   "execution_count": null,
   "metadata": {
    "execution": {
     "iopub.execute_input": "2021-10-24T06:30:06.745353Z",
     "iopub.status.busy": "2021-10-24T06:30:06.744242Z",
     "iopub.status.idle": "2021-10-24T06:30:06.757664Z",
     "shell.execute_reply": "2021-10-24T06:30:06.756322Z"
    },
    "id": "oZ1dqLc9DRof"
   },
   "outputs": [],
   "source": [
    "X_bad_faces_pca = pca.transform(X_bad_faces)"
   ]
  },
  {
   "cell_type": "code",
   "execution_count": null,
   "metadata": {
    "execution": {
     "iopub.execute_input": "2021-10-24T06:30:06.764523Z",
     "iopub.status.busy": "2021-10-24T06:30:06.763502Z",
     "iopub.status.idle": "2021-10-24T06:30:06.779773Z",
     "shell.execute_reply": "2021-10-24T06:30:06.778755Z"
    },
    "id": "Bu9fZXneDRof",
    "outputId": "f9551937-0a67-4a2f-fec6-cc367bff53c7"
   },
   "outputs": [],
   "source": [
    "gm.score_samples(X_bad_faces_pca)"
   ]
  },
  {
   "cell_type": "markdown",
   "metadata": {
    "id": "yvDSPw8FDRof"
   },
   "source": [
    "잘못된 사진은 이 가우시안 혼합 모델에서 등장할 가능성이 매우 낮습니다. 다른 훈련 샘플의 점수와 비교해 보세요:"
   ]
  },
  {
   "cell_type": "code",
   "execution_count": null,
   "metadata": {
    "execution": {
     "iopub.execute_input": "2021-10-24T06:30:06.787544Z",
     "iopub.status.busy": "2021-10-24T06:30:06.786300Z",
     "iopub.status.idle": "2021-10-24T06:30:06.805796Z",
     "shell.execute_reply": "2021-10-24T06:30:06.804018Z"
    },
    "id": "6FPy86ujDRof",
    "outputId": "7d682341-72bf-48ec-fa83-7b0401b6779b"
   },
   "outputs": [],
   "source": [
    "gm.score_samples(X_train_pca[:10])"
   ]
  },
  {
   "cell_type": "markdown",
   "metadata": {
    "id": "n-JdrzP3DRog"
   },
   "source": [
    "## 13. 차원 축소 기법을 사용해 이상치 탐지하기"
   ]
  },
  {
   "cell_type": "markdown",
   "metadata": {
    "id": "VGZX6GEuDRog"
   },
   "source": [
    "*문제: 일부 차원 축소 기법은 이상치 탐지를 위해서 사용할 수도 있습니다. 예를 들어 올리베티 얼굴 데이터셋을 PCA를 사용해 분산의 99% 유지하도록 축소해보세요. 그다음 각 이미지의 재구성 오차를 계산합니다. 그다음 이전 연습문제에서 만든 수정된 이미지를 선택해 재구성 오차를 확인해보세요. 재구성 오차가 얼마나 커지는지 확인하세요. 재구성 이미지를 출력해보면 이유를 알 수 있습니다. 정상 얼굴을 재구성하기 때문입니다.*"
   ]
  },
  {
   "cell_type": "markdown",
   "metadata": {
    "id": "Jz9Fcl7tDRog"
   },
   "source": [
    "이미 PCA를 사용해 축소된 데이터셋을 가지고 있습니다:"
   ]
  },
  {
   "cell_type": "code",
   "execution_count": null,
   "metadata": {
    "execution": {
     "iopub.execute_input": "2021-10-24T06:30:06.815277Z",
     "iopub.status.busy": "2021-10-24T06:30:06.814219Z",
     "iopub.status.idle": "2021-10-24T06:30:06.822478Z",
     "shell.execute_reply": "2021-10-24T06:30:06.821787Z"
    },
    "id": "bIh1SoF8DRog",
    "outputId": "a98e8041-406d-42dd-b479-c2e805152aa8"
   },
   "outputs": [],
   "source": [
    "X_train_pca"
   ]
  },
  {
   "cell_type": "code",
   "execution_count": null,
   "metadata": {
    "execution": {
     "iopub.execute_input": "2021-10-24T06:30:06.830336Z",
     "iopub.status.busy": "2021-10-24T06:30:06.829314Z",
     "iopub.status.idle": "2021-10-24T06:30:06.833592Z",
     "shell.execute_reply": "2021-10-24T06:30:06.834771Z"
    },
    "id": "-g0YlU2SDRog"
   },
   "outputs": [],
   "source": [
    "def reconstruction_errors(pca, X):\n",
    "    X_pca = pca.transform(X)\n",
    "    X_reconstructed = pca.inverse_transform(X_pca)\n",
    "    mse = np.square(X_reconstructed - X).mean(axis=-1)\n",
    "    return mse"
   ]
  },
  {
   "cell_type": "code",
   "execution_count": null,
   "metadata": {
    "execution": {
     "iopub.execute_input": "2021-10-24T06:30:06.840883Z",
     "iopub.status.busy": "2021-10-24T06:30:06.839084Z",
     "iopub.status.idle": "2021-10-24T06:30:06.870208Z",
     "shell.execute_reply": "2021-10-24T06:30:06.871622Z"
    },
    "id": "suH8UlTQDRog",
    "outputId": "85de12ff-2af6-46a5-e5a6-5a25d271a07b"
   },
   "outputs": [],
   "source": [
    "reconstruction_errors(pca, X_train).mean()"
   ]
  },
  {
   "cell_type": "code",
   "execution_count": null,
   "metadata": {
    "execution": {
     "iopub.execute_input": "2021-10-24T06:30:06.878521Z",
     "iopub.status.busy": "2021-10-24T06:30:06.876537Z",
     "iopub.status.idle": "2021-10-24T06:30:06.894484Z",
     "shell.execute_reply": "2021-10-24T06:30:06.895944Z"
    },
    "id": "fKZOLHPBDRog",
    "outputId": "3ea6f749-df9e-4f55-cb8a-f919de9f7a93"
   },
   "outputs": [],
   "source": [
    "reconstruction_errors(pca, X_bad_faces).mean()"
   ]
  },
  {
   "cell_type": "code",
   "execution_count": null,
   "metadata": {
    "execution": {
     "iopub.execute_input": "2021-10-24T06:30:06.902606Z",
     "iopub.status.busy": "2021-10-24T06:30:06.900454Z",
     "iopub.status.idle": "2021-10-24T06:30:07.263357Z",
     "shell.execute_reply": "2021-10-24T06:30:07.263752Z"
    },
    "id": "z_Od-LALDRog",
    "outputId": "901be062-559a-4e41-c529-1dd73a1db0bd"
   },
   "outputs": [],
   "source": [
    "plot_faces(X_bad_faces, y_bad)"
   ]
  },
  {
   "cell_type": "code",
   "execution_count": null,
   "metadata": {
    "execution": {
     "iopub.execute_input": "2021-10-24T06:30:07.266698Z",
     "iopub.status.busy": "2021-10-24T06:30:07.266128Z",
     "iopub.status.idle": "2021-10-24T06:30:07.644352Z",
     "shell.execute_reply": "2021-10-24T06:30:07.644795Z"
    },
    "id": "jKkMD3R1DRog",
    "outputId": "7916d9db-4486-445a-9bc1-9fba652f0e2e"
   },
   "outputs": [],
   "source": [
    "X_bad_faces_reconstructed = pca.inverse_transform(X_bad_faces_pca)\n",
    "plot_faces(X_bad_faces_reconstructed, y_bad)"
   ]
  }
 ],
 "metadata": {
  "colab": {
   "name": "09_unsupervised_learning.ipynb",
   "provenance": []
  },
  "kernelspec": {
   "display_name": "Python 3 (ipykernel)",
   "language": "python",
   "name": "python3"
  },
  "language_info": {
   "codemirror_mode": {
    "name": "ipython",
    "version": 3
   },
   "file_extension": ".py",
   "mimetype": "text/x-python",
   "name": "python",
   "nbconvert_exporter": "python",
   "pygments_lexer": "ipython3",
   "version": "3.9.7"
  }
 },
 "nbformat": 4,
 "nbformat_minor": 1
}
