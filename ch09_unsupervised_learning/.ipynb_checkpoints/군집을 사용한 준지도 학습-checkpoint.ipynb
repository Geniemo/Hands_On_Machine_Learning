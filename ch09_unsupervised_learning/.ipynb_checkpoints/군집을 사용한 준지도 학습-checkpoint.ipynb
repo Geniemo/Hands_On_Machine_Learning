{
 "cells": [
  {
   "cell_type": "markdown",
   "id": "5473d835",
   "metadata": {},
   "source": [
    "숫자 데이터셋에서 레이블된 50개 샘플에 로지스틱 회귀 모델을 훈련해보겠습니다."
   ]
  },
  {
   "cell_type": "code",
   "execution_count": 1,
   "id": "7a5c6656",
   "metadata": {},
   "outputs": [],
   "source": [
    "from sklearn.datasets import load_digits\n",
    "X_digits, y_digits = load_digits(return_X_y=True)"
   ]
  },
  {
   "cell_type": "code",
   "execution_count": 2,
   "id": "8e8bef2c",
   "metadata": {},
   "outputs": [],
   "source": [
    "from sklearn.model_selection import train_test_split\n",
    "X_train, X_test, y_train, y_test = train_test_split(X_digits, y_digits, random_state=42)"
   ]
  },
  {
   "cell_type": "code",
   "execution_count": 3,
   "id": "b40a8c5f",
   "metadata": {},
   "outputs": [
    {
     "data": {
      "text/plain": [
       "0.8333333333333334"
      ]
     },
     "execution_count": 3,
     "metadata": {},
     "output_type": "execute_result"
    }
   ],
   "source": [
    "from sklearn.linear_model import LogisticRegression\n",
    "n_labeled = 50\n",
    "log_reg = LogisticRegression(multi_class='ovr', solver='lbfgs', random_state=42)\n",
    "log_reg.fit(X_train[:n_labeled], y_train[:n_labeled])\n",
    "log_reg.score(X_test, y_test)"
   ]
  },
  {
   "cell_type": "markdown",
   "id": "ac4ba59c",
   "metadata": {},
   "source": [
    "정확도가 겨우 83.3%입니다.\n",
    "\n",
    "전체 데이터셋을 사용했을 때보다 낮은 정확도가 나온 게 당연합니다."
   ]
  },
  {
   "cell_type": "markdown",
   "id": "5f78c5f1",
   "metadata": {},
   "source": [
    "이를 개선하기 위해 먼저 훈련 세트를 50개의 클러스터로 모으고,<br>\n",
    "각 클러스터에서 센트로이드에 가장 가까운 이미지를 찾습니다.<br>\n",
    "이런 이미지를 대표 이미지라고 합니다."
   ]
  },
  {
   "cell_type": "code",
   "execution_count": 4,
   "id": "9117cab9",
   "metadata": {},
   "outputs": [],
   "source": [
    "from sklearn.cluster import KMeans\n",
    "import numpy as np\n",
    "k = 50\n",
    "kmeans = KMeans(n_clusters=k, random_state=42)\n",
    "X_digits_dist = kmeans.fit_transform(X_train)\n",
    "representative_digit_idx = np.argmin(X_digits_dist, axis=0)\n",
    "X_representative_digits = X_train[representative_digit_idx]"
   ]
  },
  {
   "cell_type": "code",
   "execution_count": 5,
   "id": "32741cc4",
   "metadata": {},
   "outputs": [
    {
     "data": {
      "text/plain": [
       "array([4, 8, 0, 6, 8, 3, 7, 7, 9, 2, 5, 5, 8, 5, 2, 1, 2, 9, 6, 1, 1, 6,\n",
       "       9, 0, 8, 3, 0, 7, 4, 1, 6, 5, 2, 4, 1, 8, 6, 3, 9, 2, 4, 2, 9, 4,\n",
       "       7, 6, 2, 3, 1, 1])"
      ]
     },
     "execution_count": 5,
     "metadata": {},
     "output_type": "execute_result"
    }
   ],
   "source": [
    "y_train[representative_digit_idx]"
   ]
  },
  {
   "cell_type": "markdown",
   "id": "e32783a9",
   "metadata": {},
   "source": [
    "추출된 대표 이미지 50개의 레이블을 수동으로 할당하겠습니다."
   ]
  },
  {
   "cell_type": "code",
   "execution_count": 6,
   "id": "009a2efa",
   "metadata": {},
   "outputs": [],
   "source": [
    "y_representative_digits = np.array([\n",
    "    4, 8, 0, 6, 8, 3, 7, 7, 9, 2,\n",
    "    5, 5, 8, 5, 2, 1, 2, 9, 6, 1,\n",
    "    1, 6, 9, 0, 8, 3, 0, 7, 4, 1,\n",
    "    6, 5, 2, 4, 1, 8, 6, 3, 9, 2,\n",
    "    4, 2, 9, 4, 7, 6, 2, 3, 1, 1\n",
    "])"
   ]
  },
  {
   "cell_type": "markdown",
   "id": "0bca4aff",
   "metadata": {},
   "source": [
    "이제 레이블된 50개 샘플로 이루어진 데이터셋이 준비되었습니다.<br>\n",
    "하지만 무작위로 고른 샘플이 아니고 이 이미지들은 각 클러스터를 대표하는 이미지입니다.\n",
    "\n",
    "성능이 조금이라도 높은지 확인해보겠습니다."
   ]
  },
  {
   "cell_type": "code",
   "execution_count": 7,
   "id": "33f535f3",
   "metadata": {},
   "outputs": [
    {
     "data": {
      "text/plain": [
       "0.9222222222222223"
      ]
     },
     "execution_count": 7,
     "metadata": {},
     "output_type": "execute_result"
    }
   ],
   "source": [
    "log_reg = LogisticRegression(multi_class='ovr', solver='lbfgs', max_iter=5000, random_state=42)\n",
    "log_reg.fit(X_representative_digits, y_representative_digits)\n",
    "log_reg.score(X_test, y_test)"
   ]
  },
  {
   "cell_type": "markdown",
   "id": "22fd0c1f",
   "metadata": {},
   "source": [
    "50개 샘플로 훈련했을 뿐인데 83.3%에서 92.2%로 엄청나게 정확도가 올라간 걸 볼 수 있습니다.<br>\n",
    "샘플에 레이블을 부여하는 것은 비용이 많이 들고 어려우므로<br>\n",
    "무작위 샘플 대신 대표 샘플에 레이블을 할당하는 것이 좋은 방법입니다."
   ]
  },
  {
   "cell_type": "markdown",
   "id": "cb3f9848",
   "metadata": {},
   "source": [
    "여기서 한 단계 더 나아간다면<br>\n",
    "이 레이블을 동일한 클러스터에 있는 모든 샘플로 전파하는 방법도 있습니다.\n",
    "\n",
    "이 방식을 레이블 전파라고 합니다."
   ]
  },
  {
   "cell_type": "code",
   "execution_count": 8,
   "id": "c929e0f6",
   "metadata": {},
   "outputs": [],
   "source": [
    "y_train_propagated = np.empty(len(X_train), dtype=np.int32)\n",
    "for i in range(k):\n",
    "    y_train_propagated[kmeans.labels_==i] = y_representative_digits[i]"
   ]
  },
  {
   "cell_type": "markdown",
   "id": "f2511e08",
   "metadata": {},
   "source": [
    "이제 모델을 다시 훈련하고 성능을 보겠습니다."
   ]
  },
  {
   "cell_type": "code",
   "execution_count": 9,
   "id": "20504f2b",
   "metadata": {},
   "outputs": [
    {
     "data": {
      "text/plain": [
       "0.9333333333333333"
      ]
     },
     "execution_count": 9,
     "metadata": {},
     "output_type": "execute_result"
    }
   ],
   "source": [
    "log_reg = LogisticRegression(multi_class='ovr', solver='lbfgs', max_iter=5000, random_state=42)\n",
    "log_reg.fit(X_train, y_train_propagated)\n",
    "log_reg.score(X_test, y_test)"
   ]
  },
  {
   "cell_type": "markdown",
   "id": "ed426660",
   "metadata": {},
   "source": [
    "성능을 어느 정도 올렸지만 놀라운 정도는 아닙니다.\n",
    "\n",
    "각 대표 샘플의 레이블을 동일한 클러스터의 모든 샘플에 전파한 것이 문제입니다.<br>\n",
    "클러스터 경계에 가깝게 위치한 샘플이 포함되어 있을 것이고 아마 잘못 레이블이 부여됐을 것입니다.\n",
    "\n",
    "센트로이드와 가까운 샘플의 20%만 레이블을 전파해보고 어떻게 되는지 보겠습니다."
   ]
  },
  {
   "cell_type": "code",
   "execution_count": 10,
   "id": "52111b82",
   "metadata": {},
   "outputs": [],
   "source": [
    "percentile_closest = 20\n",
    "\n",
    "X_cluster_dist = X_digits_dist[np.arange(len(X_train)), kmeans.labels_]"
   ]
  },
  {
   "cell_type": "code",
   "execution_count": 11,
   "id": "f4b37b66",
   "metadata": {},
   "outputs": [],
   "source": [
    "for i in range(k):\n",
    "    in_cluster = (kmeans.labels_ == i)\n",
    "    cluster_dist = X_cluster_dist[in_cluster]\n",
    "    cutoff_distance = np.percentile(cluster_dist, percentile_closest)\n",
    "    above_cutoff = (X_cluster_dist > cutoff_distance)\n",
    "    X_cluster_dist[in_cluster & above_cutoff] = -1\n",
    "    \n",
    "partially_propagated = (X_cluster_dist != -1)\n",
    "X_train_partially_propagated = X_train[partially_propagated]\n",
    "y_train_partially_propagated = y_train[partially_propagated]"
   ]
  },
  {
   "cell_type": "code",
   "execution_count": 12,
   "id": "9eb3a65e",
   "metadata": {},
   "outputs": [
    {
     "data": {
      "text/plain": [
       "0.9466666666666667"
      ]
     },
     "execution_count": 12,
     "metadata": {},
     "output_type": "execute_result"
    }
   ],
   "source": [
    "log_reg = LogisticRegression(multi_class='ovr', solver='lbfgs', max_iter=5000, random_state=42)\n",
    "log_reg.fit(X_train_partially_propagated, y_train_partially_propagated)\n",
    "log_reg.score(X_test, y_test)"
   ]
  },
  {
   "cell_type": "markdown",
   "id": "6db512d0",
   "metadata": {},
   "source": [
    "94.6%라는 높은 정확도를 보입니다.<br>\n",
    "레이블이 있는 전체 데이터셋에서 훈련한 로지스틱 회귀 성능(96.9%)에 거의 가깝습니다.\n",
    "\n",
    "이렇게 좋은 이유는 전파된 레이블이 실제로 매우 좋기 때문입니다.\n",
    "다음 코드에서 볼 수 있듯이 100% 실제 데이터와 같습니다."
   ]
  },
  {
   "cell_type": "code",
   "execution_count": 13,
   "id": "e94c5f38",
   "metadata": {},
   "outputs": [
    {
     "data": {
      "text/plain": [
       "1.0"
      ]
     },
     "execution_count": 13,
     "metadata": {},
     "output_type": "execute_result"
    }
   ],
   "source": [
    "np.mean(y_train_partially_propagated == y_train[partially_propagated])"
   ]
  }
 ],
 "metadata": {
  "kernelspec": {
   "display_name": "Python 3 (ipykernel)",
   "language": "python",
   "name": "python3"
  },
  "language_info": {
   "codemirror_mode": {
    "name": "ipython",
    "version": 3
   },
   "file_extension": ".py",
   "mimetype": "text/x-python",
   "name": "python",
   "nbconvert_exporter": "python",
   "pygments_lexer": "ipython3",
   "version": "3.8.8"
  }
 },
 "nbformat": 4,
 "nbformat_minor": 5
}
