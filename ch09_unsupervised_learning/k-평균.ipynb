{
 "cells": [
  {
   "cell_type": "markdown",
   "id": "e298f912",
   "metadata": {},
   "source": [
    "데이터셋 먼저 생성해보겠습니다."
   ]
  },
  {
   "cell_type": "code",
   "execution_count": 1,
   "id": "9b43daa1",
   "metadata": {},
   "outputs": [],
   "source": [
    "import numpy as np\n",
    "from sklearn.datasets import make_blobs\n",
    "import matplotlib.pyplot as plt"
   ]
  },
  {
   "cell_type": "code",
   "execution_count": 2,
   "id": "ee31d818",
   "metadata": {},
   "outputs": [],
   "source": [
    "blob_centers = np.array(\n",
    "    [[ 0.2,  2.3],\n",
    "     [-1.5 ,  2.3],\n",
    "     [-2.8,  1.8],\n",
    "     [-2.8,  2.8],\n",
    "     [-2.8,  1.3]])\n",
    "blob_std = np.array([0.4, 0.3, 0.1, 0.1, 0.1])"
   ]
  },
  {
   "cell_type": "code",
   "execution_count": 3,
   "id": "ac1a4d21",
   "metadata": {},
   "outputs": [],
   "source": [
    "X, y = make_blobs(n_samples=2000, centers=blob_centers,\n",
    "                  cluster_std=blob_std, random_state=7)"
   ]
  },
  {
   "cell_type": "code",
   "execution_count": 4,
   "id": "e4095043",
   "metadata": {},
   "outputs": [],
   "source": [
    "def plot_clusters(X, y=None):\n",
    "    plt.scatter(X[:, 0], X[:, 1], c=y, s=1)\n",
    "    plt.xlabel(\"$x_1$\", fontsize=14)\n",
    "    plt.ylabel(\"$x_2$\", fontsize=14, rotation=0)"
   ]
  },
  {
   "cell_type": "code",
   "execution_count": 5,
   "id": "f5abe929",
   "metadata": {},
   "outputs": [
    {
     "data": {
      "image/png": "[encoded data removed]",
      "text/plain": [
       "<Figure size 576x288 with 1 Axes>"
      ]
     },
     "metadata": {
      "needs_background": "light"
     },
     "output_type": "display_data"
    }
   ],
   "source": [
    "plt.figure(figsize=(8, 4))\n",
    "plot_clusters(X)\n",
    "plt.show()"
   ]
  },
  {
   "cell_type": "markdown",
   "id": "9f16c45a",
   "metadata": {},
   "source": [
    "이 데이터셋에 k-평균 알고리즘을 훈련해보겠습니다.<br>\n",
    "이 알고리즘은 각 클러스터의 중심을 찾고 가장 가까운 클러스터에 샘플을 할당합니다.\n",
    "\n",
    "이 때 알고리즘이 찾을 클러스터 개수 k를 정해줘야 하는데,<br>\n",
    "이 예에서는 데이터를 보고 k를 5로 지정해야 한다고 알 수 있지만<br>\n",
    "실제로는 쉬운 일이 아닙니다. 나중에 다시 보겠습니다."
   ]
  },
  {
   "cell_type": "code",
   "execution_count": 6,
   "id": "0e1d7e6d",
   "metadata": {},
   "outputs": [],
   "source": [
    "from sklearn.cluster import KMeans"
   ]
  },
  {
   "cell_type": "code",
   "execution_count": 7,
   "id": "86cced76",
   "metadata": {},
   "outputs": [],
   "source": [
    "k = 5\n",
    "kmeans = KMeans(n_clusters=k)"
   ]
  },
  {
   "cell_type": "code",
   "execution_count": 8,
   "id": "8b50fc42",
   "metadata": {},
   "outputs": [],
   "source": [
    "y_pred = kmeans.fit_predict(X)"
   ]
  },
  {
   "cell_type": "markdown",
   "id": "5de0db8f",
   "metadata": {},
   "source": [
    "각 샘플은 다섯 개의 클러스터 중 하나에 할당됩니다.<br>\n",
    "군집에서 각 샘플의 레이블은 알고리즘이 샘플에 할당한 클러스터의 인덱스입니다.\n",
    "\n",
    "KMeans 클래스의 인스턴스는 labels_ 인스턴스 변수에 훈련된 샘플의 레이블을 갖고 있습니다."
   ]
  },
  {
   "cell_type": "code",
   "execution_count": 9,
   "id": "4c3cb2ab",
   "metadata": {},
   "outputs": [
    {
     "data": {
      "text/plain": [
       "array([4, 3, 1, ..., 0, 1, 3])"
      ]
     },
     "execution_count": 9,
     "metadata": {},
     "output_type": "execute_result"
    }
   ],
   "source": [
    "y_pred"
   ]
  },
  {
   "cell_type": "code",
   "execution_count": 10,
   "id": "ec395325",
   "metadata": {},
   "outputs": [
    {
     "data": {
      "text/plain": [
       "True"
      ]
     },
     "execution_count": 10,
     "metadata": {},
     "output_type": "execute_result"
    }
   ],
   "source": [
    "y_pred is kmeans.labels_"
   ]
  },
  {
   "cell_type": "markdown",
   "id": "f1e10ac3",
   "metadata": {},
   "source": [
    "cluster_centers_ 인스턴스 변수에 이 알고리즘이 찾은 센트로이드들도 저장되어 있습니다."
   ]
  },
  {
   "cell_type": "code",
   "execution_count": 11,
   "id": "45ac976f",
   "metadata": {},
   "outputs": [
    {
     "data": {
      "text/plain": [
       "array([[-2.79290307,  2.79641063],\n",
       "       [ 0.20876306,  2.25551336],\n",
       "       [-1.46679593,  2.28585348],\n",
       "       [-2.80389616,  1.80117999],\n",
       "       [-2.80037642,  1.30082566]])"
      ]
     },
     "execution_count": 11,
     "metadata": {},
     "output_type": "execute_result"
    }
   ],
   "source": [
    "kmeans.cluster_centers_"
   ]
  },
  {
   "cell_type": "markdown",
   "id": "fa012c42",
   "metadata": {},
   "source": [
    "새로운 샘플에 가장 가까운 센트로이드의 클러스터를 할당할 수 있습니다."
   ]
  },
  {
   "cell_type": "code",
   "execution_count": 12,
   "id": "0c277c4a",
   "metadata": {},
   "outputs": [],
   "source": [
    "X_new = np.array([\n",
    "    [0, 2],\n",
    "    [3, 2],\n",
    "    [-3, 3],\n",
    "    [-3, 2.5]\n",
    "])"
   ]
  },
  {
   "cell_type": "code",
   "execution_count": 13,
   "id": "bbe03daa",
   "metadata": {},
   "outputs": [
    {
     "data": {
      "text/plain": [
       "array([1, 1, 0, 0])"
      ]
     },
     "execution_count": 13,
     "metadata": {},
     "output_type": "execute_result"
    }
   ],
   "source": [
    "kmeans.predict(X_new)"
   ]
  },
  {
   "cell_type": "markdown",
   "id": "07b50625",
   "metadata": {},
   "source": [
    "하드 군집이라는 샘플을 하나의 클러스터에 할당하는 것보다<br>\n",
    "클러스터마다 샘플에 점수를 부여하는 소프트 군집이 유용할 수 있습니다.\n",
    "\n",
    "이 점수는 샘플과 센트로이드 사이의 거리가 될 수 있습니다.<br>\n",
    "반대로 가우시안 방사 기저 함수와 같은 유사도 점수가 될 수 있습니다.\n",
    "\n",
    "KMeans 클래스의 transform() 메소드는 샘플과 각 센트로이드 사이의 거리를 반환합니다."
   ]
  },
  {
   "cell_type": "code",
   "execution_count": 14,
   "id": "ad994760",
   "metadata": {},
   "outputs": [
    {
     "data": {
      "text/plain": [
       "array([[2.9042344 , 0.32995317, 1.49439034, 2.81093633, 2.88633901],\n",
       "       [5.84739223, 2.80290755, 4.4759332 , 5.80730058, 5.84236351],\n",
       "       [0.29040966, 3.29399768, 1.69136631, 1.21475352, 1.71086031],\n",
       "       [0.36159148, 3.21806371, 1.54808703, 0.72581411, 1.21567622]])"
      ]
     },
     "execution_count": 14,
     "metadata": {},
     "output_type": "execute_result"
    }
   ],
   "source": [
    "kmeans.transform(X_new)"
   ]
  }
 ],
 "metadata": {
  "kernelspec": {
   "display_name": "Python 3 (ipykernel)",
   "language": "python",
   "name": "python3"
  },
  "language_info": {
   "codemirror_mode": {
    "name": "ipython",
    "version": 3
   },
   "file_extension": ".py",
   "mimetype": "text/x-python",
   "name": "python",
   "nbconvert_exporter": "python",
   "pygments_lexer": "ipython3",
   "version": "3.9.7"
  }
 },
 "nbformat": 4,
 "nbformat_minor": 5
}
