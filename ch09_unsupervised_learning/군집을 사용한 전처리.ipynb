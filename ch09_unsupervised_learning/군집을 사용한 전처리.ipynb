{
 "cells": [
  {
   "cell_type": "markdown",
   "id": "faacea29",
   "metadata": {},
   "source": [
    "차원 축소에 군집을 사용하는 예를 위해 숫자 데이터셋을 다뤄보겠습니다.<br>\n",
    "이 데이터셋은 MNIST와 비슷한 데이터셋으로<br>\n",
    "0에서 9까지 숫자를 나타내는 8 * 8 크기 흑백 이미지 1797개를 담고 있습니다."
   ]
  },
  {
   "cell_type": "code",
   "execution_count": 1,
   "id": "5044bae7",
   "metadata": {},
   "outputs": [],
   "source": [
    "from sklearn.datasets import load_digits\n",
    "X_digits, y_digits = load_digits(return_X_y=True)"
   ]
  },
  {
   "cell_type": "code",
   "execution_count": 2,
   "id": "f555f06a",
   "metadata": {},
   "outputs": [],
   "source": [
    "from sklearn.model_selection import train_test_split\n",
    "X_train, X_test, y_train, y_test = train_test_split(X_digits, y_digits, random_state=42)"
   ]
  },
  {
   "cell_type": "markdown",
   "id": "810701a9",
   "metadata": {},
   "source": [
    "그다음 로지스틱 회귀 모델을 훈련합니다."
   ]
  },
  {
   "cell_type": "code",
   "execution_count": 3,
   "id": "ccaaea31",
   "metadata": {},
   "outputs": [
    {
     "data": {
      "text/plain": [
       "LogisticRegression(max_iter=5000, multi_class='ovr', random_state=42)"
      ]
     },
     "execution_count": 3,
     "metadata": {},
     "output_type": "execute_result"
    }
   ],
   "source": [
    "from sklearn.linear_model import LogisticRegression\n",
    "log_reg = LogisticRegression(multi_class=\"ovr\", solver=\"lbfgs\", max_iter=5000, random_state=42)\n",
    "log_reg.fit(X_train, y_train)"
   ]
  },
  {
   "cell_type": "code",
   "execution_count": 4,
   "id": "79b175da",
   "metadata": {},
   "outputs": [
    {
     "data": {
      "text/plain": [
       "0.9688888888888889"
      ]
     },
     "execution_count": 4,
     "metadata": {},
     "output_type": "execute_result"
    }
   ],
   "source": [
    "log_reg.score(X_test, y_test)"
   ]
  },
  {
   "cell_type": "markdown",
   "id": "34c05a08",
   "metadata": {},
   "source": [
    "기준값으로 96.9%의 정확도를 얻었습니다.\n",
    "\n",
    "k-평균을 전처리 단계로 사용해서 더 좋아지는지 확인해보겠습니다."
   ]
  },
  {
   "cell_type": "code",
   "execution_count": 5,
   "id": "780fe384",
   "metadata": {},
   "outputs": [
    {
     "data": {
      "text/plain": [
       "Pipeline(steps=[('kmeans', KMeans(n_clusters=50, random_state=42)),\n",
       "                ('log_reg',\n",
       "                 LogisticRegression(max_iter=5000, multi_class='ovr',\n",
       "                                    random_state=42))])"
      ]
     },
     "execution_count": 5,
     "metadata": {},
     "output_type": "execute_result"
    }
   ],
   "source": [
    "from sklearn.pipeline import Pipeline\n",
    "from sklearn.cluster import KMeans\n",
    "pipeline = Pipeline([\n",
    "    ('kmeans', KMeans(n_clusters=50, random_state=42)),\n",
    "    ('log_reg', LogisticRegression(multi_class=\"ovr\", solver=\"lbfgs\", max_iter=5000, random_state=42))\n",
    "])\n",
    "pipeline.fit(X_train, y_train)"
   ]
  },
  {
   "cell_type": "markdown",
   "id": "3b443a45",
   "metadata": {},
   "source": [
    "여기서 숫자가 10갠데 왜 50개로 클러스터 수를 결정했는지 궁금할 수 있습니다.<br>\n",
    "이는 숫자가 쓴 방식이 사람마다 달라서 50처럼 크게 하는 게 좋기 때문입니다."
   ]
  },
  {
   "cell_type": "code",
   "execution_count": 6,
   "id": "ddadc524",
   "metadata": {},
   "outputs": [
    {
     "data": {
      "text/plain": [
       "0.9777777777777777"
      ]
     },
     "execution_count": 6,
     "metadata": {},
     "output_type": "execute_result"
    }
   ],
   "source": [
    "pipeline.score(X_test, y_test)"
   ]
  },
  {
   "cell_type": "markdown",
   "id": "c2c1c1ba",
   "metadata": {},
   "source": [
    "3.1%의 오차에서 2.2%의 오차로 오차를 줄여 30%정도를 줄였습니다."
   ]
  },
  {
   "cell_type": "markdown",
   "id": "1504df59",
   "metadata": {},
   "source": [
    "k를 임의로 정했기 때문에 더 개선할 여지가 있습니다.\n",
    "\n",
    "k-평균이 분류 파이프라인의 하나의 전처리 단계이기 때문에<br>\n",
    "이전보다 더 좋은 k값을 찾는 일이 더 쉽습니다.\n",
    "\n",
    "실루엣 분석이나 이너셔 분석이 필요없습니다.\n",
    "\n",
    "가장 좋은 k값은 교차 검증에서 가장 좋은 분류 성능을 내는 값입니다.\n",
    "GridSearchCV를 이용해 최적의 클러스터 개수를 찾아보겠습니다."
   ]
  },
  {
   "cell_type": "code",
   "execution_count": 7,
   "id": "4878b7e6",
   "metadata": {},
   "outputs": [],
   "source": [
    "from sklearn.model_selection import GridSearchCV\n",
    "import numpy as np"
   ]
  },
  {
   "cell_type": "code",
   "execution_count": 8,
   "id": "424133a4",
   "metadata": {},
   "outputs": [
    {
     "name": "stdout",
     "output_type": "stream",
     "text": [
      "Fitting 3 folds for each of 98 candidates, totalling 294 fits\n",
      "[CV] END ...............................kmeans__n_clusters=2; total time=   0.1s\n",
      "[CV] END ...............................kmeans__n_clusters=2; total time=   0.1s\n",
      "[CV] END ...............................kmeans__n_clusters=2; total time=   0.1s\n",
      "[CV] END ...............................kmeans__n_clusters=3; total time=   0.1s\n",
      "[CV] END ...............................kmeans__n_clusters=3; total time=   0.1s\n",
      "[CV] END ...............................kmeans__n_clusters=3; total time=   0.1s\n",
      "[CV] END ...............................kmeans__n_clusters=4; total time=   0.1s\n",
      "[CV] END ...............................kmeans__n_clusters=4; total time=   0.1s\n",
      "[CV] END ...............................kmeans__n_clusters=4; total time=   0.1s\n",
      "[CV] END ...............................kmeans__n_clusters=5; total time=   0.3s\n",
      "[CV] END ...............................kmeans__n_clusters=5; total time=   0.2s\n",
      "[CV] END ...............................kmeans__n_clusters=5; total time=   0.1s\n",
      "[CV] END ...............................kmeans__n_clusters=6; total time=   0.2s\n",
      "[CV] END ...............................kmeans__n_clusters=6; total time=   0.2s\n",
      "[CV] END ...............................kmeans__n_clusters=6; total time=   0.2s\n",
      "[CV] END ...............................kmeans__n_clusters=7; total time=   0.2s\n",
      "[CV] END ...............................kmeans__n_clusters=7; total time=   0.2s\n",
      "[CV] END ...............................kmeans__n_clusters=7; total time=   0.2s\n",
      "[CV] END ...............................kmeans__n_clusters=8; total time=   0.3s\n",
      "[CV] END ...............................kmeans__n_clusters=8; total time=   0.4s\n",
      "[CV] END ...............................kmeans__n_clusters=8; total time=   0.4s\n",
      "[CV] END ...............................kmeans__n_clusters=9; total time=   0.5s\n",
      "[CV] END ...............................kmeans__n_clusters=9; total time=   0.5s\n",
      "[CV] END ...............................kmeans__n_clusters=9; total time=   0.8s\n",
      "[CV] END ..............................kmeans__n_clusters=10; total time=   0.6s\n",
      "[CV] END ..............................kmeans__n_clusters=10; total time=   0.6s\n",
      "[CV] END ..............................kmeans__n_clusters=10; total time=   0.6s\n",
      "[CV] END ..............................kmeans__n_clusters=11; total time=   0.7s\n",
      "[CV] END ..............................kmeans__n_clusters=11; total time=   0.9s\n",
      "[CV] END ..............................kmeans__n_clusters=11; total time=   0.6s\n",
      "[CV] END ..............................kmeans__n_clusters=12; total time=   1.2s\n",
      "[CV] END ..............................kmeans__n_clusters=12; total time=   0.9s\n",
      "[CV] END ..............................kmeans__n_clusters=12; total time=   1.0s\n",
      "[CV] END ..............................kmeans__n_clusters=13; total time=   1.1s\n",
      "[CV] END ..............................kmeans__n_clusters=13; total time=   1.1s\n",
      "[CV] END ..............................kmeans__n_clusters=13; total time=   1.3s\n",
      "[CV] END ..............................kmeans__n_clusters=14; total time=   1.2s\n",
      "[CV] END ..............................kmeans__n_clusters=14; total time=   1.2s\n",
      "[CV] END ..............................kmeans__n_clusters=14; total time=   1.2s\n",
      "[CV] END ..............................kmeans__n_clusters=15; total time=   1.7s\n",
      "[CV] END ..............................kmeans__n_clusters=15; total time=   1.2s\n",
      "[CV] END ..............................kmeans__n_clusters=15; total time=   1.4s\n",
      "[CV] END ..............................kmeans__n_clusters=16; total time=   1.9s\n",
      "[CV] END ..............................kmeans__n_clusters=16; total time=   1.6s\n",
      "[CV] END ..............................kmeans__n_clusters=16; total time=   1.8s\n",
      "[CV] END ..............................kmeans__n_clusters=17; total time=   1.9s\n",
      "[CV] END ..............................kmeans__n_clusters=17; total time=   1.9s\n",
      "[CV] END ..............................kmeans__n_clusters=17; total time=   2.2s\n",
      "[CV] END ..............................kmeans__n_clusters=18; total time=   3.0s\n",
      "[CV] END ..............................kmeans__n_clusters=18; total time=   2.3s\n",
      "[CV] END ..............................kmeans__n_clusters=18; total time=   2.6s\n",
      "[CV] END ..............................kmeans__n_clusters=19; total time=   2.5s\n",
      "[CV] END ..............................kmeans__n_clusters=19; total time=   3.4s\n",
      "[CV] END ..............................kmeans__n_clusters=19; total time=   2.0s\n",
      "[CV] END ..............................kmeans__n_clusters=20; total time=   2.5s\n",
      "[CV] END ..............................kmeans__n_clusters=20; total time=   2.2s\n",
      "[CV] END ..............................kmeans__n_clusters=20; total time=   2.1s\n",
      "[CV] END ..............................kmeans__n_clusters=21; total time=   2.0s\n",
      "[CV] END ..............................kmeans__n_clusters=21; total time=   2.0s\n",
      "[CV] END ..............................kmeans__n_clusters=21; total time=   2.4s\n",
      "[CV] END ..............................kmeans__n_clusters=22; total time=   2.4s\n",
      "[CV] END ..............................kmeans__n_clusters=22; total time=   2.6s\n",
      "[CV] END ..............................kmeans__n_clusters=22; total time=   2.1s\n",
      "[CV] END ..............................kmeans__n_clusters=23; total time=   2.8s\n",
      "[CV] END ..............................kmeans__n_clusters=23; total time=   2.7s\n",
      "[CV] END ..............................kmeans__n_clusters=23; total time=   2.7s\n",
      "[CV] END ..............................kmeans__n_clusters=24; total time=   2.6s\n",
      "[CV] END ..............................kmeans__n_clusters=24; total time=   2.7s\n",
      "[CV] END ..............................kmeans__n_clusters=24; total time=   2.7s\n",
      "[CV] END ..............................kmeans__n_clusters=25; total time=   3.3s\n",
      "[CV] END ..............................kmeans__n_clusters=25; total time=   3.1s\n",
      "[CV] END ..............................kmeans__n_clusters=25; total time=   3.0s\n",
      "[CV] END ..............................kmeans__n_clusters=26; total time=   3.1s\n",
      "[CV] END ..............................kmeans__n_clusters=26; total time=   2.8s\n",
      "[CV] END ..............................kmeans__n_clusters=26; total time=   2.3s\n",
      "[CV] END ..............................kmeans__n_clusters=27; total time=   2.5s\n",
      "[CV] END ..............................kmeans__n_clusters=27; total time=   2.9s\n",
      "[CV] END ..............................kmeans__n_clusters=27; total time=   2.3s\n",
      "[CV] END ..............................kmeans__n_clusters=28; total time=   2.5s\n",
      "[CV] END ..............................kmeans__n_clusters=28; total time=   2.8s\n",
      "[CV] END ..............................kmeans__n_clusters=28; total time=   2.1s\n",
      "[CV] END ..............................kmeans__n_clusters=29; total time=   2.6s\n",
      "[CV] END ..............................kmeans__n_clusters=29; total time=   2.5s\n",
      "[CV] END ..............................kmeans__n_clusters=29; total time=   2.7s\n",
      "[CV] END ..............................kmeans__n_clusters=30; total time=   2.5s\n",
      "[CV] END ..............................kmeans__n_clusters=30; total time=   2.7s\n",
      "[CV] END ..............................kmeans__n_clusters=30; total time=   2.3s\n",
      "[CV] END ..............................kmeans__n_clusters=31; total time=   3.0s\n",
      "[CV] END ..............................kmeans__n_clusters=31; total time=   2.1s\n",
      "[CV] END ..............................kmeans__n_clusters=31; total time=   2.7s\n",
      "[CV] END ..............................kmeans__n_clusters=32; total time=   2.6s\n",
      "[CV] END ..............................kmeans__n_clusters=32; total time=   2.8s\n",
      "[CV] END ..............................kmeans__n_clusters=32; total time=   2.5s\n",
      "[CV] END ..............................kmeans__n_clusters=33; total time=   3.3s\n",
      "[CV] END ..............................kmeans__n_clusters=33; total time=   3.9s\n",
      "[CV] END ..............................kmeans__n_clusters=33; total time=   3.9s\n",
      "[CV] END ..............................kmeans__n_clusters=34; total time=   3.0s\n",
      "[CV] END ..............................kmeans__n_clusters=34; total time=   2.9s\n",
      "[CV] END ..............................kmeans__n_clusters=34; total time=   2.7s\n",
      "[CV] END ..............................kmeans__n_clusters=35; total time=   2.5s\n",
      "[CV] END ..............................kmeans__n_clusters=35; total time=   3.1s\n"
     ]
    },
    {
     "name": "stdout",
     "output_type": "stream",
     "text": [
      "[CV] END ..............................kmeans__n_clusters=35; total time=   2.3s\n",
      "[CV] END ..............................kmeans__n_clusters=36; total time=   3.1s\n",
      "[CV] END ..............................kmeans__n_clusters=36; total time=   3.0s\n",
      "[CV] END ..............................kmeans__n_clusters=36; total time=   2.7s\n",
      "[CV] END ..............................kmeans__n_clusters=37; total time=   3.2s\n",
      "[CV] END ..............................kmeans__n_clusters=37; total time=   3.4s\n",
      "[CV] END ..............................kmeans__n_clusters=37; total time=   3.2s\n",
      "[CV] END ..............................kmeans__n_clusters=38; total time=   3.7s\n",
      "[CV] END ..............................kmeans__n_clusters=38; total time=   3.1s\n",
      "[CV] END ..............................kmeans__n_clusters=38; total time=   3.5s\n",
      "[CV] END ..............................kmeans__n_clusters=39; total time=   3.9s\n",
      "[CV] END ..............................kmeans__n_clusters=39; total time=   4.0s\n",
      "[CV] END ..............................kmeans__n_clusters=39; total time=   4.7s\n",
      "[CV] END ..............................kmeans__n_clusters=40; total time=   4.8s\n",
      "[CV] END ..............................kmeans__n_clusters=40; total time=   3.5s\n",
      "[CV] END ..............................kmeans__n_clusters=40; total time=   3.0s\n",
      "[CV] END ..............................kmeans__n_clusters=41; total time=   3.6s\n",
      "[CV] END ..............................kmeans__n_clusters=41; total time=   4.0s\n",
      "[CV] END ..............................kmeans__n_clusters=41; total time=   3.1s\n",
      "[CV] END ..............................kmeans__n_clusters=42; total time=   3.3s\n",
      "[CV] END ..............................kmeans__n_clusters=42; total time=   3.4s\n",
      "[CV] END ..............................kmeans__n_clusters=42; total time=   3.4s\n",
      "[CV] END ..............................kmeans__n_clusters=43; total time=   4.5s\n",
      "[CV] END ..............................kmeans__n_clusters=43; total time=   4.3s\n",
      "[CV] END ..............................kmeans__n_clusters=43; total time=   3.7s\n",
      "[CV] END ..............................kmeans__n_clusters=44; total time=   3.4s\n",
      "[CV] END ..............................kmeans__n_clusters=44; total time=   3.4s\n",
      "[CV] END ..............................kmeans__n_clusters=44; total time=   2.8s\n",
      "[CV] END ..............................kmeans__n_clusters=45; total time=   3.5s\n",
      "[CV] END ..............................kmeans__n_clusters=45; total time=   3.3s\n",
      "[CV] END ..............................kmeans__n_clusters=45; total time=   3.5s\n",
      "[CV] END ..............................kmeans__n_clusters=46; total time=   3.4s\n",
      "[CV] END ..............................kmeans__n_clusters=46; total time=   3.3s\n",
      "[CV] END ..............................kmeans__n_clusters=46; total time=   3.6s\n",
      "[CV] END ..............................kmeans__n_clusters=47; total time=   3.5s\n",
      "[CV] END ..............................kmeans__n_clusters=47; total time=   3.0s\n",
      "[CV] END ..............................kmeans__n_clusters=47; total time=   3.8s\n",
      "[CV] END ..............................kmeans__n_clusters=48; total time=   3.6s\n",
      "[CV] END ..............................kmeans__n_clusters=48; total time=   3.6s\n",
      "[CV] END ..............................kmeans__n_clusters=48; total time=   3.2s\n",
      "[CV] END ..............................kmeans__n_clusters=49; total time=   3.3s\n",
      "[CV] END ..............................kmeans__n_clusters=49; total time=   3.2s\n",
      "[CV] END ..............................kmeans__n_clusters=49; total time=   3.5s\n",
      "[CV] END ..............................kmeans__n_clusters=50; total time=   3.2s\n",
      "[CV] END ..............................kmeans__n_clusters=50; total time=   3.6s\n",
      "[CV] END ..............................kmeans__n_clusters=50; total time=   3.7s\n",
      "[CV] END ..............................kmeans__n_clusters=51; total time=   3.8s\n",
      "[CV] END ..............................kmeans__n_clusters=51; total time=   3.7s\n",
      "[CV] END ..............................kmeans__n_clusters=51; total time=   3.4s\n",
      "[CV] END ..............................kmeans__n_clusters=52; total time=   3.2s\n",
      "[CV] END ..............................kmeans__n_clusters=52; total time=   4.1s\n",
      "[CV] END ..............................kmeans__n_clusters=52; total time=   4.6s\n",
      "[CV] END ..............................kmeans__n_clusters=53; total time=   3.7s\n",
      "[CV] END ..............................kmeans__n_clusters=53; total time=   3.4s\n",
      "[CV] END ..............................kmeans__n_clusters=53; total time=   4.4s\n",
      "[CV] END ..............................kmeans__n_clusters=54; total time=   4.6s\n",
      "[CV] END ..............................kmeans__n_clusters=54; total time=   3.7s\n",
      "[CV] END ..............................kmeans__n_clusters=54; total time=   3.4s\n",
      "[CV] END ..............................kmeans__n_clusters=55; total time=   3.4s\n",
      "[CV] END ..............................kmeans__n_clusters=55; total time=   3.3s\n",
      "[CV] END ..............................kmeans__n_clusters=55; total time=   3.7s\n",
      "[CV] END ..............................kmeans__n_clusters=56; total time=   4.8s\n",
      "[CV] END ..............................kmeans__n_clusters=56; total time=   4.0s\n",
      "[CV] END ..............................kmeans__n_clusters=56; total time=   3.7s\n",
      "[CV] END ..............................kmeans__n_clusters=57; total time=   3.2s\n",
      "[CV] END ..............................kmeans__n_clusters=57; total time=   3.4s\n",
      "[CV] END ..............................kmeans__n_clusters=57; total time=   3.1s\n",
      "[CV] END ..............................kmeans__n_clusters=58; total time=   3.2s\n",
      "[CV] END ..............................kmeans__n_clusters=58; total time=   3.6s\n",
      "[CV] END ..............................kmeans__n_clusters=58; total time=   3.2s\n",
      "[CV] END ..............................kmeans__n_clusters=59; total time=   3.2s\n",
      "[CV] END ..............................kmeans__n_clusters=59; total time=   3.0s\n",
      "[CV] END ..............................kmeans__n_clusters=59; total time=   3.0s\n",
      "[CV] END ..............................kmeans__n_clusters=60; total time=   3.9s\n",
      "[CV] END ..............................kmeans__n_clusters=60; total time=   4.2s\n",
      "[CV] END ..............................kmeans__n_clusters=60; total time=   3.6s\n",
      "[CV] END ..............................kmeans__n_clusters=61; total time=   3.1s\n",
      "[CV] END ..............................kmeans__n_clusters=61; total time=   4.0s\n",
      "[CV] END ..............................kmeans__n_clusters=61; total time=   3.4s\n",
      "[CV] END ..............................kmeans__n_clusters=62; total time=   4.0s\n",
      "[CV] END ..............................kmeans__n_clusters=62; total time=   4.8s\n",
      "[CV] END ..............................kmeans__n_clusters=62; total time=   2.9s\n",
      "[CV] END ..............................kmeans__n_clusters=63; total time=   4.1s\n",
      "[CV] END ..............................kmeans__n_clusters=63; total time=   3.7s\n",
      "[CV] END ..............................kmeans__n_clusters=63; total time=   2.6s\n",
      "[CV] END ..............................kmeans__n_clusters=64; total time=   3.0s\n",
      "[CV] END ..............................kmeans__n_clusters=64; total time=   3.4s\n",
      "[CV] END ..............................kmeans__n_clusters=64; total time=   2.9s\n",
      "[CV] END ..............................kmeans__n_clusters=65; total time=   2.7s\n",
      "[CV] END ..............................kmeans__n_clusters=65; total time=   3.3s\n",
      "[CV] END ..............................kmeans__n_clusters=65; total time=   2.9s\n",
      "[CV] END ..............................kmeans__n_clusters=66; total time=   3.1s\n",
      "[CV] END ..............................kmeans__n_clusters=66; total time=   3.3s\n",
      "[CV] END ..............................kmeans__n_clusters=66; total time=   2.8s\n",
      "[CV] END ..............................kmeans__n_clusters=67; total time=   3.5s\n",
      "[CV] END ..............................kmeans__n_clusters=67; total time=   3.7s\n",
      "[CV] END ..............................kmeans__n_clusters=67; total time=   3.3s\n",
      "[CV] END ..............................kmeans__n_clusters=68; total time=   3.6s\n",
      "[CV] END ..............................kmeans__n_clusters=68; total time=   3.8s\n",
      "[CV] END ..............................kmeans__n_clusters=68; total time=   3.2s\n",
      "[CV] END ..............................kmeans__n_clusters=69; total time=   3.6s\n",
      "[CV] END ..............................kmeans__n_clusters=69; total time=   3.6s\n"
     ]
    },
    {
     "name": "stdout",
     "output_type": "stream",
     "text": [
      "[CV] END ..............................kmeans__n_clusters=69; total time=   3.1s\n",
      "[CV] END ..............................kmeans__n_clusters=70; total time=   3.3s\n",
      "[CV] END ..............................kmeans__n_clusters=70; total time=   3.2s\n",
      "[CV] END ..............................kmeans__n_clusters=70; total time=   3.2s\n",
      "[CV] END ..............................kmeans__n_clusters=71; total time=   3.0s\n",
      "[CV] END ..............................kmeans__n_clusters=71; total time=   3.1s\n",
      "[CV] END ..............................kmeans__n_clusters=71; total time=   3.5s\n",
      "[CV] END ..............................kmeans__n_clusters=72; total time=   2.9s\n",
      "[CV] END ..............................kmeans__n_clusters=72; total time=   3.3s\n",
      "[CV] END ..............................kmeans__n_clusters=72; total time=   3.4s\n",
      "[CV] END ..............................kmeans__n_clusters=73; total time=   3.1s\n",
      "[CV] END ..............................kmeans__n_clusters=73; total time=   2.9s\n",
      "[CV] END ..............................kmeans__n_clusters=73; total time=   3.0s\n",
      "[CV] END ..............................kmeans__n_clusters=74; total time=   2.9s\n",
      "[CV] END ..............................kmeans__n_clusters=74; total time=   3.4s\n",
      "[CV] END ..............................kmeans__n_clusters=74; total time=   3.5s\n",
      "[CV] END ..............................kmeans__n_clusters=75; total time=   3.5s\n",
      "[CV] END ..............................kmeans__n_clusters=75; total time=   4.1s\n",
      "[CV] END ..............................kmeans__n_clusters=75; total time=   3.0s\n",
      "[CV] END ..............................kmeans__n_clusters=76; total time=   3.3s\n",
      "[CV] END ..............................kmeans__n_clusters=76; total time=   3.5s\n",
      "[CV] END ..............................kmeans__n_clusters=76; total time=   2.6s\n",
      "[CV] END ..............................kmeans__n_clusters=77; total time=   3.7s\n",
      "[CV] END ..............................kmeans__n_clusters=77; total time=   3.6s\n",
      "[CV] END ..............................kmeans__n_clusters=77; total time=   3.2s\n",
      "[CV] END ..............................kmeans__n_clusters=78; total time=   3.4s\n",
      "[CV] END ..............................kmeans__n_clusters=78; total time=   3.9s\n",
      "[CV] END ..............................kmeans__n_clusters=78; total time=   3.8s\n",
      "[CV] END ..............................kmeans__n_clusters=79; total time=   3.5s\n",
      "[CV] END ..............................kmeans__n_clusters=79; total time=   3.4s\n",
      "[CV] END ..............................kmeans__n_clusters=79; total time=   3.1s\n",
      "[CV] END ..............................kmeans__n_clusters=80; total time=   3.5s\n",
      "[CV] END ..............................kmeans__n_clusters=80; total time=   2.9s\n",
      "[CV] END ..............................kmeans__n_clusters=80; total time=   3.5s\n",
      "[CV] END ..............................kmeans__n_clusters=81; total time=   4.5s\n",
      "[CV] END ..............................kmeans__n_clusters=81; total time=   3.6s\n",
      "[CV] END ..............................kmeans__n_clusters=81; total time=   3.1s\n",
      "[CV] END ..............................kmeans__n_clusters=82; total time=   3.3s\n",
      "[CV] END ..............................kmeans__n_clusters=82; total time=   3.5s\n",
      "[CV] END ..............................kmeans__n_clusters=82; total time=   3.9s\n",
      "[CV] END ..............................kmeans__n_clusters=83; total time=   3.5s\n",
      "[CV] END ..............................kmeans__n_clusters=83; total time=   3.0s\n",
      "[CV] END ..............................kmeans__n_clusters=83; total time=   2.8s\n",
      "[CV] END ..............................kmeans__n_clusters=84; total time=   3.2s\n",
      "[CV] END ..............................kmeans__n_clusters=84; total time=   3.7s\n",
      "[CV] END ..............................kmeans__n_clusters=84; total time=   3.3s\n",
      "[CV] END ..............................kmeans__n_clusters=85; total time=   3.0s\n",
      "[CV] END ..............................kmeans__n_clusters=85; total time=   3.4s\n",
      "[CV] END ..............................kmeans__n_clusters=85; total time=   3.3s\n",
      "[CV] END ..............................kmeans__n_clusters=86; total time=   2.9s\n",
      "[CV] END ..............................kmeans__n_clusters=86; total time=   3.4s\n",
      "[CV] END ..............................kmeans__n_clusters=86; total time=   3.2s\n",
      "[CV] END ..............................kmeans__n_clusters=87; total time=   3.0s\n",
      "[CV] END ..............................kmeans__n_clusters=87; total time=   3.7s\n",
      "[CV] END ..............................kmeans__n_clusters=87; total time=   3.5s\n",
      "[CV] END ..............................kmeans__n_clusters=88; total time=   3.1s\n",
      "[CV] END ..............................kmeans__n_clusters=88; total time=   3.6s\n",
      "[CV] END ..............................kmeans__n_clusters=88; total time=   3.0s\n",
      "[CV] END ..............................kmeans__n_clusters=89; total time=   3.3s\n",
      "[CV] END ..............................kmeans__n_clusters=89; total time=   3.1s\n",
      "[CV] END ..............................kmeans__n_clusters=89; total time=   3.5s\n",
      "[CV] END ..............................kmeans__n_clusters=90; total time=   3.0s\n",
      "[CV] END ..............................kmeans__n_clusters=90; total time=   3.6s\n",
      "[CV] END ..............................kmeans__n_clusters=90; total time=   3.1s\n",
      "[CV] END ..............................kmeans__n_clusters=91; total time=   3.3s\n",
      "[CV] END ..............................kmeans__n_clusters=91; total time=   3.3s\n",
      "[CV] END ..............................kmeans__n_clusters=91; total time=   3.2s\n",
      "[CV] END ..............................kmeans__n_clusters=92; total time=   3.0s\n",
      "[CV] END ..............................kmeans__n_clusters=92; total time=   3.1s\n",
      "[CV] END ..............................kmeans__n_clusters=92; total time=   3.2s\n",
      "[CV] END ..............................kmeans__n_clusters=93; total time=   3.4s\n",
      "[CV] END ..............................kmeans__n_clusters=93; total time=   3.3s\n",
      "[CV] END ..............................kmeans__n_clusters=93; total time=   3.1s\n",
      "[CV] END ..............................kmeans__n_clusters=94; total time=   3.1s\n",
      "[CV] END ..............................kmeans__n_clusters=94; total time=   3.9s\n",
      "[CV] END ..............................kmeans__n_clusters=94; total time=   3.4s\n",
      "[CV] END ..............................kmeans__n_clusters=95; total time=   5.3s\n",
      "[CV] END ..............................kmeans__n_clusters=95; total time=   5.0s\n",
      "[CV] END ..............................kmeans__n_clusters=95; total time=   5.0s\n",
      "[CV] END ..............................kmeans__n_clusters=96; total time=   4.4s\n",
      "[CV] END ..............................kmeans__n_clusters=96; total time=   3.9s\n",
      "[CV] END ..............................kmeans__n_clusters=96; total time=   3.2s\n",
      "[CV] END ..............................kmeans__n_clusters=97; total time=   3.9s\n",
      "[CV] END ..............................kmeans__n_clusters=97; total time=   4.1s\n",
      "[CV] END ..............................kmeans__n_clusters=97; total time=   3.1s\n",
      "[CV] END ..............................kmeans__n_clusters=98; total time=   3.5s\n",
      "[CV] END ..............................kmeans__n_clusters=98; total time=   3.3s\n",
      "[CV] END ..............................kmeans__n_clusters=98; total time=   2.7s\n",
      "[CV] END ..............................kmeans__n_clusters=99; total time=   3.4s\n",
      "[CV] END ..............................kmeans__n_clusters=99; total time=   3.8s\n",
      "[CV] END ..............................kmeans__n_clusters=99; total time=   3.0s\n"
     ]
    },
    {
     "data": {
      "text/plain": [
       "GridSearchCV(cv=3,\n",
       "             estimator=Pipeline(steps=[('kmeans',\n",
       "                                        KMeans(n_clusters=50, random_state=42)),\n",
       "                                       ('log_reg',\n",
       "                                        LogisticRegression(max_iter=5000,\n",
       "                                                           multi_class='ovr',\n",
       "                                                           random_state=42))]),\n",
       "             param_grid={'kmeans__n_clusters': range(2, 100)}, verbose=2)"
      ]
     },
     "execution_count": 8,
     "metadata": {},
     "output_type": "execute_result"
    }
   ],
   "source": [
    "np.random.seed(42)\n",
    "param_grid = {'kmeans__n_clusters': range(2, 100)}\n",
    "grid_clf = GridSearchCV(pipeline, param_grid, cv=3, verbose=2)\n",
    "grid_clf.fit(X_train, y_train)"
   ]
  },
  {
   "cell_type": "code",
   "execution_count": 9,
   "id": "1bb5c49a",
   "metadata": {},
   "outputs": [
    {
     "data": {
      "text/plain": [
       "{'kmeans__n_clusters': 95}"
      ]
     },
     "execution_count": 9,
     "metadata": {},
     "output_type": "execute_result"
    }
   ],
   "source": [
    "grid_clf.best_params_"
   ]
  },
  {
   "cell_type": "code",
   "execution_count": 10,
   "id": "4210924c",
   "metadata": {},
   "outputs": [
    {
     "data": {
      "text/plain": [
       "0.9777777777777777"
      ]
     },
     "execution_count": 10,
     "metadata": {},
     "output_type": "execute_result"
    }
   ],
   "source": [
    "grid_clf.score(X_test, y_test)"
   ]
  },
  {
   "cell_type": "markdown",
   "id": "c1a3865a",
   "metadata": {},
   "source": [
    "99개의 군집을 사용했을 때 가장 좋은 것을 알 수 있습니다.\n",
    "\n",
    "그리고 테스트 세트에서 98.22%의 정확도를 보입니다."
   ]
  }
 ],
 "metadata": {
  "kernelspec": {
   "display_name": "Python 3 (ipykernel)",
   "language": "python",
   "name": "python3"
  },
  "language_info": {
   "codemirror_mode": {
    "name": "ipython",
    "version": 3
   },
   "file_extension": ".py",
   "mimetype": "text/x-python",
   "name": "python",
   "nbconvert_exporter": "python",
   "pygments_lexer": "ipython3",
   "version": "3.8.8"
  }
 },
 "nbformat": 4,
 "nbformat_minor": 5
}
