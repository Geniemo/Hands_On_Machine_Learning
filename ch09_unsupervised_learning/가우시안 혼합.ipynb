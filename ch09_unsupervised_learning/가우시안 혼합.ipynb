{
 "cells": [
  {
   "cell_type": "code",
   "execution_count": 1,
   "id": "b4434741",
   "metadata": {},
   "outputs": [],
   "source": [
    "from sklearn.datasets import make_blobs\n",
    "import numpy as np\n",
    "X1, y1 = make_blobs(n_samples=1000, centers=((4, -4), (0, 0)), random_state=42)\n",
    "X1 = X1.dot(np.array([[0.374, 0.95], [0.732, 0.598]]))\n",
    "X2, y2 = make_blobs(n_samples=250, centers=1, random_state=42)\n",
    "X2 = X2 + [6, -8]\n",
    "X = np.r_[X1, X2]\n",
    "y = np.r_[y1, y2]"
   ]
  },
  {
   "cell_type": "code",
   "execution_count": 2,
   "id": "63bf219c",
   "metadata": {},
   "outputs": [],
   "source": [
    "from sklearn.mixture import GaussianMixture"
   ]
  },
  {
   "cell_type": "code",
   "execution_count": 3,
   "id": "92c18246",
   "metadata": {},
   "outputs": [
    {
     "data": {
      "text/plain": [
       "GaussianMixture(n_components=3, n_init=10, random_state=42)"
      ]
     },
     "execution_count": 3,
     "metadata": {},
     "output_type": "execute_result"
    }
   ],
   "source": [
    "gm = GaussianMixture(n_components=3, n_init=10, random_state=42)\n",
    "gm.fit(X)"
   ]
  },
  {
   "cell_type": "markdown",
   "id": "3a77a6ba",
   "metadata": {},
   "source": [
    "이 알고리즘이 추정한 파라미터를 확인해보겠습니다."
   ]
  },
  {
   "cell_type": "code",
   "execution_count": 4,
   "id": "94d69aa2",
   "metadata": {},
   "outputs": [
    {
     "data": {
      "text/plain": [
       "array([0.39025715, 0.40007391, 0.20966893])"
      ]
     },
     "execution_count": 4,
     "metadata": {},
     "output_type": "execute_result"
    }
   ],
   "source": [
    "gm.weights_"
   ]
  },
  {
   "cell_type": "code",
   "execution_count": 5,
   "id": "e9e12c11",
   "metadata": {},
   "outputs": [
    {
     "data": {
      "text/plain": [
       "array([[ 0.05131611,  0.07521837],\n",
       "       [-1.40763156,  1.42708225],\n",
       "       [ 3.39893794,  1.05928897]])"
      ]
     },
     "execution_count": 5,
     "metadata": {},
     "output_type": "execute_result"
    }
   ],
   "source": [
    "gm.means_"
   ]
  },
  {
   "cell_type": "code",
   "execution_count": 6,
   "id": "e4bc422c",
   "metadata": {
    "scrolled": true
   },
   "outputs": [
    {
     "data": {
      "text/plain": [
       "array([[[ 0.68799922,  0.79606357],\n",
       "        [ 0.79606357,  1.21236106]],\n",
       "\n",
       "       [[ 0.63479409,  0.72970799],\n",
       "        [ 0.72970799,  1.1610351 ]],\n",
       "\n",
       "       [[ 1.14833585, -0.03256179],\n",
       "        [-0.03256179,  0.95490931]]])"
      ]
     },
     "execution_count": 6,
     "metadata": {},
     "output_type": "execute_result"
    }
   ],
   "source": [
    "gm.covariances_"
   ]
  },
  {
   "cell_type": "markdown",
   "id": "c2d41977",
   "metadata": {},
   "source": [
    "이 클래스는 기댓값-최대화(EM) 알고리즘을 사용하는데,<br>\n",
    "이 알고리즘 또한 최적의 솔루션으로 수렴한다는 것이 보장되지 않습니다.\n",
    "\n",
    "따라서 알고리즘을 수행할 횟수를 n\\_init으로 설정해줄 필요가 있습니다.\n",
    "\n",
    "그리고 알고리즘이 수렴했는지 여부와 반복 횟수를 확인할 수 있습니다."
   ]
  },
  {
   "cell_type": "code",
   "execution_count": 7,
   "id": "c09a79dc",
   "metadata": {},
   "outputs": [
    {
     "data": {
      "text/plain": [
       "True"
      ]
     },
     "execution_count": 7,
     "metadata": {},
     "output_type": "execute_result"
    }
   ],
   "source": [
    "gm.converged_"
   ]
  },
  {
   "cell_type": "code",
   "execution_count": 8,
   "id": "a2b27818",
   "metadata": {},
   "outputs": [
    {
     "data": {
      "text/plain": [
       "4"
      ]
     },
     "execution_count": 8,
     "metadata": {},
     "output_type": "execute_result"
    }
   ],
   "source": [
    "gm.n_iter_"
   ]
  },
  {
   "cell_type": "markdown",
   "id": "7113eb27",
   "metadata": {},
   "source": [
    "수렴했고, 4번 반복했음을 알 수 있습니다."
   ]
  },
  {
   "cell_type": "markdown",
   "id": "ee2f9137",
   "metadata": {},
   "source": [
    "이 모델은 새로운 샘플을 가장 비슷한 클러스터에 손쉽게 할당할 수 있습니다.(하드 군집)<br>\n",
    "하드 군집을 위해서는 predict() 메소드를 사용합니다.\n",
    "\n",
    "또는 특정 클러스터에 속할 확률을 예측할 수 있습니다.(소프트 군집)<br>\n",
    "소프트 군집을 위해서는 predict_proba() 메소드를 사용합니다."
   ]
  },
  {
   "cell_type": "code",
   "execution_count": 9,
   "id": "fe5692f1",
   "metadata": {},
   "outputs": [
    {
     "data": {
      "text/plain": [
       "array([0, 0, 1, ..., 2, 2, 2], dtype=int64)"
      ]
     },
     "execution_count": 9,
     "metadata": {},
     "output_type": "execute_result"
    }
   ],
   "source": [
    "gm.predict(X)"
   ]
  },
  {
   "cell_type": "code",
   "execution_count": 10,
   "id": "7fce0911",
   "metadata": {},
   "outputs": [
    {
     "data": {
      "text/plain": [
       "array([[9.76741808e-01, 6.78581203e-07, 2.32575136e-02],\n",
       "       [9.82832955e-01, 6.76173663e-04, 1.64908714e-02],\n",
       "       [7.46494398e-05, 9.99923327e-01, 2.02398402e-06],\n",
       "       ...,\n",
       "       [4.26050456e-07, 2.15512941e-26, 9.99999574e-01],\n",
       "       [5.04987704e-16, 1.48083217e-41, 1.00000000e+00],\n",
       "       [2.24602826e-15, 8.11457779e-41, 1.00000000e+00]])"
      ]
     },
     "execution_count": 10,
     "metadata": {},
     "output_type": "execute_result"
    }
   ],
   "source": [
    "gm.predict_proba(X)"
   ]
  },
  {
   "cell_type": "markdown",
   "id": "e87bb165",
   "metadata": {},
   "source": [
    "가우시안 혼합 모델은 생성 모델입니다.<br>\n",
    "즉 이 모델에서 새로운 샘플을 만들 수 있다는 것입니다.<br>\n",
    "(새로 만든 샘플은 클러스터 인덱스 순으로 정렬되어 있습니다.)"
   ]
  },
  {
   "cell_type": "code",
   "execution_count": 11,
   "id": "c1ac7d43",
   "metadata": {},
   "outputs": [],
   "source": [
    "X_new, y_new = gm.sample(6)"
   ]
  },
  {
   "cell_type": "code",
   "execution_count": 12,
   "id": "275edb7d",
   "metadata": {},
   "outputs": [
    {
     "data": {
      "text/plain": [
       "array([[-0.86944074, -0.32767626],\n",
       "       [ 0.29836051,  0.28297011],\n",
       "       [-2.8014927 , -0.09047309],\n",
       "       [ 3.98203732,  1.49951491],\n",
       "       [ 3.81677148,  0.53095244],\n",
       "       [ 2.84104923, -0.73858639]])"
      ]
     },
     "execution_count": 12,
     "metadata": {},
     "output_type": "execute_result"
    }
   ],
   "source": [
    "X_new"
   ]
  },
  {
   "cell_type": "code",
   "execution_count": 13,
   "id": "9d45fa61",
   "metadata": {},
   "outputs": [
    {
     "data": {
      "text/plain": [
       "array([0, 0, 1, 2, 2, 2])"
      ]
     },
     "execution_count": 13,
     "metadata": {},
     "output_type": "execute_result"
    }
   ],
   "source": [
    "y_new"
   ]
  },
  {
   "cell_type": "markdown",
   "id": "9816c89d",
   "metadata": {},
   "source": [
    "또한 주어진 위치에서 모델의 밀도를 추정할 수 있습니다.<br>\n",
    "이를 위해 score_samples() 메소드를 사용합니다.\n",
    "\n",
    "샘플이 주어지면 이 메소드는 그 위치의 확률 밀도 함수의 로그를 예측합니다.<br>\n",
    "점수가 높을수록 밀도가 높습니다."
   ]
  },
  {
   "cell_type": "code",
   "execution_count": 14,
   "id": "548035cf",
   "metadata": {},
   "outputs": [
    {
     "data": {
      "text/plain": [
       "array([-2.60768954, -3.57110232, -3.32987086, ..., -3.51347241,\n",
       "       -4.39798588, -3.80746532])"
      ]
     },
     "execution_count": 14,
     "metadata": {},
     "output_type": "execute_result"
    }
   ],
   "source": [
    "gm.score_samples(X)"
   ]
  },
  {
   "cell_type": "markdown",
   "id": "ba6024ed",
   "metadata": {},
   "source": [
    "이 점수의 지숫값을 계산하면 샘플의 위치에서 PDF 값을 얻을 수 있습니다.\n",
    "\n",
    "이 값은 하나의 확률이 아니라 확률 밀도입니다.<br>\n",
    "샘플이 특정 지역 안에 속할 확률을 예측하려면 그 지역에 대해 PDF를 적분해야 합니다."
   ]
  },
  {
   "cell_type": "markdown",
   "id": "c0a683d7",
   "metadata": {},
   "source": [
    "특성이나 클러스터가 많거나 샘플이 적을 때는 EM이 최고의 솔루션으로 수렴하기 어렵습니다.<br>\n",
    "이런 어려움을 줄이려면 학습할 파라미터 개수를 제한해야 합니다.\n",
    "\n",
    "방법 중 하나는 클러스터의 모양과 방향의 범위를 제한하는 것입니다.\n",
    "사이킷런에서는 covariance_type 매개변수에 다음 중 하나를 설정하면 됩니다.\n",
    "- 'spherical'\n",
    "- 'diag'\n",
    "- 'tied'"
   ]
  }
 ],
 "metadata": {
  "kernelspec": {
   "display_name": "Python 3 (ipykernel)",
   "language": "python",
   "name": "python3"
  },
  "language_info": {
   "codemirror_mode": {
    "name": "ipython",
    "version": 3
   },
   "file_extension": ".py",
   "mimetype": "text/x-python",
   "name": "python",
   "nbconvert_exporter": "python",
   "pygments_lexer": "ipython3",
   "version": "3.9.7"
  }
 },
 "nbformat": 4,
 "nbformat_minor": 5
}
