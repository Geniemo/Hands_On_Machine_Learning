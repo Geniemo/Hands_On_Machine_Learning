{
 "cells": [
  {
   "cell_type": "code",
   "execution_count": 1,
   "id": "dec783d3",
   "metadata": {},
   "outputs": [],
   "source": [
    "import tensorflow as tf\n",
    "from tensorflow import keras"
   ]
  },
  {
   "cell_type": "markdown",
   "id": "607fa186",
   "metadata": {},
   "source": [
    "최대 풀링 층을 구현하는 것은 쉽습니다.\n",
    "\n",
    "다음 코드는 2 * 2 커널을 사용해 최대 풀링 층을 만듭니다.<br>\n",
    "스트라이드의 기본값은 커널 크기이므로 스트라이드 2를 사용합니다.<br>\n",
    "그리고 기본적으로 'valid' 패딩(아무것도 넣지 않음)을 사용합니다."
   ]
  },
  {
   "cell_type": "code",
   "execution_count": 2,
   "id": "dc145c41",
   "metadata": {},
   "outputs": [],
   "source": [
    "max_pool = keras.layers.MaxPool2D(pool_size=2)"
   ]
  },
  {
   "cell_type": "markdown",
   "id": "76efad78",
   "metadata": {},
   "source": [
    "평균 풀링 층을 사용하려면 MaxPool2D 대신 AvgPool2D를 사용하면 됩니다.<br>\n",
    "이 층은 최댓값이 아닌 평균을 계산하는 것 빼고는 최대 풀링 층과 동일하게 작동합니다."
   ]
  },
  {
   "cell_type": "code",
   "execution_count": 3,
   "id": "6fb1e63c",
   "metadata": {},
   "outputs": [],
   "source": [
    "avg_pool = keras.layers.AvgPool2D(pool_size=2)"
   ]
  },
  {
   "cell_type": "markdown",
   "id": "aa220b85",
   "metadata": {},
   "source": [
    "일반적으로 최대 풀링 층이 더 성능이 좋아서 대부분 최대 풀링 층을 사용합니다.\n",
    "\n",
    "일반적으로 평균을 계산하면 최댓값을 계산하는 것보다 정보 손실이 적습니다.<br>\n",
    "반면 최대 풀링은 의미 없는 것은 제거하고 가장 큰 특징만 유지하므로 다음 층이 명확한 신호로 작업할 수 있습니다.<br>\n",
    "또한 최대 풀링이 평균 풀링보다 강력한 이동 불변성을 제공하고 연산 비용이 덜 듭니다."
   ]
  },
  {
   "cell_type": "markdown",
   "id": "2f8f0be3",
   "metadata": {},
   "source": [
    "흔하지는 않지만 최대 풀링과 평균 풀링을 깊이 차원으로 수행할 수도 있습니다.<br>\n",
    "이를 이용하면 CNN이 다양한 특성에 대해 불변성을 학습할 수 있습니다.\n",
    "\n",
    "케라스는 깊이방향 풀링 층을 제공하지 않지만 텐서플로 저수준 딥러닝 API를 사용할 수 있습니다.\n",
    "\n",
    "tf.nn.max_pool() 함수를 사용하고,<br>\n",
    "커널 크기와 스트라이드를 4개의 원소를 가진 튜플로 지정합니다.<br>\n",
    "첫 세 값은 1이어야 합니다. 이는 배치, 높이, 너비 차원을 따라 커널 크기와 스트라이드가 1이란 것입니다.<br>\n",
    "그리고 깊이 차원을 따라 원하는 커널 사이즈와 스트라이드를 마지막 값에 지정합니다.<br>\n",
    "(이 값은 입력 깊이를 나눴을 때 떨어지는 값이어야 합니다.)\n",
    "\n",
    "```py\n",
    "output = tf.nn.max_pool(images,\n",
    "                        ksize=(1, 1, 1, 3),\n",
    "                        strides=(1, 1, 1, 3),\n",
    "                        padding='valid')\n",
    "```\n",
    "\n",
    "이를 케라스 모델의 층으로 사용하고 싶으면 Lambda 층으로 감싸면 됩니다."
   ]
  },
  {
   "cell_type": "code",
   "execution_count": 4,
   "id": "4c123261",
   "metadata": {},
   "outputs": [],
   "source": [
    "depth_pool = keras.layers.Lambda(\n",
    "    lambda X: tf.nn.max_pool(X, ksize=(1, 1, 1, 3), strides=(1, 1, 1, 3),\n",
    "                            padding='valid'))"
   ]
  },
  {
   "cell_type": "markdown",
   "id": "16ed7168",
   "metadata": {},
   "source": [
    "마지막으로 보게 될 풀링 층은 전역 평균 풀링 층입니다.<br>\n",
    "이 층은 각 특성 맵의 평균을 계산하고, 각 샘플의 특성 맵마다 하나의 숫자를 출력합니다.<br>\n",
    "이는 매우 파괴적이지만 출력층에는 유용할 수 있습니다.\n",
    "\n",
    "keras.layers.GlobalAvgPool2D 클래스를 사용합니다."
   ]
  },
  {
   "cell_type": "code",
   "execution_count": 5,
   "id": "43141bab",
   "metadata": {},
   "outputs": [],
   "source": [
    "global_avg_pool = keras.layers.GlobalAvgPool2D()"
   ]
  },
  {
   "cell_type": "markdown",
   "id": "c06a0de1",
   "metadata": {},
   "source": [
    "이는 공간 방향(높이, 너비)를 따라 평균을 계산하는 Lambda 층과 동일합니다."
   ]
  },
  {
   "cell_type": "code",
   "execution_count": 6,
   "id": "61c2ea34",
   "metadata": {},
   "outputs": [],
   "source": [
    "global_avg_pool_2 = keras.layers.Lambda(lambda X: tf.reduce_mean(X, axis[1, 2]))"
   ]
  }
 ],
 "metadata": {
  "kernelspec": {
   "display_name": "Python 3 (ipykernel)",
   "language": "python",
   "name": "python3"
  },
  "language_info": {
   "codemirror_mode": {
    "name": "ipython",
    "version": 3
   },
   "file_extension": ".py",
   "mimetype": "text/x-python",
   "name": "python",
   "nbconvert_exporter": "python",
   "pygments_lexer": "ipython3",
   "version": "3.9.7"
  }
 },
 "nbformat": 4,
 "nbformat_minor": 5
}
