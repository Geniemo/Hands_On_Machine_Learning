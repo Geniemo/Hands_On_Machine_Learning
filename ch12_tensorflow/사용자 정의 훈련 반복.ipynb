{
 "cells": [
  {
   "cell_type": "markdown",
   "id": "01a91b64",
   "metadata": {},
   "source": [
    "먼저 간단한 모델을 만들어보겠습니다.<br>\n",
    "여기선 훈련 반복을 직접 다루기 때문에 컴파일할 필요가 없습니다."
   ]
  },
  {
   "cell_type": "code",
   "execution_count": 8,
   "id": "10795353",
   "metadata": {},
   "outputs": [],
   "source": [
    "l2_reg = keras.regularizers.l2(0.05)\n",
    "model = keras.models.Sequential([\n",
    "    keras.layers.Dense(30, activation=\"elu\", kernel_initializer=\"he_normal\",\n",
    "                       kernel_regularizer=l2_reg),\n",
    "    keras.layers.Dense(1, kernel_regularizer=l2_reg)\n",
    "])"
   ]
  },
  {
   "cell_type": "code",
   "execution_count": null,
   "id": "54b12e0b",
   "metadata": {},
   "outputs": [],
   "source": []
  }
 ],
 "metadata": {
  "kernelspec": {
   "display_name": "Python 3 (ipykernel)",
   "language": "python",
   "name": "python3"
  },
  "language_info": {
   "codemirror_mode": {
    "name": "ipython",
    "version": 3
   },
   "file_extension": ".py",
   "mimetype": "text/x-python",
   "name": "python",
   "nbconvert_exporter": "python",
   "pygments_lexer": "ipython3",
   "version": "3.9.7"
  }
 },
 "nbformat": 4,
 "nbformat_minor": 5
}
