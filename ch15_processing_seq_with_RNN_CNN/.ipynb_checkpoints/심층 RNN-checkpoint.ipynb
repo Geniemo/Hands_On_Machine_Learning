{
 "cells": [
  {
   "cell_type": "markdown",
   "id": "e1a3cf25",
   "metadata": {},
   "source": [
    "# 심층 RNN\n",
    "tf.keras로 심층 RNN을 구현하는 것은 쉽습니다.<br>\n",
    "그냥 아래처럼 순환 층을 쌓으면 됩니다."
   ]
  },
  {
   "cell_type": "code",
   "execution_count": 11,
   "id": "ac2e8b98",
   "metadata": {},
   "outputs": [
    {
     "name": "stdout",
     "output_type": "stream",
     "text": [
      "Epoch 1/20\n",
      "219/219 [==============================] - 4s 14ms/step - loss: 0.0175 - val_loss: 0.0051\n",
      "Epoch 2/20\n",
      "219/219 [==============================] - 3s 13ms/step - loss: 0.0042 - val_loss: 0.0034\n",
      "Epoch 3/20\n",
      "219/219 [==============================] - 3s 13ms/step - loss: 0.0035 - val_loss: 0.0030\n",
      "Epoch 4/20\n",
      "219/219 [==============================] - 3s 13ms/step - loss: 0.0031 - val_loss: 0.0030\n",
      "Epoch 5/20\n",
      "219/219 [==============================] - 3s 13ms/step - loss: 0.0031 - val_loss: 0.0030\n",
      "Epoch 6/20\n",
      "219/219 [==============================] - 3s 13ms/step - loss: 0.0030 - val_loss: 0.0029\n",
      "Epoch 7/20\n",
      "219/219 [==============================] - 3s 13ms/step - loss: 0.0029 - val_loss: 0.0031\n",
      "Epoch 8/20\n",
      "219/219 [==============================] - 3s 12ms/step - loss: 0.0030 - val_loss: 0.0028\n",
      "Epoch 9/20\n",
      "219/219 [==============================] - 3s 13ms/step - loss: 0.0029 - val_loss: 0.0027\n",
      "Epoch 10/20\n",
      "219/219 [==============================] - 3s 12ms/step - loss: 0.0028 - val_loss: 0.0026\n",
      "Epoch 11/20\n",
      "219/219 [==============================] - 3s 13ms/step - loss: 0.0028 - val_loss: 0.0026\n",
      "Epoch 12/20\n",
      "219/219 [==============================] - 3s 13ms/step - loss: 0.0028 - val_loss: 0.0027\n",
      "Epoch 13/20\n",
      "219/219 [==============================] - 3s 13ms/step - loss: 0.0029 - val_loss: 0.0026\n",
      "Epoch 14/20\n",
      "219/219 [==============================] - 3s 13ms/step - loss: 0.0028 - val_loss: 0.0027\n",
      "Epoch 15/20\n",
      "219/219 [==============================] - 3s 13ms/step - loss: 0.0029 - val_loss: 0.0031\n",
      "Epoch 16/20\n",
      "219/219 [==============================] - 3s 13ms/step - loss: 0.0029 - val_loss: 0.0026\n",
      "Epoch 17/20\n",
      "219/219 [==============================] - 3s 13ms/step - loss: 0.0028 - val_loss: 0.0027\n",
      "Epoch 18/20\n",
      "219/219 [==============================] - 3s 13ms/step - loss: 0.0028 - val_loss: 0.0026\n",
      "Epoch 19/20\n",
      "219/219 [==============================] - 3s 13ms/step - loss: 0.0027 - val_loss: 0.0026\n",
      "Epoch 20/20\n",
      "219/219 [==============================] - 3s 13ms/step - loss: 0.0028 - val_loss: 0.0026\n"
     ]
    }
   ],
   "source": [
    "model = keras.models.Sequential([\n",
    "    keras.layers.SimpleRNN(20, return_sequences=True, input_shape=[None, 1]),\n",
    "    keras.layers.SimpleRNN(20, return_sequences=True),\n",
    "    keras.layers.SimpleRNN(1)\n",
    "])\n",
    "\n",
    "model.compile(loss=\"mse\", optimizer=\"adam\")\n",
    "history = model.fit(X_train, y_train, epochs=20,\n",
    "                    validation_data=(X_valid, y_valid))"
   ]
  },
  {
   "cell_type": "markdown",
   "id": "c15ace5c",
   "metadata": {},
   "source": [
    "이 때 모든 순환 층에서 return_sequences=True로 설정해야 합니다.<br>\n",
    "(마지막 출력만 관심 대상이면 마지막 층에서는 설정하지 않습니다.)\n",
    "\n",
    "그렇지 않으면 모든 타임 스텝에 대한 출력을 담은 3D 배열이 아니라<br>\n",
    "마지막 타임 스텝의 출력만 담은 2D 배열이 출력되고<br>\n",
    "순환 층이 3D 형태로 시퀀스를 받지 못하기 때문에 작동하지 못합니다."
   ]
  },
  {
   "cell_type": "code",
   "execution_count": 12,
   "id": "fd28dfc3",
   "metadata": {},
   "outputs": [
    {
     "name": "stdout",
     "output_type": "stream",
     "text": [
      "63/63 [==============================] - 0s 4ms/step - loss: 0.0026\n"
     ]
    },
    {
     "data": {
      "text/plain": [
       "0.0026385621167719364"
      ]
     },
     "execution_count": 12,
     "metadata": {},
     "output_type": "execute_result"
    }
   ],
   "source": [
    "model.evaluate(X_valid, y_valid)"
   ]
  },
  {
   "cell_type": "markdown",
   "id": "3e2372a9",
   "metadata": {},
   "source": [
    "이렇게 만든 모델은 0.0026의 MSE를 기록합니다.<br>\n",
    "드디어 기준 성능을 뛰어넘었습니다."
   ]
  },
  {
   "cell_type": "markdown",
   "id": "dd167343",
   "metadata": {},
   "source": [
    "그런데 이 때 마지막 층은 이상적이지 않습니다.<br>\n",
    "하나의 유닛을 가진다는 것은 은닉 상태가 하나의 숫자라는 뜻입니다.<br>\n",
    "아마 이 RNN은 한 타임 스텝에서 다음 스텝으로 필요한 모든 정보를 나르기 위해<br>\n",
    "다른 순환 층의 은닉 상태를 주로 사용할 것입니다.<br>\n",
    "이 때 마지막 층의 은닉 상태는 크게 필요하지 않습니다.\n",
    "\n",
    "이런 이유로 출력층을 Dense 층으로 바꾸는 경우가 많습니다.<br>\n",
    "더 빠르면서 정확도는 거의 비슷합니다.<br>\n",
    "이렇게 바꾸려면 두 번째 순환 층에서 return_sequences=True를 제거합니다."
   ]
  },
  {
   "cell_type": "code",
   "execution_count": 13,
   "id": "c9d694f6",
   "metadata": {},
   "outputs": [
    {
     "name": "stdout",
     "output_type": "stream",
     "text": [
      "Epoch 1/20\n",
      "219/219 [==============================] - 3s 10ms/step - loss: 0.0869 - val_loss: 0.0084\n",
      "Epoch 2/20\n",
      "219/219 [==============================] - 2s 9ms/step - loss: 0.0059 - val_loss: 0.0045\n",
      "Epoch 3/20\n",
      "219/219 [==============================] - 2s 10ms/step - loss: 0.0041 - val_loss: 0.0036\n",
      "Epoch 4/20\n",
      "219/219 [==============================] - 2s 9ms/step - loss: 0.0034 - val_loss: 0.0033\n",
      "Epoch 5/20\n",
      "219/219 [==============================] - 2s 10ms/step - loss: 0.0032 - val_loss: 0.0030\n",
      "Epoch 6/20\n",
      "219/219 [==============================] - 2s 9ms/step - loss: 0.0030 - val_loss: 0.0028\n",
      "Epoch 7/20\n",
      "219/219 [==============================] - 2s 9ms/step - loss: 0.0029 - val_loss: 0.0029\n",
      "Epoch 8/20\n",
      "219/219 [==============================] - 2s 10ms/step - loss: 0.0029 - val_loss: 0.0027\n",
      "Epoch 9/20\n",
      "219/219 [==============================] - 2s 9ms/step - loss: 0.0029 - val_loss: 0.0026\n",
      "Epoch 10/20\n",
      "219/219 [==============================] - 2s 9ms/step - loss: 0.0028 - val_loss: 0.0026\n",
      "Epoch 11/20\n",
      "219/219 [==============================] - 2s 10ms/step - loss: 0.0028 - val_loss: 0.0026\n",
      "Epoch 12/20\n",
      "219/219 [==============================] - 2s 9ms/step - loss: 0.0028 - val_loss: 0.0029\n",
      "Epoch 13/20\n",
      "219/219 [==============================] - 2s 9ms/step - loss: 0.0029 - val_loss: 0.0028\n",
      "Epoch 14/20\n",
      "219/219 [==============================] - 2s 9ms/step - loss: 0.0029 - val_loss: 0.0026\n",
      "Epoch 15/20\n",
      "219/219 [==============================] - 2s 10ms/step - loss: 0.0029 - val_loss: 0.0028\n",
      "Epoch 16/20\n",
      "219/219 [==============================] - 2s 10ms/step - loss: 0.0029 - val_loss: 0.0026\n",
      "Epoch 17/20\n",
      "219/219 [==============================] - 2s 10ms/step - loss: 0.0028 - val_loss: 0.0028\n",
      "Epoch 18/20\n",
      "219/219 [==============================] - 2s 9ms/step - loss: 0.0028 - val_loss: 0.0025\n",
      "Epoch 19/20\n",
      "219/219 [==============================] - 2s 9ms/step - loss: 0.0027 - val_loss: 0.0025\n",
      "Epoch 20/20\n",
      "219/219 [==============================] - 2s 9ms/step - loss: 0.0027 - val_loss: 0.0027\n"
     ]
    }
   ],
   "source": [
    "model = keras.models.Sequential([\n",
    "    keras.layers.SimpleRNN(20, return_sequences=True, input_shape=[None, 1]),\n",
    "    keras.layers.SimpleRNN(20),\n",
    "    keras.layers.Dense(1)\n",
    "])\n",
    "\n",
    "model.compile(loss=\"mse\", optimizer=\"adam\")\n",
    "history = model.fit(X_train, y_train, epochs=20,\n",
    "                    validation_data=(X_valid, y_valid))"
   ]
  },
  {
   "cell_type": "markdown",
   "id": "9c0174d3",
   "metadata": {},
   "source": [
    "이 모델을 훈련하면 수렴도 빠르고 성능도 좋습니다.<br>\n",
    "또한 출력층의 활성화 함수를 원하는 함수로 바꿀 수도 있습니다."
   ]
  },
  {
   "cell_type": "code",
   "execution_count": 14,
   "id": "6ce03c3d",
   "metadata": {},
   "outputs": [
    {
     "name": "stdout",
     "output_type": "stream",
     "text": [
      "63/63 [==============================] - 0s 3ms/step - loss: 0.0027\n"
     ]
    },
    {
     "data": {
      "text/plain": [
       "0.0026609303895384073"
      ]
     },
     "execution_count": 14,
     "metadata": {},
     "output_type": "execute_result"
    }
   ],
   "source": [
    "model.evaluate(X_valid, y_valid)"
   ]
  }
 ],
 "metadata": {
  "kernelspec": {
   "display_name": "Python 3 (ipykernel)",
   "language": "python",
   "name": "python3"
  },
  "language_info": {
   "codemirror_mode": {
    "name": "ipython",
    "version": 3
   },
   "file_extension": ".py",
   "mimetype": "text/x-python",
   "name": "python",
   "nbconvert_exporter": "python",
   "pygments_lexer": "ipython3",
   "version": "3.8.8"
  }
 },
 "nbformat": 4,
 "nbformat_minor": 5
}
