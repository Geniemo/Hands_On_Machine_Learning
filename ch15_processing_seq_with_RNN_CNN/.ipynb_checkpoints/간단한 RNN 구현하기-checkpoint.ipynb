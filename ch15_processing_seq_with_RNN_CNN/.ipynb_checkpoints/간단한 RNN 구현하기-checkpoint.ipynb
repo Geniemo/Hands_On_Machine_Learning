{
 "cells": [
  {
   "cell_type": "markdown",
   "id": "ef960ec1",
   "metadata": {},
   "source": [
    "# 간단한 RNN 구현하기\n",
    "간단한 RNN을 사용해 기준 성능을 앞지를 수 있는지 확인하겠습니다."
   ]
  },
  {
   "cell_type": "code",
   "execution_count": 8,
   "id": "215d9273",
   "metadata": {},
   "outputs": [],
   "source": [
    "model = keras.models.Sequential([\n",
    "    keras.layers.SimpleRNN(1, input_shape=[None, 1])\n",
    "])"
   ]
  },
  {
   "cell_type": "markdown",
   "id": "d043ed9d",
   "metadata": {},
   "source": [
    "위 코드가 가장 간단하게 만들 수 있는 RNN입니다.\n",
    "\n",
    "하나의 뉴런으로 이루어진 하나의 층을 가집니다.<br>\n",
    "순환 신경망은 어떤 길이의 타임 스텝도 처리할 수 있기 때문에 입력 시퀀스의 길이를 지정할 필요가 없습니다.<br>\n",
    "기본적으로 SimpleRNN 층은 하이퍼볼릭 탄젠트 활성화 함수를 사용합니다."
   ]
  },
  {
   "cell_type": "code",
   "execution_count": 9,
   "id": "48b8dfb9",
   "metadata": {},
   "outputs": [
    {
     "name": "stdout",
     "output_type": "stream",
     "text": [
      "Epoch 1/20\n",
      "219/219 [==============================] - 2s 5ms/step - loss: 0.0313 - val_loss: 0.0127\n",
      "Epoch 2/20\n",
      "219/219 [==============================] - 1s 5ms/step - loss: 0.0119 - val_loss: 0.0112\n",
      "Epoch 3/20\n",
      "219/219 [==============================] - 1s 5ms/step - loss: 0.0115 - val_loss: 0.0110\n",
      "Epoch 4/20\n",
      "219/219 [==============================] - 1s 5ms/step - loss: 0.0114 - val_loss: 0.0109\n",
      "Epoch 5/20\n",
      "219/219 [==============================] - 1s 5ms/step - loss: 0.0114 - val_loss: 0.0109\n",
      "Epoch 6/20\n",
      "219/219 [==============================] - 1s 5ms/step - loss: 0.0114 - val_loss: 0.0109\n",
      "Epoch 7/20\n",
      "219/219 [==============================] - 1s 5ms/step - loss: 0.0114 - val_loss: 0.0109\n",
      "Epoch 8/20\n",
      "219/219 [==============================] - ETA: 0s - loss: 0.0114- ETA: 0s - - 1s 5ms/step - loss: 0.0114 - val_loss: 0.0109\n",
      "Epoch 9/20\n",
      "219/219 [==============================] - 1s 5ms/step - loss: 0.0114 - val_loss: 0.0109\n",
      "Epoch 10/20\n",
      "219/219 [==============================] - 1s 5ms/step - loss: 0.0114 - val_loss: 0.0110\n",
      "Epoch 11/20\n",
      "219/219 [==============================] - 1s 5ms/step - loss: 0.0114 - val_loss: 0.0109\n",
      "Epoch 12/20\n",
      "219/219 [==============================] - 1s 5ms/step - loss: 0.0114 - val_loss: 0.0109\n",
      "Epoch 13/20\n",
      "219/219 [==============================] - 1s 5ms/step - loss: 0.0114 - val_loss: 0.0109\n",
      "Epoch 14/20\n",
      "219/219 [==============================] - 1s 5ms/step - loss: 0.0114 - val_loss: 0.0109\n",
      "Epoch 15/20\n",
      "219/219 [==============================] - 1s 5ms/step - loss: 0.0114 - val_loss: 0.0109\n",
      "Epoch 16/20\n",
      "219/219 [==============================] - 1s 5ms/step - loss: 0.0114 - val_loss: 0.0109\n",
      "Epoch 17/20\n",
      "219/219 [==============================] - 1s 5ms/step - loss: 0.0114 - val_loss: 0.0109\n",
      "Epoch 18/20\n",
      "219/219 [==============================] - 1s 5ms/step - loss: 0.0114 - val_loss: 0.0109\n",
      "Epoch 19/20\n",
      "219/219 [==============================] - 1s 5ms/step - loss: 0.0114 - val_loss: 0.0109\n",
      "Epoch 20/20\n",
      "219/219 [==============================] - 1s 5ms/step - loss: 0.0114 - val_loss: 0.0109\n"
     ]
    }
   ],
   "source": [
    "optimizer = keras.optimizers.Adam(learning_rate=0.005)\n",
    "model.compile(loss=\"mse\", optimizer=optimizer)\n",
    "history = model.fit(X_train, y_train, epochs=20,\n",
    "                    validation_data=(X_valid, y_valid))"
   ]
  },
  {
   "cell_type": "code",
   "execution_count": 10,
   "id": "86996bac",
   "metadata": {
    "scrolled": true
   },
   "outputs": [
    {
     "name": "stdout",
     "output_type": "stream",
     "text": [
      "63/63 [==============================] - 0s 2ms/step - loss: 0.0109\n"
     ]
    },
    {
     "data": {
      "text/plain": [
       "0.01090716291218996"
      ]
     },
     "execution_count": 10,
     "metadata": {},
     "output_type": "execute_result"
    }
   ],
   "source": [
    "model.evaluate(X_valid, y_valid)"
   ]
  },
  {
   "cell_type": "markdown",
   "id": "90c5f1fe",
   "metadata": {},
   "source": [
    "0.0109의 MSE를 얻었습니다.<br>\n",
    "순진한 예측보다는 낫지만 간단한 선형 모델을 앞지르지는 못했습니다."
   ]
  }
 ],
 "metadata": {
  "kernelspec": {
   "display_name": "Python 3 (ipykernel)",
   "language": "python",
   "name": "python3"
  },
  "language_info": {
   "codemirror_mode": {
    "name": "ipython",
    "version": 3
   },
   "file_extension": ".py",
   "mimetype": "text/x-python",
   "name": "python",
   "nbconvert_exporter": "python",
   "pygments_lexer": "ipython3",
   "version": "3.8.8"
  }
 },
 "nbformat": 4,
 "nbformat_minor": 5
}
