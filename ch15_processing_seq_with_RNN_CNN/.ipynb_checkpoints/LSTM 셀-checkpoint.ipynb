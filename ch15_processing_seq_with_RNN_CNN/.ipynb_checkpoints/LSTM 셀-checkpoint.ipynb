{
 "cells": [
  {
   "cell_type": "markdown",
   "id": "a7fca8da",
   "metadata": {},
   "source": [
    "## LSTM 셀"
   ]
  },
  {
   "cell_type": "code",
   "execution_count": 29,
   "id": "65f1d156",
   "metadata": {},
   "outputs": [
    {
     "name": "stdout",
     "output_type": "stream",
     "text": [
      "Epoch 1/20\n",
      "219/219 [==============================] - 8s 25ms/step - loss: 0.0774 - last_time_step_mse: 0.0638 - val_loss: 0.0543 - val_last_time_step_mse: 0.0342\n",
      "Epoch 2/20\n",
      "219/219 [==============================] - 4s 20ms/step - loss: 0.0473 - last_time_step_mse: 0.0259 - val_loss: 0.0418 - val_last_time_step_mse: 0.0220\n",
      "Epoch 3/20\n",
      "219/219 [==============================] - 4s 20ms/step - loss: 0.0387 - last_time_step_mse: 0.0173 - val_loss: 0.0363 - val_last_time_step_mse: 0.0160\n",
      "Epoch 4/20\n",
      "219/219 [==============================] - 4s 20ms/step - loss: 0.0349 - last_time_step_mse: 0.0149 - val_loss: 0.0335 - val_last_time_step_mse: 0.0143\n",
      "Epoch 5/20\n",
      "219/219 [==============================] - 4s 20ms/step - loss: 0.0327 - last_time_step_mse: 0.0139 - val_loss: 0.0315 - val_last_time_step_mse: 0.0133\n",
      "Epoch 6/20\n",
      "219/219 [==============================] - 5s 21ms/step - loss: 0.0311 - last_time_step_mse: 0.0131 - val_loss: 0.0306 - val_last_time_step_mse: 0.0134\n",
      "Epoch 7/20\n",
      "219/219 [==============================] - 5s 22ms/step - loss: 0.0299 - last_time_step_mse: 0.0125 - val_loss: 0.0292 - val_last_time_step_mse: 0.0123\n",
      "Epoch 8/20\n",
      "219/219 [==============================] - 5s 21ms/step - loss: 0.0288 - last_time_step_mse: 0.0117 - val_loss: 0.0281 - val_last_time_step_mse: 0.0112\n",
      "Epoch 9/20\n",
      "219/219 [==============================] - 5s 21ms/step - loss: 0.0279 - last_time_step_mse: 0.0111 - val_loss: 0.0274 - val_last_time_step_mse: 0.0109\n",
      "Epoch 10/20\n",
      "219/219 [==============================] - 4s 20ms/step - loss: 0.0273 - last_time_step_mse: 0.0106 - val_loss: 0.0271 - val_last_time_step_mse: 0.0103\n",
      "Epoch 11/20\n",
      "219/219 [==============================] - 5s 21ms/step - loss: 0.0265 - last_time_step_mse: 0.0102 - val_loss: 0.0262 - val_last_time_step_mse: 0.0108\n",
      "Epoch 12/20\n",
      "219/219 [==============================] - 4s 20ms/step - loss: 0.0260 - last_time_step_mse: 0.0099 - val_loss: 0.0256 - val_last_time_step_mse: 0.0093\n",
      "Epoch 13/20\n",
      "219/219 [==============================] - 4s 20ms/step - loss: 0.0254 - last_time_step_mse: 0.0094 - val_loss: 0.0253 - val_last_time_step_mse: 0.0089\n",
      "Epoch 14/20\n",
      "219/219 [==============================] - 4s 20ms/step - loss: 0.0250 - last_time_step_mse: 0.0091 - val_loss: 0.0247 - val_last_time_step_mse: 0.0089\n",
      "Epoch 15/20\n",
      "219/219 [==============================] - 4s 20ms/step - loss: 0.0247 - last_time_step_mse: 0.0090 - val_loss: 0.0242 - val_last_time_step_mse: 0.0086\n",
      "Epoch 16/20\n",
      "219/219 [==============================] - 4s 20ms/step - loss: 0.0243 - last_time_step_mse: 0.0086 - val_loss: 0.0241 - val_last_time_step_mse: 0.0084\n",
      "Epoch 17/20\n",
      "219/219 [==============================] - 4s 21ms/step - loss: 0.0241 - last_time_step_mse: 0.0084 - val_loss: 0.0238 - val_last_time_step_mse: 0.0089\n",
      "Epoch 18/20\n",
      "219/219 [==============================] - 4s 20ms/step - loss: 0.0238 - last_time_step_mse: 0.0083 - val_loss: 0.0236 - val_last_time_step_mse: 0.0080\n",
      "Epoch 19/20\n",
      "219/219 [==============================] - 5s 21ms/step - loss: 0.0236 - last_time_step_mse: 0.0081 - val_loss: 0.0236 - val_last_time_step_mse: 0.0081\n",
      "Epoch 20/20\n",
      "219/219 [==============================] - 5s 21ms/step - loss: 0.0235 - last_time_step_mse: 0.0084 - val_loss: 0.0231 - val_last_time_step_mse: 0.0083\n"
     ]
    }
   ],
   "source": [
    "model = keras.models.Sequential([\n",
    "    keras.layers.LSTM(20, return_sequences=True, input_shape=[None, 1]),\n",
    "    keras.layers.LSTM(20, return_sequences=True),\n",
    "    keras.layers.TimeDistributed(keras.layers.Dense(10))\n",
    "])\n",
    "\n",
    "model.compile(loss=\"mse\", optimizer=\"adam\", metrics=[last_time_step_mse])\n",
    "history = model.fit(X_train, Y_train, epochs=20,\n",
    "                    validation_data=(X_valid, Y_valid))"
   ]
  },
  {
   "cell_type": "code",
   "execution_count": 30,
   "id": "6212cf1a",
   "metadata": {},
   "outputs": [
    {
     "name": "stdout",
     "output_type": "stream",
     "text": [
      "63/63 [==============================] - 0s 5ms/step - loss: 0.0231 - last_time_step_mse: 0.0083\n"
     ]
    },
    {
     "data": {
      "text/plain": [
       "[0.02312830276787281, 0.00827905721962452]"
      ]
     },
     "execution_count": 30,
     "metadata": {},
     "output_type": "execute_result"
    }
   ],
   "source": [
    "model.evaluate(X_valid, Y_valid)"
   ]
  }
 ],
 "metadata": {
  "kernelspec": {
   "display_name": "Python 3 (ipykernel)",
   "language": "python",
   "name": "python3"
  },
  "language_info": {
   "codemirror_mode": {
    "name": "ipython",
    "version": 3
   },
   "file_extension": ".py",
   "mimetype": "text/x-python",
   "name": "python",
   "nbconvert_exporter": "python",
   "pygments_lexer": "ipython3",
   "version": "3.8.8"
  }
 },
 "nbformat": 4,
 "nbformat_minor": 5
}
