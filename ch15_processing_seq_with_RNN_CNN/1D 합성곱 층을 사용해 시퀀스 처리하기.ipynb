{
 "cells": [
  {
   "cell_type": "markdown",
   "id": "016e012b",
   "metadata": {},
   "source": [
    "## 1D 합성곱 층을 사용해 시퀀스 처리하기\n",
    "지금의 예는 앞의 모델과 같은데 스트라이드 2를 사용해 입력 시퀀스를 두 배로 다운샘플링하는 1D 합성곱 층으로 시작합니다. 커널 크기가 스트라이드보다 크므로 모든 입력을 사용해 이 층의 출력을 계산합니다. 따라서 모델이 중요하지 않은 세부 사항을 버리고 유용한 정보를 학습할 수 있습니다."
   ]
  },
  {
   "cell_type": "code",
   "execution_count": 31,
   "id": "e961e2c4",
   "metadata": {},
   "outputs": [
    {
     "name": "stdout",
     "output_type": "stream",
     "text": [
      "Epoch 1/20\n",
      "219/219 [==============================] - 6s 15ms/step - loss: 0.0681 - last_time_step_mse: 0.0610 - val_loss: 0.0494 - val_last_time_step_mse: 0.0419\n",
      "Epoch 2/20\n",
      "219/219 [==============================] - 3s 12ms/step - loss: 0.0392 - last_time_step_mse: 0.0310 - val_loss: 0.0318 - val_last_time_step_mse: 0.0216\n",
      "Epoch 3/20\n",
      "219/219 [==============================] - 3s 12ms/step - loss: 0.0283 - last_time_step_mse: 0.0176 - val_loss: 0.0259 - val_last_time_step_mse: 0.0152\n",
      "Epoch 4/20\n",
      "219/219 [==============================] - 3s 12ms/step - loss: 0.0252 - last_time_step_mse: 0.0144 - val_loss: 0.0239 - val_last_time_step_mse: 0.0137\n",
      "Epoch 5/20\n",
      "219/219 [==============================] - 3s 12ms/step - loss: 0.0236 - last_time_step_mse: 0.0129 - val_loss: 0.0227 - val_last_time_step_mse: 0.0124\n",
      "Epoch 6/20\n",
      "219/219 [==============================] - 3s 12ms/step - loss: 0.0225 - last_time_step_mse: 0.0120 - val_loss: 0.0218 - val_last_time_step_mse: 0.0116\n",
      "Epoch 7/20\n",
      "219/219 [==============================] - 3s 12ms/step - loss: 0.0218 - last_time_step_mse: 0.0114 - val_loss: 0.0213 - val_last_time_step_mse: 0.0113\n",
      "Epoch 8/20\n",
      "219/219 [==============================] - 3s 12ms/step - loss: 0.0213 - last_time_step_mse: 0.0109 - val_loss: 0.0207 - val_last_time_step_mse: 0.0107\n",
      "Epoch 9/20\n",
      "219/219 [==============================] - 3s 12ms/step - loss: 0.0208 - last_time_step_mse: 0.0106 - val_loss: 0.0202 - val_last_time_step_mse: 0.0102\n",
      "Epoch 10/20\n",
      "219/219 [==============================] - 3s 12ms/step - loss: 0.0205 - last_time_step_mse: 0.0102 - val_loss: 0.0200 - val_last_time_step_mse: 0.0101\n",
      "Epoch 11/20\n",
      "219/219 [==============================] - 3s 14ms/step - loss: 0.0201 - last_time_step_mse: 0.0099 - val_loss: 0.0197 - val_last_time_step_mse: 0.0099\n",
      "Epoch 12/20\n",
      "219/219 [==============================] - 3s 13ms/step - loss: 0.0198 - last_time_step_mse: 0.0098 - val_loss: 0.0195 - val_last_time_step_mse: 0.0098\n",
      "Epoch 13/20\n",
      "219/219 [==============================] - 3s 13ms/step - loss: 0.0195 - last_time_step_mse: 0.0094 - val_loss: 0.0194 - val_last_time_step_mse: 0.0096\n",
      "Epoch 14/20\n",
      "219/219 [==============================] - 3s 12ms/step - loss: 0.0193 - last_time_step_mse: 0.0093 - val_loss: 0.0190 - val_last_time_step_mse: 0.0093\n",
      "Epoch 15/20\n",
      "219/219 [==============================] - 3s 12ms/step - loss: 0.0191 - last_time_step_mse: 0.0091 - val_loss: 0.0187 - val_last_time_step_mse: 0.0090\n",
      "Epoch 16/20\n",
      "219/219 [==============================] - 3s 12ms/step - loss: 0.0189 - last_time_step_mse: 0.0090 - val_loss: 0.0185 - val_last_time_step_mse: 0.0089\n",
      "Epoch 17/20\n",
      "219/219 [==============================] - 3s 12ms/step - loss: 0.0187 - last_time_step_mse: 0.0088 - val_loss: 0.0184 - val_last_time_step_mse: 0.0088\n",
      "Epoch 18/20\n",
      "219/219 [==============================] - 3s 12ms/step - loss: 0.0185 - last_time_step_mse: 0.0086 - val_loss: 0.0189 - val_last_time_step_mse: 0.0097\n",
      "Epoch 19/20\n",
      "219/219 [==============================] - 3s 12ms/step - loss: 0.0183 - last_time_step_mse: 0.0085 - val_loss: 0.0180 - val_last_time_step_mse: 0.0085\n",
      "Epoch 20/20\n",
      "219/219 [==============================] - 3s 12ms/step - loss: 0.0181 - last_time_step_mse: 0.0084 - val_loss: 0.0178 - val_last_time_step_mse: 0.0084\n"
     ]
    }
   ],
   "source": [
    "model = keras.models.Sequential([\n",
    "    keras.layers.Conv1D(filters=20, kernel_size=4, strides=2, padding=\"valid\",\n",
    "                        input_shape=[None, 1]),\n",
    "    keras.layers.GRU(20, return_sequences=True),\n",
    "    keras.layers.GRU(20, return_sequences=True),\n",
    "    keras.layers.TimeDistributed(keras.layers.Dense(10))\n",
    "])\n",
    "\n",
    "model.compile(loss=\"mse\", optimizer=\"adam\", metrics=[last_time_step_mse])\n",
    "history = model.fit(X_train, Y_train[:, 3::2], epochs=20,\n",
    "                    validation_data=(X_valid, Y_valid[:, 3::2]))"
   ]
  },
  {
   "cell_type": "code",
   "execution_count": 32,
   "id": "548d25bb",
   "metadata": {},
   "outputs": [
    {
     "name": "stdout",
     "output_type": "stream",
     "text": [
      "63/63 [==============================] - 0s 3ms/step - loss: 0.0178 - last_time_step_mse: 0.0084\n"
     ]
    },
    {
     "data": {
      "text/plain": [
       "[0.0178215391933918, 0.008373051881790161]"
      ]
     },
     "execution_count": 32,
     "metadata": {},
     "output_type": "execute_result"
    }
   ],
   "source": [
    "model.evaluate(X_valid, Y_valid[:, 3::2])"
   ]
  },
  {
   "cell_type": "markdown",
   "id": "3ef4b9d2",
   "metadata": {},
   "source": [
    "여태중에 가장 좋은 모델임을 알 수 있습니다."
   ]
  }
 ],
 "metadata": {
  "kernelspec": {
   "display_name": "Python 3 (ipykernel)",
   "language": "python",
   "name": "python3"
  },
  "language_info": {
   "codemirror_mode": {
    "name": "ipython",
    "version": 3
   },
   "file_extension": ".py",
   "mimetype": "text/x-python",
   "name": "python",
   "nbconvert_exporter": "python",
   "pygments_lexer": "ipython3",
   "version": "3.8.8"
  }
 },
 "nbformat": 4,
 "nbformat_minor": 5
}
