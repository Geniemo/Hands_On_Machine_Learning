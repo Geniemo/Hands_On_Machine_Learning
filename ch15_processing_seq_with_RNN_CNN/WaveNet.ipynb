{
 "cells": [
  {
   "cell_type": "markdown",
   "id": "35a0e9e5",
   "metadata": {},
   "source": [
    "## WaveNet"
   ]
  },
  {
   "cell_type": "code",
   "execution_count": 33,
   "id": "add9b882",
   "metadata": {},
   "outputs": [
    {
     "name": "stdout",
     "output_type": "stream",
     "text": [
      "Epoch 1/20\n",
      "219/219 [==============================] - 3s 8ms/step - loss: 0.0712 - last_time_step_mse: 0.0595 - val_loss: 0.0385 - val_last_time_step_mse: 0.0237\n",
      "Epoch 2/20\n",
      "219/219 [==============================] - 1s 6ms/step - loss: 0.0340 - last_time_step_mse: 0.0196 - val_loss: 0.0319 - val_last_time_step_mse: 0.0176\n",
      "Epoch 3/20\n",
      "219/219 [==============================] - 1s 6ms/step - loss: 0.0298 - last_time_step_mse: 0.0165 - val_loss: 0.0287 - val_last_time_step_mse: 0.0159\n",
      "Epoch 4/20\n",
      "219/219 [==============================] - 1s 6ms/step - loss: 0.0277 - last_time_step_mse: 0.0150 - val_loss: 0.0265 - val_last_time_step_mse: 0.0139\n",
      "Epoch 5/20\n",
      "219/219 [==============================] - 2s 7ms/step - loss: 0.0262 - last_time_step_mse: 0.0137 - val_loss: 0.0258 - val_last_time_step_mse: 0.0135\n",
      "Epoch 6/20\n",
      "219/219 [==============================] - 1s 6ms/step - loss: 0.0252 - last_time_step_mse: 0.0129 - val_loss: 0.0247 - val_last_time_step_mse: 0.0126\n",
      "Epoch 7/20\n",
      "219/219 [==============================] - 1s 6ms/step - loss: 0.0245 - last_time_step_mse: 0.0122 - val_loss: 0.0272 - val_last_time_step_mse: 0.0166\n",
      "Epoch 8/20\n",
      "219/219 [==============================] - 1s 6ms/step - loss: 0.0239 - last_time_step_mse: 0.0118 - val_loss: 0.0232 - val_last_time_step_mse: 0.0110\n",
      "Epoch 9/20\n",
      "219/219 [==============================] - 1s 6ms/step - loss: 0.0234 - last_time_step_mse: 0.0113 - val_loss: 0.0227 - val_last_time_step_mse: 0.0106\n",
      "Epoch 10/20\n",
      "219/219 [==============================] - 1s 6ms/step - loss: 0.0230 - last_time_step_mse: 0.0109 - val_loss: 0.0228 - val_last_time_step_mse: 0.0106\n",
      "Epoch 11/20\n",
      "219/219 [==============================] - 1s 6ms/step - loss: 0.0225 - last_time_step_mse: 0.0105 - val_loss: 0.0223 - val_last_time_step_mse: 0.0102\n",
      "Epoch 12/20\n",
      "219/219 [==============================] - 1s 6ms/step - loss: 0.0222 - last_time_step_mse: 0.0102 - val_loss: 0.0220 - val_last_time_step_mse: 0.0098\n",
      "Epoch 13/20\n",
      "219/219 [==============================] - 1s 6ms/step - loss: 0.0217 - last_time_step_mse: 0.0097 - val_loss: 0.0216 - val_last_time_step_mse: 0.0092\n",
      "Epoch 14/20\n",
      "219/219 [==============================] - 1s 6ms/step - loss: 0.0214 - last_time_step_mse: 0.0094 - val_loss: 0.0210 - val_last_time_step_mse: 0.0089\n",
      "Epoch 15/20\n",
      "219/219 [==============================] - 1s 6ms/step - loss: 0.0212 - last_time_step_mse: 0.0091 - val_loss: 0.0214 - val_last_time_step_mse: 0.0096\n",
      "Epoch 16/20\n",
      "219/219 [==============================] - 1s 6ms/step - loss: 0.0210 - last_time_step_mse: 0.0090 - val_loss: 0.0204 - val_last_time_step_mse: 0.0082\n",
      "Epoch 17/20\n",
      "219/219 [==============================] - 1s 6ms/step - loss: 0.0207 - last_time_step_mse: 0.0087 - val_loss: 0.0203 - val_last_time_step_mse: 0.0082\n",
      "Epoch 18/20\n",
      "219/219 [==============================] - 1s 6ms/step - loss: 0.0203 - last_time_step_mse: 0.0084 - val_loss: 0.0209 - val_last_time_step_mse: 0.0092\n",
      "Epoch 19/20\n",
      "219/219 [==============================] - 1s 6ms/step - loss: 0.0202 - last_time_step_mse: 0.0082 - val_loss: 0.0200 - val_last_time_step_mse: 0.0078\n",
      "Epoch 20/20\n",
      "219/219 [==============================] - 1s 6ms/step - loss: 0.0200 - last_time_step_mse: 0.0080 - val_loss: 0.0202 - val_last_time_step_mse: 0.0085\n"
     ]
    }
   ],
   "source": [
    "model = keras.models.Sequential()\n",
    "model.add(keras.layers.InputLayer(input_shape=[None, 1]))\n",
    "for rate in (1, 2, 4, 8) * 2:\n",
    "    model.add(keras.layers.Conv1D(filters=20, kernel_size=2, padding=\"causal\",\n",
    "                                  activation=\"relu\", dilation_rate=rate))\n",
    "model.add(keras.layers.Conv1D(filters=10, kernel_size=1))\n",
    "model.compile(loss=\"mse\", optimizer=\"adam\", metrics=[last_time_step_mse])\n",
    "history = model.fit(X_train, Y_train, epochs=20,\n",
    "                    validation_data=(X_valid, Y_valid))"
   ]
  },
  {
   "cell_type": "code",
   "execution_count": 34,
   "id": "ce8dfc8f",
   "metadata": {},
   "outputs": [
    {
     "name": "stdout",
     "output_type": "stream",
     "text": [
      "63/63 [==============================] - 0s 2ms/step - loss: 0.0202 - last_time_step_mse: 0.0085\n"
     ]
    },
    {
     "data": {
      "text/plain": [
       "[0.020175999030470848, 0.00847913883626461]"
      ]
     },
     "execution_count": 34,
     "metadata": {},
     "output_type": "execute_result"
    }
   ],
   "source": [
    "model.evaluate(X_valid, Y_valid)"
   ]
  },
  {
   "cell_type": "markdown",
   "id": "3db53c4f",
   "metadata": {},
   "source": [
    "마지막 두 모델이 이 시계열을 예측하는 데 가장 좋은 성능을 제공합니다."
   ]
  }
 ],
 "metadata": {
  "kernelspec": {
   "display_name": "Python 3 (ipykernel)",
   "language": "python",
   "name": "python3"
  },
  "language_info": {
   "codemirror_mode": {
    "name": "ipython",
    "version": 3
   },
   "file_extension": ".py",
   "mimetype": "text/x-python",
   "name": "python",
   "nbconvert_exporter": "python",
   "pygments_lexer": "ipython3",
   "version": "3.8.8"
  }
 },
 "nbformat": 4,
 "nbformat_minor": 5
}
