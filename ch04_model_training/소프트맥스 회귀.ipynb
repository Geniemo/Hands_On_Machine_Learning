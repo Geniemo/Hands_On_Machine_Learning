{
 "cells": [
  {
   "cell_type": "markdown",
   "id": "22ec92ac",
   "metadata": {},
   "source": [
    "sklearn의 붓꽃 데이터셋을 사용하겠습니다."
   ]
  },
  {
   "cell_type": "code",
   "execution_count": 1,
   "id": "327f17b3",
   "metadata": {},
   "outputs": [],
   "source": [
    "from sklearn import datasets"
   ]
  },
  {
   "cell_type": "code",
   "execution_count": 2,
   "id": "f65bd050",
   "metadata": {
    "scrolled": true
   },
   "outputs": [
    {
     "data": {
      "text/plain": [
       "['data',\n",
       " 'target',\n",
       " 'frame',\n",
       " 'target_names',\n",
       " 'DESCR',\n",
       " 'feature_names',\n",
       " 'filename',\n",
       " 'data_module']"
      ]
     },
     "execution_count": 2,
     "metadata": {},
     "output_type": "execute_result"
    }
   ],
   "source": [
    "iris = datasets.load_iris()\n",
    "list(iris.keys())"
   ]
  },
  {
   "cell_type": "code",
   "execution_count": 3,
   "id": "8dc86edc",
   "metadata": {},
   "outputs": [],
   "source": [
    "X = iris['data'][:, (2, 3)]  # 꽃잎 길이, 꽃잎 너비\n",
    "y = iris['target']"
   ]
  },
  {
   "cell_type": "markdown",
   "id": "e71de3c0",
   "metadata": {},
   "source": [
    "LogisticRegression에 multi_class 매개변수로 'multinomial'을 전달해주면 소프트맥스 회귀를 조절할 수 있습니다.<br>\n",
    "그리고 소프트맥스 회귀를 쓰려면 solver 매개변수에 'lbfgs'와 같이<br>\n",
    "소프트맥스 회귀를 지원하는 알고리즘을 지정해야 합니다."
   ]
  },
  {
   "cell_type": "code",
   "execution_count": 4,
   "id": "71dbdd03",
   "metadata": {},
   "outputs": [],
   "source": [
    "from sklearn.linear_model import LogisticRegression\n",
    "softmax_reg = LogisticRegression(multi_class='multinomial', solver='lbfgs', C=10)"
   ]
  },
  {
   "cell_type": "code",
   "execution_count": 5,
   "id": "1ce1a5a0",
   "metadata": {},
   "outputs": [
    {
     "data": {
      "text/plain": [
       "LogisticRegression(C=10, multi_class='multinomial')"
      ]
     },
     "execution_count": 5,
     "metadata": {},
     "output_type": "execute_result"
    }
   ],
   "source": [
    "softmax_reg.fit(X, y)"
   ]
  },
  {
   "cell_type": "markdown",
   "id": "9ea2bbe6",
   "metadata": {},
   "source": [
    "꽃잎의 길이가 5cm, 너비가 2cm인 붓꽃을 발견했다고 가정하고<br>\n",
    "이 붓꽃의 품종을 예측해보겠습니다."
   ]
  },
  {
   "cell_type": "code",
   "execution_count": 6,
   "id": "2b126d6e",
   "metadata": {},
   "outputs": [
    {
     "data": {
      "text/plain": [
       "array([2])"
      ]
     },
     "execution_count": 6,
     "metadata": {},
     "output_type": "execute_result"
    }
   ],
   "source": [
    "softmax_reg.predict([[5, 2]])"
   ]
  },
  {
   "cell_type": "code",
   "execution_count": 7,
   "id": "3e7bf8ee",
   "metadata": {},
   "outputs": [
    {
     "data": {
      "text/plain": [
       "array([[6.38014896e-07, 5.74929995e-02, 9.42506362e-01]])"
      ]
     },
     "execution_count": 7,
     "metadata": {},
     "output_type": "execute_result"
    }
   ],
   "source": [
    "softmax_reg.predict_proba([[5, 2]])"
   ]
  },
  {
   "cell_type": "markdown",
   "id": "9d512bce",
   "metadata": {},
   "source": [
    "약 94.2%의 확률로 클래스 2라고 분류하는 것을 알 수 있습니다."
   ]
  }
 ],
 "metadata": {
  "kernelspec": {
   "display_name": "Python 3 (ipykernel)",
   "language": "python",
   "name": "python3"
  },
  "language_info": {
   "codemirror_mode": {
    "name": "ipython",
    "version": 3
   },
   "file_extension": ".py",
   "mimetype": "text/x-python",
   "name": "python",
   "nbconvert_exporter": "python",
   "pygments_lexer": "ipython3",
   "version": "3.9.7"
  }
 },
 "nbformat": 4,
 "nbformat_minor": 5
}
