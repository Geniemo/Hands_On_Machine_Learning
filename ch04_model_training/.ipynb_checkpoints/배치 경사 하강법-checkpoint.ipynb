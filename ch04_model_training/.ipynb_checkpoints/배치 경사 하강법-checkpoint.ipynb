{
 "cells": [
  {
   "cell_type": "markdown",
   "id": "70c78f84",
   "metadata": {},
   "source": [
    "# 배치 경사 하강법"
   ]
  },
  {
   "cell_type": "code",
   "execution_count": 5,
   "id": "099638ab",
   "metadata": {},
   "outputs": [],
   "source": [
    "eta = 0.1  # 학습률\n",
    "n_iterations = 1000\n",
    "m = 100\n",
    "\n",
    "theta = np.random.randn(2, 1)  # 무작위 초기화\n",
    "\n",
    "for iteration in range(n_iterations):\n",
    "    gradients = (2 / m) * X_b.T @ (X_b @ theta - y)\n",
    "    theta = theta - eta * gradients"
   ]
  },
  {
   "cell_type": "code",
   "execution_count": 6,
   "id": "fef8340d",
   "metadata": {},
   "outputs": [
    {
     "data": {
      "text/plain": [
       "array([[4.21509616],\n",
       "       [2.77011339]])"
      ]
     },
     "execution_count": 6,
     "metadata": {},
     "output_type": "execute_result"
    }
   ],
   "source": [
    "theta"
   ]
  },
  {
   "cell_type": "markdown",
   "id": "8232b8b0",
   "metadata": {},
   "source": [
    "4와 3을 기대했는데 잡음때문에 좀 방해가 있어서 다른 값이 나왔지만<br>\n",
    "꽤나 근접한 theta를 구해냈음을 알 수 있습니다."
   ]
  }
 ],
 "metadata": {
  "kernelspec": {
   "display_name": "Python 3 (ipykernel)",
   "language": "python",
   "name": "python3"
  },
  "language_info": {
   "codemirror_mode": {
    "name": "ipython",
    "version": 3
   },
   "file_extension": ".py",
   "mimetype": "text/x-python",
   "name": "python",
   "nbconvert_exporter": "python",
   "pygments_lexer": "ipython3",
   "version": "3.8.8"
  }
 },
 "nbformat": 4,
 "nbformat_minor": 5
}
