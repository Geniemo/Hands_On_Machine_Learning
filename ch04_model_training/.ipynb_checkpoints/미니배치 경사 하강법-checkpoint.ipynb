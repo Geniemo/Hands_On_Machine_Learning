{
 "cells": [
  {
   "cell_type": "markdown",
   "id": "03048526",
   "metadata": {},
   "source": [
    "# 미니배치 경사 하강법"
   ]
  },
  {
   "cell_type": "code",
   "execution_count": 11,
   "id": "9eb53f72",
   "metadata": {},
   "outputs": [],
   "source": [
    "n_iterations = 50\n",
    "minibatch_size = 20"
   ]
  },
  {
   "cell_type": "code",
   "execution_count": 12,
   "id": "91b0a20c",
   "metadata": {},
   "outputs": [],
   "source": [
    "t0, t1 = 200, 1000\n",
    "def learning_schedule(t):\n",
    "    return t0 / (t + t1)"
   ]
  },
  {
   "cell_type": "code",
   "execution_count": 13,
   "id": "ec754537",
   "metadata": {},
   "outputs": [],
   "source": [
    "theta = np.random.randn(2,1)  # 랜덤 초기화"
   ]
  },
  {
   "cell_type": "code",
   "execution_count": 15,
   "id": "64f56308",
   "metadata": {},
   "outputs": [],
   "source": [
    "t = 0\n",
    "for epoch in range(n_iterations):\n",
    "    shuffled_indices = np.random.permutation(m)\n",
    "    X_b_shuffled = X_b[shuffled_indices]\n",
    "    y_shuffled = y[shuffled_indices]\n",
    "    for i in range(0, m, minibatch_size):\n",
    "        t += 1\n",
    "        xi = X_b_shuffled[i:i+minibatch_size]\n",
    "        yi = y_shuffled[i:i+minibatch_size]\n",
    "        gradients = 2/minibatch_size * xi.T.dot(xi.dot(theta) - yi)\n",
    "        eta = learning_schedule(t)\n",
    "        theta = theta - eta * gradients"
   ]
  },
  {
   "cell_type": "code",
   "execution_count": 16,
   "id": "998f209f",
   "metadata": {},
   "outputs": [
    {
     "data": {
      "text/plain": [
       "array([[4.15920158],\n",
       "       [2.70822283]])"
      ]
     },
     "execution_count": 16,
     "metadata": {},
     "output_type": "execute_result"
    }
   ],
   "source": [
    "theta"
   ]
  }
 ],
 "metadata": {
  "kernelspec": {
   "display_name": "Python 3 (ipykernel)",
   "language": "python",
   "name": "python3"
  },
  "language_info": {
   "codemirror_mode": {
    "name": "ipython",
    "version": 3
   },
   "file_extension": ".py",
   "mimetype": "text/x-python",
   "name": "python",
   "nbconvert_exporter": "python",
   "pygments_lexer": "ipython3",
   "version": "3.8.8"
  }
 },
 "nbformat": 4,
 "nbformat_minor": 5
}
