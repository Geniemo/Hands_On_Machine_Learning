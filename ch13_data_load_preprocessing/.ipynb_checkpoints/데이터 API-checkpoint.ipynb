{
 "cells": [
  {
   "cell_type": "markdown",
   "id": "2a8a882c",
   "metadata": {},
   "source": [
    "전체적인 데이터 API의 중심에는 데이터셋 개념이 있습니다.<br>\n",
    "일반적으로 디스크에서 데이터를 점진적으로 읽는 데이터셋을 사용하지만,<br>\n",
    "지금은 간단히 tf.data.Dataset.from_tensor_slices()를 사용해서 메모리에서 전체 데이터셋을 만들어보겠습니다."
   ]
  },
  {
   "cell_type": "code",
   "execution_count": 2,
   "id": "95b94a32",
   "metadata": {},
   "outputs": [],
   "source": [
    "import tensorflow as tf"
   ]
  },
  {
   "cell_type": "code",
   "execution_count": 3,
   "id": "552a48db",
   "metadata": {},
   "outputs": [],
   "source": [
    "X = tf.range(10)  # 샘플 데이터 텐서\n",
    "dataset = tf.data.Dataset.from_tensor_slices(X)"
   ]
  },
  {
   "cell_type": "code",
   "execution_count": 4,
   "id": "ec9011b5",
   "metadata": {},
   "outputs": [
    {
     "data": {
      "text/plain": [
       "<TensorSliceDataset shapes: (), types: tf.int32>"
      ]
     },
     "execution_count": 4,
     "metadata": {},
     "output_type": "execute_result"
    }
   ],
   "source": [
    "dataset"
   ]
  },
  {
   "cell_type": "code",
   "execution_count": 5,
   "id": "7fd71a4a",
   "metadata": {},
   "outputs": [
    {
     "name": "stdout",
     "output_type": "stream",
     "text": [
      "tf.Tensor(0, shape=(), dtype=int32)\n",
      "tf.Tensor(1, shape=(), dtype=int32)\n",
      "tf.Tensor(2, shape=(), dtype=int32)\n",
      "tf.Tensor(3, shape=(), dtype=int32)\n",
      "tf.Tensor(4, shape=(), dtype=int32)\n",
      "tf.Tensor(5, shape=(), dtype=int32)\n",
      "tf.Tensor(6, shape=(), dtype=int32)\n",
      "tf.Tensor(7, shape=(), dtype=int32)\n",
      "tf.Tensor(8, shape=(), dtype=int32)\n",
      "tf.Tensor(9, shape=(), dtype=int32)\n"
     ]
    }
   ],
   "source": [
    "for item in dataset:\n",
    "    print(item)"
   ]
  },
  {
   "cell_type": "markdown",
   "id": "aea96e83",
   "metadata": {},
   "source": [
    "이렇게 만든 데이터셋은 tf.data.Dataset.range(10)과 동일합니다."
   ]
  },
  {
   "cell_type": "markdown",
   "id": "60608bc1",
   "metadata": {},
   "source": [
    "# 연쇄 변환\n",
    "데이터셋이 준비되면 변환 메소드를 호출해 여러 종류의 변환을 수행할 수 있습니다."
   ]
  },
  {
   "cell_type": "code",
   "execution_count": 6,
   "id": "51b999a2",
   "metadata": {},
   "outputs": [],
   "source": [
    "dataset = dataset.repeat(3).batch(7)"
   ]
  },
  {
   "cell_type": "markdown",
   "id": "d81a7173",
   "metadata": {},
   "source": [
    "이렇게 데이터셋을 형성하면, 원래 데이터셋을 세 번 반복하고,<br>\n",
    "30개의 아이템을 7개씩 나눠줍니다."
   ]
  },
  {
   "cell_type": "code",
   "execution_count": 7,
   "id": "16be72af",
   "metadata": {},
   "outputs": [
    {
     "name": "stdout",
     "output_type": "stream",
     "text": [
      "tf.Tensor([0 1 2 3 4 5 6], shape=(7,), dtype=int32)\n",
      "tf.Tensor([7 8 9 0 1 2 3], shape=(7,), dtype=int32)\n",
      "tf.Tensor([4 5 6 7 8 9 0], shape=(7,), dtype=int32)\n",
      "tf.Tensor([1 2 3 4 5 6 7], shape=(7,), dtype=int32)\n",
      "tf.Tensor([8 9], shape=(2,), dtype=int32)\n"
     ]
    }
   ],
   "source": [
    "for item in dataset:\n",
    "    print(item)"
   ]
  },
  {
   "cell_type": "markdown",
   "id": "3439c59a",
   "metadata": {},
   "source": [
    "그런데 끝에 개수가 맞지 않아서 2개가 남는데,<br>\n",
    "이렇게 남는 건 batch()메소드에서 drop_remainder=True로 설정하면 길이가 모자란 마지막 배치를 버립니다."
   ]
  },
  {
   "cell_type": "markdown",
   "id": "e4c47ae6",
   "metadata": {},
   "source": [
    "map() 메소드를 호출해 아이템을 변환할 수도 있습니다.<br>\n",
    "예를 들어 아래 코드는 모든 아이템에 2를 곱해 새 데이터셋을 만듭니다.\n",
    "\n",
    "이 때 전달하는 함수는 텐서플로 함수로 변환이 가능해야 합니다."
   ]
  },
  {
   "cell_type": "code",
   "execution_count": 8,
   "id": "c6c4d558",
   "metadata": {},
   "outputs": [],
   "source": [
    "dataset = dataset.map(lambda x: x * 2)"
   ]
  },
  {
   "cell_type": "code",
   "execution_count": 9,
   "id": "b2eaf6b7",
   "metadata": {},
   "outputs": [
    {
     "name": "stdout",
     "output_type": "stream",
     "text": [
      "tf.Tensor([ 0  2  4  6  8 10 12], shape=(7,), dtype=int32)\n",
      "tf.Tensor([14 16 18  0  2  4  6], shape=(7,), dtype=int32)\n",
      "tf.Tensor([ 8 10 12 14 16 18  0], shape=(7,), dtype=int32)\n",
      "tf.Tensor([ 2  4  6  8 10 12 14], shape=(7,), dtype=int32)\n",
      "tf.Tensor([16 18], shape=(2,), dtype=int32)\n"
     ]
    }
   ],
   "source": [
    "for item in dataset:\n",
    "    print(item)"
   ]
  },
  {
   "cell_type": "markdown",
   "id": "266b3ce4",
   "metadata": {},
   "source": [
    "map() 메소드가 각 아이템에 변환을 적용하지만<br>\n",
    "apply() 메소드는 데이터셋 전체에 변환을 적용합니다.\n",
    "\n",
    "아래 코드는 데이터셋에 unbatch() 함수를 적용합니다.<br>\n",
    "새로 만들어진 데이터셋의 각 아이템은 7개의 정수로 이뤄진 배치가 아니라 하나의 정수 텐서가 됩니다."
   ]
  },
  {
   "cell_type": "code",
   "execution_count": 10,
   "id": "e62aba29",
   "metadata": {},
   "outputs": [
    {
     "name": "stdout",
     "output_type": "stream",
     "text": [
      "WARNING:tensorflow:From C:\\Users\\jiweo\\AppData\\Local\\Temp/ipykernel_21724/643490874.py:1: unbatch (from tensorflow.python.data.experimental.ops.batching) is deprecated and will be removed in a future version.\n",
      "Instructions for updating:\n",
      "Use `tf.data.Dataset.unbatch()`.\n"
     ]
    }
   ],
   "source": [
    "dataset = dataset.apply(tf.data.experimental.unbatch())"
   ]
  },
  {
   "cell_type": "code",
   "execution_count": 11,
   "id": "b531563e",
   "metadata": {},
   "outputs": [
    {
     "name": "stdout",
     "output_type": "stream",
     "text": [
      "tf.Tensor(0, shape=(), dtype=int32)\n",
      "tf.Tensor(2, shape=(), dtype=int32)\n",
      "tf.Tensor(4, shape=(), dtype=int32)\n",
      "tf.Tensor(6, shape=(), dtype=int32)\n",
      "tf.Tensor(8, shape=(), dtype=int32)\n",
      "tf.Tensor(10, shape=(), dtype=int32)\n",
      "tf.Tensor(12, shape=(), dtype=int32)\n",
      "tf.Tensor(14, shape=(), dtype=int32)\n",
      "tf.Tensor(16, shape=(), dtype=int32)\n",
      "tf.Tensor(18, shape=(), dtype=int32)\n",
      "tf.Tensor(0, shape=(), dtype=int32)\n",
      "tf.Tensor(2, shape=(), dtype=int32)\n",
      "tf.Tensor(4, shape=(), dtype=int32)\n",
      "tf.Tensor(6, shape=(), dtype=int32)\n",
      "tf.Tensor(8, shape=(), dtype=int32)\n",
      "tf.Tensor(10, shape=(), dtype=int32)\n",
      "tf.Tensor(12, shape=(), dtype=int32)\n",
      "tf.Tensor(14, shape=(), dtype=int32)\n",
      "tf.Tensor(16, shape=(), dtype=int32)\n",
      "tf.Tensor(18, shape=(), dtype=int32)\n",
      "tf.Tensor(0, shape=(), dtype=int32)\n",
      "tf.Tensor(2, shape=(), dtype=int32)\n",
      "tf.Tensor(4, shape=(), dtype=int32)\n",
      "tf.Tensor(6, shape=(), dtype=int32)\n",
      "tf.Tensor(8, shape=(), dtype=int32)\n",
      "tf.Tensor(10, shape=(), dtype=int32)\n",
      "tf.Tensor(12, shape=(), dtype=int32)\n",
      "tf.Tensor(14, shape=(), dtype=int32)\n",
      "tf.Tensor(16, shape=(), dtype=int32)\n",
      "tf.Tensor(18, shape=(), dtype=int32)\n"
     ]
    }
   ],
   "source": [
    "for item in dataset:\n",
    "    print(item)"
   ]
  },
  {
   "cell_type": "markdown",
   "id": "74e09ab8",
   "metadata": {},
   "source": [
    "filter() 메소드를 사용해 데이터셋을 필터링할 수 있습니다."
   ]
  },
  {
   "cell_type": "code",
   "execution_count": 12,
   "id": "4764f23f",
   "metadata": {},
   "outputs": [],
   "source": [
    "dataset = dataset.filter(lambda x: x < 10)"
   ]
  },
  {
   "cell_type": "code",
   "execution_count": 13,
   "id": "ce7ca0be",
   "metadata": {},
   "outputs": [
    {
     "name": "stdout",
     "output_type": "stream",
     "text": [
      "tf.Tensor(0, shape=(), dtype=int32)\n",
      "tf.Tensor(2, shape=(), dtype=int32)\n",
      "tf.Tensor(4, shape=(), dtype=int32)\n",
      "tf.Tensor(6, shape=(), dtype=int32)\n",
      "tf.Tensor(8, shape=(), dtype=int32)\n",
      "tf.Tensor(0, shape=(), dtype=int32)\n",
      "tf.Tensor(2, shape=(), dtype=int32)\n",
      "tf.Tensor(4, shape=(), dtype=int32)\n",
      "tf.Tensor(6, shape=(), dtype=int32)\n",
      "tf.Tensor(8, shape=(), dtype=int32)\n",
      "tf.Tensor(0, shape=(), dtype=int32)\n",
      "tf.Tensor(2, shape=(), dtype=int32)\n",
      "tf.Tensor(4, shape=(), dtype=int32)\n",
      "tf.Tensor(6, shape=(), dtype=int32)\n",
      "tf.Tensor(8, shape=(), dtype=int32)\n"
     ]
    }
   ],
   "source": [
    "for item in dataset:\n",
    "    print(item)"
   ]
  },
  {
   "cell_type": "markdown",
   "id": "29c77ee4",
   "metadata": {},
   "source": [
    "데이터셋에 있는 몇 개의 아이템만 보고 싶다면 take() 메소드를 사용합니다."
   ]
  },
  {
   "cell_type": "code",
   "execution_count": 14,
   "id": "4ca5da3d",
   "metadata": {},
   "outputs": [
    {
     "name": "stdout",
     "output_type": "stream",
     "text": [
      "tf.Tensor(0, shape=(), dtype=int32)\n",
      "tf.Tensor(2, shape=(), dtype=int32)\n",
      "tf.Tensor(4, shape=(), dtype=int32)\n"
     ]
    }
   ],
   "source": [
    "for item in dataset.take(3):\n",
    "    print(item)"
   ]
  },
  {
   "cell_type": "markdown",
   "id": "72e9865e",
   "metadata": {},
   "source": [
    "# 데이터 셔플링\n",
    "경사 하강법은 훈련 세트에 있는 샘플이 독립적이고 동일한 분포일 때 최고 성능을 발휘합니다.<br>\n",
    "이렇게 하는 간단한 방법은 shuffle() 메소드를 사용하는 것입니다.<br>\n",
    "이 메소드는 원본 데이터셋의 처음 아이템을 buffer_size 개수만큼 추출해 버퍼에 채웁니다.<br>\n",
    "그 다음 새로운 아이템이 요청되면 버퍼에서 랜덤하게 하나를 꺼내 반환합니다.<br>\n",
    "원본 데이터셋에서 새로운 아이템을 추출해 비워진 버퍼를 채웁니다.<br>\n",
    "원본 데이터셋의 모든 아이템이 사용될 때까지 반복합니다.<br>\n",
    "그 다음엔 버퍼가 비워질 때까지 계속해 랜덤하게 아이템을 반환합니다.\n",
    "\n",
    "이 메소드를 사용할 때에는 버퍼 크기를 지정해줘야 하고,<br>\n",
    "버퍼 크기를 충분히 크게 하는 것이 중요합니다. (그렇지 않으면 셔플링의 효과가 감소됩니다.)<br>\n",
    "그렇지만 보유한 메모리 크기를 넘지 않아야 하고,<br>\n",
    "충분한 메모리가 있더라도 버퍼 크기가 메모리 크기보다 클 필요는 없습니다."
   ]
  },
  {
   "cell_type": "code",
   "execution_count": 19,
   "id": "15eb8ed2",
   "metadata": {},
   "outputs": [
    {
     "name": "stdout",
     "output_type": "stream",
     "text": [
      "tf.Tensor([0 2 3 6 7 9 4], shape=(7,), dtype=int64)\n",
      "tf.Tensor([5 0 1 1 8 6 5], shape=(7,), dtype=int64)\n",
      "tf.Tensor([4 8 7 1 2 3 0], shape=(7,), dtype=int64)\n",
      "tf.Tensor([5 4 2 7 8 9 9], shape=(7,), dtype=int64)\n",
      "tf.Tensor([3 6], shape=(2,), dtype=int64)\n"
     ]
    }
   ],
   "source": [
    "dataset = tf.data.Dataset.range(10).repeat(3)\n",
    "dataset = dataset.shuffle(buffer_size=5, seed=42).batch(7)\n",
    "for item in dataset:\n",
    "    print(item)"
   ]
  },
  {
   "cell_type": "markdown",
   "id": "b795f310",
   "metadata": {},
   "source": [
    "셔플된 데이터셋에 repeat() 메소드를 호출하면 기본적으로 반복마다 새로운 순서를 생성하는데,<br>\n",
    "매번 같은 순서를 써야한다면 shuffle() 메소드에 reshuffle_each_iteration=False 로 설정합니다."
   ]
  },
  {
   "cell_type": "code",
   "execution_count": 20,
   "id": "d8f0a348",
   "metadata": {},
   "outputs": [
    {
     "name": "stdout",
     "output_type": "stream",
     "text": [
      "tf.Tensor([3 5 2 1 8 4 0], shape=(7,), dtype=int64)\n",
      "tf.Tensor([1 2 3 7 9 5 0], shape=(7,), dtype=int64)\n",
      "tf.Tensor([7 4 0 9 6 8 1], shape=(7,), dtype=int64)\n",
      "tf.Tensor([2 6 6 4 9 8 5], shape=(7,), dtype=int64)\n",
      "tf.Tensor([7 3], shape=(2,), dtype=int64)\n",
      "tf.Tensor([2 1 3 5 8 9 4], shape=(7,), dtype=int64)\n",
      "tf.Tensor([1 0 7 3 5 6 7], shape=(7,), dtype=int64)\n",
      "tf.Tensor([2 4 9 1 0 3 6], shape=(7,), dtype=int64)\n",
      "tf.Tensor([0 4 7 5 2 8 6], shape=(7,), dtype=int64)\n",
      "tf.Tensor([9 8], shape=(2,), dtype=int64)\n",
      "tf.Tensor([1 4 6 7 5 2 3], shape=(7,), dtype=int64)\n",
      "tf.Tensor([8 2 0 0 3 5 1], shape=(7,), dtype=int64)\n",
      "tf.Tensor([4 8 0 6 9 9 2], shape=(7,), dtype=int64)\n",
      "tf.Tensor([5 3 7 4 1 8 6], shape=(7,), dtype=int64)\n",
      "tf.Tensor([9 7], shape=(2,), dtype=int64)\n"
     ]
    }
   ],
   "source": [
    "for item in dataset.repeat(3):\n",
    "    print(item)"
   ]
  },
  {
   "cell_type": "code",
   "execution_count": null,
   "id": "65450510",
   "metadata": {},
   "outputs": [],
   "source": []
  }
 ],
 "metadata": {
  "kernelspec": {
   "display_name": "Python 3 (ipykernel)",
   "language": "python",
   "name": "python3"
  },
  "language_info": {
   "codemirror_mode": {
    "name": "ipython",
    "version": 3
   },
   "file_extension": ".py",
   "mimetype": "text/x-python",
   "name": "python",
   "nbconvert_exporter": "python",
   "pygments_lexer": "ipython3",
   "version": "3.9.7"
  }
 },
 "nbformat": 4,
 "nbformat_minor": 5
}
