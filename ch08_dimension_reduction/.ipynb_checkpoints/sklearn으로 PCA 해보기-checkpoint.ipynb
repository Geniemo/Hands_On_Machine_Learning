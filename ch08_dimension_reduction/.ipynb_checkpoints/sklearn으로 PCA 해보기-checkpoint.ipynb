{
 "cells": [
  {
   "cell_type": "markdown",
   "id": "133fa7d9",
   "metadata": {},
   "source": [
    "아래는 3차원 데이터셋을 만드는 코드입니다."
   ]
  },
  {
   "cell_type": "code",
   "execution_count": 1,
   "id": "b8b804fc",
   "metadata": {},
   "outputs": [],
   "source": [
    "import numpy as np\n",
    "\n",
    "np.random.seed(4)\n",
    "m = 60\n",
    "w1, w2 = 0.1, 0.3\n",
    "noise = 0.1\n",
    "\n",
    "angles = np.random.rand(m) * 3 * np.pi / 2 - 0.5\n",
    "X = np.empty((m, 3))\n",
    "X[:, 0] = np.cos(angles) + np.sin(angles)/2 + noise * np.random.randn(m) / 2\n",
    "X[:, 1] = np.sin(angles) * 0.7 + noise * np.random.randn(m) / 2\n",
    "X[:, 2] = X[:, 0] * w1 + X[:, 1] * w2 + noise * np.random.randn(m)"
   ]
  },
  {
   "cell_type": "code",
   "execution_count": 2,
   "id": "96fcf92e",
   "metadata": {},
   "outputs": [],
   "source": [
    "from sklearn.decomposition import PCA"
   ]
  },
  {
   "cell_type": "markdown",
   "id": "6caec025",
   "metadata": {},
   "source": [
    "아래는 PCA 모델을 사용해서 데이터셋의 차원을 2차원으로 줄이는 코드입니다.<br>\n",
    "이 때, 사이킷런의 PCA는 데이터를 알아서 중앙에 맞춰주므로<br>\n",
    "따로 중앙에 맞춰주는 코드는 필요없습니다."
   ]
  },
  {
   "cell_type": "code",
   "execution_count": 3,
   "id": "4b0f7a28",
   "metadata": {},
   "outputs": [],
   "source": [
    "pca = PCA(n_components=2)\n",
    "X2D = pca.fit_transform(X)"
   ]
  },
  {
   "cell_type": "code",
   "execution_count": 4,
   "id": "14e65d46",
   "metadata": {},
   "outputs": [
    {
     "name": "stdout",
     "output_type": "stream",
     "text": [
      "(60, 3) (60, 2)\n"
     ]
    }
   ],
   "source": [
    "print(X.shape, X2D.shape)"
   ]
  },
  {
   "cell_type": "markdown",
   "id": "835be51e",
   "metadata": {},
   "source": [
    "3차원의 데이터가 2차원으로 축소된 것을 볼 수 있습니다."
   ]
  },
  {
   "cell_type": "markdown",
   "id": "d5afc847",
   "metadata": {},
   "source": [
    "PCA 변환기를 데이터셋에 학습시키고 나면 components\\_ 속성에 \\\\(W_{d}\\\\)의 전치가 담겨있습니다."
   ]
  },
  {
   "cell_type": "code",
   "execution_count": 5,
   "id": "d7b07c85",
   "metadata": {},
   "outputs": [
    {
     "data": {
      "text/plain": [
       "array([[-0.93636116,  0.34027485],\n",
       "       [-0.29854881, -0.90119108],\n",
       "       [-0.18465208, -0.2684542 ]])"
      ]
     },
     "execution_count": 5,
     "metadata": {},
     "output_type": "execute_result"
    }
   ],
   "source": [
    "pca.components_.T"
   ]
  },
  {
   "cell_type": "markdown",
   "id": "30d7b76f",
   "metadata": {},
   "source": [
    "explained\\_variance\\_ratio\\_ 변수에는 주성분의 설명된 분산의 비율이 있습니다.<br>\n",
    "이 비율은 각 주성분의 축을 따라 있는 데이터셋의 분산 비율을 나타냅니다."
   ]
  },
  {
   "cell_type": "code",
   "execution_count": 6,
   "id": "576872f0",
   "metadata": {},
   "outputs": [
    {
     "data": {
      "text/plain": [
       "array([0.84248607, 0.14631839])"
      ]
     },
     "execution_count": 6,
     "metadata": {},
     "output_type": "execute_result"
    }
   ],
   "source": [
    "pca.explained_variance_ratio_"
   ]
  },
  {
   "cell_type": "markdown",
   "id": "7adcecef",
   "metadata": {},
   "source": [
    "전체 데이터셋의 84.2%가 첫 번째 PC를 따라 놓여있고,<br>\n",
    "14.6%가 두 번째 PC를 따라 놓여있음을 알려줍니다.\n",
    "\n",
    "세 번째 PC에는 1.2% 미만이 남아있을 것이므로 아주 적은 양의 정보가 있다고 생각해도 됩니다."
   ]
  }
 ],
 "metadata": {
  "kernelspec": {
   "display_name": "Python 3 (ipykernel)",
   "language": "python",
   "name": "python3"
  },
  "language_info": {
   "codemirror_mode": {
    "name": "ipython",
    "version": 3
   },
   "file_extension": ".py",
   "mimetype": "text/x-python",
   "name": "python",
   "nbconvert_exporter": "python",
   "pygments_lexer": "ipython3",
   "version": "3.9.7"
  }
 },
 "nbformat": 4,
 "nbformat_minor": 5
}
