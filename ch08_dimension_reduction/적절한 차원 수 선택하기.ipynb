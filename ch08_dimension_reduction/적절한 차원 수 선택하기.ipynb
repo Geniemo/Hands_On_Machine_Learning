{
 "cells": [
  {
   "cell_type": "markdown",
   "id": "d60e371d",
   "metadata": {},
   "source": [
    "MNIST 데이터셋을 불러와서 사용하겠습니다."
   ]
  },
  {
   "cell_type": "code",
   "execution_count": 1,
   "id": "cde3a84d",
   "metadata": {},
   "outputs": [],
   "source": [
    "from sklearn.datasets import fetch_openml\n",
    "import numpy as np\n",
    "\n",
    "mnist = fetch_openml('mnist_784', version=1, as_frame=False)\n",
    "mnist.target = mnist.target.astype(np.uint8)"
   ]
  },
  {
   "cell_type": "code",
   "execution_count": 2,
   "id": "81b3a67f",
   "metadata": {},
   "outputs": [],
   "source": [
    "from sklearn.model_selection import train_test_split\n",
    "\n",
    "X = mnist[\"data\"]\n",
    "y = mnist[\"target\"]\n",
    "\n",
    "X_train, X_test, y_train, y_test = train_test_split(X, y)"
   ]
  },
  {
   "cell_type": "markdown",
   "id": "0e1aac42",
   "metadata": {},
   "source": [
    "아래 코드는 차원을 축소하지 않고 PCA를 계산한 뒤 훈련 세트의 분산을 95%로 유지하는 데<br>\n",
    "필요한 최소한의 차원 수를 계산합니다."
   ]
  },
  {
   "cell_type": "code",
   "execution_count": 3,
   "id": "f582c5ab",
   "metadata": {},
   "outputs": [
    {
     "data": {
      "text/plain": [
       "PCA()"
      ]
     },
     "execution_count": 3,
     "metadata": {},
     "output_type": "execute_result"
    }
   ],
   "source": [
    "from sklearn.decomposition import PCA\n",
    "\n",
    "pca = PCA()\n",
    "pca.fit(X_train)"
   ]
  },
  {
   "cell_type": "code",
   "execution_count": 4,
   "id": "4b9702f1",
   "metadata": {},
   "outputs": [
    {
     "data": {
      "text/plain": [
       "array([0.09731822, 0.1689175 , 0.23034547, 0.28428664, 0.33331087,\n",
       "       0.37654751, 0.40925491, 0.43806471, 0.46551967, 0.48910401,\n",
       "       0.51022635, 0.53077735, 0.54777857, 0.5647064 , 0.58048775,\n",
       "       0.59539657, 0.60853605, 0.62125904, 0.6331598 , 0.64463121,\n",
       "       0.6553152 , 0.66542503, 0.67504796, 0.68413984, 0.69294662,\n",
       "       0.70130113, 0.70940135, 0.71724801, 0.72466504, 0.73158367,\n",
       "       0.73814671, 0.74460179, 0.75061931, 0.75647036, 0.76210427,\n",
       "       0.76754079, 0.77260689, 0.77747854, 0.78226603, 0.78693669,\n",
       "       0.79147898, 0.79592989, 0.80008889, 0.80403882, 0.80788265,\n",
       "       0.81166   , 0.81528355, 0.81878351, 0.8221564 , 0.82535804,\n",
       "       0.82854081, 0.83164163, 0.83461924, 0.83748793, 0.84030856,\n",
       "       0.84301292, 0.84570377, 0.84827703, 0.8508048 , 0.8532634 ,\n",
       "       0.855658  , 0.85803751, 0.86031947, 0.86253301, 0.86466248,\n",
       "       0.86671478, 0.86873468, 0.87068744, 0.87260511, 0.87449199,\n",
       "       0.87636251, 0.87816811, 0.87993944, 0.88167766, 0.88333737,\n",
       "       0.88496996, 0.88658995, 0.8881306 , 0.88960061, 0.89102352,\n",
       "       0.89242586, 0.89382356, 0.89522053, 0.89656846, 0.89789124,\n",
       "       0.89920085, 0.90049144, 0.90174649, 0.90297347, 0.90418059,\n",
       "       0.90534595, 0.90648802, 0.9076128 , 0.90871243, 0.90979487,\n",
       "       0.91086648, 0.91190918, 0.91294007, 0.91394966, 0.91494726,\n",
       "       0.91592593, 0.91686704, 0.91780074, 0.91870948, 0.91961174,\n",
       "       0.92050299, 0.92136681, 0.92221744, 0.92305699, 0.92387131,\n",
       "       0.92466095, 0.92544155, 0.92622069, 0.92698402, 0.92774612,\n",
       "       0.9284955 , 0.92922987, 0.92996015, 0.93067827, 0.93137819,\n",
       "       0.93207192, 0.93275971, 0.93344207, 0.93411371, 0.93477606,\n",
       "       0.93541409, 0.9360493 , 0.93667788, 0.93729991, 0.93790535,\n",
       "       0.93850403, 0.9391007 , 0.93968754, 0.94027085, 0.94085065,\n",
       "       0.94142372, 0.94198318, 0.94253426, 0.94307107, 0.94359806,\n",
       "       0.94411885, 0.94462592, 0.94512994, 0.94563239, 0.94612718,\n",
       "       0.9466217 , 0.94710543, 0.94758554, 0.94806131, 0.94852968,\n",
       "       0.94899392, 0.94945656, 0.94991729, 0.95036813, 0.95081396,\n",
       "       0.95125548, 0.95169217, 0.9521176 , 0.95254164, 0.95295741,\n",
       "       0.95337097, 0.95377861, 0.95417796, 0.95457133, 0.95496268,\n",
       "       0.95535149, 0.95573541, 0.95611349, 0.95649058, 0.95686409,\n",
       "       0.95723006, 0.95759544, 0.95795723, 0.95831557, 0.95866806,\n",
       "       0.95902   , 0.95936692, 0.95971202, 0.96005602, 0.9603937 ,\n",
       "       0.96072727, 0.96105707, 0.96138617, 0.96171151, 0.96203276,\n",
       "       0.96235182, 0.9626681 , 0.96298253, 0.96329315, 0.96360064,\n",
       "       0.96390802, 0.96421225, 0.96451304, 0.96481296, 0.96510992,\n",
       "       0.96540525, 0.96569918, 0.96599073, 0.96627969, 0.96656338,\n",
       "       0.96684489, 0.96712197, 0.96739546, 0.96766741, 0.96793689,\n",
       "       0.96820287, 0.968468  , 0.9687323 , 0.96899412, 0.96925238,\n",
       "       0.96951035, 0.96976691, 0.97002157, 0.97027428, 0.97052558,\n",
       "       0.97077476, 0.97102206, 0.97126675, 0.97150976, 0.97175106,\n",
       "       0.97199142, 0.97223022, 0.97246842, 0.9727052 , 0.97293812,\n",
       "       0.97316918, 0.97339817, 0.97362566, 0.97385223, 0.97407593,\n",
       "       0.97429755, 0.97451801, 0.97473575, 0.97495149, 0.97516605,\n",
       "       0.97537908, 0.97559144, 0.97580101, 0.97601044, 0.97621786,\n",
       "       0.97642213, 0.97662464, 0.97682534, 0.97702554, 0.97722387,\n",
       "       0.97742067, 0.97761484, 0.97780789, 0.97799987, 0.97819123,\n",
       "       0.97838181, 0.97857019, 0.97875727, 0.97894337, 0.97912901,\n",
       "       0.97931369, 0.97949733, 0.97967909, 0.97986066, 0.98004099,\n",
       "       0.98021842, 0.98039403, 0.98056927, 0.98074308, 0.98091587,\n",
       "       0.98108765, 0.98125872, 0.98142806, 0.98159651, 0.98176385,\n",
       "       0.98193008, 0.98209525, 0.98225968, 0.98242329, 0.98258501,\n",
       "       0.98274635, 0.98290649, 0.98306617, 0.98322527, 0.98338222,\n",
       "       0.98353773, 0.9836925 , 0.98384693, 0.984001  , 0.98415215,\n",
       "       0.98430224, 0.98445137, 0.98459904, 0.98474647, 0.98489248,\n",
       "       0.98503689, 0.98518017, 0.98532299, 0.98546555, 0.98560653,\n",
       "       0.98574678, 0.98588486, 0.98602253, 0.98615896, 0.98629443,\n",
       "       0.9864291 , 0.98656322, 0.98669651, 0.98682858, 0.98695922,\n",
       "       0.9870884 , 0.98721656, 0.98734448, 0.98747228, 0.98759959,\n",
       "       0.98772572, 0.98785108, 0.98797512, 0.98809894, 0.98822114,\n",
       "       0.98834229, 0.98846335, 0.98858312, 0.9887025 , 0.98882119,\n",
       "       0.98893803, 0.98905415, 0.98917015, 0.98928608, 0.98940051,\n",
       "       0.98951437, 0.98962593, 0.9897369 , 0.98984741, 0.98995784,\n",
       "       0.99006759, 0.99017657, 0.990285  , 0.99039235, 0.99049894,\n",
       "       0.99060517, 0.99071119, 0.99081563, 0.9909182 , 0.9910203 ,\n",
       "       0.99112158, 0.99122207, 0.99132202, 0.99142118, 0.99152001,\n",
       "       0.99161817, 0.99171604, 0.99181316, 0.99190774, 0.9920019 ,\n",
       "       0.99209566, 0.99218877, 0.99228088, 0.99237217, 0.9924632 ,\n",
       "       0.99255347, 0.99264287, 0.99273165, 0.99282024, 0.99290784,\n",
       "       0.99299454, 0.99308102, 0.99316627, 0.99325101, 0.99333561,\n",
       "       0.99341875, 0.99350162, 0.99358368, 0.99366528, 0.99374621,\n",
       "       0.99382663, 0.99390588, 0.99398497, 0.9940632 , 0.99414138,\n",
       "       0.99421876, 0.99429505, 0.99437016, 0.99444493, 0.99451899,\n",
       "       0.99459268, 0.99466562, 0.99473802, 0.99481017, 0.99488134,\n",
       "       0.99495169, 0.99502093, 0.99508976, 0.99515791, 0.99522544,\n",
       "       0.99529224, 0.9953582 , 0.99542293, 0.99548678, 0.99555017,\n",
       "       0.99561299, 0.99567515, 0.99573607, 0.99579555, 0.99585493,\n",
       "       0.99591398, 0.99597252, 0.99603085, 0.99608781, 0.99614418,\n",
       "       0.99620037, 0.9962558 , 0.99631043, 0.99636479, 0.99641895,\n",
       "       0.99647209, 0.99652465, 0.9965767 , 0.99662843, 0.99667966,\n",
       "       0.99673018, 0.99677979, 0.99682912, 0.99687796, 0.99692575,\n",
       "       0.99697351, 0.99702071, 0.99706711, 0.99711299, 0.99715825,\n",
       "       0.99720262, 0.9972463 , 0.99728903, 0.99733105, 0.99737295,\n",
       "       0.99741438, 0.99745557, 0.99749618, 0.99753668, 0.99757677,\n",
       "       0.99761543, 0.99765367, 0.99769152, 0.99772921, 0.99776673,\n",
       "       0.99780386, 0.9978403 , 0.99787577, 0.997911  , 0.99794602,\n",
       "       0.99798056, 0.99801477, 0.99804877, 0.99808153, 0.99811405,\n",
       "       0.99814602, 0.99817785, 0.99820916, 0.99823992, 0.99827004,\n",
       "       0.99829987, 0.99832938, 0.99835837, 0.9983873 , 0.99841565,\n",
       "       0.99844336, 0.99847087, 0.99849804, 0.99852478, 0.99855038,\n",
       "       0.99857594, 0.99860116, 0.99862602, 0.9986507 , 0.99867503,\n",
       "       0.9986991 , 0.99872308, 0.9987466 , 0.99876989, 0.99879297,\n",
       "       0.99881539, 0.9988375 , 0.99885894, 0.9988803 , 0.99890149,\n",
       "       0.99892236, 0.99894301, 0.99896312, 0.99898311, 0.99900295,\n",
       "       0.99902261, 0.99904188, 0.99906057, 0.99907917, 0.99909766,\n",
       "       0.99911563, 0.99913343, 0.9991505 , 0.99916743, 0.99918407,\n",
       "       0.99920038, 0.99921616, 0.99923171, 0.9992471 , 0.99926244,\n",
       "       0.9992775 , 0.99929232, 0.999307  , 0.9993216 , 0.99933571,\n",
       "       0.99934978, 0.99936369, 0.99937748, 0.99939109, 0.99940422,\n",
       "       0.99941727, 0.99943005, 0.99944232, 0.99945441, 0.9994662 ,\n",
       "       0.99947787, 0.99948947, 0.99950098, 0.99951234, 0.9995235 ,\n",
       "       0.99953461, 0.99954558, 0.99955637, 0.9995669 , 0.99957739,\n",
       "       0.99958756, 0.99959739, 0.99960664, 0.99961581, 0.99962493,\n",
       "       0.99963384, 0.99964262, 0.99965108, 0.99965952, 0.99966789,\n",
       "       0.99967595, 0.99968385, 0.99969169, 0.99969944, 0.99970715,\n",
       "       0.99971456, 0.99972192, 0.99972924, 0.99973648, 0.99974357,\n",
       "       0.99975055, 0.99975724, 0.99976376, 0.99977019, 0.99977628,\n",
       "       0.99978235, 0.99978824, 0.99979394, 0.99979945, 0.99980484,\n",
       "       0.99981023, 0.99981546, 0.99982061, 0.99982554, 0.99983039,\n",
       "       0.99983512, 0.99983975, 0.99984426, 0.99984874, 0.99985316,\n",
       "       0.99985751, 0.99986179, 0.99986595, 0.99987002, 0.99987398,\n",
       "       0.99987771, 0.99988141, 0.99988508, 0.99988848, 0.99989174,\n",
       "       0.99989493, 0.99989811, 0.99990124, 0.99990432, 0.99990736,\n",
       "       0.99991026, 0.99991311, 0.9999159 , 0.99991864, 0.99992134,\n",
       "       0.99992393, 0.99992637, 0.99992873, 0.99993102, 0.99993326,\n",
       "       0.99993545, 0.99993762, 0.99993973, 0.99994174, 0.9999437 ,\n",
       "       0.99994557, 0.99994742, 0.99994923, 0.999951  , 0.99995272,\n",
       "       0.99995444, 0.99995613, 0.99995781, 0.99995936, 0.9999609 ,\n",
       "       0.99996238, 0.9999638 , 0.99996521, 0.99996653, 0.99996777,\n",
       "       0.99996895, 0.9999701 , 0.99997124, 0.99997234, 0.99997344,\n",
       "       0.99997451, 0.99997555, 0.99997648, 0.99997741, 0.99997833,\n",
       "       0.99997921, 0.99998005, 0.99998084, 0.99998162, 0.99998239,\n",
       "       0.99998315, 0.9999839 , 0.99998464, 0.99998538, 0.99998606,\n",
       "       0.9999867 , 0.99998732, 0.99998791, 0.9999885 , 0.99998901,\n",
       "       0.99998951, 0.99998999, 0.99999045, 0.9999909 , 0.99999133,\n",
       "       0.99999175, 0.99999217, 0.99999258, 0.99999299, 0.99999337,\n",
       "       0.99999374, 0.99999409, 0.99999442, 0.99999474, 0.99999506,\n",
       "       0.99999536, 0.99999564, 0.99999592, 0.99999619, 0.99999645,\n",
       "       0.99999669, 0.99999692, 0.99999713, 0.99999734, 0.99999754,\n",
       "       0.99999773, 0.99999791, 0.99999809, 0.99999825, 0.99999841,\n",
       "       0.99999855, 0.99999869, 0.9999988 , 0.99999891, 0.99999901,\n",
       "       0.99999911, 0.9999992 , 0.99999929, 0.99999937, 0.99999945,\n",
       "       0.99999952, 0.99999958, 0.99999964, 0.99999969, 0.99999972,\n",
       "       0.99999976, 0.99999978, 0.99999981, 0.99999983, 0.99999985,\n",
       "       0.99999987, 0.99999989, 0.9999999 , 0.99999991, 0.99999993,\n",
       "       0.99999994, 0.99999995, 0.99999996, 0.99999996, 0.99999997,\n",
       "       0.99999998, 0.99999999, 0.99999999, 0.99999999, 1.        ,\n",
       "       1.        , 1.        , 1.        , 1.        , 1.        ,\n",
       "       1.        , 1.        , 1.        , 1.        , 1.        ,\n",
       "       1.        , 1.        , 1.        , 1.        , 1.        ,\n",
       "       1.        , 1.        , 1.        , 1.        , 1.        ,\n",
       "       1.        , 1.        , 1.        , 1.        , 1.        ,\n",
       "       1.        , 1.        , 1.        , 1.        , 1.        ,\n",
       "       1.        , 1.        , 1.        , 1.        , 1.        ,\n",
       "       1.        , 1.        , 1.        , 1.        , 1.        ,\n",
       "       1.        , 1.        , 1.        , 1.        , 1.        ,\n",
       "       1.        , 1.        , 1.        , 1.        , 1.        ,\n",
       "       1.        , 1.        , 1.        , 1.        , 1.        ,\n",
       "       1.        , 1.        , 1.        , 1.        , 1.        ,\n",
       "       1.        , 1.        , 1.        , 1.        , 1.        ,\n",
       "       1.        , 1.        , 1.        , 1.        , 1.        ,\n",
       "       1.        , 1.        , 1.        , 1.        , 1.        ,\n",
       "       1.        , 1.        , 1.        , 1.        , 1.        ,\n",
       "       1.        , 1.        , 1.        , 1.        ])"
      ]
     },
     "execution_count": 4,
     "metadata": {},
     "output_type": "execute_result"
    }
   ],
   "source": [
    "cumsum = np.cumsum(pca.explained_variance_ratio_)\n",
    "cumsum"
   ]
  },
  {
   "cell_type": "code",
   "execution_count": 5,
   "id": "556d1e97",
   "metadata": {},
   "outputs": [
    {
     "data": {
      "text/plain": [
       "154"
      ]
     },
     "execution_count": 5,
     "metadata": {},
     "output_type": "execute_result"
    }
   ],
   "source": [
    "d = np.argmax(cumsum >= 0.95) + 1\n",
    "d"
   ]
  },
  {
   "cell_type": "markdown",
   "id": "e39aaaba",
   "metadata": {},
   "source": [
    "154개의 차원을 이용했을 때 세트의 분산을 95%로 유지할 수 있음을 알아냈습니다."
   ]
  },
  {
   "cell_type": "markdown",
   "id": "b9f54fe0",
   "metadata": {},
   "source": [
    "이제 이렇게 구한 n_components=d 로 설정해서 PCA를 다시 실행합니다.\n",
    "\n",
    "근데 이렇게 하기보다는 그냥 보존하려는 분산의 비율을 바로 n_components에 전달해주는 게 더 낫습니다."
   ]
  },
  {
   "cell_type": "code",
   "execution_count": 6,
   "id": "d0e97735",
   "metadata": {},
   "outputs": [],
   "source": [
    "pca = PCA(n_components=0.95)\n",
    "X_reduced = pca.fit_transform(X_train)"
   ]
  },
  {
   "cell_type": "code",
   "execution_count": 7,
   "id": "34604712",
   "metadata": {},
   "outputs": [
    {
     "name": "stdout",
     "output_type": "stream",
     "text": [
      "(52500, 784) (52500, 154)\n"
     ]
    }
   ],
   "source": [
    "print(X_train.shape, X_reduced.shape)"
   ]
  },
  {
   "cell_type": "markdown",
   "id": "4b64a432",
   "metadata": {},
   "source": [
    "784차원에서 154차원으로 차원 축소가 된 것을 알 수 있습니다."
   ]
  },
  {
   "cell_type": "markdown",
   "id": "76f8e105",
   "metadata": {},
   "source": [
    "또 다른 방법은 설명된 분산을 차원 수에 대한 함수로 그리는 것입니다.<br>\n",
    "(그냥 cumsum을 그래프로 그리면 됩니다.)\n",
    "\n",
    "일반적으로 이 그래프에는 설명된 분산의 빠른 성장이 멈추는 변곡점이 있습니다.\n",
    "\n",
    "여기서는 차원을 약 100으로 축소해도 설명된 분산을 크게 손해보지 않을 것입니다."
   ]
  },
  {
   "cell_type": "code",
   "execution_count": 8,
   "id": "7411f876",
   "metadata": {},
   "outputs": [
    {
     "data": {
      "image/png": "[encoded data removed]",
      "text/plain": [
       "<Figure size 432x288 with 1 Axes>"
      ]
     },
     "metadata": {
      "needs_background": "light"
     },
     "output_type": "display_data"
    }
   ],
   "source": [
    "import matplotlib.pyplot as plt\n",
    "\n",
    "plt.plot(np.arange(0, 784), cumsum)\n",
    "plt.xlabel('# of dimensions')\n",
    "plt.ylabel('explained variance ratio')\n",
    "plt.show()"
   ]
  }
 ],
 "metadata": {
  "kernelspec": {
   "display_name": "Python 3 (ipykernel)",
   "language": "python",
   "name": "python3"
  },
  "language_info": {
   "codemirror_mode": {
    "name": "ipython",
    "version": 3
   },
   "file_extension": ".py",
   "mimetype": "text/x-python",
   "name": "python",
   "nbconvert_exporter": "python",
   "pygments_lexer": "ipython3",
   "version": "3.9.7"
  }
 },
 "nbformat": 4,
 "nbformat_minor": 5
}
