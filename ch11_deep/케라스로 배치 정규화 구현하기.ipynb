{
 "cells": [
  {
   "cell_type": "code",
   "execution_count": 1,
   "id": "4ce152d3",
   "metadata": {},
   "outputs": [],
   "source": [
    "import tensorflow\n",
    "from tensorflow import keras"
   ]
  },
  {
   "cell_type": "markdown",
   "id": "17d5c53b",
   "metadata": {},
   "source": [
    "배치 정규화 층도 다른 케라스 층과 마찬가지로"
   ]
  },
  {
   "cell_type": "code",
   "execution_count": 2,
   "id": "f60ebef2",
   "metadata": {},
   "outputs": [],
   "source": [
    "model = keras.models.Sequential([\n",
    "    keras.layers.Flatten(input_shape=[28, 28]),\n",
    "    keras.layers.BatchNormalization(),\n",
    "    keras.layers.Dense(300, activation='elu', kernel_initializer='he_normal'),\n",
    "    keras.layers.BatchNormalization(),\n",
    "    keras.layers.Dense(100, activation='relu', kernel_initializer='he_normal'),\n",
    "    keras.layers.BatchNormalization(),\n",
    "    keras.layers.Dense(10, activation='softmax')\n",
    "])"
   ]
  },
  {
   "cell_type": "markdown",
   "id": "c663c6f4",
   "metadata": {},
   "source": [
    "이렇게 하면 끝입니다.<br>\n",
    "여기서는 은닉층이 겨우 두개뿐이라 배치 정규화로 큰 이익은 볼 수 없을 수 있습니다.\n",
    "\n",
    "하지만 깊은 네트워크에서는 엄청난 차이를 만들 수 있습니다."
   ]
  },
  {
   "cell_type": "code",
   "execution_count": 3,
   "id": "23e08814",
   "metadata": {
    "scrolled": true
   },
   "outputs": [
    {
     "name": "stdout",
     "output_type": "stream",
     "text": [
      "Model: \"sequential\"\n",
      "_________________________________________________________________\n",
      " Layer (type)                Output Shape              Param #   \n",
      "=================================================================\n",
      " flatten (Flatten)           (None, 784)               0         \n",
      "                                                                 \n",
      " batch_normalization (BatchN  (None, 784)              3136      \n",
      " ormalization)                                                   \n",
      "                                                                 \n",
      " dense (Dense)               (None, 300)               235500    \n",
      "                                                                 \n",
      " batch_normalization_1 (Batc  (None, 300)              1200      \n",
      " hNormalization)                                                 \n",
      "                                                                 \n",
      " dense_1 (Dense)             (None, 100)               30100     \n",
      "                                                                 \n",
      " batch_normalization_2 (Batc  (None, 100)              400       \n",
      " hNormalization)                                                 \n",
      "                                                                 \n",
      " dense_2 (Dense)             (None, 10)                1010      \n",
      "                                                                 \n",
      "=================================================================\n",
      "Total params: 271,346\n",
      "Trainable params: 268,978\n",
      "Non-trainable params: 2,368\n",
      "_________________________________________________________________\n"
     ]
    }
   ],
   "source": [
    "model.summary()"
   ]
  },
  {
   "cell_type": "markdown",
   "id": "56550668",
   "metadata": {},
   "source": [
    "위 코드에서 볼 수 있듯이 배치 정규화 층은 입력마다 네 개의 파라미터 \\\\(\\gamma, \\beta, \\mu, \\sigma\\\\)를 추가합니다. (예를 들어 첫 배치 정규화 층을 보면 4 * 784개로 3,136 개의 파라미터가 있습니다.)"
   ]
  },
  {
   "cell_type": "markdown",
   "id": "16050adc",
   "metadata": {},
   "source": [
    "마지막 두 개의 파라미터 \\\\(\\mu\\\\)와 \\\\(\\sigma\\\\)는 이동 평균입니다.\n",
    "\n",
    "이 파라미터는 역전파로 학습되지 않기 때문에 케라스는 'Non-trainable' 파라미터로 분류합니다.\n",
    "\n",
    "첫 번째 배치 정규화 층의 파라미터를 살펴봅시다.<br>\n",
    "두 개는 훈련되고 두 개는 훈련되지 않습니다."
   ]
  },
  {
   "cell_type": "code",
   "execution_count": 4,
   "id": "0252abe7",
   "metadata": {
    "scrolled": false
   },
   "outputs": [
    {
     "data": {
      "text/plain": [
       "[('batch_normalization/gamma:0', True),\n",
       " ('batch_normalization/beta:0', True),\n",
       " ('batch_normalization/moving_mean:0', False),\n",
       " ('batch_normalization/moving_variance:0', False)]"
      ]
     },
     "execution_count": 4,
     "metadata": {},
     "output_type": "execute_result"
    }
   ],
   "source": [
    "[(var.name, var.trainable) for var in model.layers[1].variables]"
   ]
  },
  {
   "cell_type": "markdown",
   "id": "6c9293ec",
   "metadata": {},
   "source": [
    "배치 정규화 논문의 저자들은 (방금 전 예제처럼) 활성화 함수 이후보다<br>\n",
    "이전에 배치 정규화 층을 추가하는 게 좋다고 조언합니다.\n",
    "\n",
    "하지만 작업에 따라 선호되는 방식이 달라서 이 조언에 대해서는 논란이 있습니다.\n",
    "\n",
    "두 가지 방법 모두 실험해보고 어떤 것이 주어진 데이터셋에 가장 잘 맞는지 확인하는 게 좋습니다.<br>\n",
    "활성화 함수 전에 배치 정규화 층을 추가하려면 은닉층에서 활성화 함수를 지정하지 말고<br>\n",
    "배치 정규화 층 뒤에 별도의 층으로 추가해야 합니다.\n",
    "\n",
    "또한 배치 정규화 층은 입력마다 이동 파라미터를 포함하기 때문에 이전 층에서 편향을 뺄 수 있습니다.<br>\n",
    "use\\_bias=False로 지정해야 합니다."
   ]
  },
  {
   "cell_type": "code",
   "execution_count": 5,
   "id": "dccf6ead",
   "metadata": {},
   "outputs": [],
   "source": [
    "model = keras.models.Sequential([\n",
    "    keras.layers.Flatten(input_shape=[28, 28]),\n",
    "    keras.layers.BatchNormalization(),\n",
    "    keras.layers.Dense(300, kernel_initializer='he_normal', use_bias=False),\n",
    "    keras.layers.BatchNormalization(),\n",
    "    keras.layers.Activation('elu'),\n",
    "    keras.layers.Dense(100, kernel_initializer='he_normal', use_bias=False),\n",
    "    keras.layers.BatchNormalization(),\n",
    "    keras.layers.Activation('elu'),\n",
    "    keras.layers.Dense(10, activation='softmax')\n",
    "])"
   ]
  }
 ],
 "metadata": {
  "kernelspec": {
   "display_name": "Python 3 (ipykernel)",
   "language": "python",
   "name": "python3"
  },
  "language_info": {
   "codemirror_mode": {
    "name": "ipython",
    "version": 3
   },
   "file_extension": ".py",
   "mimetype": "text/x-python",
   "name": "python",
   "nbconvert_exporter": "python",
   "pygments_lexer": "ipython3",
   "version": "3.8.8"
  }
 },
 "nbformat": 4,
 "nbformat_minor": 5
}
