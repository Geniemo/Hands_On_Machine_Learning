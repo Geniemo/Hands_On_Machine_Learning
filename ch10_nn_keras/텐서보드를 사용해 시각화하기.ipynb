{
 "cells": [
  {
   "cell_type": "code",
   "execution_count": 2,
   "id": "30298909",
   "metadata": {},
   "outputs": [],
   "source": [
    "import os\n",
    "root_logdir = os.path.join(os.curdir, 'my_logs')"
   ]
  },
  {
   "cell_type": "markdown",
   "id": "41a5c1ca",
   "metadata": {},
   "source": [
    "아래는 실행할 때마다 다른 서브디렉터리 경로를 생성하는 간단한 함수입니다."
   ]
  },
  {
   "cell_type": "code",
   "execution_count": 3,
   "id": "affff948",
   "metadata": {},
   "outputs": [],
   "source": [
    "def get_run_logdir():\n",
    "    import time\n",
    "    run_id = time.strftime('run_%Y_%m_%d-%H_%M_%S')\n",
    "    return os.path.join(root_logdir, run_id)"
   ]
  },
  {
   "cell_type": "code",
   "execution_count": 4,
   "id": "d8c09dfc",
   "metadata": {},
   "outputs": [
    {
     "data": {
      "text/plain": [
       "'.\\\\my_logs\\\\run_2022_01_22-19_54_53'"
      ]
     },
     "execution_count": 4,
     "metadata": {},
     "output_type": "execute_result"
    }
   ],
   "source": [
    "get_run_logdir()"
   ]
  },
  {
   "cell_type": "code",
   "execution_count": 7,
   "id": "1bd26f07",
   "metadata": {},
   "outputs": [
    {
     "data": {
      "text/plain": [
       "['.ipynb_checkpoints',\n",
       " '서브클래싱 API로 동적 모델 만들기.ipynb',\n",
       " '시퀀셜 API를 사용하여 회귀용 다층 퍼셉트론 만들기.ipynb',\n",
       " '시퀀셜 API를 사용해서 이미지 분류기 만들기.ipynb',\n",
       " '텐서보드를 사용해 시각화하기.ipynb',\n",
       " '퍼셉트론.ipynb',\n",
       " '함수형 API를 사용해 복잡한 모델 만들기_0.ipynb',\n",
       " '함수형 API를 사용해 복잡한 모델 만들기_1.ipynb',\n",
       " '함수형 API를 사용해 복잡한 모델 만들기_2.ipynb']"
      ]
     },
     "execution_count": 7,
     "metadata": {},
     "output_type": "execute_result"
    }
   ],
   "source": [
    "os.listdir()"
   ]
  }
 ],
 "metadata": {
  "kernelspec": {
   "display_name": "Python 3 (ipykernel)",
   "language": "python",
   "name": "python3"
  },
  "language_info": {
   "codemirror_mode": {
    "name": "ipython",
    "version": 3
   },
   "file_extension": ".py",
   "mimetype": "text/x-python",
   "name": "python",
   "nbconvert_exporter": "python",
   "pygments_lexer": "ipython3",
   "version": "3.9.7"
  }
 },
 "nbformat": 4,
 "nbformat_minor": 5
}
