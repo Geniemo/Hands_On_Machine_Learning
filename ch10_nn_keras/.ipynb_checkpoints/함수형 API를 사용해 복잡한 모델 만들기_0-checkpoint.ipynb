{
 "cells": [
  {
   "cell_type": "markdown",
   "id": "f914921f",
   "metadata": {},
   "source": [
    "캘리포니아 주택 가격 데이터셋을 사용하겠습니다."
   ]
  },
  {
   "cell_type": "code",
   "execution_count": 1,
   "id": "4b3b8907",
   "metadata": {},
   "outputs": [],
   "source": [
    "import tensorflow as tf\n",
    "from tensorflow import keras\n",
    "import numpy as np"
   ]
  },
  {
   "cell_type": "code",
   "execution_count": 2,
   "id": "4365c613",
   "metadata": {},
   "outputs": [],
   "source": [
    "np.random.seed(42)\n",
    "tf.random.set_seed(42)"
   ]
  },
  {
   "cell_type": "code",
   "execution_count": 3,
   "id": "34b0e809",
   "metadata": {},
   "outputs": [],
   "source": [
    "from sklearn.datasets import fetch_california_housing\n",
    "from sklearn.model_selection import train_test_split\n",
    "from sklearn.preprocessing import StandardScaler"
   ]
  },
  {
   "cell_type": "code",
   "execution_count": 4,
   "id": "99fb0638",
   "metadata": {},
   "outputs": [],
   "source": [
    "housing = fetch_california_housing()"
   ]
  },
  {
   "cell_type": "code",
   "execution_count": 5,
   "id": "5199e643",
   "metadata": {},
   "outputs": [],
   "source": [
    "X_train_full, X_test, y_train_full, y_test = train_test_split(housing.data, housing.target, random_state=42)\n",
    "X_train, X_valid, y_train, y_valid = train_test_split(X_train_full, y_train_full, random_state=42)\n",
    "\n",
    "scaler = StandardScaler()\n",
    "X_train = scaler.fit_transform(X_train)\n",
    "X_valid = scaler.transform(X_valid)\n",
    "X_test = scaler.transform(X_test)"
   ]
  },
  {
   "cell_type": "code",
   "execution_count": 6,
   "id": "e259cdb6",
   "metadata": {},
   "outputs": [],
   "source": [
    "input_ = keras.layers.Input(shape=X_train.shape[1:])\n",
    "hidden1 = keras.layers.Dense(units=30, activation='relu')(input_)\n",
    "hidden2 = keras.layers.Dense(units=30, activation='relu')(hidden1)\n",
    "concat = keras.layers.Concatenate()([input_, hidden2])\n",
    "output= keras.layers.Dense(units=1)(concat)\n",
    "model = keras.Model(inputs=[input_], outputs=[output])"
   ]
  },
  {
   "cell_type": "markdown",
   "id": "96629581",
   "metadata": {},
   "source": [
    "- Input 객체를 만듭니다. 이 객체는 shape와 dtype을 포함하여 모델의 입력을 정의합니다. 한 모델은 여러 입력을 가질 수 있습니다.\n",
    "- 30개의 뉴런과 ReLU 활성화 함수를 가진 Dense 층을 만듭니다. 이 층은 만들어지자마자 입력과 함께 함수처럼 호출됩니다. 이를 함수형 API라고 부르는 이유이고, 케라스에 층이 연결될 방법만 알려줬고 어떤 데이터도 처리하지 않았습니다.\n",
    "- 두 번째 은닉층을 만들고 함수처럼 호출합니다. 첫 번째 층의 출력을 전달했습니다.\n",
    "- Concatenate 층을 만들고 또 다시 함수처럼 호출하여 두 번째 은닉층의 출력과 입력을 연결합니다. keras.layers.concatenate() 함수를 호출할 수도 있는데, 이 함수는 Concatenate 층을 만들고 주어진 입력으로 바로 호출합니다.\n",
    "- 하나의 뉴런과 활성화 함수가 없는 출력층을 만들고 Concatenate 층이 만든 결과를 사용해 호출합니다.\n",
    "- 마지막으로 사용할 입력과 출력을 지정하여 Model을 만듭니다."
   ]
  },
  {
   "cell_type": "markdown",
   "id": "d4d3bb6f",
   "metadata": {},
   "source": [
    "이렇게 만든 모델은 이전과 동일하게 사용할 수 있습니다."
   ]
  }
 ],
 "metadata": {
  "kernelspec": {
   "display_name": "Python 3 (ipykernel)",
   "language": "python",
   "name": "python3"
  },
  "language_info": {
   "codemirror_mode": {
    "name": "ipython",
    "version": 3
   },
   "file_extension": ".py",
   "mimetype": "text/x-python",
   "name": "python",
   "nbconvert_exporter": "python",
   "pygments_lexer": "ipython3",
   "version": "3.8.8"
  }
 },
 "nbformat": 4,
 "nbformat_minor": 5
}
