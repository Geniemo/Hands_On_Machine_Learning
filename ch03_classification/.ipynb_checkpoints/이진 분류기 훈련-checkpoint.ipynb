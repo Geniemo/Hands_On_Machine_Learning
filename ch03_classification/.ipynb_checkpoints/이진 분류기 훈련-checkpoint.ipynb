{
 "cells": [
  {
   "cell_type": "markdown",
   "id": "d635c76a",
   "metadata": {},
   "source": [
    "분류 작업을 위해 타깃 벡터를 만들어보겠습니다."
   ]
  },
  {
   "cell_type": "code",
   "execution_count": 10,
   "id": "37070bf7",
   "metadata": {},
   "outputs": [],
   "source": [
    "y_train_5 = (y_train == 5)\n",
    "y_test_5 = (y_test == 5)"
   ]
  },
  {
   "cell_type": "markdown",
   "id": "13110bbb",
   "metadata": {},
   "source": [
    "이제 분류 모델을 하나 선택해서 훈련시켜보겠습니다.<br>\n",
    "먼저, 사이킷 런의 SGDClassifier 클래스를 사용해<br>\n",
    "확률적 경사 하강법(Stochastic Gradient Descent, SGD)분류기를 써보겠습니다.\n",
    "\n",
    "이 분류기는 한 번에 하나씩 훈련 샘플을 독립적으로 처리하므로<br>\n",
    "큰 데이터셋을 효율적으로 처리하는 장점이 있습니다. (그래서 온라인 학습에 적합합니다.)"
   ]
  },
  {
   "cell_type": "code",
   "execution_count": 11,
   "id": "3e8c38d0",
   "metadata": {},
   "outputs": [],
   "source": [
    "from sklearn.linear_model import SGDClassifier"
   ]
  },
  {
   "cell_type": "code",
   "execution_count": 12,
   "id": "2475bd7a",
   "metadata": {},
   "outputs": [
    {
     "data": {
      "text/plain": [
       "SGDClassifier(random_state=42)"
      ]
     },
     "execution_count": 12,
     "metadata": {},
     "output_type": "execute_result"
    }
   ],
   "source": [
    "sgd_clf = SGDClassifier(random_state=42)\n",
    "sgd_clf.fit(X_train, y_train_5)"
   ]
  },
  {
   "cell_type": "markdown",
   "id": "55bdb98b",
   "metadata": {},
   "source": [
    "학습을 시켰습니다.<br>\n",
    "이제 이 모델을 사용해서 숫자 5의 이미지를 감지해보겠습니다."
   ]
  },
  {
   "cell_type": "code",
   "execution_count": 13,
   "id": "bf1c1265",
   "metadata": {},
   "outputs": [
    {
     "data": {
      "text/plain": [
       "array([ True])"
      ]
     },
     "execution_count": 13,
     "metadata": {},
     "output_type": "execute_result"
    }
   ],
   "source": [
    "sgd_clf.predict([some_digit])"
   ]
  },
  {
   "cell_type": "markdown",
   "id": "4b1059c3",
   "metadata": {},
   "source": [
    "분류기가 이 이미지가 5를 나타낸다고 추측했습니다.<br>\n",
    "분류기가 올바르게 이미지를 분류했음을 알 수 있습니다."
   ]
  }
 ],
 "metadata": {
  "kernelspec": {
   "display_name": "Python 3 (ipykernel)",
   "language": "python",
   "name": "python3"
  },
  "language_info": {
   "codemirror_mode": {
    "name": "ipython",
    "version": 3
   },
   "file_extension": ".py",
   "mimetype": "text/x-python",
   "name": "python",
   "nbconvert_exporter": "python",
   "pygments_lexer": "ipython3",
   "version": "3.9.7"
  }
 },
 "nbformat": 4,
 "nbformat_minor": 5
}
