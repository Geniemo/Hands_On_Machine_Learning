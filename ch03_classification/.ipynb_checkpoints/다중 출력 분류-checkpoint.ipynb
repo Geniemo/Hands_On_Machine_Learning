{
 "cells": [
  {
   "cell_type": "markdown",
   "id": "3151aa43",
   "metadata": {},
   "source": [
    "# 다중 출력 분류\n",
    "이미지에서 잡음을 제거하는 시스템을 만들어보겠습니다.<br>\n",
    "잡음이 많은 숫자 이미지를 입력으로 받고 깨끗한 숫자 이미지를<br>\n",
    "MNIST 이미지처럼 픽셀의 강도를 담은 배열로 출력합니다."
   ]
  },
  {
   "cell_type": "markdown",
   "id": "6623aab7",
   "metadata": {},
   "source": [
    "먼저 잡음을 추가해보겠습니다."
   ]
  },
  {
   "cell_type": "code",
   "execution_count": 76,
   "id": "2d943916",
   "metadata": {},
   "outputs": [],
   "source": [
    "noise = np.random.randint(0, 100, (len(X_train), 784))\n",
    "X_train_mod = X_train + noise\n",
    "\n",
    "noise = np.random.randint(0, 100, (len(X_test), 784))\n",
    "X_test_mod = X_test + noise"
   ]
  },
  {
   "cell_type": "markdown",
   "id": "7c720512",
   "metadata": {},
   "source": [
    "타깃 이미지는 원본 이미지로 설정하겠습니다."
   ]
  },
  {
   "cell_type": "code",
   "execution_count": 77,
   "id": "fdd75d7f",
   "metadata": {},
   "outputs": [],
   "source": [
    "y_train_mod = X_train\n",
    "y_test_mod = X_test"
   ]
  },
  {
   "cell_type": "markdown",
   "id": "c7b7a405",
   "metadata": {},
   "source": [
    "테스트 세트에서 이미지를 하나 선택해서 보겠습니다.<br>\n",
    "(원래는 잘못된 행동이지만 학습을 위해서 한 번 보겠습니다.)\n",
    "\n",
    "입력으로 들어갈 잡음이 추가될 이미지입니다."
   ]
  },
  {
   "cell_type": "code",
   "execution_count": 78,
   "id": "50b4c40a",
   "metadata": {},
   "outputs": [
    {
     "data": {
      "image/png": "[encoded data removed]",
      "text/plain": [
       "<Figure size 432x288 with 1 Axes>"
      ]
     },
     "metadata": {
      "needs_background": "light"
     },
     "output_type": "display_data"
    }
   ],
   "source": [
    "some_digit_mod = X_test_mod[0]\n",
    "some_digit_image_mod = some_digit_mod.reshape(28, 28)\n",
    "plt.imshow(some_digit_image_mod, cmap='binary')\n",
    "plt.axis('off')\n",
    "plt.show()"
   ]
  },
  {
   "cell_type": "markdown",
   "id": "a24de58a",
   "metadata": {},
   "source": [
    "출력으로 나오길 기대하는 잡음이 제거된 이미지입니다."
   ]
  },
  {
   "cell_type": "code",
   "execution_count": 79,
   "id": "6ff3b4c5",
   "metadata": {},
   "outputs": [
    {
     "data": {
      "image/png": "[encoded data removed]",
      "text/plain": [
       "<Figure size 432x288 with 1 Axes>"
      ]
     },
     "metadata": {
      "needs_background": "light"
     },
     "output_type": "display_data"
    }
   ],
   "source": [
    "some_digit_mod_output = y_test_mod[0]\n",
    "some_digit_image_mod_output = some_digit_mod_output.reshape(28, 28)\n",
    "plt.imshow(some_digit_image_mod_output, cmap='binary')\n",
    "plt.axis('off')\n",
    "plt.show()"
   ]
  },
  {
   "cell_type": "markdown",
   "id": "d26b405e",
   "metadata": {},
   "source": [
    "분류기를 훈련시켜서 잡음이 있는 이미지를 깨끗하게 만들어보겠습니다."
   ]
  },
  {
   "cell_type": "code",
   "execution_count": 80,
   "id": "da19b018",
   "metadata": {},
   "outputs": [
    {
     "data": {
      "image/png": "[encoded data removed]",
      "text/plain": [
       "<Figure size 432x288 with 1 Axes>"
      ]
     },
     "metadata": {
      "needs_background": "light"
     },
     "output_type": "display_data"
    }
   ],
   "source": [
    "knn_clf.fit(X_train_mod, y_train_mod)\n",
    "clean_digit = knn_clf.predict([X_test_mod[0]])\n",
    "clean_digit_image = clean_digit.reshape(28, 28)\n",
    "plt.imshow(clean_digit_image, cmap='binary')\n",
    "plt.axis('off')\n",
    "plt.show()"
   ]
  },
  {
   "cell_type": "markdown",
   "id": "99f1b19d",
   "metadata": {},
   "source": [
    "타깃과 매우 비슷한 것을 알 수 있습니다."
   ]
  }
 ],
 "metadata": {
  "kernelspec": {
   "display_name": "Python 3 (ipykernel)",
   "language": "python",
   "name": "python3"
  },
  "language_info": {
   "codemirror_mode": {
    "name": "ipython",
    "version": 3
   },
   "file_extension": ".py",
   "mimetype": "text/x-python",
   "name": "python",
   "nbconvert_exporter": "python",
   "pygments_lexer": "ipython3",
   "version": "3.8.8"
  }
 },
 "nbformat": 4,
 "nbformat_minor": 5
}
