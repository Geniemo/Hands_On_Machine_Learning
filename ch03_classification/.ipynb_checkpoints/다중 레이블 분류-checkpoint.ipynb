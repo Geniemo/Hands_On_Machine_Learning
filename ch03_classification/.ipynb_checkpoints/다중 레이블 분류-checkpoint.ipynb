{
 "cells": [
  {
   "cell_type": "markdown",
   "id": "c5c4f559",
   "metadata": {},
   "source": [
    "# 다중 레이블 분류\n",
    "여기서는 학습을 위해 간단한 예를 살펴보겠습니다.\n",
    "\n",
    "아래 코드에서는 KNeighborsClassifier가 다중 레이블 분류를 지원해서 문제가 없지만<br>\n",
    "모든 분류기가 모두 다중 레이블 분류를 지원하는 것은 아닙니다."
   ]
  },
  {
   "cell_type": "code",
   "execution_count": 62,
   "id": "57ca11ed",
   "metadata": {},
   "outputs": [
    {
     "data": {
      "text/plain": [
       "KNeighborsClassifier()"
      ]
     },
     "execution_count": 62,
     "metadata": {},
     "output_type": "execute_result"
    }
   ],
   "source": [
    "from sklearn.neighbors import KNeighborsClassifier\n",
    "\n",
    "y_train_large = (y_train >= 7)  # 7보다 크면 True, 아니면 False\n",
    "y_train_odd = (y_train % 2 == 1)  # 홀수이면 True, 아니면 False\n",
    "y_multilabel = np.c_[y_train_large, y_train_odd]  # 7보다 큰가에 대한 정보와 홀수인가에 대한 정보\n",
    "\n",
    "knn_clf = KNeighborsClassifier()\n",
    "knn_clf.fit(X_train, y_multilabel)"
   ]
  },
  {
   "cell_type": "markdown",
   "id": "1f8fd0e4",
   "metadata": {},
   "source": [
    "이제 예측을 하면 레이블이 두 개 출력됩니다."
   ]
  },
  {
   "cell_type": "code",
   "execution_count": 63,
   "id": "2b581e0c",
   "metadata": {},
   "outputs": [
    {
     "data": {
      "text/plain": [
       "array([[False,  True]])"
      ]
     },
     "execution_count": 63,
     "metadata": {},
     "output_type": "execute_result"
    }
   ],
   "source": [
    "knn_clf.predict([some_digit])"
   ]
  },
  {
   "cell_type": "markdown",
   "id": "c10f71d4",
   "metadata": {},
   "source": [
    "숫자 5는 7보다 크지 않고(False), 홀수이므로(True) 올바르게 분류됐습니다."
   ]
  },
  {
   "cell_type": "markdown",
   "id": "77ed4b7e",
   "metadata": {},
   "source": [
    "다중 레이블 분류기를 평가하는 방법은 많습니다.<br>\n",
    "적절한 지표는 프로젝트에 따라 다르므로 상황에 맞게 선택해야 합니다.\n",
    "\n",
    "여기서는 각 레이블에 대한 \\\\( F_{1} \\hbox{ score} \\\\)의 평균을 이용하겠습니다."
   ]
  },
  {
   "cell_type": "code",
   "execution_count": 64,
   "id": "09111d45",
   "metadata": {},
   "outputs": [
    {
     "data": {
      "text/plain": [
       "array([[False,  True],\n",
       "       [False, False],\n",
       "       [False, False],\n",
       "       ...,\n",
       "       [False,  True],\n",
       "       [False, False],\n",
       "       [ True, False]])"
      ]
     },
     "execution_count": 64,
     "metadata": {},
     "output_type": "execute_result"
    }
   ],
   "source": [
    "y_train_knn_pred = cross_val_predict(knn_clf, X_train, y_multilabel, cv=3)\n",
    "y_train_knn_pred"
   ]
  },
  {
   "cell_type": "code",
   "execution_count": 65,
   "id": "270806a4",
   "metadata": {},
   "outputs": [
    {
     "data": {
      "text/plain": [
       "0.976410265560605"
      ]
     },
     "execution_count": 65,
     "metadata": {},
     "output_type": "execute_result"
    }
   ],
   "source": [
    "f1_score(y_multilabel, y_train_knn_pred, average='macro')"
   ]
  },
  {
   "cell_type": "markdown",
   "id": "a5b71027",
   "metadata": {},
   "source": [
    "여기서는 모든 레이블의 가중치가 같다고 가정했습니다.\n",
    "\n",
    "실제로는 아닐 수 있는데,<br>\n",
    "간단한 방법은 레이블에 클래스의 지지도(타깃 레이블에 속한 샘플 수)를 가중치로 주는 것입니다.<br>\n",
    "이렇게 하려면 average='weighted'로 설정하면 됩니다."
   ]
  }
 ],
 "metadata": {
  "kernelspec": {
   "display_name": "Python 3 (ipykernel)",
   "language": "python",
   "name": "python3"
  },
  "language_info": {
   "codemirror_mode": {
    "name": "ipython",
    "version": 3
   },
   "file_extension": ".py",
   "mimetype": "text/x-python",
   "name": "python",
   "nbconvert_exporter": "python",
   "pygments_lexer": "ipython3",
   "version": "3.8.8"
  }
 },
 "nbformat": 4,
 "nbformat_minor": 5
}
