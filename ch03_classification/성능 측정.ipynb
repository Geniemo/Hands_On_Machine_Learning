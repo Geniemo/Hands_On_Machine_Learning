{
 "cells": [
  {
   "cell_type": "code",
   "execution_count": 1,
   "id": "11cf24ae",
   "metadata": {},
   "outputs": [
    {
     "data": {
      "text/plain": [
       "SGDClassifier(random_state=42)"
      ]
     },
     "execution_count": 1,
     "metadata": {},
     "output_type": "execute_result"
    }
   ],
   "source": [
    "from sklearn.datasets import fetch_openml\n",
    "\n",
    "mnist = fetch_openml('mnist_784', as_frame=False, version=1)\n",
    "mnist.keys()\n",
    "\n",
    "X, y = mnist['data'], mnist['target']\n",
    "\n",
    "%matplotlib inline\n",
    "import matplotlib as mpl\n",
    "import matplotlib.pyplot as plt\n",
    "\n",
    "some_digit = X[0]\n",
    "some_digit_image = some_digit.reshape(28, 28)\n",
    "\n",
    "import numpy as np\n",
    "y = y.astype(np.uint8)\n",
    "X_train, X_test, y_train, y_test = X[:60000], X[60000:], y[:60000], y[60000:]\n",
    "\n",
    "y_train_5 = (y_train == 5)\n",
    "y_test_5 = (y_test == 5)\n",
    "\n",
    "from sklearn.linear_model import SGDClassifier\n",
    "sgd_clf = SGDClassifier(random_state=42)\n",
    "sgd_clf.fit(X_train, y_train_5)"
   ]
  },
  {
   "cell_type": "markdown",
   "id": "2e89b53d",
   "metadata": {},
   "source": [
    "# 교차 검증을 사용한 정확도 측정\n",
    "가끔 사이킷런이 제공하는 것보다<br>\n",
    "교차 검증 과정을 더 많이 제어해야 할 필요가 있습니다.\n",
    "\n",
    "이 때는 교차 검증 기능을 직접 구현하면 됩니다."
   ]
  },
  {
   "cell_type": "code",
   "execution_count": 2,
   "id": "86b6f28c",
   "metadata": {},
   "outputs": [],
   "source": [
    "from sklearn.model_selection import StratifiedKFold\n",
    "from sklearn.base import clone"
   ]
  },
  {
   "cell_type": "code",
   "execution_count": 4,
   "id": "3ce116cf",
   "metadata": {},
   "outputs": [
    {
     "name": "stdout",
     "output_type": "stream",
     "text": [
      "0.1005\n",
      "0.10405\n",
      "0.0993\n"
     ]
    }
   ],
   "source": [
    "skfolds = StratifiedKFold(n_splits=3, random_state=42, shuffle=True)\n",
    "\n",
    "for train_index, test_index in skfolds.split(X_train, y_train_5):\n",
    "    clone_clf = clone(sgd_clf)\n",
    "    X_train_folds = X_train[train_index]\n",
    "    y_train_folds = y_train_5[train_index]\n",
    "    X_test_fold = X_train[test_index]\n",
    "    y_test_fold = y_train_5[test_index]\n",
    "    \n",
    "    clone_clf.fit(X_train_folds, y_train_folds)\n",
    "    y_pred = clone_clf.predict(X_test_fold)\n",
    "    n_correct = sum(y_pred == y_test_fold)\n",
    "    print(n_correct / len(y_pred))"
   ]
  },
  {
   "cell_type": "markdown",
   "id": "7625634c",
   "metadata": {},
   "source": [
    "- sklearn.model_selection.StratifiedKFold: This cross-validation object is a variation of KFold that returns stratified folds. The folds are made by preserving the percentage of samples for each class.\n",
    "- sklearn.base.clone: returns a new estimator with the same parameters that has not been fitted on any data."
   ]
  },
  {
   "cell_type": "markdown",
   "id": "390d3f8f",
   "metadata": {},
   "source": [
    "그런데 더 사이킷런이 제공하는 정도로만 제어를 하면 된다면<br>\n",
    "그냥 제공하는 걸 쓰는 게 더 좋은 방법이라 할 수 있겠습니다."
   ]
  },
  {
   "cell_type": "code",
   "execution_count": 5,
   "id": "59f64459",
   "metadata": {},
   "outputs": [
    {
     "data": {
      "text/plain": [
       "array([0.95035, 0.96035, 0.9604 ])"
      ]
     },
     "execution_count": 5,
     "metadata": {},
     "output_type": "execute_result"
    }
   ],
   "source": [
    "from sklearn.model_selection import cross_val_score\n",
    "cross_val_score(sgd_clf, X_train, y_train_5, cv=3, scoring='accuracy')"
   ]
  },
  {
   "cell_type": "markdown",
   "id": "235960c4",
   "metadata": {},
   "source": [
    "모든 교차 검증 폴드에 대해 정확도가 95% 이상인 것을 볼 수 있습니다."
   ]
  },
  {
   "cell_type": "markdown",
   "id": "b905c157",
   "metadata": {},
   "source": [
    "이게 되게 좋아보일 수 있는데,<br>\n",
    "모든 이미지를 '5 아님'클래스로 분류하는 더미 분류기를 만들어서 비교해보겠습니다."
   ]
  },
  {
   "cell_type": "code",
   "execution_count": 6,
   "id": "a3bde26a",
   "metadata": {},
   "outputs": [],
   "source": [
    "from sklearn.base import BaseEstimator\n",
    "\n",
    "class Never5Classifier(BaseEstimator):\n",
    "    def fit(self, X, y=None):\n",
    "        return self\n",
    "    def predict(self, X):\n",
    "        return np.zeros((len(X), 1), dtype=bool)"
   ]
  },
  {
   "cell_type": "code",
   "execution_count": 7,
   "id": "3d6e681b",
   "metadata": {},
   "outputs": [
    {
     "data": {
      "text/plain": [
       "array([0.91125, 0.90855, 0.90915])"
      ]
     },
     "execution_count": 7,
     "metadata": {},
     "output_type": "execute_result"
    }
   ],
   "source": [
    "never_5_clf = Never5Classifier()\n",
    "cross_val_score(never_5_clf, X_train, y_train_5, cv=3, scoring='accuracy')"
   ]
  },
  {
   "cell_type": "markdown",
   "id": "347aefb1",
   "metadata": {},
   "source": [
    "어떤 이미지인지 보지도 않고 전부 다 '5 아님' 클래스로 분류했는데도<br>\n",
    "정확도가 90% 이상이 나옵니다.\n",
    "\n",
    "전체 이미지 중 10% 정도만 5일 것이기 때문에<br>\n",
    "무조건 '5 아님' 으로 예측하면 정확히 맞출 확률이 90%입니다.\n",
    "\n",
    "이 예제는 정확도를 분류기를 성능 측정 지표로 선호하지 않는 이유를 보여줍니다.<br>\n",
    "특히 불균형한 데이터셋을 다룰 때 더욱 그렇습니다."
   ]
  },
  {
   "cell_type": "markdown",
   "id": "a1fb8ed3",
   "metadata": {},
   "source": [
    "# 오차 행렬\n",
    "분류기의 성능을 평가하는 더 좋은 방법은 오차 행렬을 조사하는 것입니다.\n",
    "\n",
    "이 방법은 클래스 A의 샘플이 클래스 B로 분류된 횟수를 세는 방법입니다.<br>\n",
    "예를 들어서 분류기가 숫자 5를 3으로 잘못 분류한 횟수를 알고 싶다면<br>\n",
    "오차 행렬의 5행 3열을 보면 됩니다.\n",
    "\n",
    "오차 행렬을 만들려면 실제 타깃과 비교할 수 있게 먼저 예측값을 만들어야 합니다.<br>\n",
    "이 때 cross_val_predict() 함수를 사용할 수 있습니다.\n",
    "\n",
    "- cross_val_predict: cross_val_score 함수처럼 k-겹 교차 검증을 수행하는데 평가 점수를 반환하지 않고 각 테스트 폴드에서 얻은 예측을 반환합니다."
   ]
  },
  {
   "cell_type": "code",
   "execution_count": 8,
   "id": "b79cc7e7",
   "metadata": {},
   "outputs": [],
   "source": [
    "from sklearn.model_selection import cross_val_predict\n",
    "\n",
    "y_train_pred = cross_val_predict(sgd_clf, X_train, y_train_5, cv=3)"
   ]
  },
  {
   "cell_type": "code",
   "execution_count": 10,
   "id": "9f14120b",
   "metadata": {},
   "outputs": [
    {
     "data": {
      "text/plain": [
       "(60000,)"
      ]
     },
     "execution_count": 10,
     "metadata": {},
     "output_type": "execute_result"
    }
   ],
   "source": [
    "y_train_pred.shape"
   ]
  }
 ],
 "metadata": {
  "kernelspec": {
   "display_name": "Python 3 (ipykernel)",
   "language": "python",
   "name": "python3"
  },
  "language_info": {
   "codemirror_mode": {
    "name": "ipython",
    "version": 3
   },
   "file_extension": ".py",
   "mimetype": "text/x-python",
   "name": "python",
   "nbconvert_exporter": "python",
   "pygments_lexer": "ipython3",
   "version": "3.9.7"
  }
 },
 "nbformat": 4,
 "nbformat_minor": 5
}
