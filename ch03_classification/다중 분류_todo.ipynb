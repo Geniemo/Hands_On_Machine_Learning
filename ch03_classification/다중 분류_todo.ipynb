{
 "cells": [
  {
   "cell_type": "code",
   "execution_count": 1,
   "id": "11cf24ae",
   "metadata": {},
   "outputs": [
    {
     "data": {
      "text/plain": [
       "SGDClassifier(random_state=42)"
      ]
     },
     "execution_count": 1,
     "metadata": {},
     "output_type": "execute_result"
    }
   ],
   "source": [
    "from sklearn.datasets import fetch_openml\n",
    "\n",
    "mnist = fetch_openml('mnist_784', as_frame=False, version=1)\n",
    "mnist.keys()\n",
    "\n",
    "X, y = mnist['data'], mnist['target']\n",
    "\n",
    "%matplotlib inline\n",
    "import matplotlib as mpl\n",
    "import matplotlib.pyplot as plt\n",
    "\n",
    "some_digit = X[0]\n",
    "some_digit_image = some_digit.reshape(28, 28)\n",
    "\n",
    "import numpy as np\n",
    "y = y.astype(np.uint8)\n",
    "X_train, X_test, y_train, y_test = X[:60000], X[60000:], y[:60000], y[60000:]\n",
    "\n",
    "y_train_5 = (y_train == 5)\n",
    "y_test_5 = (y_test == 5)\n",
    "\n",
    "from sklearn.linear_model import SGDClassifier\n",
    "sgd_clf = SGDClassifier(random_state=42)\n",
    "sgd_clf.fit(X_train, y_train_5)"
   ]
  },
  {
   "cell_type": "markdown",
   "id": "2e89b53d",
   "metadata": {},
   "source": [
    "# 교차 검증을 사용한 정확도 측정\n",
    "가끔 사이킷런이 제공하는 것보다<br>\n",
    "교차 검증 과정을 더 많이 제어해야 할 필요가 있습니다.\n",
    "\n",
    "이 때는 교차 검증 기능을 직접 구현하면 됩니다."
   ]
  },
  {
   "cell_type": "code",
   "execution_count": 2,
   "id": "86b6f28c",
   "metadata": {},
   "outputs": [],
   "source": [
    "from sklearn.model_selection import StratifiedKFold\n",
    "from sklearn.base import clone"
   ]
  },
  {
   "cell_type": "code",
   "execution_count": 3,
   "id": "3ce116cf",
   "metadata": {},
   "outputs": [
    {
     "name": "stdout",
     "output_type": "stream",
     "text": [
      "0.9669\n",
      "0.91625\n",
      "0.96785\n"
     ]
    }
   ],
   "source": [
    "skfolds = StratifiedKFold(n_splits=3, random_state=42, shuffle=True)\n",
    "\n",
    "for train_index, test_index in skfolds.split(X_train, y_train_5):\n",
    "    clone_clf = clone(sgd_clf)\n",
    "    X_train_folds = X_train[train_index]\n",
    "    y_train_folds = y_train_5[train_index]\n",
    "    X_test_fold = X_train[test_index]\n",
    "    y_test_fold = y_train_5[test_index]\n",
    "    \n",
    "    clone_clf.fit(X_train_folds, y_train_folds)\n",
    "    y_pred = clone_clf.predict(X_test_fold)\n",
    "    n_correct = sum(y_pred == y_test_fold)\n",
    "    print(n_correct / len(y_pred))"
   ]
  },
  {
   "cell_type": "markdown",
   "id": "7625634c",
   "metadata": {},
   "source": [
    "- sklearn.model_selection.StratifiedKFold: This cross-validation object is a variation of KFold that returns stratified folds. The folds are made by preserving the percentage of samples for each class.\n",
    "- sklearn.base.clone: returns a new estimator with the same parameters that has not been fitted on any data."
   ]
  },
  {
   "cell_type": "markdown",
   "id": "390d3f8f",
   "metadata": {},
   "source": [
    "그런데 더 사이킷런이 제공하는 정도로만 제어를 하면 된다면<br>\n",
    "그냥 제공하는 걸 쓰는 게 더 좋은 방법이라 할 수 있겠습니다."
   ]
  },
  {
   "cell_type": "code",
   "execution_count": 4,
   "id": "59f64459",
   "metadata": {},
   "outputs": [
    {
     "data": {
      "text/plain": [
       "array([0.95035, 0.96035, 0.9604 ])"
      ]
     },
     "execution_count": 4,
     "metadata": {},
     "output_type": "execute_result"
    }
   ],
   "source": [
    "from sklearn.model_selection import cross_val_score\n",
    "cross_val_score(sgd_clf, X_train, y_train_5, cv=3, scoring='accuracy')"
   ]
  },
  {
   "cell_type": "markdown",
   "id": "235960c4",
   "metadata": {},
   "source": [
    "모든 교차 검증 폴드에 대해 정확도가 95% 이상인 것을 볼 수 있습니다."
   ]
  },
  {
   "cell_type": "markdown",
   "id": "b905c157",
   "metadata": {},
   "source": [
    "이게 되게 좋아보일 수 있는데,<br>\n",
    "모든 이미지를 '5 아님'클래스로 분류하는 더미 분류기를 만들어서 비교해보겠습니다."
   ]
  },
  {
   "cell_type": "code",
   "execution_count": 5,
   "id": "a3bde26a",
   "metadata": {},
   "outputs": [],
   "source": [
    "from sklearn.base import BaseEstimator\n",
    "\n",
    "class Never5Classifier(BaseEstimator):\n",
    "    def fit(self, X, y=None):\n",
    "        return self\n",
    "    def predict(self, X):\n",
    "        return np.zeros((len(X), 1), dtype=bool)"
   ]
  },
  {
   "cell_type": "code",
   "execution_count": 6,
   "id": "3d6e681b",
   "metadata": {},
   "outputs": [
    {
     "data": {
      "text/plain": [
       "array([0.91125, 0.90855, 0.90915])"
      ]
     },
     "execution_count": 6,
     "metadata": {},
     "output_type": "execute_result"
    }
   ],
   "source": [
    "never_5_clf = Never5Classifier()\n",
    "cross_val_score(never_5_clf, X_train, y_train_5, cv=3, scoring='accuracy')"
   ]
  },
  {
   "cell_type": "markdown",
   "id": "347aefb1",
   "metadata": {},
   "source": [
    "어떤 이미지인지 보지도 않고 전부 다 '5 아님' 클래스로 분류했는데도<br>\n",
    "정확도가 90% 이상이 나옵니다.\n",
    "\n",
    "전체 이미지 중 10% 정도만 5일 것이기 때문에<br>\n",
    "무조건 '5 아님' 으로 예측하면 정확히 맞출 확률이 90%입니다.\n",
    "\n",
    "이 예제는 정확도를 분류기를 성능 측정 지표로 선호하지 않는 이유를 보여줍니다.<br>\n",
    "특히 불균형한 데이터셋을 다룰 때 더욱 그렇습니다."
   ]
  },
  {
   "cell_type": "markdown",
   "id": "a1fb8ed3",
   "metadata": {},
   "source": [
    "# 오차 행렬\n",
    "분류기의 성능을 평가하는 더 좋은 방법은 오차 행렬을 조사하는 것입니다.\n",
    "\n",
    "이 방법은 클래스 A의 샘플이 클래스 B로 분류된 횟수를 세는 방법입니다.<br>\n",
    "예를 들어서 분류기가 숫자 5를 3으로 잘못 분류한 횟수를 알고 싶다면<br>\n",
    "오차 행렬의 5행 3열을 보면 됩니다.\n",
    "\n",
    "오차 행렬을 만들려면 실제 타깃과 비교할 수 있게 먼저 예측값을 만들어야 합니다.<br>\n",
    "이 때 cross_val_predict() 함수를 사용할 수 있습니다.\n",
    "\n",
    "- sklearn.model_selection.cross_val_predict: cross_val_score 함수처럼 k-겹 교차 검증을 수행하는데 평가 점수를 반환하지 않고 각 테스트 폴드에서 얻은 예측을 반환합니다."
   ]
  },
  {
   "cell_type": "code",
   "execution_count": 7,
   "id": "b79cc7e7",
   "metadata": {},
   "outputs": [],
   "source": [
    "from sklearn.model_selection import cross_val_predict\n",
    "\n",
    "y_train_pred = cross_val_predict(sgd_clf, X_train, y_train_5, cv=3)"
   ]
  },
  {
   "cell_type": "markdown",
   "id": "bb6d4868",
   "metadata": {},
   "source": [
    "이제 confusion_matrix() 함수를 사용해 오차 행렬을 만들 준비가 됐습니다.<br>\n",
    "함수에 타깃 클래스(y_train_5)와 예측 클래스(y_train_pred)를 넣고 호출하면 됩니다."
   ]
  },
  {
   "cell_type": "code",
   "execution_count": 8,
   "id": "1c9f6935",
   "metadata": {},
   "outputs": [
    {
     "data": {
      "text/plain": [
       "array([[53892,   687],\n",
       "       [ 1891,  3530]], dtype=int64)"
      ]
     },
     "execution_count": 8,
     "metadata": {},
     "output_type": "execute_result"
    }
   ],
   "source": [
    "from sklearn.metrics import confusion_matrix\n",
    "confusion_matrix(y_train_5, y_train_pred)"
   ]
  },
  {
   "cell_type": "markdown",
   "id": "cb85e07c",
   "metadata": {},
   "source": [
    "오차 행렬의 행은 실제 클래스를 나타내고,<br>\n",
    "오차 행렬의 열은 예측한 클래스를 나타냅니다.\n",
    "\n",
    "이 행렬의 첫 번째 행은 '5 아님' 이미지(음성 클래스)에 대한 것으로,<br>\n",
    "1행 1열의 수는 '5 아님' 이미지를 '5 아님' 이미지로 정확하게 분류(진짜 음성)한 수를 나타내고,<br>\n",
    "1행 2열의 수는 '5 아님' 이미지를 '5' 이미지로 틀리게 분류(거짓 음성)한 수를 나타냅니다.\n",
    "\n",
    "이 행렬의 두 번째 행은 '5' 이미지(양성 클래스)에 대한 것으로,<br>\n",
    "2행 1열의 수는 '5' 이미지를 '5 아님' 이미지로 틀리게 분류(거짓 양성)한 수를 나타내고,<br>\n",
    "2행 2열의 수는 '5' 이미지를 '5' 이미지로 정확하게 분류(진짜 양성)한 수를 나타냅니다.\n",
    "\n",
    "완벽한 분류기라면 진짜 양성과 진짜 음성만 가지고 있을 것이므로<br>\n",
    "오차 행렬의 주대각선만 0이 아닌 값이 됩니다."
   ]
  },
  {
   "cell_type": "code",
   "execution_count": 9,
   "id": "caa7d266",
   "metadata": {},
   "outputs": [
    {
     "data": {
      "text/plain": [
       "array([[54579,     0],\n",
       "       [    0,  5421]], dtype=int64)"
      ]
     },
     "execution_count": 9,
     "metadata": {},
     "output_type": "execute_result"
    }
   ],
   "source": [
    "y_train_perfect_pred = y_train_5\n",
    "confusion_matrix(y_train_5, y_train_perfect_pred)"
   ]
  },
  {
   "cell_type": "markdown",
   "id": "35582e37",
   "metadata": {},
   "source": [
    "# 정밀도와 재현율\n",
    "오차 행렬이 많은 정보를 제공해주지만 더 요약된 지표도 필요할 수 있습니다.\n",
    "\n",
    "그 중 하나가 양성 예측의 정확도입니다. 이를 분류기의 정밀도 라고 합니다.\n",
    "\n",
    "\\\\[ \\displaystyle precision = \\frac{TP}{TP + FP}, \\hbox{ TP: true positive, FP: false positive} \\\\]\n",
    "\n",
    "정밀도는 재현율 이라는 또 다른 지표와 같이 사용하는 것이 일반적입니다.<br>\n",
    "재현율은 분류기가 정확하게 감지한 양성 샘플의 비율로,<br>\n",
    "민감도 또는 진짜 양성 비율 이라고도 합니다.\n",
    "\n",
    "\\\\[ \\displaystyle recall = \\frac{TP}{TP + FN}, \\hbox{ TP: true positive, FN: false negative} \\\\]\n",
    "\n",
    "사이킷런은 정밀도와 재현율을 포함해 분류기의 지표를 계산하는 여러 함수를 제공합니다.<br>\n",
    "그 중 이번에 얘기한 정밀도를 구해주는 precision_score 함수와<br>\n",
    "재현율을 구해주는 recall_score 함수를 살펴보겠습니다."
   ]
  },
  {
   "cell_type": "code",
   "execution_count": 10,
   "id": "81713412",
   "metadata": {},
   "outputs": [],
   "source": [
    "from sklearn.metrics import precision_score, recall_score"
   ]
  },
  {
   "cell_type": "code",
   "execution_count": 11,
   "id": "53c88b2f",
   "metadata": {},
   "outputs": [
    {
     "data": {
      "text/plain": [
       "0.8370879772350012"
      ]
     },
     "execution_count": 11,
     "metadata": {},
     "output_type": "execute_result"
    }
   ],
   "source": [
    "precision_score(y_train_5, y_train_pred)"
   ]
  },
  {
   "cell_type": "markdown",
   "id": "8c8ece36",
   "metadata": {},
   "source": [
    "5로 판별된 이미지 중 어느 정도가 정확한지 알 수 있습니다."
   ]
  },
  {
   "cell_type": "code",
   "execution_count": 12,
   "id": "ce25a5f9",
   "metadata": {},
   "outputs": [
    {
     "data": {
      "text/plain": [
       "0.6511713705958311"
      ]
     },
     "execution_count": 12,
     "metadata": {},
     "output_type": "execute_result"
    }
   ],
   "source": [
    "recall_score(y_train_5, y_train_pred)"
   ]
  },
  {
   "cell_type": "markdown",
   "id": "23e0a670",
   "metadata": {},
   "source": [
    "전체 5 중 얼마나 제대로 감지했는지 알 수 있습니다."
   ]
  },
  {
   "cell_type": "markdown",
   "id": "7612d0f3",
   "metadata": {},
   "source": [
    "정밀도와 재현율을 \\\\(F_{1} \\hbox{ score}\\\\)라고 하는 하나의 숫자로 만들면 편리할 때가 많습니다.<br>\n",
    "이 점수는 정밀도와 재현율의 조화 평균 입니다.\n",
    "\n",
    "\\\\[ \\displaystyle F_{1} = \\frac{2}{\\frac{1}{precision} + \\frac{1}{recall}} \\\\]\n",
    "\n",
    "이 점수를 계산하려면 f1_score 함수를 사용하면 됩니다."
   ]
  },
  {
   "cell_type": "code",
   "execution_count": 13,
   "id": "7e6c4e8d",
   "metadata": {},
   "outputs": [],
   "source": [
    "from sklearn.metrics import f1_score"
   ]
  },
  {
   "cell_type": "code",
   "execution_count": 14,
   "id": "3b44da01",
   "metadata": {},
   "outputs": [
    {
     "data": {
      "text/plain": [
       "0.7325171197343846"
      ]
     },
     "execution_count": 14,
     "metadata": {},
     "output_type": "execute_result"
    }
   ],
   "source": [
    "f1_score(y_train_5, y_train_pred)"
   ]
  },
  {
   "cell_type": "markdown",
   "id": "d6e95c74",
   "metadata": {},
   "source": [
    "정밀도와 재현율이 비슷한 분류기에서는 \\\\(F_{1} \\hbox{ score}\\\\)가 높습니다.<br>\n",
    "하지만 이게 항상 바람직한 것은 아니고,<br>\n",
    "상황에 따라 정밀도가 중요할 수도 있고 재현율이 중요할 수도 있습니다.\n",
    "\n",
    "이 둘을 모두 얻을 수는 없습니다.<br>\n",
    "정밀도를 올리면 재현율이 줄고,<br>\n",
    "재현율을 올리면 정밀도가 줄어듭니다.\n",
    "\n",
    "이러한 관계를 정밀도/재현율 트레이드오프 라고 합니다."
   ]
  },
  {
   "cell_type": "markdown",
   "id": "45b7fc2a",
   "metadata": {},
   "source": [
    "# 정밀도/재현율 트레이드오프\n",
    "SGDClassifier가 분류를 어떻게 결정하는지 살펴보며<br>\n",
    "정밀도/재현율 트레이드오프를 이해해보겠습니다.\n",
    "\n",
    "이 분류기는 결정 함수를 사용해서 각 샘플에 대해 점수를 계산합니다.<br>\n",
    "이 점수가 임곗값보다 크면 샘플을 양성 클래스에 할당하고,<br>\n",
    "그렇지 않으면 음성 클래스에 할당합니다.\n",
    "\n",
    "임곗값을 줄이면 양성 클래스라고 판단하는 기준이 완화되는 것이고,<br>\n",
    "더 많은 가짜 양성이 생길 것이고,<br>\n",
    "진짜 양성들은 진짜 양성으로 분류될 확률이 높아지는 것입니다.\n",
    "\n",
    "다시 말하면, 정밀도가 낮아지고 재현율이 높아지는 것입니다.\n",
    "\n",
    "반대로 임곗값을 늘리면 양성 클래스라고 판단하는 기준이 강화되는 것이고,<br>\n",
    "가짜 양성이 줄 것이고,<br>\n",
    "진짜 양성들 중 진짜 양성으로 분류되지 않은 샘플들이 많아질 것입니다.\n",
    "\n",
    "이건 다시 말하면, 정밀도가 높아지고 재현율이 낮아지는 것입니다."
   ]
  },
  {
   "cell_type": "markdown",
   "id": "1ebd6eca",
   "metadata": {},
   "source": [
    "사이킷런에서 임곗값을 직접 정할 순 없지만 예측에 사용한 점수는 확인할 수 있습니다.<br>\n",
    "분류기의 decision_function() 메소드를 호출하면 각 샘플의 점수를 알 수 있습니다.<br>\n",
    "이 점수를 기반으로 원하는 임겟값을 정해 예측을 만들 수 있습니다."
   ]
  },
  {
   "cell_type": "code",
   "execution_count": 15,
   "id": "a91d2cbc",
   "metadata": {},
   "outputs": [
    {
     "data": {
      "text/plain": [
       "array([2164.22030239])"
      ]
     },
     "execution_count": 15,
     "metadata": {},
     "output_type": "execute_result"
    }
   ],
   "source": [
    "y_scores = sgd_clf.decision_function([some_digit])\n",
    "y_scores"
   ]
  },
  {
   "cell_type": "code",
   "execution_count": 16,
   "id": "0fab2304",
   "metadata": {},
   "outputs": [
    {
     "data": {
      "text/plain": [
       "array([ True])"
      ]
     },
     "execution_count": 16,
     "metadata": {},
     "output_type": "execute_result"
    }
   ],
   "source": [
    "threshold = 0\n",
    "y_some_digit_pred = (y_scores > threshold)\n",
    "y_some_digit_pred"
   ]
  },
  {
   "cell_type": "code",
   "execution_count": 17,
   "id": "689593e4",
   "metadata": {},
   "outputs": [
    {
     "data": {
      "text/plain": [
       "array([False])"
      ]
     },
     "execution_count": 17,
     "metadata": {},
     "output_type": "execute_result"
    }
   ],
   "source": [
    "threshold = 8000\n",
    "y_some_digit_pred = (y_scores > threshold)\n",
    "y_some_digit_pred"
   ]
  },
  {
   "cell_type": "markdown",
   "id": "cfe3075b",
   "metadata": {},
   "source": [
    "적절한 임곗값을 정하기 위해서는<br>\n",
    "먼저 cross_val_predict() 함수를 사용해 훈련 세트의 모든 샘플의 점수를 구해야 합니다.<br>\n",
    "이번에는 예측 결과가 아니라 결정 점수를 반환받도록 method='decision_function'으로 정해줘야 합니다."
   ]
  },
  {
   "cell_type": "code",
   "execution_count": 18,
   "id": "1a2a3463",
   "metadata": {},
   "outputs": [],
   "source": [
    "y_scores = cross_val_predict(sgd_clf, X_train, y_train_5, cv=3, method='decision_function')"
   ]
  },
  {
   "cell_type": "markdown",
   "id": "f57fdccc",
   "metadata": {},
   "source": [
    "이렇게 얻은 점수로 precision_recall_curve() 함수를 이용해 모든 임곗값에 대해<br>\n",
    "정밀도와 재현율을 계산할 수 있습니다."
   ]
  },
  {
   "cell_type": "code",
   "execution_count": 19,
   "id": "77cb78e5",
   "metadata": {},
   "outputs": [],
   "source": [
    "from sklearn.metrics import precision_recall_curve"
   ]
  },
  {
   "cell_type": "code",
   "execution_count": 20,
   "id": "30d7dee1",
   "metadata": {},
   "outputs": [],
   "source": [
    "precisions, recalls, thresholds = precision_recall_curve(y_train_5, y_scores)"
   ]
  },
  {
   "cell_type": "code",
   "execution_count": 21,
   "id": "a95a0d74",
   "metadata": {},
   "outputs": [
    {
     "data": {
      "text/plain": [
       "(59966,)"
      ]
     },
     "execution_count": 21,
     "metadata": {},
     "output_type": "execute_result"
    }
   ],
   "source": [
    "thresholds.shape"
   ]
  },
  {
   "cell_type": "markdown",
   "id": "8c395680",
   "metadata": {},
   "source": [
    "이제 matplotlib을 이용해 임곗값의 함수로 정밀도와 재현율을 그릴 수 있습니다."
   ]
  },
  {
   "cell_type": "code",
   "execution_count": 22,
   "id": "907ebfaa",
   "metadata": {},
   "outputs": [
    {
     "data": {
      "image/png": "[encoded data removed]",
      "text/plain": [
       "<Figure size 432x288 with 1 Axes>"
      ]
     },
     "metadata": {
      "needs_background": "light"
     },
     "output_type": "display_data"
    }
   ],
   "source": [
    "def plot_precision_recall_vs_threshold(precisions, recalls, thresholds):\n",
    "    plt.plot(thresholds, precisions[:-1], 'b--', label='precision')\n",
    "    plt.plot(thresholds, recalls[:-1], 'g--', label='recall')\n",
    "    plt.legend()\n",
    "\n",
    "plot_precision_recall_vs_threshold(precisions, recalls, thresholds)\n",
    "plt.show()"
   ]
  },
  {
   "cell_type": "markdown",
   "id": "ab692b13",
   "metadata": {},
   "source": [
    "아래와 같이 재현율에 대한 정밀도 곡선을 그리는 방법도 있습니다."
   ]
  },
  {
   "cell_type": "code",
   "execution_count": 23,
   "id": "c7aed125",
   "metadata": {},
   "outputs": [
    {
     "data": {
      "image/png": "[encoded data removed]",
      "text/plain": [
       "<Figure size 432x288 with 1 Axes>"
      ]
     },
     "metadata": {
      "needs_background": "light"
     },
     "output_type": "display_data"
    }
   ],
   "source": [
    "def plot_precision_vs_recall(precisions, recalls):\n",
    "    plt.plot(precisions, recalls, 'b--')\n",
    "    plt.xlabel('recall')\n",
    "    plt.ylabel('precision')\n",
    "\n",
    "plot_precision_vs_recall(precisions, recalls)\n",
    "plt.show()"
   ]
  },
  {
   "cell_type": "markdown",
   "id": "e9c5be9d",
   "metadata": {},
   "source": [
    "재현율 80% 근처에서 정밀도가 급격히 주는 것을 볼 수 있습니다.<br>\n",
    "이 하강점 직전을 트레이드오프로 선택하는 것이 좋습니다.<br>\n",
    "물론 이런 선택은 프로젝트마다 다르므로 상황에 맞춰 선택하는 것이 옳습니다."
   ]
  },
  {
   "cell_type": "markdown",
   "id": "877f3650",
   "metadata": {},
   "source": [
    "여기서 정밀도 90%를 달성하는 것이 목표라면 아래와 같이 threshold를 정해줄 수 있습니다."
   ]
  },
  {
   "cell_type": "code",
   "execution_count": 24,
   "id": "791a6a93",
   "metadata": {},
   "outputs": [
    {
     "data": {
      "text/plain": [
       "3370.0194991439557"
      ]
     },
     "execution_count": 24,
     "metadata": {},
     "output_type": "execute_result"
    }
   ],
   "source": [
    "threshold_90_precision = thresholds[np.argmax(precisions >= 0.9)]\n",
    "threshold_90_precision"
   ]
  },
  {
   "cell_type": "code",
   "execution_count": 25,
   "id": "ff67e939",
   "metadata": {},
   "outputs": [],
   "source": [
    "y_train_pred_90 = (y_scores >= threshold_90_precision)"
   ]
  },
  {
   "cell_type": "code",
   "execution_count": 26,
   "id": "0ae3d8d9",
   "metadata": {},
   "outputs": [
    {
     "data": {
      "text/plain": [
       "0.9000345901072293"
      ]
     },
     "execution_count": 26,
     "metadata": {},
     "output_type": "execute_result"
    }
   ],
   "source": [
    "precision_score(y_train_5, y_train_pred_90)"
   ]
  },
  {
   "cell_type": "code",
   "execution_count": 27,
   "id": "553bea17",
   "metadata": {},
   "outputs": [
    {
     "data": {
      "text/plain": [
       "0.4799852425751706"
      ]
     },
     "execution_count": 27,
     "metadata": {},
     "output_type": "execute_result"
    }
   ],
   "source": [
    "recall_score(y_train_5, y_train_pred_90)"
   ]
  },
  {
   "cell_type": "markdown",
   "id": "3b64908f",
   "metadata": {},
   "source": [
    "# ROC 곡선\n",
    "수신기 조작 특성(ROC) 곡선도 이진 분류에서 널리 사용하는 도구입니다.\n",
    "\n",
    "이 곡선은 거짓 양성 비율(FPR)에 대한 진짜 양성 비율(TPR)의 곡선입니다.\n",
    "\n",
    "양성으로 잘못 분류된 음성 샘플의 비율이 FPR입니다.<br>\n",
    "FPR은 1에서 진짜 음성 비율(TNR)을 뺀 값입니다.\n",
    "\n",
    "TNR을 특이도라고도 합니다.<br>\n",
    "따라서 ROC 곡선은 민감도(재현율)에 대한 1 - 특이도 그래프입니다."
   ]
  },
  {
   "cell_type": "markdown",
   "id": "ab02b94b",
   "metadata": {},
   "source": [
    "ROC 곡선을 그리려면 roc_curve() 함수를 사용해<br>\n",
    "여러 임곗값에서 TPR과 FPR을 계산해야 합니다."
   ]
  },
  {
   "cell_type": "code",
   "execution_count": 28,
   "id": "16a51009",
   "metadata": {},
   "outputs": [],
   "source": [
    "from sklearn.metrics import roc_curve\n",
    "\n",
    "fpr, tpr, thresholds = roc_curve(y_train_5, y_scores)"
   ]
  },
  {
   "cell_type": "markdown",
   "id": "7d00a96e",
   "metadata": {},
   "source": [
    "이제 이를 이용해 TPR에 대한 FPR 곡선을 그릴 수 있습니다."
   ]
  },
  {
   "cell_type": "code",
   "execution_count": 29,
   "id": "7b2411af",
   "metadata": {},
   "outputs": [
    {
     "data": {
      "image/png": "[encoded data removed]",
      "text/plain": [
       "<Figure size 432x288 with 1 Axes>"
      ]
     },
     "metadata": {
      "needs_background": "light"
     },
     "output_type": "display_data"
    }
   ],
   "source": [
    "def plot_roc_curve(fpr, tpr, label=None):\n",
    "    plt.plot(fpr, tpr, linewidth=2, label=label)\n",
    "    plt.plot([0, 1], [0, 1],'k--')\n",
    "    plt.xlabel('FPR')\n",
    "    plt.ylabel('TPR(recall)')\n",
    "    plt.grid()\n",
    "    \n",
    "plot_roc_curve(fpr, tpr)\n",
    "plt.show()"
   ]
  },
  {
   "cell_type": "markdown",
   "id": "e6c7e4b6",
   "metadata": {},
   "source": [
    "여기에서도 트레이드오프가 있습니다.<br>\n",
    "재현율이 높을수록 거짓 양성이 늘어납니다.\n",
    "\n",
    "점선은 완전한 랜덤 분류기의 ROC 곡선을 뜻합니다.<br>\n",
    "좋은 분류기는 이 점선에서 최대한 멀리 떨어져있어야 합니다."
   ]
  },
  {
   "cell_type": "markdown",
   "id": "8981c4c1",
   "metadata": {},
   "source": [
    "곡선 아래의 면적(AUC)을 측정하면 분류기들을 비교할 수 있습니다.<br>\n",
    "완벽한 분류기는 ROC의 AUC가 1이고,<br>\n",
    "완전한 램덤 분류기는 AUC가 0.5입니다.\n",
    "\n",
    "사이킷런은 ROC의 AUC를 계산하는 함수를 제공합니다."
   ]
  },
  {
   "cell_type": "code",
   "execution_count": 30,
   "id": "489d331a",
   "metadata": {},
   "outputs": [],
   "source": [
    "from sklearn.metrics import roc_auc_score"
   ]
  },
  {
   "cell_type": "code",
   "execution_count": 31,
   "id": "604678f7",
   "metadata": {},
   "outputs": [
    {
     "data": {
      "text/plain": [
       "0.9604938554008616"
      ]
     },
     "execution_count": 31,
     "metadata": {},
     "output_type": "execute_result"
    }
   ],
   "source": [
    "roc_auc_score(y_train_5, y_scores)"
   ]
  },
  {
   "cell_type": "markdown",
   "id": "649a9222",
   "metadata": {},
   "source": [
    "RandomForestClassifier를 훈련시켜서 SGDClassifier의 ROC 곡선과 AUC 점수를 비교해보겠습니다.<br>\n",
    "이를 위해서 훈련 세트의 샘플에 대한 점수를 얻어야 하는데,<br>\n",
    "작동 방식의 차이 때문에 RandomForestClassifier는 decision_function() 대신 predict_proba()가 있습니다.\n",
    "\n",
    "predict_proba는 샘플이 행, 클래스가 열이고,<br>\n",
    "샘플이 각 클래스에 속할 확률을 담은 배열을 반환합니다.\n",
    "\n",
    "사이킷런 분류기는 일반적으로 이 둘 중 하나 또는 둘 다를 가지고 있습니다."
   ]
  },
  {
   "cell_type": "code",
   "execution_count": 32,
   "id": "cfab4ac4",
   "metadata": {},
   "outputs": [],
   "source": [
    "from sklearn.ensemble import RandomForestClassifier"
   ]
  },
  {
   "cell_type": "code",
   "execution_count": 33,
   "id": "d2aadbce",
   "metadata": {},
   "outputs": [
    {
     "data": {
      "text/plain": [
       "array([[0.11, 0.89],\n",
       "       [0.99, 0.01],\n",
       "       [0.96, 0.04],\n",
       "       ...,\n",
       "       [0.02, 0.98],\n",
       "       [0.92, 0.08],\n",
       "       [0.94, 0.06]])"
      ]
     },
     "execution_count": 33,
     "metadata": {},
     "output_type": "execute_result"
    }
   ],
   "source": [
    "forest_clf = RandomForestClassifier(random_state=42)\n",
    "y_probas_forest = cross_val_predict(forest_clf, X_train, y_train_5, cv=3, method='predict_proba')\n",
    "y_probas_forest"
   ]
  },
  {
   "cell_type": "code",
   "execution_count": 34,
   "id": "5035a7d2",
   "metadata": {},
   "outputs": [],
   "source": [
    "y_scores_forest = y_probas_forest[:, 1]  # 양성 클래스에 대한 확률을 점수로 사용\n",
    "fpr_forest, tpr_forest, thresholds_forest = roc_curve(y_train_5, y_scores_forest)"
   ]
  },
  {
   "cell_type": "code",
   "execution_count": 35,
   "id": "6b95a529",
   "metadata": {},
   "outputs": [
    {
     "data": {
      "image/png": "[encoded data removed]",
      "text/plain": [
       "<Figure size 432x288 with 1 Axes>"
      ]
     },
     "metadata": {
      "needs_background": "light"
     },
     "output_type": "display_data"
    }
   ],
   "source": [
    "plt.plot(fpr, tpr, 'b:', label='SGD')\n",
    "plot_roc_curve(fpr_forest, tpr_forest, 'Random forest')\n",
    "plt.legend(loc='lower right')\n",
    "plt.show()"
   ]
  },
  {
   "cell_type": "markdown",
   "id": "edf4f181",
   "metadata": {},
   "source": [
    "위 그래프를 보면 SGD보다 RandomForestClassifier의 ROC 곡선이 훨씬 더 좋아 보입니다.<br>\n",
    "당연히 ROC AUC 점수도 훨씬 높습니다."
   ]
  },
  {
   "cell_type": "code",
   "execution_count": 36,
   "id": "e420d482",
   "metadata": {},
   "outputs": [
    {
     "data": {
      "text/plain": [
       "0.9983436731328145"
      ]
     },
     "execution_count": 36,
     "metadata": {},
     "output_type": "execute_result"
    }
   ],
   "source": [
    "roc_auc_score(y_train_5, y_scores_forest)"
   ]
  },
  {
   "cell_type": "markdown",
   "id": "e981e871",
   "metadata": {},
   "source": [
    "정밀도와 재현율 점수도 훨씬 높습니다."
   ]
  },
  {
   "cell_type": "code",
   "execution_count": 37,
   "id": "68420ef6",
   "metadata": {},
   "outputs": [],
   "source": [
    "y_train_pred_forest = y_scores_forest > 0.5"
   ]
  },
  {
   "cell_type": "code",
   "execution_count": 38,
   "id": "08257ed7",
   "metadata": {},
   "outputs": [
    {
     "data": {
      "text/plain": [
       "0.9905083315756169"
      ]
     },
     "execution_count": 38,
     "metadata": {},
     "output_type": "execute_result"
    }
   ],
   "source": [
    "precision_score(y_train_5, y_train_pred_forest)"
   ]
  },
  {
   "cell_type": "code",
   "execution_count": 39,
   "id": "79f936ee",
   "metadata": {},
   "outputs": [
    {
     "data": {
      "text/plain": [
       "0.8662608374838591"
      ]
     },
     "execution_count": 39,
     "metadata": {},
     "output_type": "execute_result"
    }
   ],
   "source": [
    "recall_score(y_train_5 ,y_train_pred_forest)"
   ]
  }
 ],
 "metadata": {
  "kernelspec": {
   "display_name": "Python 3 (ipykernel)",
   "language": "python",
   "name": "python3"
  },
  "language_info": {
   "codemirror_mode": {
    "name": "ipython",
    "version": 3
   },
   "file_extension": ".py",
   "mimetype": "text/x-python",
   "name": "python",
   "nbconvert_exporter": "python",
   "pygments_lexer": "ipython3",
   "version": "3.8.8"
  }
 },
 "nbformat": 4,
 "nbformat_minor": 5
}
